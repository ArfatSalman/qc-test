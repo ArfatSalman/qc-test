{
 "cells": [
  {
   "cell_type": "code",
   "execution_count": 6,
   "id": "9c451863-02b3-4cb8-b4c4-f65bd529554d",
   "metadata": {},
   "outputs": [
    {
     "data": {
      "text/plain": [
       "array([[ 0.70710678+0.j,  0.70710678+0.j],\n",
       "       [ 0.70710678+0.j, -0.70710678+0.j]])"
      ]
     },
     "execution_count": 6,
     "metadata": {},
     "output_type": "execute_result"
    }
   ],
   "source": [
    "import cirq\n",
    "\n",
    "import numpy as np\n",
    "from functools import reduce\n",
    "\n",
    "def u1(p_lambda):\n",
    "    return cirq.MatrixGate(np.array([[1, 0], [0, np.exp(1j*p_lambda)]]))\n",
    "\n",
    "q = [cirq.NamedQubit('q' + str(i)) for i in range(4)]\n",
    "\n",
    "circuit = cirq.Circuit(\n",
    "    cirq.H(q[0])\n",
    ")\n",
    "\n",
    "circuit.unitary()\n",
    "\n",
    "# print(circuit)\n",
    "# cirq.inverse(circuit)"
   ]
  }
 ],
 "metadata": {
  "kernelspec": {
   "display_name": "Python 3 (ipykernel)",
   "language": "python",
   "name": "python3"
  },
  "language_info": {
   "codemirror_mode": {
    "name": "ipython",
    "version": 3
   },
   "file_extension": ".py",
   "mimetype": "text/x-python",
   "name": "python",
   "nbconvert_exporter": "python",
   "pygments_lexer": "ipython3",
   "version": "3.9.12"
  }
 },
 "nbformat": 4,
 "nbformat_minor": 5
}
