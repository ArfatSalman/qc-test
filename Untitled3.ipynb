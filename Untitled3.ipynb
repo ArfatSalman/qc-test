{
 "cells": [
  {
   "cell_type": "code",
   "execution_count": 7,
   "id": "2886989c-6883-4d23-853f-966bc9310198",
   "metadata": {},
   "outputs": [],
   "source": [
    "import cirq\n",
    "from cirq.circuits.qasm_output import QasmUGate\n",
    "from numpy import pi\n",
    "\n",
    "qr = [cirq.NamedQubit('q' + str(i)) for i in range(1)]\n",
    "circuit = cirq.Circuit(\n",
    "      QasmUGate(1/2, 3.7840110122670927 / pi, 4.182256637339923 / pi)(qr[0]), \n",
    "  # U2Gate(3.7840110122670927, 4.182256637339923)(qr[3]), \n",
    "  cirq.measure(qr[0], key='cr0'))\n",
    "\n",
    "unit = cirq.unitary(circuit)\n",
    "# print(cirq.qasm(circuit))"
   ]
  },
  {
   "cell_type": "code",
   "execution_count": 5,
   "id": "1c2249b5-4379-4e75-9f7f-4a759a11c51d",
   "metadata": {},
   "outputs": [
    {
     "name": "stdout",
     "output_type": "stream",
     "text": [
      "Operator([[ 0.70710678+0.j        ,  0.35754679+0.61004942j],\n",
      "          [-0.56614447-0.42365132j, -0.07923146+0.70265381j]],\n",
      "         input_dims=(2,), output_dims=(2,))\n"
     ]
    }
   ],
   "source": [
    "\n",
    "# SECTION\n",
    "# NAME: PROLOGUE\n",
    "\n",
    "import qiskit\n",
    "from qiskit import QuantumCircuit, ClassicalRegister, QuantumRegister\n",
    "from qiskit.circuit.library.standard_gates import *\n",
    "from qiskit.circuit import Parameter\n",
    "\n",
    "# SECTION\n",
    "# NAME: CIRCUIT\n",
    "\n",
    "qr = QuantumRegister(1, name='qr')\n",
    "cr = ClassicalRegister(1, name='cr')\n",
    "qc = QuantumCircuit(qr, cr, name='qc')\n",
    "qc.append(U2Gate(3.7840110122670927,4.182256637339923), qargs=[qr[0]], cargs=[])\n",
    "\n",
    "# print(qc.qasm())\n",
    "# SECTION\n",
    "# NAME: MEASUREMENT\n",
    "# import qiskit.quantum_info as qi\n",
    "# UNITARY_Q = qi.Operator(qc.reverse_bits()).data\n",
    "# qc.measure(qr, cr)\n",
    "\n",
    "from qiskit import Aer, transpile, execute\n",
    "backend = Aer.get_backend('unitary_simulator')\n",
    "qc = transpile(qc)\n",
    "UNITARY_Q = execute(qc, backend).result().get_unitary(qc)\n",
    "print(UNITARY_Q)\n",
    "\n",
    "# SECTION\n",
    "# NAME: OPTIMIZATION_LEVEL\n",
    "\n",
    "# from qiskit import transpile\n",
    "# qc = transpile(qc, basis_gates=None, optimization_level=0, coupling_map=None)\n",
    "\n",
    "# SECTION\n",
    "# NAME: EXECUTION\n",
    "\n",
    "# from qiskit import Aer, transpile, execute\n",
    "# backend_2ffae7d90b5e41d19cd43dcf44194648 = Aer.get_backend('qasm_simulator')\n",
    "# counts = execute(qc, backend=backend_2ffae7d90b5e41d19cd43dcf44194648, shots=5542).result().get_counts(qc)\n",
    "# RESULT = counts"
   ]
  },
  {
   "cell_type": "code",
   "execution_count": 11,
   "id": "83baf06e-c9c6-4a79-8d2a-fc2d2724ea81",
   "metadata": {},
   "outputs": [
    {
     "name": "stdout",
     "output_type": "stream",
     "text": [
      "False\n"
     ]
    },
    {
     "data": {
      "text/plain": [
       "True"
      ]
     },
     "execution_count": 11,
     "metadata": {},
     "output_type": "execute_result"
    }
   ],
   "source": [
    "from numpy import allclose\n",
    "print(allclose(unit * , UNITARY_Q))\n",
    "cirq.equal_up_to_global_phase(unit, UNITARY_Q)"
   ]
  },
  {
   "cell_type": "code",
   "execution_count": 9,
   "id": "c8d72996-e4b0-4226-929d-f9e49878d169",
   "metadata": {},
   "outputs": [
    {
     "data": {
      "text/plain": [
       "array([[-0.47115544+0.52726896j, -0.69313468-0.13987248j],\n",
       "       [ 0.69313468-0.13987248j, -0.47115544-0.52726896j]])"
      ]
     },
     "execution_count": 9,
     "metadata": {},
     "output_type": "execute_result"
    }
   ],
   "source": [
    "unit"
   ]
  },
  {
   "cell_type": "code",
   "execution_count": 10,
   "id": "9e809abe-dfc7-46ea-998b-e7917797ce8e",
   "metadata": {},
   "outputs": [
    {
     "data": {
      "text/plain": [
       "Operator([[ 0.70710678+0.j        ,  0.35754679+0.61004942j],\n",
       "          [-0.56614447-0.42365132j, -0.07923146+0.70265381j]],\n",
       "         input_dims=(2,), output_dims=(2,))"
      ]
     },
     "execution_count": 10,
     "metadata": {},
     "output_type": "execute_result"
    }
   ],
   "source": [
    "UNITARY_Q"
   ]
  }
 ],
 "metadata": {
  "kernelspec": {
   "display_name": "Python 3 (ipykernel)",
   "language": "python",
   "name": "python3"
  },
  "language_info": {
   "codemirror_mode": {
    "name": "ipython",
    "version": 3
   },
   "file_extension": ".py",
   "mimetype": "text/x-python",
   "name": "python",
   "nbconvert_exporter": "python",
   "pygments_lexer": "ipython3",
   "version": "3.9.12"
  }
 },
 "nbformat": 4,
 "nbformat_minor": 5
}
