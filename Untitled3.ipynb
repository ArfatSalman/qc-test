{
 "cells": [
  {
   "cell_type": "code",
   "execution_count": 2,
   "id": "39ec32da-8c08-4403-ac94-302c28c41397",
   "metadata": {},
   "outputs": [
    {
     "name": "stdout",
     "output_type": "stream",
     "text": [
      "       ┌────────────────┐\n",
      "q0: ────Y───────────────────M('cr0')─────────────────────────────────\n",
      "        │\n",
      "q1: ────┼───────M('cr1')─────────────────────────────────────────────\n",
      "        │\n",
      "        │                   ┌                         ┐\n",
      "q2: ────@───────────────────│1.   +0.j    0.   +0.j   │───M('cr2')───\n",
      "                            │0.   +0.j    0.362+0.932j│\n",
      "                            └                         ┘\n",
      "\n",
      "q3: ────M('cr3')─────────────────────────────────────────────────────\n",
      "       └────────────────┘\n"
     ]
    },
    {
     "ename": "TypeError",
     "evalue": "object of type '<class 'cirq.circuits.circuit.Circuit'>' isn't invertible. It has no __pow__ method (or the method returned NotImplemented) and it isn't an iterable of invertible objects.",
     "output_type": "error",
     "traceback": [
      "\u001b[0;31m---------------------------------------------------------------------------\u001b[0m",
      "\u001b[0;31mTypeError\u001b[0m                                 Traceback (most recent call last)",
      "Cell \u001b[0;32mIn [2], line 21\u001b[0m\n\u001b[1;32m     11\u001b[0m circuit \u001b[38;5;241m=\u001b[39m cirq\u001b[38;5;241m.\u001b[39mCircuit(\n\u001b[1;32m     12\u001b[0m     cirq\u001b[38;5;241m.\u001b[39mY\u001b[38;5;241m.\u001b[39mcontrolled()\u001b[38;5;241m.\u001b[39mon(q[\u001b[38;5;241m2\u001b[39m], q[\u001b[38;5;241m0\u001b[39m]),\n\u001b[1;32m     13\u001b[0m     u1(\u001b[38;5;241m1.2\u001b[39m)(q[\u001b[38;5;241m2\u001b[39m]),\n\u001b[0;32m   (...)\u001b[0m\n\u001b[1;32m     17\u001b[0m     cirq\u001b[38;5;241m.\u001b[39mmeasure(q[\u001b[38;5;241m3\u001b[39m], key\u001b[38;5;241m=\u001b[39m\u001b[38;5;124m'\u001b[39m\u001b[38;5;124mcr3\u001b[39m\u001b[38;5;124m'\u001b[39m)\n\u001b[1;32m     18\u001b[0m )\n\u001b[1;32m     20\u001b[0m \u001b[38;5;28mprint\u001b[39m(circuit)\n\u001b[0;32m---> 21\u001b[0m cirq\u001b[38;5;241m.\u001b[39minverse(circuit)\n",
      "File \u001b[0;32m~/Desktop/qc-test/venv/lib/python3.9/site-packages/cirq/protocols/inverse_protocol.py:117\u001b[0m, in \u001b[0;36minverse\u001b[0;34m(val, default)\u001b[0m\n\u001b[1;32m    115\u001b[0m \u001b[38;5;28;01mif\u001b[39;00m default \u001b[38;5;129;01mis\u001b[39;00m \u001b[38;5;129;01mnot\u001b[39;00m RaiseTypeErrorIfNotProvided:\n\u001b[1;32m    116\u001b[0m     \u001b[38;5;28;01mreturn\u001b[39;00m default\n\u001b[0;32m--> 117\u001b[0m \u001b[38;5;28;01mraise\u001b[39;00m \u001b[38;5;167;01mTypeError\u001b[39;00m(\n\u001b[1;32m    118\u001b[0m     \u001b[38;5;124m\"\u001b[39m\u001b[38;5;124mobject of type \u001b[39m\u001b[38;5;124m'\u001b[39m\u001b[38;5;132;01m{}\u001b[39;00m\u001b[38;5;124m'\u001b[39m\u001b[38;5;124m isn\u001b[39m\u001b[38;5;124m'\u001b[39m\u001b[38;5;124mt invertible. \u001b[39m\u001b[38;5;124m\"\u001b[39m\n\u001b[1;32m    119\u001b[0m     \u001b[38;5;124m\"\u001b[39m\u001b[38;5;124mIt has no __pow__ method (or the method returned NotImplemented) \u001b[39m\u001b[38;5;124m\"\u001b[39m\n\u001b[1;32m    120\u001b[0m     \u001b[38;5;124m\"\u001b[39m\u001b[38;5;124mand it isn\u001b[39m\u001b[38;5;124m'\u001b[39m\u001b[38;5;124mt an iterable of invertible objects.\u001b[39m\u001b[38;5;124m\"\u001b[39m\u001b[38;5;241m.\u001b[39mformat(\u001b[38;5;28mtype\u001b[39m(val))\n\u001b[1;32m    121\u001b[0m )\n",
      "\u001b[0;31mTypeError\u001b[0m: object of type '<class 'cirq.circuits.circuit.Circuit'>' isn't invertible. It has no __pow__ method (or the method returned NotImplemented) and it isn't an iterable of invertible objects."
     ]
    }
   ],
   "source": [
    "import cirq\n",
    "\n",
    "import numpy as np\n",
    "from functools import reduce\n",
    "\n",
    "def u1(p_lambda):\n",
    "    return cirq.MatrixGate(np.array([[1, 0], [0, np.exp(1j*p_lambda)]]))\n",
    "\n",
    "q = [cirq.NamedQubit('q' + str(i)) for i in range(4)]\n",
    "\n",
    "circuit = cirq.Circuit(\n",
    "    cirq.Y.controlled().on(q[2], q[0]),\n",
    "    u1(1.2)(q[2]),\n",
    "    cirq.measure(q[0], key='cr0'),\n",
    "    cirq.measure(q[1], key='cr1'),\n",
    "    cirq.measure(q[2], key='cr2'),\n",
    "    cirq.measure(q[3], key='cr3')\n",
    ")\n",
    "\n",
    "print(circuit)\n",
    "cirq.inverse(circuit)\n",
    "\n",
    "\n",
    "# simulator = cirq.Simulator()\n",
    "# result = simulator.run(circuit, repetitions=1024)\n",
    "# result_dict = dict(result.multi_measurement_histogram(keys=['cr0', 'cr1', 'cr2', 'cr3']))\n",
    "# keys = list(map(lambda arr: reduce(lambda x, y: str(x) + str(y), arr[::-1]), result_dict.keys()))\n",
    "# counts = dict(zip(keys,[value for value in result_dict.values()]))\n",
    "# print(counts)"
   ]
  }
 ],
 "metadata": {
  "kernelspec": {
   "display_name": "Python 3 (ipykernel)",
   "language": "python",
   "name": "python3"
  },
  "language_info": {
   "codemirror_mode": {
    "name": "ipython",
    "version": 3
   },
   "file_extension": ".py",
   "mimetype": "text/x-python",
   "name": "python",
   "nbconvert_exporter": "python",
   "pygments_lexer": "ipython3",
   "version": "3.9.12"
  }
 },
 "nbformat": 4,
 "nbformat_minor": 5
}
