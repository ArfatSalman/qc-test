{
 "cells": [
  {
   "cell_type": "code",
   "execution_count": 11,
   "id": "dbcb6fbf-d50b-4a66-a34e-ffab5954b05d",
   "metadata": {},
   "outputs": [
    {
     "data": {
      "text/plain": [
       "['merge_k_qubit_unitaries',\n",
       " 'defer_measurements',\n",
       " 'drop_empty_moments',\n",
       " 'eject_z',\n",
       " 'stratified_circuit',\n",
       " 'synchronize_terminal_measurements',\n",
       " 'drop_negligible_operations',\n",
       " 'eject_phased_paulis']"
      ]
     },
     "execution_count": 11,
     "metadata": {},
     "output_type": "execute_result"
    }
   ],
   "source": [
    "import random\n",
    "transformations_map = {\n",
    "            \"defer_measurements\": \"cirq.defer_measurements(optimized_circuit)\",\n",
    "            \"merge_k_qubit_unitaries\": \"\"\"cirq.merge_k_qubit_unitaries(\n",
    "                decomposed, k=2, rewriter=lambda op: op.with_tags(\"merged\"), context=context)\"\"\",\n",
    "            \"eject_phased_paulis\": \"cirq.eject_phased_paulis(optimized_circuit, eject_parameterized=True)\",\n",
    "            \"drop_negligible_operations\": \"cirq.drop_negligible_operations(optimized_circuit)\",\n",
    "            \"drop_empty_moments\": \"cirq.drop_empty_moments(optimized_circuit)\",\n",
    "            \"synchronize_terminal_measurements\": \"cirq.synchronize_terminal_measurements(optimized_circuit)\",\n",
    "            \"eject_z\": \"cirq.eject_z(optimized_circuit, eject_parameterized=True)\",\n",
    "            \"stratified_circuit\": \"cirq.stratified_circuit(optimized_circuit)\"\n",
    "\n",
    "        }\n",
    "\n",
    "transformations = list(transformations_map.keys())\n",
    "random.shuffle(transformations)\n",
    "transformations"
   ]
  },
  {
   "cell_type": "code",
   "execution_count": 8,
   "id": "72fc3063-0718-433e-be2f-b2b71753342d",
   "metadata": {},
   "outputs": [
    {
     "ename": "TypeError",
     "evalue": "'NoneType' object is not iterable",
     "output_type": "error",
     "traceback": [
      "\u001b[0;31m---------------------------------------------------------------------------\u001b[0m",
      "\u001b[0;31mTypeError\u001b[0m                                 Traceback (most recent call last)",
      "Cell \u001b[0;32mIn [8], line 1\u001b[0m\n\u001b[0;32m----> 1\u001b[0m \u001b[38;5;28mlist\u001b[39m(transformations)\n",
      "\u001b[0;31mTypeError\u001b[0m: 'NoneType' object is not iterable"
     ]
    }
   ],
   "source": []
  }
 ],
 "metadata": {
  "kernelspec": {
   "display_name": "Python 3 (ipykernel)",
   "language": "python",
   "name": "python3"
  },
  "language_info": {
   "codemirror_mode": {
    "name": "ipython",
    "version": 3
   },
   "file_extension": ".py",
   "mimetype": "text/x-python",
   "name": "python",
   "nbconvert_exporter": "python",
   "pygments_lexer": "ipython3",
   "version": "3.9.12"
  }
 },
 "nbformat": 4,
 "nbformat_minor": 5
}
