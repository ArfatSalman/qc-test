{
 "cells": [
  {
   "cell_type": "code",
   "execution_count": 26,
   "id": "94ec2b18-1a74-4719-9337-692fa6c7c2c1",
   "metadata": {},
   "outputs": [
    {
     "data": {
      "text/plain": [
       "['_ATOL_DEFAULT',\n",
       " '_MAX_TOL',\n",
       " '_RTOL_DEFAULT',\n",
       " '__abstractmethods__',\n",
       " '__add__',\n",
       " '__and__',\n",
       " '__array__',\n",
       " '__array_priority__',\n",
       " '__call__',\n",
       " '__class__',\n",
       " '__delattr__',\n",
       " '__dict__',\n",
       " '__dir__',\n",
       " '__doc__',\n",
       " '__eq__',\n",
       " '__format__',\n",
       " '__ge__',\n",
       " '__getattribute__',\n",
       " '__gt__',\n",
       " '__hash__',\n",
       " '__init__',\n",
       " '__init_subclass__',\n",
       " '__le__',\n",
       " '__lt__',\n",
       " '__matmul__',\n",
       " '__module__',\n",
       " '__mul__',\n",
       " '__ne__',\n",
       " '__neg__',\n",
       " '__new__',\n",
       " '__pow__',\n",
       " '__reduce__',\n",
       " '__reduce_ex__',\n",
       " '__repr__',\n",
       " '__rmul__',\n",
       " '__setattr__',\n",
       " '__sizeof__',\n",
       " '__slots__',\n",
       " '__str__',\n",
       " '__sub__',\n",
       " '__subclasshook__',\n",
       " '__truediv__',\n",
       " '__weakref__',\n",
       " '__xor__',\n",
       " '_abc_impl',\n",
       " '_add',\n",
       " '_append_instruction',\n",
       " '_data',\n",
       " '_einsum_matmul',\n",
       " '_init_instruction',\n",
       " '_input_dim',\n",
       " '_instruction_to_matrix',\n",
       " '_multiply',\n",
       " '_op_shape',\n",
       " '_output_dim',\n",
       " '_qargs',\n",
       " '_tensor',\n",
       " 'adjoint',\n",
       " 'atol',\n",
       " 'compose',\n",
       " 'conjugate',\n",
       " 'copy',\n",
       " 'data',\n",
       " 'dim',\n",
       " 'dot',\n",
       " 'equiv',\n",
       " 'expand',\n",
       " 'from_circuit',\n",
       " 'from_label',\n",
       " 'input_dims',\n",
       " 'is_unitary',\n",
       " 'num_qubits',\n",
       " 'output_dims',\n",
       " 'power',\n",
       " 'qargs',\n",
       " 'reshape',\n",
       " 'reverse_qargs',\n",
       " 'rtol',\n",
       " 'settings',\n",
       " 'tensor',\n",
       " 'to_instruction',\n",
       " 'to_operator',\n",
       " 'transpose']"
      ]
     },
     "execution_count": 26,
     "metadata": {},
     "output_type": "execute_result"
    }
   ],
   "source": [
    "\n",
    "import qiskit\n",
    "from qiskit import QuantumCircuit, ClassicalRegister, QuantumRegister\n",
    "from qiskit.circuit.library.standard_gates import *\n",
    "from qiskit.circuit import Parameter\n",
    "\n",
    "\n",
    "qr = QuantumRegister(1, name='qr')\n",
    "qc = QuantumCircuit(qr, cr, name='qc')\n",
    "\n",
    "qc.append(HGate(), qargs=[qr[0]], cargs=[])\n",
    "# qc.append(IGate(), qargs=[qr[0]], cargs=[])\n",
    "\n",
    "import qiskit.quantum_info as qi\n",
    "\n",
    "op = qi.Operator(qc)\n",
    "dir(op)\n",
    "# from qiskit import Aer, transpile, execute\n",
    "# backend_0aeb997d610641108c5db249af0a7269 = Aer.get_backend('unitary_simulator')\n",
    "# result = execute(qc, backend=backend_0aeb997d610641108c5db249af0a7269).result()\n",
    "# print(result.get_unitary(qc, decimals=3))\n"
   ]
  },
  {
   "cell_type": "code",
   "execution_count": 39,
   "id": "c5e241f8-bba2-4cc5-88c0-84433cc883c3",
   "metadata": {},
   "outputs": [
    {
     "data": {
      "text/plain": [
       "True"
      ]
     },
     "execution_count": 39,
     "metadata": {},
     "output_type": "execute_result"
    }
   ],
   "source": [
    "from numpy import array\n",
    "\n",
    "cirq = array([[ 0.70710678+0.j,  0.70710678+0.j],\n",
    "       [ 0.70710678+0.j, -0.70710678+0.j]])\n",
    "\n",
    "op.equiv(cirq)"
   ]
  }
 ],
 "metadata": {
  "kernelspec": {
   "display_name": "Python 3 (ipykernel)",
   "language": "python",
   "name": "python3"
  },
  "language_info": {
   "codemirror_mode": {
    "name": "ipython",
    "version": 3
   },
   "file_extension": ".py",
   "mimetype": "text/x-python",
   "name": "python",
   "nbconvert_exporter": "python",
   "pygments_lexer": "ipython3",
   "version": "3.9.12"
  }
 },
 "nbformat": 4,
 "nbformat_minor": 5
}
