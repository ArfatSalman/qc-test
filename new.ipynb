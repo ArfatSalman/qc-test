{
 "cells": [
  {
   "cell_type": "code",
   "execution_count": 1,
   "id": "08e4f1ae-67de-45e1-a001-321f16a4815c",
   "metadata": {},
   "outputs": [],
   "source": [
    "from lib import metamorph"
   ]
  },
  {
   "cell_type": "code",
   "execution_count": null,
   "id": "6c02121d-7f28-4f7b-b8a2-a3b89a8010f9",
   "metadata": {},
   "outputs": [],
   "source": [
    "\n",
    "CIRQ_STANDARD_GATES = [\n",
    "    \n",
    "]"
   ]
  }
 ],
 "metadata": {
  "kernelspec": {
   "display_name": "Python 3 (ipykernel)",
   "language": "python",
   "name": "python3"
  },
  "language_info": {
   "codemirror_mode": {
    "name": "ipython",
    "version": 3
   },
   "file_extension": ".py",
   "mimetype": "text/x-python",
   "name": "python",
   "nbconvert_exporter": "python",
   "pygments_lexer": "ipython3",
   "version": "3.9.12"
  }
 },
 "nbformat": 4,
 "nbformat_minor": 5
}
