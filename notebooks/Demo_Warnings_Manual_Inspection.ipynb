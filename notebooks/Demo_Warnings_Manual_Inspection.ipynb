{
 "cells": [
  {
   "cell_type": "markdown",
   "id": "629c3f8b",
   "metadata": {},
   "source": [
    "Description: in this notebook we show how to manually inspect the warnings of your test run."
   ]
  },
  {
   "cell_type": "markdown",
   "id": "107bb275",
   "metadata": {},
   "source": [
    "# Import Libraries"
   ]
  },
  {
   "cell_type": "code",
   "execution_count": 1,
   "id": "88549566",
   "metadata": {
    "ExecuteTime": {
     "end_time": "2022-03-14T12:26:30.688750Z",
     "start_time": "2022-03-14T12:26:30.615380Z"
    }
   },
   "outputs": [],
   "source": [
    "import project_path\n",
    "\n",
    "import matplotlib.pyplot as plt\n",
    "import os\n",
    "import pandas as pd\n",
    "import pprint\n",
    "import seaborn as sns\n",
    "import sqlite3 as sl\n",
    "from tqdm import tqdm\n",
    "from typing import List, Any, Tuple, Dict\n",
    "pp = pprint.PrettyPrinter(indent=4)\n",
    "\n",
    "from lib.detectors import KS_Detector\n",
    "from lib.inspector import Inspector\n",
    "from lib.inspector import OneNightStandInspector\n",
    "from lib.inspector import retrieve_relevant_file_paths\n",
    "from lib.inspector import read_program\n",
    "from lib.inspector import inspec_column_of\n",
    "from lib.inspector import copy_bug\n",
    "from lib.inspector import get_alarms_with_method\n",
    "from lib.qmt import execute_programs\n",
    "from lib.utils import iterate_over\n",
    "from lib.utils import load_config_and_check\n",
    "\n",
    "%load_ext autoreload\n",
    "%autoreload 2"
   ]
  },
  {
   "cell_type": "markdown",
   "id": "bb09a80e",
   "metadata": {},
   "source": [
    "# Parameters\n",
    "Insert here the path to the relevant folders related to your test run."
   ]
  },
  {
   "cell_type": "code",
   "execution_count": 2,
   "id": "feccb703",
   "metadata": {
    "ExecuteTime": {
     "end_time": "2022-03-14T12:26:31.602039Z",
     "start_time": "2022-03-14T12:26:31.548395Z"
    }
   },
   "outputs": [],
   "source": [
    "EXP_FOLDER = \"qmt_v53\"\n",
    "PATH_DATASET = \"../miscellanea/table_artifacts/Qiskit_Bug_Dataset - main_dataset.csv\"\n",
    "\n",
    "# READ THE SQLITE DATABASE WITH CRASHES\n",
    "SQL_PATH = os.path.join(\"..\", \"data\", EXP_FOLDER, \"qfl.db\")\n",
    "SQL_CONNECTION = sl.connect(SQL_PATH)\n",
    "\n",
    "# SETTING FOR DIVERGENCE DETECTION\n",
    "PVAL_COL = \"divergence.ks.p-value\" \n",
    "ALPHA_LEVEL = 0.05"
   ]
  },
  {
   "cell_type": "markdown",
   "id": "d4c7ce38",
   "metadata": {},
   "source": [
    "# Read Program Pairs"
   ]
  },
  {
   "cell_type": "code",
   "execution_count": 3,
   "id": "fa524e55",
   "metadata": {
    "ExecuteTime": {
     "end_time": "2022-03-14T12:26:33.972782Z",
     "start_time": "2022-03-14T12:26:32.648473Z"
    }
   },
   "outputs": [
    {
     "name": "stdout",
     "output_type": "stream",
     "text": [
      "Total (potentially divergent) comparisons: 6417\n",
      "Total crash in programs: 1943\n",
      "\tcrashing source: 0\n",
      "\tcrashing follow-up: 1943\n"
     ]
    }
   ],
   "source": [
    "# READ CRASHES\n",
    "df_crash = pd.read_sql(\"\"\"SELECT * from CRASHDATA\"\"\", SQL_CONNECTION)\n",
    "# READ COMPLETE EXECUTIONS\n",
    "df_data = pd.read_sql(\"\"\"SELECT * from QFLDATA\"\"\", SQL_CONNECTION)\n",
    "# CONSIDER BOTH\n",
    "df_generated_programs = pd.concat(\n",
    "    [df_data.assign(generated_a_crash=False),\n",
    "     df_crash.assign(generated_a_crash=True)], axis=0)\n",
    "# READ ANNOTATED BUGS\n",
    "df_bugs = pd.read_csv(PATH_DATASET)\n",
    "df_bugs = df_bugs.fillna(\"-\")\n",
    "\n",
    "print(f\"Total (potentially divergent) comparisons: {len(df_data)}\")\n",
    "print(f\"Total crash in programs: {len(df_crash)}\")\n",
    "print(f\"\\tcrashing source: {len(df_crash[~df_crash['exceptions.source'].isna()])}\")\n",
    "print(f\"\\tcrashing follow-up: {len(df_crash[~df_crash['exceptions.followup'].isna()])}\")"
   ]
  },
  {
   "cell_type": "code",
   "execution_count": 10,
   "id": "7b851e56",
   "metadata": {},
   "outputs": [
    {
     "name": "stdout",
     "output_type": "stream",
     "text": [
      "Some example crash messages:\n"
     ]
    },
    {
     "data": {
      "text/plain": [
       "[\"'Mismatch between run_config.parameter_binds and all circuit parameters. Parameter binds: [] Circuit parameters: [ParameterView([Parameter(p_0c596f), Parameter(p_597708), Parameter(p_7ef6c2), Parameter(p_bb82fc)])]'\",\n",
       " \"'Cannot represent circuits with unbound parameters in OpenQASM 2.'\",\n",
       " \"'Mismatch between run_config.parameter_binds and all circuit parameters. Parameter binds: [] Circuit parameters: [ParameterView([Parameter(p_2f6fa1), Parameter(p_31d9e7), Parameter(p_deb987), Parameter(p_f98523)])]'\",\n",
       " \"'Mismatch between run_config.parameter_binds and all circuit parameters. Parameter binds: [] Circuit parameters: [ParameterView([Parameter(p_223c67), Parameter(p_2cb1e6), Parameter(p_5a5ff6), Parameter(p_8e5709)])]'\",\n",
       " '\"Cannot find gate definition for \\'c3sx\\', line 10 file \"']"
      ]
     },
     "execution_count": 10,
     "metadata": {},
     "output_type": "execute_result"
    }
   ],
   "source": [
    "print(\"Some example crash messages:\")\n",
    "list(df_crash[\"exceptions.followup\"].head(5))"
   ]
  },
  {
   "cell_type": "markdown",
   "id": "10a23990",
   "metadata": {},
   "source": [
    "# Query programs [specific crash message]"
   ]
  },
  {
   "cell_type": "code",
   "execution_count": 11,
   "id": "95abdea0",
   "metadata": {
    "ExecuteTime": {
     "end_time": "2022-03-14T11:15:53.759806Z",
     "start_time": "2022-03-14T11:15:53.685668Z"
    }
   },
   "outputs": [
    {
     "name": "stdout",
     "output_type": "stream",
     "text": [
      "We have 58 program pairs satisfying the query.\n",
      "The PROGRAM_ID of the first program pair is this: fc379c309d064bf5a78029c31d25b873 \n"
     ]
    }
   ],
   "source": [
    "QUERY_MESSAGE_CONTENT = \"'Cannot represent circuits with unbound parameters in OpenQASM 2.'\"  # change here\n",
    "\n",
    "df_specific_class = df_crash[df_crash[\"exceptions.followup\"].str.contains(QUERY_MESSAGE_CONTENT)]\n",
    "\n",
    "print(f\"We have {len(df_specific_class)} program pairs satisfying the query.\")\n",
    "PROGRAM_ID = df_specific_class.sort_values(by=[\n",
    "    \"source.n_qubits\", \"source.n_ops\"\n",
    "]).iloc[0][\"program_id\"]\n",
    "print(f\"The PROGRAM_ID of the first program pair is this: {PROGRAM_ID} \")"
   ]
  },
  {
   "cell_type": "markdown",
   "id": "5e7949ea",
   "metadata": {},
   "source": [
    "# Inspect programs"
   ]
  },
  {
   "cell_type": "code",
   "execution_count": 12,
   "id": "135c8f84",
   "metadata": {
    "ExecuteTime": {
     "end_time": "2022-03-14T11:15:59.505654Z",
     "start_time": "2022-03-14T11:15:59.454559Z"
    }
   },
   "outputs": [],
   "source": [
    "PROGRAM_ID = PROGRAM_ID # CHANGE THIS MANUALLY \n",
    "# OR LEAVE IT THE SAME IF YOU WANT THE ONE FROM THE PREVIOUS STEP"
   ]
  },
  {
   "cell_type": "code",
   "execution_count": 13,
   "id": "08441ebc",
   "metadata": {
    "ExecuteTime": {
     "end_time": "2022-03-14T11:16:00.010555Z",
     "start_time": "2022-03-14T11:15:59.944684Z"
    },
    "scrolled": false
   },
   "outputs": [
    {
     "name": "stdout",
     "output_type": "stream",
     "text": [
      "PATH of {PROGRAM_ID} pair:\n",
      "{   'followup': '../data/qmt_v53/programs/followup/fc379c309d064bf5a78029c31d25b873.py',\n",
      "    'metadata': '../data/qmt_v53/programs/metadata/fc379c309d064bf5a78029c31d25b873.json',\n",
      "    'metadata_exec': '../data/qmt_v53/programs/metadata_exec/fc379c309d064bf5a78029c31d25b873.json',\n",
      "    'source': '../data/qmt_v53/programs/source/fc379c309d064bf5a78029c31d25b873.py'}\n",
      "\n",
      "Metamorphic transformations used:\n",
      "n hits: 1\n",
      "['ChangeBackend', 'ToQasmAndBack', 'InjectParameters']\n",
      "None\n",
      "READING SOURCE AND FOLLOWUP PROGRAMS\n",
      "# SOURCE\n",
      "\u001b[31m\n",
      "# SECTION\n",
      "# NAME: PROLOGUE\n",
      "\n",
      "import qiskit\n",
      "from qiskit import QuantumCircuit, ClassicalRegister, QuantumRegister\n",
      "from qiskit.circuit.library.standard_gates import *\n",
      "from qiskit.circuit import Parameter\n",
      "\n",
      "# SECTION\n",
      "# NAME: CIRCUIT\n",
      "\n",
      "qr = QuantumRegister(4, name='qr')\n",
      "cr = ClassicalRegister(4, name='cr')\n",
      "qc = QuantumCircuit(qr, cr, name='qc')\n",
      "qc.append(RZGate(6.163759533339787), qargs=[qr[1]], cargs=[])\n",
      "qc.append(RZZGate(4.066449154047175), qargs=[qr[2], qr[3]], cargs=[])\n",
      "qc.append(iSwapGate(), qargs=[qr[2], qr[3]], cargs=[])\n",
      "qc.append(CSXGate(), qargs=[qr[1], qr[0]], cargs=[])\n",
      "qc.append(XGate(), qargs=[qr[2]], cargs=[])\n",
      "qc.append(CUGate(0.5112149185250571,5.897054719225356,2.3864521352475245,5.987304452123941), qargs=[qr[0], qr[2]], cargs=[])\n",
      "qc.append(CU1Gate(5.154187354656876), qargs=[qr[3], qr[0]], cargs=[])\n",
      "\n",
      "# SECTION\n",
      "# NAME: MEASUREMENT\n",
      "\n",
      "qc.measure(qr, cr)\n",
      "\n",
      "# SECTION\n",
      "# NAME: OPTIMIZATION_LEVEL\n",
      "\n",
      "from qiskit import transpile\n",
      "qc = transpile(qc, basis_gates=None, optimization_level=2, coupling_map=None)\n",
      "\n",
      "# SECTION\n",
      "# NAME: EXECUTION\n",
      "\n",
      "from qiskit import Aer, transpile, execute\n",
      "backend_ff71dfb2af1a4aa5ae893205a6de0204 = Aer.get_backend('qasm_simulator')\n",
      "counts = execute(qc, backend=backend_ff71dfb2af1a4aa5ae893205a6de0204, shots=692).result().get_counts(qc)\n",
      "RESULT = counts\u001b[0m\n",
      "#--------------------------------------------------------------------------------\n",
      "# FOLLOWUP\n",
      "\u001b[34m# SECTION\n",
      "# NAME: PROLOGUE\n",
      "\n",
      "import qiskit\n",
      "from qiskit import QuantumCircuit, ClassicalRegister, QuantumRegister\n",
      "from qiskit.circuit.library.standard_gates import *\n",
      "from qiskit.circuit import Parameter\n",
      "# SECTION\n",
      "# NAME: PARAMETERS\n",
      "# SECTION\n",
      "# NAME: PARAMETERS\n",
      "p_cc364f = Parameter('p_cc364f')\n",
      "p_8e78eb = Parameter('p_8e78eb')\n",
      "p_785a6a = Parameter('p_785a6a')\n",
      "p_885be7 = Parameter('p_885be7')\n",
      "\n",
      "# SECTION\n",
      "# NAME: CIRCUIT\n",
      "qr = QuantumRegister(4, name='qr')\n",
      "cr = ClassicalRegister(4, name='cr')\n",
      "qc = QuantumCircuit(qr, cr, name='qc')\n",
      "qc.append(RZGate(p_785a6a), qargs=[qr[1]], cargs=[])\n",
      "qc.append(RZZGate(p_cc364f), qargs=[qr[2], qr[3]], cargs=[])\n",
      "qc.append(iSwapGate(), qargs=[qr[2], qr[3]], cargs=[])\n",
      "qc.append(CSXGate(), qargs=[qr[1], qr[0]], cargs=[])\n",
      "qc.append(XGate(), qargs=[qr[2]], cargs=[])\n",
      "qc.append(CUGate(0.5112149185250571, p_885be7, 2.3864521352475245, \n",
      "    5.987304452123941), qargs=[qr[0], qr[2]], cargs=[])\n",
      "qc.append(CU1Gate(p_8e78eb), qargs=[qr[3], qr[0]], cargs=[])\n",
      "# SECTION\n",
      "# NAME: MEASUREMENT\n",
      "\n",
      "qc.measure(qr, cr)\n",
      "# SECTION\n",
      "# NAME: PARAMETER_BINDING\n",
      "\n",
      "qc = qc.bind_parameters({\n",
      "    p_cc364f: 4.066449154047175,\n",
      "    p_8e78eb: 5.154187354656876,\n",
      "    p_785a6a: 6.163759533339787,\n",
      "    p_885be7: 5.897054719225356,\n",
      "})\n",
      "\n",
      "# SECTION\n",
      "# NAME: OPTIMIZATION_LEVEL\n",
      "\n",
      "from qiskit import transpile\n",
      "qc = transpile(qc, basis_gates=None, optimization_level=2, coupling_map=None)\n",
      "# SECTION\n",
      "# NAME: QASM_CONVERSION\n",
      "\n",
      "qc = QuantumCircuit.from_qasm_str(qc.qasm())\n",
      "# SECTION\n",
      "# NAME: EXECUTION\n",
      "\n",
      "from qiskit import Aer, transpile, execute\n",
      "backend_ff71dfb2af1a4aa5ae893205a6de0204 = Aer.get_backend('statevector_simulator')\n",
      "counts = execute(qc, backend=backend_ff71dfb2af1a4aa5ae893205a6de0204, shots=692).result().get_counts(qc)\n",
      "RESULT = counts\n",
      "\u001b[0m\n"
     ]
    },
    {
     "data": {
      "text/plain": [
       "\"# SECTION\\n# NAME: PROLOGUE\\n\\nimport qiskit\\nfrom qiskit import QuantumCircuit, ClassicalRegister, QuantumRegister\\nfrom qiskit.circuit.library.standard_gates import *\\nfrom qiskit.circuit import Parameter\\n# SECTION\\n# NAME: PARAMETERS\\n# SECTION\\n# NAME: PARAMETERS\\np_cc364f = Parameter('p_cc364f')\\np_8e78eb = Parameter('p_8e78eb')\\np_785a6a = Parameter('p_785a6a')\\np_885be7 = Parameter('p_885be7')\\n\\n# SECTION\\n# NAME: CIRCUIT\\nqr = QuantumRegister(4, name='qr')\\ncr = ClassicalRegister(4, name='cr')\\nqc = QuantumCircuit(qr, cr, name='qc')\\nqc.append(RZGate(p_785a6a), qargs=[qr[1]], cargs=[])\\nqc.append(RZZGate(p_cc364f), qargs=[qr[2], qr[3]], cargs=[])\\nqc.append(iSwapGate(), qargs=[qr[2], qr[3]], cargs=[])\\nqc.append(CSXGate(), qargs=[qr[1], qr[0]], cargs=[])\\nqc.append(XGate(), qargs=[qr[2]], cargs=[])\\nqc.append(CUGate(0.5112149185250571, p_885be7, 2.3864521352475245, \\n    5.987304452123941), qargs=[qr[0], qr[2]], cargs=[])\\nqc.append(CU1Gate(p_8e78eb), qargs=[qr[3], qr[0]], cargs=[])\\n# SECTION\\n# NAME: MEASUREMENT\\n\\nqc.measure(qr, cr)\\n# SECTION\\n# NAME: PARAMETER_BINDING\\n\\nqc = qc.bind_parameters({\\n    p_cc364f: 4.066449154047175,\\n    p_8e78eb: 5.154187354656876,\\n    p_785a6a: 6.163759533339787,\\n    p_885be7: 5.897054719225356,\\n})\\n\\n# SECTION\\n# NAME: OPTIMIZATION_LEVEL\\n\\nfrom qiskit import transpile\\nqc = transpile(qc, basis_gates=None, optimization_level=2, coupling_map=None)\\n# SECTION\\n# NAME: QASM_CONVERSION\\n\\nqc = QuantumCircuit.from_qasm_str(qc.qasm())\\n# SECTION\\n# NAME: EXECUTION\\n\\nfrom qiskit import Aer, transpile, execute\\nbackend_ff71dfb2af1a4aa5ae893205a6de0204 = Aer.get_backend('statevector_simulator')\\ncounts = execute(qc, backend=backend_ff71dfb2af1a4aa5ae893205a6de0204, shots=692).result().get_counts(qc)\\nRESULT = counts\\n\""
      ]
     },
     "execution_count": 13,
     "metadata": {},
     "output_type": "execute_result"
    }
   ],
   "source": [
    "BUG_PATHS = retrieve_relevant_file_paths(\n",
    "    experiment_folder=EXP_FOLDER,\n",
    "    program_id=PROGRAM_ID\n",
    ")\n",
    "print(\"PATH of {PROGRAM_ID} pair:\")\n",
    "pp.pprint(BUG_PATHS)\n",
    "print(\"\\nMetamorphic transformations used:\")\n",
    "pp.pprint(inspec_column_of(\n",
    "    df=df_generated_programs, \n",
    "    program_id=PROGRAM_ID, \n",
    "    target_col=\"followup.metamorphic_transformations\"\n",
    "))\n",
    "\n",
    "from termcolor import colored\n",
    "print(\"READING SOURCE AND FOLLOWUP PROGRAMS\")\n",
    "print('# SOURCE')\n",
    "read_program(path=BUG_PATHS['source'], color='red')\n",
    "print(\"#\" + \"-\" * 80)\n",
    "print('# FOLLOWUP')\n",
    "read_program(path=BUG_PATHS['followup'], color='blue')"
   ]
  },
  {
   "cell_type": "code",
   "execution_count": null,
   "id": "6695693d",
   "metadata": {},
   "outputs": [],
   "source": []
  }
 ],
 "metadata": {
  "kernelspec": {
   "display_name": "Python 3.8.0 ('ML4Quantum')",
   "language": "python",
   "name": "python3"
  },
  "language_info": {
   "codemirror_mode": {
    "name": "ipython",
    "version": 3
   },
   "file_extension": ".py",
   "mimetype": "text/x-python",
   "name": "python",
   "nbconvert_exporter": "python",
   "pygments_lexer": "ipython3",
   "version": "3.8.0"
  },
  "toc": {
   "base_numbering": 1,
   "nav_menu": {},
   "number_sections": true,
   "sideBar": true,
   "skip_h1_title": false,
   "title_cell": "Table of Contents",
   "title_sidebar": "Contents",
   "toc_cell": false,
   "toc_position": {},
   "toc_section_display": true,
   "toc_window_display": true
  },
  "vscode": {
   "interpreter": {
    "hash": "669e37aaee4976ece3132cd38bfe1134af76962e140ad0dbf8dafb017883413d"
   }
  }
 },
 "nbformat": 4,
 "nbformat_minor": 5
}
