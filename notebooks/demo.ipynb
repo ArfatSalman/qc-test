{
 "cells": [
  {
   "cell_type": "code",
   "execution_count": 11,
   "id": "fbaf759c-f229-4ca3-aa8f-e9d9b3721c26",
   "metadata": {},
   "outputs": [],
   "source": [
    "from ast import *\n",
    "import astor"
   ]
  },
  {
   "cell_type": "code",
   "execution_count": 26,
   "id": "882b1330-d706-4996-b458-3d6dd0754c48",
   "metadata": {},
   "outputs": [
    {
     "name": "stdout",
     "output_type": "stream",
     "text": [
      "Module(\n",
      "    body=[\n",
      "        Assign(\n",
      "            targets=[\n",
      "                Name(id='qr', ctx=Store())],\n",
      "            value=Call(\n",
      "                func=Name(id='QuantumRegister', ctx=Load()),\n",
      "                args=[\n",
      "                    Constant(value=4)],\n",
      "                keywords=[\n",
      "                    keyword(\n",
      "                        arg='name',\n",
      "                        value=Constant(value='qr'))]))],\n",
      "    type_ignores=[])\n"
     ]
    }
   ],
   "source": [
    "code = \"qr = QuantumRegister(4, name='qr')\"\n",
    "tree = parse(code)\n",
    "print(dump(tree, indent=4))"
   ]
  },
  {
   "cell_type": "code",
   "execution_count": 31,
   "id": "13d90513-cfd3-4b93-931c-e05eaf70b991",
   "metadata": {},
   "outputs": [
    {
     "name": "stdout",
     "output_type": "stream",
     "text": [
      "[<ast.Name object at 0x107c01820>]\n",
      "<ast.Call object at 0x107c01610>\n"
     ]
    }
   ],
   "source": [
    "class V(NodeVisitor):\n",
    "    def visit_Assign(self, node):\n",
    "        print(node.targets)\n",
    "        print(node.value)\n",
    "        self.generic_visit(node)\n",
    "\n",
    "V().visit(tree)\n",
    "\n",
    "\n",
    "\n",
    "class T(NodeTransformer):\n",
    "    def visit_Assign(self, node):\n",
    "        if isinstance(node.value, Call):\n",
    "            if \n",
    "            \n",
    "            \n",
    "        return node\n",
    "            \n",
    "        "
   ]
  },
  {
   "cell_type": "code",
   "execution_count": 33,
   "id": "714e8a77-7b62-46b8-bcb5-7358a8542c9d",
   "metadata": {},
   "outputs": [],
   "source": [
    "from typing import *\n",
    "def get_circuits_used(circ_definition: str) -> List[Dict[str, Any]]:\n",
    "    \"\"\"Extract the available quantum circuits and their registers.\n",
    "\n",
    "    For each quantum circuit in the main program report:\n",
    "    - the number of qubit used\n",
    "    - the identifier name\n",
    "    - the name of its quantum register\n",
    "    - the name of its classical register\n",
    "    \"\"\"\n",
    "    tree = ast.parse(circ_definition)\n",
    "\n",
    "    registers = get_registers_used(circ_definition=circ_definition)\n",
    "\n",
    "    class CircuitHunter(ast.NodeVisitor):\n",
    "\n",
    "        def __init__(self):\n",
    "            self.circuits = []\n",
    "\n",
    "        def visit(self, node: ast.AST):\n",
    "            self.check_if_circuit(node)\n",
    "            for child in ast.iter_child_nodes(node):\n",
    "                self.visit(child)\n",
    "\n",
    "        def check_if_circuit(self, node: ast.AST):\n",
    "            if (isinstance(node, ast.Assign) and\n",
    "                    isinstance(node.value, ast.Call) and\n",
    "                    isinstance(node.value.func, ast.Name) and\n",
    "                    node.value.func.id == \"QuantumCircuit\" and\n",
    "                    not isinstance(node.value.args[0], ast.Constant) and\n",
    "                    not isinstance(node.value.args[1], ast.Constant)):\n",
    "                register_type = node.value.func.id\n",
    "                identifier = node.targets[0].id\n",
    "                quantum_register_identifier = node.value.args[0].id\n",
    "                classical_register_identifier = node.value.args[1].id\n",
    "                size_quantum_reg = [\n",
    "                    r for r in registers\n",
    "                    if r[\"name\"] == quantum_register_identifier][0][\"size\"]\n",
    "                size_classical_reg = [\n",
    "                    r for r in registers\n",
    "                    if r[\"name\"] == classical_register_identifier][0][\"size\"]\n",
    "                assert size_quantum_reg == size_classical_reg\n",
    "                self.circuits.append({\n",
    "                    \"name\": identifier,\n",
    "                    \"quantum_register\": quantum_register_identifier,\n",
    "                    \"classical_register\": classical_register_identifier,\n",
    "                    \"size\": size_quantum_reg\n",
    "                })\n",
    "\n",
    "        def get_circuits(self):\n",
    "            return self.circuits\n",
    "\n",
    "    circuit_hunter = CircuitHunter()\n",
    "    circuit_hunter.generic_visit(tree)\n",
    "    return circuit_hunter.get_circuits()"
   ]
  }
 ],
 "metadata": {
  "kernelspec": {
   "display_name": "Python 3 (ipykernel)",
   "language": "python",
   "name": "python3"
  },
  "language_info": {
   "codemirror_mode": {
    "name": "ipython",
    "version": 3
   },
   "file_extension": ".py",
   "mimetype": "text/x-python",
   "name": "python",
   "nbconvert_exporter": "python",
   "pygments_lexer": "ipython3",
   "version": "3.9.12"
  }
 },
 "nbformat": 4,
 "nbformat_minor": 5
}
