{
 "cells": [
  {
   "cell_type": "code",
   "execution_count": 1,
   "id": "e7f18cea-457f-4151-88cf-f413be1d8e91",
   "metadata": {},
   "outputs": [],
   "source": [
    "from pyquil import Program\n",
    "from pyquil.gates import *\n",
    "from pyquil.quilatom import Parameter, quil_sin, quil_cos, quil_exp\n",
    "from pyquil.quilbase import DefGate\n",
    "import numpy"
   ]
  },
  {
   "cell_type": "code",
   "execution_count": 8,
   "id": "4578ad46-0229-4b3e-84d8-038114e82bd1",
   "metadata": {},
   "outputs": [
    {
     "name": "stdout",
     "output_type": "stream",
     "text": [
      "DEFGATE CU1(%eith):\n",
      "    1, 0, 0, 0\n",
      "    0, 1, 0, 0\n",
      "    0, 0, 1, 0\n",
      "    0, 0, 0, EXP(i*%eith)\n",
      "\n",
      "DECLARE ro BIT[1]\n",
      "CU1(5.83674944466042) 0\n",
      "MEASURE 0 ro[0]\n",
      "\n"
     ]
    }
   ],
   "source": [
    "eith = Parameter('eith')\n",
    "cu1 = numpy.array(\n",
    "                [[1, 0, 0, 0], [0, 1, 0, 0], [0, 0, 1, 0], [0, 0, 0, quil_exp(1j * eith)]]\n",
    "            )\n",
    "gate_definition = DefGate('CU1', cu1, [eith])\n",
    "\n",
    "CU1 = gate_definition.get_constructor()\n",
    "\n",
    "p = Program()\n",
    "ro = p.declare('ro', 'BIT', 1)\n",
    "p += gate_definition\n",
    "p += CU1(5.83674944466042)(0)\n",
    "p += MEASURE(0, ro[0])\n",
    "print(p.out())"
   ]
  }
 ],
 "metadata": {
  "kernelspec": {
   "display_name": "Python 3 (ipykernel)",
   "language": "python",
   "name": "python3"
  },
  "language_info": {
   "codemirror_mode": {
    "name": "ipython",
    "version": 3
   },
   "file_extension": ".py",
   "mimetype": "text/x-python",
   "name": "python",
   "nbconvert_exporter": "python",
   "pygments_lexer": "ipython3",
   "version": "3.9.12"
  }
 },
 "nbformat": 4,
 "nbformat_minor": 5
}
