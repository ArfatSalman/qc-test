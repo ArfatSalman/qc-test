{
 "cells": [
  {
   "cell_type": "code",
   "execution_count": 1,
   "id": "5ac9e822-4d0d-4c8d-b288-2eb9c542f6c5",
   "metadata": {},
   "outputs": [],
   "source": [
    "from qiskit.circuit.library.standard_gates import *\n",
    "from qiskit import QuantumCircuit, ClassicalRegister, QuantumRegister"
   ]
  },
  {
   "cell_type": "code",
   "execution_count": 40,
   "id": "2269dcbb-7e47-4db2-a75b-401cdde7dbe9",
   "metadata": {},
   "outputs": [
    {
     "data": {
      "image/png": "[encoded data removed]",
      "text/plain": [
       "<Figure size 466.738x367.889 with 1 Axes>"
      ]
     },
     "execution_count": 40,
     "metadata": {},
     "output_type": "execute_result"
    }
   ],
   "source": [
    "# SECTION\n",
    "# NAME: CIRCUIT\n",
    "\n",
    "qr = QuantumRegister(3, name='qr')\n",
    "cr = ClassicalRegister(3, name='cr')\n",
    "qc = QuantumCircuit(qr, cr, name='qc')\n",
    "qc.append(XGate(), qargs=[qr[0]], cargs=[])\n",
    "# qc.append(XGate(), qargs=[qr[1]], cargs=[])\n",
    "qc.append(U1Gate(3.481387546019227), qargs=[qr[0]], cargs=[])\n",
    "qc.append(HGate(), qargs=[qr[0]], cargs=[])\n",
    "\n",
    "# SECTION\n",
    "# NAME: MEASUREMENT\n",
    "\n",
    "qc.measure(qr, cr)\n",
    "qc.draw(output='mpl')\n",
    "# qc.qasm(formatted=True)\n",
    "# dir(qc)\n",
    "# SECTION\n",
    "# NAME: OPTIMIZATION_LEVEL\n",
    "\n",
    "# from qiskit import transpile\n",
    "# qc = transpile(qc, basis_gates=None, optimization_level=2, coupling_map=None)\n",
    "\n",
    "# # SECTION\n",
    "# # NAME: EXECUTION\n"
   ]
  },
  {
   "cell_type": "code",
   "execution_count": 56,
   "id": "425426e6-c793-462f-8e85-a576de3f2727",
   "metadata": {},
   "outputs": [
    {
     "name": "stdout",
     "output_type": "stream",
     "text": [
      "{'000': 345, '001': 347}\n"
     ]
    }
   ],
   "source": [
    "from qiskit import Aer, transpile, execute\n",
    "backend_0aeb997d610641108c5db249af0a7269 = Aer.get_backend('qasm_simulator')\n",
    "counts = execute(qc, backend=backend_0aeb997d610641108c5db249af0a7269, shots=692).result().get_counts(qc)\n",
    "RESULT = counts\n",
    "print(counts)"
   ]
  },
  {
   "cell_type": "code",
   "execution_count": 61,
   "id": "a80130ec-28b3-4e8f-b543-542e4c2a0488",
   "metadata": {},
   "outputs": [
    {
     "ename": "ModuleNotFoundError",
     "evalue": "No module named 'transpiler'",
     "output_type": "error",
     "traceback": [
      "\u001b[0;31m---------------------------------------------------------------------------\u001b[0m",
      "\u001b[0;31mModuleNotFoundError\u001b[0m                       Traceback (most recent call last)",
      "Cell \u001b[0;32mIn [61], line 1\u001b[0m\n\u001b[0;32m----> 1\u001b[0m \u001b[38;5;28;01mimport\u001b[39;00m \u001b[38;5;21;01mtranspiler\u001b[39;00m\n\u001b[1;32m      3\u001b[0m transpiler\u001b[38;5;241m.\u001b[39mCirqCircuit\u001b[38;5;241m.\u001b[39mfrom_qiskit_source(\u001b[38;5;124m\"\"\"\u001b[39m\n\u001b[1;32m      4\u001b[0m \n\u001b[1;32m      5\u001b[0m \u001b[38;5;124mqr = QuantumRegister(3, name=\u001b[39m\u001b[38;5;124m'\u001b[39m\u001b[38;5;124mqr\u001b[39m\u001b[38;5;124m'\u001b[39m\u001b[38;5;124m)\u001b[39m\n\u001b[0;32m   (...)\u001b[0m\n\u001b[1;32m     12\u001b[0m \n\u001b[1;32m     13\u001b[0m \u001b[38;5;124m\"\"\"\u001b[39m)\n",
      "\u001b[0;31mModuleNotFoundError\u001b[0m: No module named 'transpiler'"
     ]
    }
   ],
   "source": [
    "import transpiler\n",
    "\n",
    "transpiler.CirqCircuit.from_qiskit_source(\"\"\"\n",
    "\n",
    "qr = QuantumRegister(3, name='qr')\n",
    "cr = ClassicalRegister(3, name='cr')\n",
    "qc = QuantumCircuit(qr, cr, name='qc')\n",
    "qc.append(XGate(), qargs=[qr[0]], cargs=[])\n",
    "# qc.append(XGate(), qargs=[qr[1]], cargs=[])\n",
    "qc.append(U1Gate(3.481387546019227), qargs=[qr[0]], cargs=[])\n",
    "qc.append(HGate(), qargs=[qr[0]], cargs=[])\n",
    "\n",
    "\"\"\")"
   ]
  }
 ],
 "metadata": {
  "kernelspec": {
   "display_name": "Python 3 (ipykernel)",
   "language": "python",
   "name": "python3"
  },
  "language_info": {
   "codemirror_mode": {
    "name": "ipython",
    "version": 3
   },
   "file_extension": ".py",
   "mimetype": "text/x-python",
   "name": "python",
   "nbconvert_exporter": "python",
   "pygments_lexer": "ipython3",
   "version": "3.9.12"
  }
 },
 "nbformat": 4,
 "nbformat_minor": 5
}
