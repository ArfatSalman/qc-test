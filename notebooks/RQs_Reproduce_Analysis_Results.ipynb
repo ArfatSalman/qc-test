{
 "cells": [
  {
   "cell_type": "markdown",
   "id": "aac5ca3d",
   "metadata": {},
   "source": [
    "To reproduce the results:\n",
    "1. place the `qmt_v52` and `qmt_v53` folders in the `data` folder (downloaded from Figshare).\n",
    "2. run this notebook top to bottom."
   ]
  },
  {
   "cell_type": "code",
   "execution_count": 1,
   "id": "b0b0dc62",
   "metadata": {
    "ExecuteTime": {
     "end_time": "2022-08-28T23:09:33.384153Z",
     "start_time": "2022-08-28T23:09:13.233929Z"
    }
   },
   "outputs": [],
   "source": [
    "import project_path\n",
    "\n",
    "import matplotlib.pyplot as plt\n",
    "from copy import deepcopy\n",
    "import os\n",
    "import re\n",
    "import pandas as pd\n",
    "import seaborn as sns\n",
    "import sqlite3 as sl\n",
    "from tqdm import tqdm\n",
    "from typing import List, Any, Tuple, Dict\n",
    "import pathlib\n",
    "\n",
    "from lib.detectors import KS_Detector\n",
    "from lib.inspector import Inspector\n",
    "from lib.inspector import OneNightStandInspector\n",
    "from lib.qmt import execute_programs\n",
    "from lib.utils import iterate_over\n",
    "from lib.utils import load_config_and_check\n",
    "from lib.inspector import retrieve_relevant_file_paths\n",
    "from lib.inspector import inspec_column_of\n",
    "from lib.inspector import read_program\n",
    "from lib.inspector import create_folder_in_interesting_cases\n",
    "from lib.inspector import copy_bug\n",
    "\n",
    "%load_ext autoreload\n",
    "%autoreload 2"
   ]
  },
  {
   "cell_type": "code",
   "execution_count": 2,
   "id": "f2ef443f",
   "metadata": {
    "ExecuteTime": {
     "end_time": "2022-08-28T23:09:33.430788Z",
     "start_time": "2022-08-28T23:09:33.386189Z"
    }
   },
   "outputs": [],
   "source": [
    "import json\n",
    "import ast"
   ]
  },
  {
   "cell_type": "code",
   "execution_count": 3,
   "id": "9925c9c9",
   "metadata": {
    "ExecuteTime": {
     "end_time": "2022-08-28T23:09:33.479827Z",
     "start_time": "2022-08-28T23:09:33.432362Z"
    }
   },
   "outputs": [],
   "source": [
    "ALL_MR_NAMES = [\n",
    "    \"AddUnusedRegister\",\n",
    "    \"ChangeBackend\",\n",
    "    \"ChangeCouplingMap\",\n",
    "    \"ChangeOptLevel\",\n",
    "    \"ChangeQubitOrder\",\n",
    "    \"ChangeTargetBasis\",\n",
    "    \"InjectNullEffect\",\n",
    "    \"InjectParameters\",\n",
    "    \"RunIndependentPartitions\",\n",
    "    \"ToQasmAndBack\",\n",
    "    \"QdiffG1SwapToCnot\",\n",
    "    \"QdiffG2TwoHToId\",\n",
    "    \"QdiffG3XToHSSH\",\n",
    "    \"QdiffG4ZtoSS\",\n",
    "    \"QdiffG5CZtoHCnotH\",\n",
    "    \"QdiffG6TwoCzToId\",\n",
    "    \"QdiffG7CCNOTDecomposition\"\n",
    "]\n",
    "\n",
    "OUT_FOLDER = \"../data/paper_images\"\n",
    "COL_TRANSF = \"followup.metamorphic_transformations\"\n",
    "PVAL_COL = \"divergence.ks.p-value\"\n",
    "ALPHA_LEVEL = 0.05\n",
    "\n",
    "MR_ALIAS = {\n",
    "    \"ChangeTargetBasis\": \"ChangeOfGateSet\",\n",
    "    \"ToQasmAndBack\": \"Roundtrip conversion via QASM\",\n",
    "    \"ChangeBackend\": \"Change of backend\",\n",
    "    \"ChangeCouplingMap\": \"Change of coupling map\",\n",
    "    \"ChangeOptLevel\": \"Change of optimization level\",\n",
    "    \"ChangeTargetBasis\": \"Change of gate set\",\n",
    "    \"ChangeQubitOrder\": \"Change of qubit order\",\n",
    "    \"RunIndependentPartitions\": \"Partitioned execution\",\n",
    "    \"InjectNullEffect\": \"Inject null-effect operations\",\n",
    "    \"AddUnusedRegister\": \"Add quantum register\",\n",
    "    \"InjectParameters\": \"Inject parameters\",\n",
    "    \n",
    "}"
   ]
  },
  {
   "cell_type": "code",
   "execution_count": null,
   "id": "d5278798",
   "metadata": {},
   "outputs": [],
   "source": [
    "# create OUT_FOLDER if it does not exist\n",
    "pathlib.Path(OUT_FOLDER).mkdir(parents=True, exist_ok=True)"
   ]
  },
  {
   "cell_type": "markdown",
   "id": "d4d5fee6",
   "metadata": {},
   "source": [
    "# Read Data"
   ]
  },
  {
   "cell_type": "code",
   "execution_count": 4,
   "id": "0041f334",
   "metadata": {
    "ExecuteTime": {
     "end_time": "2022-08-28T23:09:33.532647Z",
     "start_time": "2022-08-28T23:09:33.481994Z"
    }
   },
   "outputs": [],
   "source": [
    "def read_coverage(experiment_name: str):\n",
    "    \"\"\"Read the coverage information for the given experiment.\n",
    "    \n",
    "    Return:\n",
    "    - df_coverage: pd.DataFrame with columns\n",
    "        \"n_programs\": int number of programs run so far.\n",
    "        \"percent_covered\": float percentage code coverage corresponding to \n",
    "        the n_programs\n",
    "        \"exp_name\": str repeated experiment_name\n",
    "    Note that the two array will have the same size.        \n",
    "    \"\"\"\n",
    "    exp_path = os.path.join(\"..\", \"data\", experiment_name, \"coverage_reports\")\n",
    "    cov_reports = os.listdir(exp_path)\n",
    "    reports = []\n",
    "    for cov_report in cov_reports:\n",
    "        c_report = {}\n",
    "        c_report[\"experiment_name\"] = experiment_name\n",
    "        path_report = os.path.join(exp_path, cov_report)\n",
    "        c_report[\"n_programs\"] = int(cov_report.replace(\".json\", \"\"))\n",
    "        report_data = json.load(open(path_report, 'r'))\n",
    "        c_report[\"percent_covered\"] = report_data[\"totals\"][\"percent_covered\"]\n",
    "        reports.append(c_report)\n",
    "    return pd.DataFrame.from_records(reports).sort_values(by=\"n_programs\")\n",
    "\n",
    "\n",
    "def read_data_and_warnings(experiment_name: str):\n",
    "    \"\"\"Read the datase of the warnings found during the experiment.\"\"\"\n",
    "    sql_path = os.path.join(\"..\", \"data\", experiment_name, \"qfl.db\")\n",
    "    sql_conn = sl.connect(sql_path)\n",
    "    # LOAD DATA\n",
    "    df_data = pd.read_sql(\"\"\"SELECT * from QFLDATA\"\"\", sql_conn)\n",
    "    df_data[\"experiment_name\"] = experiment_name\n",
    "    print(f\"Total (potentially divergent) comparisons: {len(df_data)}\")\n",
    "    try:\n",
    "        df_crash = pd.read_sql(\"\"\"SELECT * from CRASHDATA\"\"\", sql_conn)\n",
    "        print(f\"Total crash in programs: {len(df_crash)}\")\n",
    "        print(f\"\\tcrashing source: {len(df_crash[~df_crash['exceptions.source'].isna()])}\")\n",
    "        print(f\"\\tcrashing follow-up: {len(df_crash[~df_crash['exceptions.followup'].isna()])}\")\n",
    "        df_crash[\"experiment_name\"] = experiment_name\n",
    "    except Exception as e:\n",
    "        df_crash = pd.DataFrame()\n",
    "        print(\"No crash data\")\n",
    "    \n",
    "    return df_data, df_crash"
   ]
  },
  {
   "cell_type": "code",
   "execution_count": 5,
   "id": "25ebc61d",
   "metadata": {
    "ExecuteTime": {
     "end_time": "2022-08-28T23:09:33.578652Z",
     "start_time": "2022-08-28T23:09:33.534190Z"
    }
   },
   "outputs": [],
   "source": [
    "EXP_FOLDERS_QDIFF = [\"qmt_v52\"]\n",
    "EXP_FOLDERS_MORPHQ = [\"qmt_v53\"]"
   ]
  },
  {
   "cell_type": "code",
   "execution_count": 6,
   "id": "11849d45",
   "metadata": {
    "ExecuteTime": {
     "end_time": "2022-08-28T23:13:27.091870Z",
     "start_time": "2022-08-28T23:13:27.042503Z"
    },
    "code_folding": []
   },
   "outputs": [],
   "source": [
    "#EXP_FOLDERS_QDIFF = [\"qmt_v30\", \"qmt_v31\"]\n",
    "#EXP_FOLDERS_MORPHQ = [\"qmt_v40\", \"qmt_v41\"]\n",
    "\n",
    "#EXP_FOLDERS_QDIFF = [\"qmt_v\" + str(i) for i in range(30, 40)]\n",
    "#print(\"EXP_FOLDERS_QDIFF: \", EXP_FOLDERS_QDIFF)\n",
    "#EXP_FOLDERS_MORPHQ = [\"qmt_v\" + str(i) for i in range(40, 50)]\n",
    "#print(\"EXP_FOLDERS_MORPHQ: \", EXP_FOLDERS_MORPHQ)\n"
   ]
  },
  {
   "cell_type": "code",
   "execution_count": 7,
   "id": "0f2c4083",
   "metadata": {
    "ExecuteTime": {
     "end_time": "2022-08-28T23:13:51.908756Z",
     "start_time": "2022-08-28T23:13:27.763400Z"
    }
   },
   "outputs": [
    {
     "name": "stdout",
     "output_type": "stream",
     "text": [
      "Total (potentially divergent) comparisons: 51271\n",
      "No crash data\n",
      "Total (potentially divergent) comparisons: 6417\n",
      "Total crash in programs: 1943\n",
      "\tcrashing source: 0\n",
      "\tcrashing follow-up: 1943\n"
     ]
    }
   ],
   "source": [
    "df_all_cov = []\n",
    "df_all_data = []\n",
    "df_all_crash = []\n",
    "    \n",
    "for approach, exp_folders in zip(\n",
    "        [\"qdiff\", \"morphq\"],\n",
    "        [EXP_FOLDERS_QDIFF, EXP_FOLDERS_MORPHQ]):\n",
    "    for exp_folder in exp_folders:\n",
    "        df_cov = read_coverage(experiment_name=exp_folder)\n",
    "        df_cov[\"approach\"] = approach\n",
    "        df_data, df_crash = read_data_and_warnings(experiment_name=exp_folder)\n",
    "        df_data[\"approach\"] = approach\n",
    "        df_crash[\"approach\"] = approach\n",
    "        df_all_cov.append(df_cov)        \n",
    "        df_all_data.append(df_data)\n",
    "        df_all_crash.append(df_crash) \n",
    "    "
   ]
  },
  {
   "cell_type": "code",
   "execution_count": 8,
   "id": "09124e01",
   "metadata": {
    "ExecuteTime": {
     "end_time": "2022-08-28T23:13:52.194844Z",
     "start_time": "2022-08-28T23:13:51.911091Z"
    }
   },
   "outputs": [],
   "source": [
    "df_data_both = pd.concat(df_all_data, axis=0).reset_index()\n",
    "df_crash_both = pd.concat(df_all_crash, axis=0).reset_index()"
   ]
  },
  {
   "cell_type": "code",
   "execution_count": 9,
   "id": "d8c84d10",
   "metadata": {
    "ExecuteTime": {
     "end_time": "2022-08-28T23:13:52.375661Z",
     "start_time": "2022-08-28T23:13:52.196571Z"
    }
   },
   "outputs": [],
   "source": [
    "df_generated_programs_both = pd.concat(\n",
    "    [\n",
    "        df_data_both.assign(generated_a_crash=False),\n",
    "        df_crash_both.assign(generated_a_crash=True)\n",
    "    ],\n",
    "    axis=0\n",
    ")"
   ]
  },
  {
   "cell_type": "code",
   "execution_count": 10,
   "id": "698bff6a",
   "metadata": {
    "ExecuteTime": {
     "end_time": "2022-08-28T23:13:52.518284Z",
     "start_time": "2022-08-28T23:13:52.378128Z"
    }
   },
   "outputs": [
    {
     "name": "stdout",
     "output_type": "stream",
     "text": [
      "Qdiff found 0 warnings\n"
     ]
    }
   ],
   "source": [
    "n_warinings_qdiff = len(df_generated_programs_both[\n",
    "    (df_generated_programs_both[\"generated_a_crash\"] == True) &\n",
    "    (df_generated_programs_both[\"approach\"] == \"qdiff\")\n",
    "])\n",
    "print(f\"Qdiff found {n_warinings_qdiff} warnings\")"
   ]
  },
  {
   "cell_type": "markdown",
   "id": "c68e88a9",
   "metadata": {},
   "source": [
    "# RQ 1 - Table - MorphQ Statistics: Tot vs Crashing"
   ]
  },
  {
   "cell_type": "code",
   "execution_count": 11,
   "id": "50ee0d9a",
   "metadata": {
    "ExecuteTime": {
     "end_time": "2022-08-28T23:13:52.593866Z",
     "start_time": "2022-08-28T23:13:52.520086Z"
    }
   },
   "outputs": [
    {
     "name": "stdout",
     "output_type": "stream",
     "text": [
      "In the first 2 days we tested 8360 program pairs\n",
      "1943 (23.24 %) crashes\n",
      "6417 (76.76 %) complete executions\n",
      "% RQ1 ['qmt_v53']\n",
      "\\newcommand{\\percCrashesBenchmark}{23.2\\%}\n",
      "\\newcommand{\\totalTestedProgramPairs}{8,360}\n",
      "\\newcommand{\\totalTestedProgramPairsAbbr}{8k}\n",
      "\\newcommand{\\totalPairsWithDistrDifference}{56}\n",
      "\n",
      "\\begin{table}[t]\n",
      "  \\centering\n",
      "  % ['qmt_v53']\n",
      "  \\caption{Distribution of warnings produced over two days.}\n",
      "  \\begin{tabular}{@{}lrr@{}}\n",
      "  \\toprule\n",
      "  & Number & Percentage \\\\\n",
      "  \\midrule\n",
      "  Tested program pairs& 8,360& 100.0\\% \\\\\n",
      "  \\hspace{1em} $\\hookrightarrow$ Crashes in source program & 0 & 0.0 \\%\\\\\n",
      "  \\hspace{1em} $\\hookrightarrow$ Crashes in follow-up program & 1,943 & 23.2 \\%\\\\\n",
      "  \\hspace{1em} $\\hookrightarrow$ Successful executions & 6,417 & 76.8 \\%\\\\\n",
      "  \n",
      "  \\hspace{3em} $\\hookrightarrow$ Distribution differences & 56 & 0.7 \\%\\\\\n",
      "    \n",
      "\\bottomrule\n",
      "  \\end{tabular}\n",
      "  \\label{tab:warnings_distribution}\n",
      "\\end{table}\n",
      "\n"
     ]
    }
   ],
   "source": [
    "INCLUDE_DISTRIB_DIFF = True\n",
    "\n",
    "df_morphq = df_generated_programs_both[\n",
    "    df_generated_programs_both[\"approach\"] == \"morphq\"\n",
    "]\n",
    "df_morphq = df_morphq.drop_duplicates(subset=[\"program_id\"])\n",
    "df_morphq_crash = df_morphq[df_morphq[\"generated_a_crash\"]]\n",
    "df_morphq_no_crash = df_morphq[~df_morphq[\"generated_a_crash\"]]\n",
    "\n",
    "print(f\"In the first 2 days we tested {len(df_morphq)} program pairs\")\n",
    "\n",
    "n_tot_pairs = len(df_morphq)\n",
    "n_crash = len(df_morphq_crash)\n",
    "n_complete_execution = len(df_morphq_no_crash)\n",
    "assert n_crash + n_complete_execution == n_tot_pairs\n",
    "\n",
    "perc_crash = (n_crash / n_tot_pairs) * 100\n",
    "perc_complete_execution = (n_complete_execution / n_tot_pairs) * 100\n",
    "\n",
    "print(f\"{n_crash} ({perc_crash:.2f} %) crashes\")\n",
    "print(f\"{n_complete_execution} ({perc_complete_execution:.2f} %) complete executions\")\n",
    "\n",
    "n_crash_source = len(df_morphq_crash[~df_morphq_crash['exceptions.source'].isna()])\n",
    "n_crash_followup = len(df_morphq_crash[~df_morphq_crash['exceptions.followup'].isna()]) \n",
    "perc_crash_source = (n_crash_source / n_tot_pairs) * 100\n",
    "perc_crash_followup = (n_crash_followup / n_tot_pairs) * 100\n",
    "\n",
    "n_divergence = len(df_morphq[\n",
    "    (df_morphq[PVAL_COL] < ALPHA_LEVEL) & \n",
    "    (df_morphq[\"exceptions.followup\"].isnull())\n",
    "])\n",
    "perc_divergence = (n_divergence / n_tot_pairs) * 100\n",
    "\n",
    "print(\"% RQ1 \" + str(EXP_FOLDERS_MORPHQ))\n",
    "print(\"\\\\newcommand{\\percCrashesBenchmark}{\"+f\"{perc_crash:.1f}\"+\"\\%}\")\n",
    "print(\"\\\\newcommand{\\\\totalTestedProgramPairs}{\"+f\"{n_tot_pairs:,.0f}\"+\"}\")\n",
    "print(\"\\\\newcommand{\\\\totalTestedProgramPairsAbbr}{\"+f\"{n_tot_pairs/1000:.0f}k\"+\"}\")\n",
    "\n",
    "if INCLUDE_DISTRIB_DIFF:\n",
    "    print(\"\\\\newcommand{\\\\totalPairsWithDistrDifference}{\"+f\"{n_divergence:,.0f}\"+\"}\")\n",
    "    divergent_pairs_text = \"\"\"\n",
    "  \\hspace{3em} $\\hookrightarrow$ Distribution differences & \"\"\" + f\"{n_divergence:,.0f} & {perc_divergence:.1f} \\\\%\"+ \"\"\"\\\\\\\\\n",
    "    \"\"\"\n",
    "else:\n",
    "    divergent_pairs_text = \"\"\n",
    "\n",
    "print(\"\"\"\n",
    "\\\\begin{table}[t]\n",
    "  \\centering\n",
    "  % \"\"\" + str(EXP_FOLDERS_MORPHQ) + \"\"\"\n",
    "  \\caption{Distribution of warnings produced over two days.}\n",
    "  \\\\begin{tabular}{@{}lrr@{}}\n",
    "  \\\\toprule\n",
    "  & Number & Percentage \\\\\\\\\n",
    "  \\\\midrule\n",
    "  Tested program pairs& \"\"\" + f\"{n_tot_pairs:,.0f}\"+ \"\"\"& 100.0\\\\% \\\\\\\\\n",
    "  \\hspace{1em} $\\hookrightarrow$ Crashes in source program & \"\"\" + f\"{n_crash_source:,.0f} & {perc_crash_source:.1f} \\\\%\"+ \"\"\"\\\\\\\\\n",
    "  \\hspace{1em} $\\hookrightarrow$ Crashes in follow-up program & \"\"\" + f\"{n_crash_followup:,.0f} & {perc_crash_followup:.1f} \\\\%\"+ \"\"\"\\\\\\\\\n",
    "  \\hspace{1em} $\\hookrightarrow$ Successful executions & \"\"\" + f\"{n_complete_execution:,.0f} & {perc_complete_execution:.1f} \\\\%\"+ \"\"\"\\\\\\\\\n",
    "  \"\"\" + f\"{divergent_pairs_text}\" + \"\"\"\n",
    "\\\\bottomrule\n",
    "  \\end{tabular}\n",
    "  \\label{tab:warnings_distribution}\n",
    "\\end{table}\n",
    "\"\"\")"
   ]
  },
  {
   "cell_type": "code",
   "execution_count": 12,
   "id": "ecc0a895",
   "metadata": {
    "ExecuteTime": {
     "end_time": "2022-08-28T23:13:52.776263Z",
     "start_time": "2022-08-28T23:13:52.595746Z"
    }
   },
   "outputs": [
    {
     "name": "stdout",
     "output_type": "stream",
     "text": [
      "QDIFF\n",
      "In the first 2 days we tested 51271 program pairs\n",
      "0 (0.00 %) crashes\n",
      "51271 (100.00 %) complete executions\n",
      "% RQ1 ['qmt_v52']\n",
      "\\newcommand{\\percCrashesBenchmark}{0.0\\%}\n",
      "\\newcommand{\\totalTestedProgramPairs}{51,271}\n",
      "\\newcommand{\\totalTestedProgramPairsAbbr}{51k}\n",
      "\\newcommand{\\totalPairsWithDistrDifference}{528}\n",
      "\n",
      "\\begin{table}[t]\n",
      "  \\centering\n",
      "  % ['qmt_v52']\n",
      "  \\caption{Distribution of warnings produced over two days.}\n",
      "  \\begin{tabular}{@{}lrr@{}}\n",
      "  \\toprule\n",
      "  & Number & Percentage \\\\\n",
      "  \\midrule\n",
      "  Tested program pairs& 51,271& 100.0\\% \\\\\n",
      "  \\hspace{1em} $\\hookrightarrow$ Crashes in source program & 0 & 0.0 \\%\\\\\n",
      "  \\hspace{1em} $\\hookrightarrow$ Crashes in follow-up program & 0 & 0.0 \\%\\\\\n",
      "  \\hspace{1em} $\\hookrightarrow$ Successful executions & 51,271 & 100.0 \\%\\\\\n",
      "  \n",
      "  \\hspace{3em} $\\hookrightarrow$ Distribution differences & 528 & 1.0 \\%\\\\\n",
      "    \n",
      "\\bottomrule\n",
      "  \\end{tabular}\n",
      "  \\label{tab:warnings_distribution}\n",
      "\\end{table}\n",
      "\n"
     ]
    }
   ],
   "source": [
    "INCLUDE_DISTRIB_DIFF = True\n",
    "\n",
    "\n",
    "print('QDIFF')\n",
    "df_qdiff = df_generated_programs_both[\n",
    "    df_generated_programs_both[\"approach\"] == \"qdiff\"\n",
    "]\n",
    "df_qdiff = df_qdiff.drop_duplicates(subset=[\"program_id\"])\n",
    "df_qdiff_crash = df_qdiff[df_qdiff[\"generated_a_crash\"]]\n",
    "df_qdiff_no_crash = df_qdiff[~df_qdiff[\"generated_a_crash\"]]\n",
    "\n",
    "print(f\"In the first 2 days we tested {len(df_qdiff)} program pairs\")\n",
    "\n",
    "n_tot_pairs = len(df_qdiff)\n",
    "n_crash = len(df_qdiff_crash)\n",
    "n_complete_execution = len(df_qdiff_no_crash)\n",
    "assert n_crash + n_complete_execution == n_tot_pairs\n",
    "\n",
    "perc_crash = (n_crash / n_tot_pairs) * 100\n",
    "perc_complete_execution = (n_complete_execution / n_tot_pairs) * 100\n",
    "\n",
    "print(f\"{n_crash} ({perc_crash:.2f} %) crashes\")\n",
    "print(f\"{n_complete_execution} ({perc_complete_execution:.2f} %) complete executions\")\n",
    "\n",
    "n_crash_source = len(df_qdiff_crash[~df_qdiff_crash['exceptions.source'].isna()])\n",
    "n_crash_followup = len(df_qdiff_crash[~df_qdiff_crash['exceptions.followup'].isna()]) \n",
    "perc_crash_source = (n_crash_source / n_tot_pairs) * 100\n",
    "perc_crash_followup = (n_crash_followup / n_tot_pairs) * 100\n",
    "\n",
    "n_divergence = len(df_qdiff[\n",
    "    (df_qdiff[PVAL_COL] < ALPHA_LEVEL) & \n",
    "    (df_qdiff[\"exceptions.followup\"].isnull())\n",
    "])\n",
    "perc_divergence = (n_divergence / n_tot_pairs) * 100\n",
    "\n",
    "print(\"% RQ1 \" + str(EXP_FOLDERS_QDIFF))\n",
    "print(\"\\\\newcommand{\\percCrashesBenchmark}{\"+f\"{perc_crash:.1f}\"+\"\\%}\")\n",
    "print(\"\\\\newcommand{\\\\totalTestedProgramPairs}{\"+f\"{n_tot_pairs:,.0f}\"+\"}\")\n",
    "print(\"\\\\newcommand{\\\\totalTestedProgramPairsAbbr}{\"+f\"{n_tot_pairs/1000:.0f}k\"+\"}\")\n",
    "\n",
    "if INCLUDE_DISTRIB_DIFF:\n",
    "    print(\"\\\\newcommand{\\\\totalPairsWithDistrDifference}{\"+f\"{n_divergence:,.0f}\"+\"}\")\n",
    "    divergent_pairs_text = \"\"\"\n",
    "  \\hspace{3em} $\\hookrightarrow$ Distribution differences & \"\"\" + f\"{n_divergence:,.0f} & {perc_divergence:.1f} \\\\%\"+ \"\"\"\\\\\\\\\n",
    "    \"\"\"\n",
    "else:\n",
    "    divergent_pairs_text = \"\"\n",
    "print(\"\"\"\n",
    "\\\\begin{table}[t]\n",
    "  \\centering\n",
    "  % \"\"\" + str(EXP_FOLDERS_QDIFF) + \"\"\"\n",
    "  \\caption{Distribution of warnings produced over two days.}\n",
    "  \\\\begin{tabular}{@{}lrr@{}}\n",
    "  \\\\toprule\n",
    "  & Number & Percentage \\\\\\\\\n",
    "  \\\\midrule\n",
    "  Tested program pairs& \"\"\" + f\"{n_tot_pairs:,.0f}\"+ \"\"\"& 100.0\\\\% \\\\\\\\\n",
    "  \\hspace{1em} $\\hookrightarrow$ Crashes in source program & \"\"\" + f\"{n_crash_source:,.0f} & {perc_crash_source:.1f} \\\\%\"+ \"\"\"\\\\\\\\\n",
    "  \\hspace{1em} $\\hookrightarrow$ Crashes in follow-up program & \"\"\" + f\"{n_crash_followup:,.0f} & {perc_crash_followup:.1f} \\\\%\"+ \"\"\"\\\\\\\\\n",
    "  \\hspace{1em} $\\hookrightarrow$ Successful executions & \"\"\" + f\"{n_complete_execution:,.0f} & {perc_complete_execution:.1f} \\\\%\"+ \"\"\"\\\\\\\\\n",
    "  \"\"\" + f\"{divergent_pairs_text}\" + \"\"\"\n",
    "\\\\bottomrule\n",
    "  \\end{tabular}\n",
    "  \\label{tab:warnings_distribution}\n",
    "\\end{table}\n",
    "\"\"\")"
   ]
  },
  {
   "cell_type": "markdown",
   "id": "ccce4f71",
   "metadata": {},
   "source": [
    "# RQ 2 - Table - Bugs"
   ]
  },
  {
   "cell_type": "code",
   "execution_count": 13,
   "id": "05dc651a",
   "metadata": {
    "ExecuteTime": {
     "end_time": "2022-08-28T23:13:52.854240Z",
     "start_time": "2022-08-28T23:13:52.777811Z"
    }
   },
   "outputs": [
    {
     "data": {
      "text/html": [
       "<div>\n",
       "<style scoped>\n",
       "    .dataframe tbody tr th:only-of-type {\n",
       "        vertical-align: middle;\n",
       "    }\n",
       "\n",
       "    .dataframe tbody tr th {\n",
       "        vertical-align: top;\n",
       "    }\n",
       "\n",
       "    .dataframe thead th {\n",
       "        text-align: right;\n",
       "    }\n",
       "</style>\n",
       "<table border=\"1\" class=\"dataframe\">\n",
       "  <thead>\n",
       "    <tr style=\"text-align: right;\">\n",
       "      <th></th>\n",
       "      <th>index</th>\n",
       "      <th>bug_id</th>\n",
       "      <th>experiment</th>\n",
       "      <th>program_id</th>\n",
       "      <th>date_found</th>\n",
       "      <th>date_reported</th>\n",
       "      <th>manifestation</th>\n",
       "      <th>hook_hint</th>\n",
       "      <th>crash_category</th>\n",
       "      <th>present_also_in_final_run</th>\n",
       "      <th>root_cause</th>\n",
       "      <th>API_usage</th>\n",
       "      <th>mr_used</th>\n",
       "      <th>bug_description</th>\n",
       "      <th>link_to_issue</th>\n",
       "      <th>developer_reaction</th>\n",
       "      <th>developer comment</th>\n",
       "      <th>component</th>\n",
       "      <th>known_before</th>\n",
       "      <th>status</th>\n",
       "    </tr>\n",
       "  </thead>\n",
       "  <tbody>\n",
       "    <tr>\n",
       "      <th>0</th>\n",
       "      <td>0</td>\n",
       "      <td>06_59a0eb</td>\n",
       "      <td>qmt_v06</td>\n",
       "      <td>59a0eb956a0d4e6b8720f272136f2799</td>\n",
       "      <td>21-feb-22</td>\n",
       "      <td>21-feb-22</td>\n",
       "      <td>crash</td>\n",
       "      <td>qargs not in this circuit</td>\n",
       "      <td>qargs not in this circuit</td>\n",
       "      <td>False</td>\n",
       "      <td>ApplyLayout pass</td>\n",
       "      <td>borderline</td>\n",
       "      <td>ChangeOptLevel, ChangeCouplingMap</td>\n",
       "      <td>Transpilation (level 3 + custom Coupling Map) ...</td>\n",
       "      <td>https://github.com/Qiskit/qiskit-terra/issues/...</td>\n",
       "      <td>comment</td>\n",
       "      <td>\"It is a slightly strange and non-ideal behavi...</td>\n",
       "      <td>-</td>\n",
       "      <td>new</td>\n",
       "      <td>confirmed</td>\n",
       "    </tr>\n",
       "    <tr>\n",
       "      <th>1</th>\n",
       "      <td>1</td>\n",
       "      <td>06_948f90</td>\n",
       "      <td>qmt_v06</td>\n",
       "      <td>948f90de9947418289b220bd2e61caa3</td>\n",
       "      <td>23-feb-22</td>\n",
       "      <td>23-feb-22</td>\n",
       "      <td>crash</td>\n",
       "      <td>too many subscripts in einsum</td>\n",
       "      <td>too many subscripts in einsum (numpy)</td>\n",
       "      <td>True</td>\n",
       "      <td>Numpy limits</td>\n",
       "      <td>correct</td>\n",
       "      <td>ChangeOptLevel, InjectNullEffect</td>\n",
       "      <td>Transpilation (Opt. Level 2) fails with regist...</td>\n",
       "      <td>https://github.com/Qiskit/qiskit-terra/issues/...</td>\n",
       "      <td>comment</td>\n",
       "      <td>\"it shakes out that once your operators have 1...</td>\n",
       "      <td>-</td>\n",
       "      <td>new</td>\n",
       "      <td>confirmed</td>\n",
       "    </tr>\n",
       "    <tr>\n",
       "      <th>2</th>\n",
       "      <td>2</td>\n",
       "      <td>11_f019de</td>\n",
       "      <td>qmt_v11</td>\n",
       "      <td>f019de334ee8449db10e18b23e93f071</td>\n",
       "      <td>8-mar-22</td>\n",
       "      <td>8-mar-22</td>\n",
       "      <td>crash</td>\n",
       "      <td>Gate or opaque call to 'subcircuit'</td>\n",
       "      <td>Gate or opaque call to 'subcircuit'</td>\n",
       "      <td>True</td>\n",
       "      <td>subcircuit with classical registers</td>\n",
       "      <td>borderline</td>\n",
       "      <td>ToQasmAndBack, InjectNullEffect</td>\n",
       "      <td>Qasm exporter creates invalid Qasm for subcirc...</td>\n",
       "      <td>https://github.com/Qiskit/qiskit-terra/issues/...</td>\n",
       "      <td>comment; confimed; discussion opened.</td>\n",
       "      <td>\"The bug here is that the QASM 2 exporter shou...</td>\n",
       "      <td>-</td>\n",
       "      <td>new</td>\n",
       "      <td>confirmed</td>\n",
       "    </tr>\n",
       "    <tr>\n",
       "      <th>3</th>\n",
       "      <td>3</td>\n",
       "      <td>01_accidental</td>\n",
       "      <td>qmt_v01</td>\n",
       "      <td>-</td>\n",
       "      <td>8-feb-22</td>\n",
       "      <td>8-feb-22</td>\n",
       "      <td>timeout</td>\n",
       "      <td>-</td>\n",
       "      <td>-</td>\n",
       "      <td>False</td>\n",
       "      <td>inefficient translation basis</td>\n",
       "      <td>non-existent gate names</td>\n",
       "      <td>ChangeTargetBasis</td>\n",
       "      <td>Compiler hangs (infinite loop), when transpile...</td>\n",
       "      <td>https://github.com/Qiskit/qiskit-terra/issues/...</td>\n",
       "      <td>comment; confirmed; similar issue; fix is read...</td>\n",
       "      <td>\"This is similar to #5539, perhaps a slightly ...</td>\n",
       "      <td>-</td>\n",
       "      <td>duplicate (different manifestation)</td>\n",
       "      <td>confirmed</td>\n",
       "    </tr>\n",
       "    <tr>\n",
       "      <th>4</th>\n",
       "      <td>4</td>\n",
       "      <td>11_74343b</td>\n",
       "      <td>qmt_v11</td>\n",
       "      <td>74343b53af17413d86dbdf57b8f6da86</td>\n",
       "      <td>8-mar-22</td>\n",
       "      <td>8-mar-22</td>\n",
       "      <td>crash</td>\n",
       "      <td>Duplicate declaration for gate 'rzx'</td>\n",
       "      <td>Duplicate declaration for gate 'rzx'</td>\n",
       "      <td>True</td>\n",
       "      <td>ECRGate</td>\n",
       "      <td>correct</td>\n",
       "      <td>ToQasmAndBack</td>\n",
       "      <td>Qasm exporter fails with `ECRGate` `QasmError:...</td>\n",
       "      <td>https://github.com/Qiskit/qiskit-terra/issues/...</td>\n",
       "      <td>comment; confirmed; fix coming.</td>\n",
       "      <td>\"QASM 2 exporter has had this problem for a lo...</td>\n",
       "      <td>-</td>\n",
       "      <td>duplicate (different manifestation)</td>\n",
       "      <td>confirmed</td>\n",
       "    </tr>\n",
       "  </tbody>\n",
       "</table>\n",
       "</div>"
      ],
      "text/plain": [
       "   index         bug_id experiment                        program_id  \\\n",
       "0      0      06_59a0eb    qmt_v06  59a0eb956a0d4e6b8720f272136f2799   \n",
       "1      1      06_948f90    qmt_v06  948f90de9947418289b220bd2e61caa3   \n",
       "2      2      11_f019de    qmt_v11  f019de334ee8449db10e18b23e93f071   \n",
       "3      3  01_accidental    qmt_v01                                 -   \n",
       "4      4      11_74343b    qmt_v11  74343b53af17413d86dbdf57b8f6da86   \n",
       "\n",
       "  date_found date_reported manifestation  \\\n",
       "0  21-feb-22     21-feb-22         crash   \n",
       "1  23-feb-22     23-feb-22         crash   \n",
       "2   8-mar-22      8-mar-22         crash   \n",
       "3   8-feb-22      8-feb-22       timeout   \n",
       "4   8-mar-22      8-mar-22         crash   \n",
       "\n",
       "                              hook_hint  \\\n",
       "0             qargs not in this circuit   \n",
       "1         too many subscripts in einsum   \n",
       "2   Gate or opaque call to 'subcircuit'   \n",
       "3                                     -   \n",
       "4  Duplicate declaration for gate 'rzx'   \n",
       "\n",
       "                          crash_category present_also_in_final_run  \\\n",
       "0              qargs not in this circuit                     False   \n",
       "1  too many subscripts in einsum (numpy)                      True   \n",
       "2    Gate or opaque call to 'subcircuit'                      True   \n",
       "3                                      -                     False   \n",
       "4   Duplicate declaration for gate 'rzx'                      True   \n",
       "\n",
       "                            root_cause                API_usage  \\\n",
       "0                     ApplyLayout pass               borderline   \n",
       "1                         Numpy limits                  correct   \n",
       "2  subcircuit with classical registers               borderline   \n",
       "3        inefficient translation basis  non-existent gate names   \n",
       "4                              ECRGate                  correct   \n",
       "\n",
       "                             mr_used  \\\n",
       "0  ChangeOptLevel, ChangeCouplingMap   \n",
       "1   ChangeOptLevel, InjectNullEffect   \n",
       "2    ToQasmAndBack, InjectNullEffect   \n",
       "3                  ChangeTargetBasis   \n",
       "4                      ToQasmAndBack   \n",
       "\n",
       "                                     bug_description  \\\n",
       "0  Transpilation (level 3 + custom Coupling Map) ...   \n",
       "1  Transpilation (Opt. Level 2) fails with regist...   \n",
       "2  Qasm exporter creates invalid Qasm for subcirc...   \n",
       "3  Compiler hangs (infinite loop), when transpile...   \n",
       "4  Qasm exporter fails with `ECRGate` `QasmError:...   \n",
       "\n",
       "                                       link_to_issue  \\\n",
       "0  https://github.com/Qiskit/qiskit-terra/issues/...   \n",
       "1  https://github.com/Qiskit/qiskit-terra/issues/...   \n",
       "2  https://github.com/Qiskit/qiskit-terra/issues/...   \n",
       "3  https://github.com/Qiskit/qiskit-terra/issues/...   \n",
       "4  https://github.com/Qiskit/qiskit-terra/issues/...   \n",
       "\n",
       "                                  developer_reaction  \\\n",
       "0                                            comment   \n",
       "1                                            comment   \n",
       "2              comment; confimed; discussion opened.   \n",
       "3  comment; confirmed; similar issue; fix is read...   \n",
       "4                    comment; confirmed; fix coming.   \n",
       "\n",
       "                                   developer comment component  \\\n",
       "0  \"It is a slightly strange and non-ideal behavi...         -   \n",
       "1  \"it shakes out that once your operators have 1...         -   \n",
       "2  \"The bug here is that the QASM 2 exporter shou...         -   \n",
       "3  \"This is similar to #5539, perhaps a slightly ...         -   \n",
       "4  \"QASM 2 exporter has had this problem for a lo...         -   \n",
       "\n",
       "                          known_before     status  \n",
       "0                                  new  confirmed  \n",
       "1                                  new  confirmed  \n",
       "2                                  new  confirmed  \n",
       "3  duplicate (different manifestation)  confirmed  \n",
       "4  duplicate (different manifestation)  confirmed  "
      ]
     },
     "execution_count": 13,
     "metadata": {},
     "output_type": "execute_result"
    }
   ],
   "source": [
    "# create latex table\n",
    "PATH_DATASET = \"../miscellanea/table_artifacts/Qiskit_Bug_Dataset - main_dataset.csv\"\n",
    "df_bugs = pd.read_csv(PATH_DATASET)\n",
    "df_bugs = df_bugs.sort_values(by=[\n",
    "    \"status\", \"known_before\"\n",
    "], ascending=[True, False])\n",
    "df_bugs = df_bugs.reset_index(drop=True)\n",
    "df_bugs = df_bugs.reset_index(drop=False)\n",
    "df_bugs = df_bugs.fillna(\"-\")\n",
    "df_bugs.head()"
   ]
  },
  {
   "cell_type": "code",
   "execution_count": 14,
   "id": "594e2127",
   "metadata": {
    "ExecuteTime": {
     "end_time": "2022-08-28T23:13:52.896855Z",
     "start_time": "2022-08-28T23:13:52.856070Z"
    }
   },
   "outputs": [],
   "source": [
    "ANONYMOUS = True\n",
    "KEEP_ONLY_CONFIRMED = True \n",
    "KEEP_ONLY_CRASHES = True \n",
    "REMOVE_FALSE_POSITIVES = True\n",
    "\n",
    "col_renaming = {\n",
    "    \"index\": \"ID\",\n",
    "    \"link_to_issue\": \"Report\",\n",
    "    \"status\": \"Status\",\n",
    "    \"known_before\": \"Novelty\",\n",
    "    #\"API_usage\": \"API usage\",\n",
    "    #\"manifestation\": \"How\",\n",
    "    \"crash_category\": \"Crash message\",\n",
    "    \"mr_used\": \"Metamorphic transformations\",\n",
    "    #\"bug_description\": \"Description\",\n",
    "    #\"root_cause\": \"Root Cause\",\n",
    "}\n",
    "\n",
    "if ANONYMOUS:\n",
    "    df_bugs[\"link_to_issue\"] = \"#XXXX\"\n",
    "else:\n",
    "    df_bugs[\"link_to_issue\"] = df_bugs[\"link_to_issue\"].apply(\n",
    "        lambda e: e.replace(\"https://github.com/Qiskit/qiskit-terra/issues/\", \"#\")\n",
    "    )\n",
    "\n",
    "df_bugs[\"known_before\"] = df_bugs[\"known_before\"].apply(\n",
    "    lambda e: str(e).replace(\"duplicate (different manifestation)\", \"duplicate\")\n",
    ")"
   ]
  },
  {
   "cell_type": "code",
   "execution_count": 15,
   "id": "02ac8be8",
   "metadata": {
    "ExecuteTime": {
     "end_time": "2022-08-28T23:13:52.963665Z",
     "start_time": "2022-08-28T23:13:52.898162Z"
    }
   },
   "outputs": [
    {
     "name": "stdout",
     "output_type": "stream",
     "text": [
      "% RQ2\n",
      "\\newcommand{\\IDQargsNotInThisCircuit}{1}\n",
      "\\newcommand{\\IDTooManySubscriptsInEinsumNumpy}{2}\n",
      "\\newcommand{\\IDGateOrOpaqueCallToSubcircuit}{3}\n",
      "\\newcommand{\\IDDuplicateDeclarationForGateRzx}{4}\n",
      "\\newcommand{\\IDInstructionIdNotFound}{5}\n",
      "\\newcommand{\\IDMismatchBetweenParameterbinds}{6}\n",
      "\\newcommand{\\IDCannotFindGateDefinitionForCsx}{7}\n",
      "\\newcommand{\\IDCannotBindParametersNotPresentInTheCircuit}{8}\n",
      "\\newcommand{\\IDQasmGateDefinitionWithNoOperands}{9}\n",
      "\\newcommand{\\IDCannotFindGateDefinitionForRzx}{10}\n",
      "\\newcommand{\\IDDuplicateDeclarationForGateRyy}{11}\n",
      "\\newcommand{\\IDCannotFindGateDefinitionForUnitary}{12}\n",
      "\\newcommand{\\IDCannotFindGateDefinitionForRcccx}{13}\n",
      "\n",
      "\\begin{tabular}{@{}rlllp{5cm}p{7.3cm}@{}}\n",
      "\\toprule\n",
      " ID & Report &    Status &   Novelty &                                     Crash message &                                                                Metamorphic transformations \\\\\n",
      "\\midrule\n",
      "  1 &  \\#XXXX & confirmed &       new &                         qargs not in this circuit &                                       Change of optimization level, Change of coupling map \\\\\n",
      "  2 &  \\#XXXX & confirmed &       new &             too many subscripts in einsum (numpy) &                                Change of optimization level, Inject null-effect operations \\\\\n",
      "  3 &  \\#XXXX & confirmed &       new &               Gate or opaque call to `subcircuit' &                               Roundtrip conversion via QASM, Inject null-effect operations \\\\\n",
      "  4 &  \\#XXXX & confirmed & duplicate &              Duplicate declaration for gate `rzx' &                                                              Roundtrip conversion via QASM \\\\\n",
      "  5 &  \\#XXXX & confirmed & duplicate &                          Instruction id not found &                                                                         Change of gate set \\\\\n",
      "  6 &  \\#XXXX & confirmed & duplicate &                  Mismatch between parameter\\_binds &                                                                          Inject parameters \\\\\n",
      "  7 &  \\#XXXX & confirmed & duplicate &            Cannot find gate definition for `c3sx' &                                                              Roundtrip conversion via QASM \\\\\n",
      "  8 &  \\#XXXX &     fixed &       new & Cannot bind parameters not present in the circuit &                                                                          Inject parameters \\\\\n",
      "  9 &  \\#XXXX &     fixed &       new &             QASM gate definition with no operands & Change of optimization level, Roundtrip conversion via QASM, Inject null-effect operations \\\\\n",
      " 10 &  \\#XXXX &  reported &         - &             Cannot find gate definition for `rzx' &                               Roundtrip conversion via QASM, Inject null-effect operations \\\\\n",
      " 11 &  \\#XXXX &  reported &         - &              Duplicate declaration for gate `ryy' &                               Roundtrip conversion via QASM, Inject null-effect operations \\\\\n",
      " 12 &  \\#XXXX &  reported &         - &           Cannot find gate definition for unitary & Change of optimization level, Roundtrip conversion via QASM, Inject null-effect operations \\\\\n",
      " 13 &  \\#XXXX &  reported &         - &           Cannot find gate definition for `rcccx' &                               Roundtrip conversion via QASM, Inject null-effect operations \\\\\n",
      "\\bottomrule\n",
      "\\end{tabular}\n",
      "\n"
     ]
    }
   ],
   "source": [
    "pd.set_option('display.max_colwidth', 1000)\n",
    "\n",
    "relevant_columns = col_renaming.keys()\n",
    "df_table = deepcopy(df_bugs)\n",
    "if KEEP_ONLY_CRASHES:\n",
    "    df_table = df_table[df_table[\"manifestation\"] == \"crash\"]\n",
    "if REMOVE_FALSE_POSITIVES:\n",
    "    df_table = df_table[~(df_table[\"status\"] == \"false positive\")]\n",
    "df_table = df_table.drop(columns='index')  \n",
    "\n",
    "def replace_MR_names(transf_str):\n",
    "    new_transf_str = transf_str\n",
    "    for k, v in MR_ALIAS.items():\n",
    "        new_transf_str = new_transf_str.replace(k, v)\n",
    "    return new_transf_str\n",
    "\n",
    "df_table[\"mr_used\"] = df_table[\"mr_used\"].apply(\n",
    "    lambda e: replace_MR_names(transf_str=e)\n",
    ") \n",
    "df_table = df_table.reset_index(drop=True)\n",
    "df_table = df_table.reset_index(drop=False)\n",
    "df_table = df_table[relevant_columns].rename(columns=col_renaming)\n",
    "df_table[\"ID\"] = df_table[\"ID\"].apply(lambda e: int(e) + 1)\n",
    "df_table.head()\n",
    "\n",
    "import string\n",
    "\n",
    "print(\"% RQ2\")\n",
    "for i, row in df_table.iterrows():\n",
    "    msg = row[\"Crash message\"]\n",
    "    msg = msg.translate(str.maketrans('', '', string.punctuation))\n",
    "    msg = ''.join([w.capitalize() for w in msg.lower().split()])\n",
    "    msg = ''.join(ch for ch in msg if ch.isalpha())\n",
    "    if msg != \"\":\n",
    "        print(\"\\\\newcommand{\\\\ID\" + msg + \"}{\" + str(row[\"ID\"]) + \"}\")\n",
    "\n",
    "print(\"\")\n",
    "table_code = df_table.to_latex(\n",
    "    column_format='@{}rlllp{5cm}p{7.3cm}@{}',\n",
    "    index=False)\n",
    "table_code = re.sub(\"\\s'\", \" `\", table_code)\n",
    "print(table_code)"
   ]
  },
  {
   "cell_type": "markdown",
   "id": "8409df8f",
   "metadata": {},
   "source": [
    "# RQ 2: Cluster of MorphQ crashes"
   ]
  },
  {
   "cell_type": "code",
   "execution_count": 16,
   "id": "ac8935ff",
   "metadata": {
    "ExecuteTime": {
     "end_time": "2022-08-28T23:13:53.888102Z",
     "start_time": "2022-08-28T23:13:52.966377Z"
    },
    "scrolled": true
   },
   "outputs": [
    {
     "data": {
      "image/png": "[encoded data removed]",
      "text/plain": [
       "<Figure size 360x216 with 1 Axes>"
      ]
     },
     "metadata": {
      "needs_background": "light"
     },
     "output_type": "display_data"
    }
   ],
   "source": [
    "CLUSTERING_CONFIG = \"cluster_v01\"\n",
    "from lib.inspector import cluster_warnings\n",
    "\n",
    "cluster_config = load_config_and_check(\n",
    "    f\"../config/clustering/{CLUSTERING_CONFIG}.yaml\")\n",
    "\n",
    "df_crash_clustered = cluster_warnings(\n",
    "    df=df_crash_both,\n",
    "    warning_col=\"exceptions.followup\",\n",
    "    cluster_config=cluster_config,  \n",
    ")\n",
    "fig, ax = plt.subplots(figsize=(5, 3))\n",
    "sns.countplot(\n",
    "    data=df_crash_clustered,\n",
    "    y=\"short_desc\",\n",
    "    order=df_crash_clustered[\"short_desc\"].value_counts().index,\n",
    "    ax=ax)\n",
    "ax.set_ylabel(\"Custer-level Warning\\n Representatives\")\n",
    "ax.set_xlabel(\"Number of \\ncrashing programs\")\n",
    "ax.grid(axis='x')\n",
    "ax.set_xscale('log')\n",
    "plt.tight_layout()\n",
    "fig.savefig(os.path.join(OUT_FOLDER, \"warning_manual_clustering_categories.pdf\"))"
   ]
  },
  {
   "cell_type": "markdown",
   "id": "4f51778a",
   "metadata": {},
   "source": [
    "# RQ 3: QDiff vs MorphQ - Coverage"
   ]
  },
  {
   "cell_type": "code",
   "execution_count": 17,
   "id": "c5dca35d",
   "metadata": {
    "ExecuteTime": {
     "end_time": "2022-08-28T23:13:54.169331Z",
     "start_time": "2022-08-28T23:13:53.889735Z"
    }
   },
   "outputs": [
    {
     "data": {
      "image/png": "[encoded data removed]",
      "text/plain": [
       "<Figure size 360x144 with 1 Axes>"
      ]
     },
     "metadata": {
      "needs_background": "light"
     },
     "output_type": "display_data"
    }
   ],
   "source": [
    "fig, ax = plt.subplots(figsize=(5, 2))\n",
    "\n",
    "df_cov_both = pd.concat(df_all_cov, axis=0).reset_index()\n",
    "df_cov_both = df_cov_both.rename(columns={\"approach\": \"Approach\"})\n",
    "df_cov_both[\"Approach\"] = df_cov_both[\"Approach\"].map(\n",
    "    {\"qdiff\": \"QDiff\", \"morphq\": \"MorphQ\"}\n",
    ")\n",
    "\n",
    "\n",
    "sns.lineplot(\n",
    "    data=df_cov_both,\n",
    "    x=\"n_programs\",\n",
    "    y=\"percent_covered\",\n",
    "    hue=\"Approach\"\n",
    ")\n",
    "ax.set_ylabel(\"Cumulative \\n code coverage (%)\")\n",
    "ax.set_xlabel(\"Number of pairs of test programs\")\n",
    "max_val = df_cov_both[\"percent_covered\"].max()\n",
    "ax.set_ylim(0, max_val * 1.15)\n",
    "#ax.set_xscale('log')\n",
    "\n",
    "fig.savefig(os.path.join(OUT_FOLDER, \"coverage_morphq_vs_qdiff.pdf\"))"
   ]
  },
  {
   "cell_type": "code",
   "execution_count": 18,
   "id": "a165f823",
   "metadata": {
    "ExecuteTime": {
     "end_time": "2022-08-28T23:13:54.219517Z",
     "start_time": "2022-08-28T23:13:54.171361Z"
    }
   },
   "outputs": [
    {
     "name": "stdout",
     "output_type": "stream",
     "text": [
      "\\newcommand{\\coverageQDiff}{6.12}\n",
      "\\newcommand{\\coverageMorphQ}{8.10}\n"
     ]
    }
   ],
   "source": [
    "coverage_qdiff = df_cov_both[df_cov_both[\"Approach\"] == \"QDiff\"][\"percent_covered\"].max()\n",
    "coverage_morphq = df_cov_both[df_cov_both[\"Approach\"] == \"MorphQ\"][\"percent_covered\"].max()\n",
    "print(\"\\\\newcommand{\\\\coverageQDiff}{\"+f\"{coverage_qdiff:,.2f}\"+\"}\")\n",
    "print(\"\\\\newcommand{\\\\coverageMorphQ}{\"+f\"{coverage_morphq:,.2f}\"+\"}\")"
   ]
  },
  {
   "cell_type": "markdown",
   "id": "ac0ecc8e",
   "metadata": {},
   "source": [
    "# RQ 3: QDiff vs MorphQ - No. Warnings"
   ]
  },
  {
   "cell_type": "code",
   "execution_count": 19,
   "id": "86e7ab55",
   "metadata": {
    "ExecuteTime": {
     "end_time": "2022-08-28T23:13:55.515962Z",
     "start_time": "2022-08-28T23:13:55.343990Z"
    }
   },
   "outputs": [
    {
     "name": "stdout",
     "output_type": "stream",
     "text": [
      "QDiff brings no crash...\n",
      "% comparison with qdiff\n",
      "\\newcommand{\\totalCrashesMorphQ}{1,943}\n",
      "\\newcommand{\\totalCrashesQDiff}{0}\n"
     ]
    },
    {
     "data": {
      "image/png": "[encoded data removed]",
      "text/plain": [
       "<Figure size 360x72 with 1 Axes>"
      ]
     },
     "metadata": {
      "needs_background": "light"
     },
     "output_type": "display_data"
    }
   ],
   "source": [
    "fig, ax = plt.subplots(figsize=(5, 1))\n",
    "sns.countplot(\n",
    "    data=df_crash_both,\n",
    "    y=\"approach\",\n",
    "    ax=ax\n",
    ")\n",
    "ax.set_yticks(range(2))\n",
    "ax.set_yticklabels(labels=[\"MorphQ\", \"QDiff\"])\n",
    "\n",
    "ax.set_ylim(-.5, 1.5)\n",
    "ax.set_ylabel(\"Approach\")\n",
    "ax.set_xlabel(\"Number of crashes\")\n",
    "print(\"QDiff brings no crash...\")\n",
    "\n",
    "print(\"% comparison with qdiff\")\n",
    "\n",
    "total_crashes_morphq = len(df_crash_both[\n",
    "    df_crash_both[\"approach\"] == \"morphq\"\n",
    "])\n",
    "total_crashes_qdiff = len(df_crash_both[\n",
    "    df_crash_both[\"approach\"] == \"qdiff\"\n",
    "])\n",
    "\n",
    "print(\"\\\\newcommand{\\\\totalCrashesMorphQ}{\"+f\"{total_crashes_morphq:,.0f}\"+\"}\")\n",
    "print(\"\\\\newcommand{\\\\totalCrashesQDiff}{\"+f\"{total_crashes_qdiff:,.0f}\"+\"}\")"
   ]
  },
  {
   "cell_type": "markdown",
   "id": "799a9c3f",
   "metadata": {},
   "source": [
    "# RQ3: QDiff vs MorphQ - Distrib. Differences\n",
    "Here we sample 10 distribution differences and re-run them to see if they are indeed reproducible differences:"
   ]
  },
  {
   "cell_type": "code",
   "execution_count": 20,
   "id": "d97a3546",
   "metadata": {
    "ExecuteTime": {
     "end_time": "2022-08-28T23:13:57.265444Z",
     "start_time": "2022-08-28T23:13:57.210940Z"
    }
   },
   "outputs": [],
   "source": [
    "N_SAMPLES = 10\n",
    "SEED = 42\n",
    "\n",
    "import random "
   ]
  },
  {
   "cell_type": "code",
   "execution_count": 21,
   "id": "31edec22",
   "metadata": {
    "ExecuteTime": {
     "end_time": "2022-08-28T23:14:00.861023Z",
     "start_time": "2022-08-28T23:14:00.796056Z"
    }
   },
   "outputs": [
    {
     "data": {
      "text/plain": [
       "['4e2c75f436a045de8bcfcb20db627729',\n",
       " '80472ff708d644e4870efc056774d504',\n",
       " '3f32fef5fff64c3f847d82bf5934cc96',\n",
       " '762abc522d814b5c8a3d630c059b4b88',\n",
       " '321aaf0684564b45814ab7f9ac0c102b',\n",
       " 'e76d8a77cf08448897d6a379d04ef87a',\n",
       " 'a780362b85a2432da39c29d9eca28f3c',\n",
       " '1cf1b0ffd6904ed8846dae90815ed272',\n",
       " '326182b82fdd45bda0659fb85d2b615c',\n",
       " 'd79c6fd4a4b44424866432706d2afb4c']"
      ]
     },
     "execution_count": 21,
     "metadata": {},
     "output_type": "execute_result"
    }
   ],
   "source": [
    "random.seed(SEED)\n",
    "df_qdiff_divergences = df_qdiff[\n",
    "    (df_qdiff[PVAL_COL] < ALPHA_LEVEL) & \n",
    "    (df_qdiff[\"exceptions.followup\"].isnull())\n",
    "]\n",
    "qdiff_samples = list(df_qdiff_divergences.sample(N_SAMPLES)[\"program_id\"])\n",
    "qdiff_samples"
   ]
  },
  {
   "cell_type": "code",
   "execution_count": 22,
   "id": "bb174e61",
   "metadata": {
    "ExecuteTime": {
     "end_time": "2022-08-28T23:14:15.380021Z",
     "start_time": "2022-08-28T23:14:15.324926Z"
    }
   },
   "outputs": [
    {
     "data": {
      "text/plain": [
       "['2f862d6f89f1403e8ede98fd03148efe',\n",
       " 'b7d91777657c4f1d98fa8f290c939b05',\n",
       " 'd15155ee3e0248e69ab780002d84a81b',\n",
       " '8c470493d3394294902da4fdfb24121b',\n",
       " '10fc0cfeb1f546b8bf63f28cea1a567d',\n",
       " '73213b9fecdb4eeab8ed665739cc823f',\n",
       " 'ee23239ef92643d7b1e07ac94f55867f',\n",
       " '5f5494a1f3714f9197e038fca267c73c',\n",
       " 'baa269a2d8614740a19f4203c18cdbce',\n",
       " '1400631aa1af46f9922bbbfaf2991eaa']"
      ]
     },
     "execution_count": 22,
     "metadata": {},
     "output_type": "execute_result"
    }
   ],
   "source": [
    "random.seed(SEED)\n",
    "df_morphq_divergences = df_morphq[\n",
    "    (df_morphq[PVAL_COL] < ALPHA_LEVEL) & \n",
    "    (df_morphq[\"exceptions.followup\"].isnull())\n",
    "]\n",
    "morphq_samples = list(df_morphq_divergences.sample(N_SAMPLES)[\"program_id\"])\n",
    "morphq_samples"
   ]
  },
  {
   "cell_type": "code",
   "execution_count": 23,
   "id": "917ebbe3",
   "metadata": {
    "ExecuteTime": {
     "end_time": "2022-08-28T23:14:17.008399Z",
     "start_time": "2022-08-28T23:14:16.955302Z"
    }
   },
   "outputs": [],
   "source": [
    "from lib.inspector import copy_bug\n",
    "\n",
    "MOVE_DATA = False\n",
    "\n",
    "if MOVE_DATA:\n",
    "    for program_id in qdiff_samples:\n",
    "        copy_bug(\n",
    "            experiment_folder=EXP_FOLDERS_QDIFF[0],\n",
    "            program_id=program_id,\n",
    "            root_data_folder=\"../data\",\n",
    "            root_bug_folder=\"../warnings/sample_distribution_differences/qdiff\"\n",
    "        )\n",
    "        \n",
    "    for program_id in morphq_samples:\n",
    "        copy_bug(\n",
    "            experiment_folder=EXP_FOLDERS_MORPHQ[0],\n",
    "            program_id=program_id,\n",
    "            root_data_folder=\"../data\",\n",
    "            root_bug_folder=\"../warnings/sample_distribution_differences/morphq\"\n",
    "        )"
   ]
  },
  {
   "cell_type": "markdown",
   "id": "038b7215",
   "metadata": {},
   "source": [
    "# RQ 4: Contribution of MR to warnings"
   ]
  },
  {
   "cell_type": "code",
   "execution_count": 24,
   "id": "1c6769fb",
   "metadata": {
    "ExecuteTime": {
     "end_time": "2022-08-28T23:14:32.209800Z",
     "start_time": "2022-08-28T23:14:31.312144Z"
    }
   },
   "outputs": [
    {
     "name": "stderr",
     "output_type": "stream",
     "text": [
      "/home/XXXX-1/.conda/envs/ML4Quantum/lib/python3.8/site-packages/pandas/core/indexing.py:1773: SettingWithCopyWarning: \n",
      "A value is trying to be set on a copy of a slice from a DataFrame.\n",
      "Try using .loc[row_indexer,col_indexer] = value instead\n",
      "\n",
      "See the caveats in the documentation: https://pandas.pydata.org/pandas-docs/stable/user_guide/indexing.html#returning-a-view-versus-a-copy\n",
      "  self._setitem_single_column(ilocs[0], value, pi)\n"
     ]
    },
    {
     "data": {
      "text/html": [
       "<div>\n",
       "<style scoped>\n",
       "    .dataframe tbody tr th:only-of-type {\n",
       "        vertical-align: middle;\n",
       "    }\n",
       "\n",
       "    .dataframe tbody tr th {\n",
       "        vertical-align: top;\n",
       "    }\n",
       "\n",
       "    .dataframe thead th {\n",
       "        text-align: right;\n",
       "    }\n",
       "</style>\n",
       "<table border=\"1\" class=\"dataframe\">\n",
       "  <thead>\n",
       "    <tr style=\"text-align: right;\">\n",
       "      <th></th>\n",
       "      <th>program_id</th>\n",
       "      <th>generated_a_crash</th>\n",
       "      <th>exceptions.followup</th>\n",
       "      <th>approach</th>\n",
       "      <th>followup.metamorphic_transformations</th>\n",
       "      <th>divergence.ks.p-value</th>\n",
       "    </tr>\n",
       "  </thead>\n",
       "  <tbody>\n",
       "    <tr>\n",
       "      <th>0</th>\n",
       "      <td>de0ee59448bd4b9a932b2b2a857a7730</td>\n",
       "      <td>False</td>\n",
       "      <td>None</td>\n",
       "      <td>qdiff</td>\n",
       "      <td>QdiffG7CCNOTDecomposition</td>\n",
       "      <td>0.784342</td>\n",
       "    </tr>\n",
       "    <tr>\n",
       "      <th>0</th>\n",
       "      <td>de0ee59448bd4b9a932b2b2a857a7730</td>\n",
       "      <td>False</td>\n",
       "      <td>None</td>\n",
       "      <td>qdiff</td>\n",
       "      <td>ChangeBackend</td>\n",
       "      <td>0.784342</td>\n",
       "    </tr>\n",
       "    <tr>\n",
       "      <th>1</th>\n",
       "      <td>1757fe997e6a481faa97339263b8ae0e</td>\n",
       "      <td>False</td>\n",
       "      <td>None</td>\n",
       "      <td>qdiff</td>\n",
       "      <td>ChangeOptLevel</td>\n",
       "      <td>1.000000</td>\n",
       "    </tr>\n",
       "    <tr>\n",
       "      <th>1</th>\n",
       "      <td>1757fe997e6a481faa97339263b8ae0e</td>\n",
       "      <td>False</td>\n",
       "      <td>None</td>\n",
       "      <td>qdiff</td>\n",
       "      <td>QdiffG7CCNOTDecomposition</td>\n",
       "      <td>1.000000</td>\n",
       "    </tr>\n",
       "    <tr>\n",
       "      <th>2</th>\n",
       "      <td>6eab42b8266a4777b7d2ba54bb4ef6de</td>\n",
       "      <td>False</td>\n",
       "      <td>None</td>\n",
       "      <td>qdiff</td>\n",
       "      <td>QdiffG7CCNOTDecomposition</td>\n",
       "      <td>0.943916</td>\n",
       "    </tr>\n",
       "  </tbody>\n",
       "</table>\n",
       "</div>"
      ],
      "text/plain": [
       "                         program_id  generated_a_crash exceptions.followup  \\\n",
       "0  de0ee59448bd4b9a932b2b2a857a7730              False                None   \n",
       "0  de0ee59448bd4b9a932b2b2a857a7730              False                None   \n",
       "1  1757fe997e6a481faa97339263b8ae0e              False                None   \n",
       "1  1757fe997e6a481faa97339263b8ae0e              False                None   \n",
       "2  6eab42b8266a4777b7d2ba54bb4ef6de              False                None   \n",
       "\n",
       "  approach followup.metamorphic_transformations  divergence.ks.p-value  \n",
       "0    qdiff            QdiffG7CCNOTDecomposition               0.784342  \n",
       "0    qdiff                        ChangeBackend               0.784342  \n",
       "1    qdiff                       ChangeOptLevel               1.000000  \n",
       "1    qdiff            QdiffG7CCNOTDecomposition               1.000000  \n",
       "2    qdiff            QdiffG7CCNOTDecomposition               0.943916  "
      ]
     },
     "execution_count": 24,
     "metadata": {},
     "output_type": "execute_result"
    }
   ],
   "source": [
    "import ast\n",
    "\n",
    "relevant_columns = [\n",
    "    \"program_id\",\n",
    "    \"generated_a_crash\",\n",
    "    \"exceptions.followup\",\n",
    "    \"approach\",\n",
    "    COL_TRANSF,\n",
    "    PVAL_COL\n",
    "]\n",
    "df = df_generated_programs_both[relevant_columns]\n",
    "df.loc[:, COL_TRANSF] = df[COL_TRANSF].apply(ast.literal_eval)\n",
    "df.loc[:, COL_TRANSF] = df[COL_TRANSF].apply(lambda e: list(set(e)))\n",
    "df_flat = df.explode(COL_TRANSF)\n",
    "df_flat.head()"
   ]
  },
  {
   "cell_type": "code",
   "execution_count": 25,
   "id": "8baa3cfa",
   "metadata": {
    "ExecuteTime": {
     "end_time": "2022-08-28T23:14:34.659532Z",
     "start_time": "2022-08-28T23:14:33.284521Z"
    }
   },
   "outputs": [],
   "source": [
    "def assign_class(row):\n",
    "    if row[\"generated_a_crash\"]:\n",
    "        return \"Crash diff.\"\n",
    "    else:\n",
    "        if row[PVAL_COL] < ALPHA_LEVEL:\n",
    "            return \"Distrib. diff.\"\n",
    "    return \"Same\"\n",
    "\n",
    "def assign_class_short(row):\n",
    "    if row[\"generated_a_crash\"]:\n",
    "        return \"C\"\n",
    "    else:\n",
    "        if row[PVAL_COL] < ALPHA_LEVEL:\n",
    "            return \"D\"\n",
    "    return \"S\"\n",
    "\n",
    "\n",
    "df_flat[\"Execution comparison\"] = df_flat.apply(\n",
    "    lambda row: assign_class(row),\n",
    "    #lambda row: assign_class_short(row),\n",
    "    axis=1\n",
    ")\n",
    "\n",
    "df_flat[COL_TRANSF] = df_flat[COL_TRANSF].apply(\n",
    "    lambda e: MR_ALIAS[e] if e in MR_ALIAS.keys() else e\n",
    ")"
   ]
  },
  {
   "cell_type": "markdown",
   "id": "4e4d81b1",
   "metadata": {},
   "source": [
    "## RQ 4.A: % of crashing programs withtransf A?"
   ]
  },
  {
   "cell_type": "code",
   "execution_count": 26,
   "id": "7fe02206",
   "metadata": {
    "ExecuteTime": {
     "end_time": "2022-08-28T23:14:35.299732Z",
     "start_time": "2022-08-28T23:14:35.243375Z"
    }
   },
   "outputs": [
    {
     "data": {
      "text/html": [
       "<div>\n",
       "<style scoped>\n",
       "    .dataframe tbody tr th:only-of-type {\n",
       "        vertical-align: middle;\n",
       "    }\n",
       "\n",
       "    .dataframe tbody tr th {\n",
       "        vertical-align: top;\n",
       "    }\n",
       "\n",
       "    .dataframe thead th {\n",
       "        text-align: right;\n",
       "    }\n",
       "</style>\n",
       "<table border=\"1\" class=\"dataframe\">\n",
       "  <thead>\n",
       "    <tr style=\"text-align: right;\">\n",
       "      <th></th>\n",
       "      <th>program_id</th>\n",
       "      <th>generated_a_crash</th>\n",
       "      <th>exceptions.followup</th>\n",
       "      <th>approach</th>\n",
       "      <th>followup.metamorphic_transformations</th>\n",
       "      <th>divergence.ks.p-value</th>\n",
       "      <th>Execution comparison</th>\n",
       "    </tr>\n",
       "  </thead>\n",
       "  <tbody>\n",
       "    <tr>\n",
       "      <th>0</th>\n",
       "      <td>de0ee59448bd4b9a932b2b2a857a7730</td>\n",
       "      <td>False</td>\n",
       "      <td>None</td>\n",
       "      <td>qdiff</td>\n",
       "      <td>QdiffG7CCNOTDecomposition</td>\n",
       "      <td>0.784342</td>\n",
       "      <td>Same</td>\n",
       "    </tr>\n",
       "    <tr>\n",
       "      <th>0</th>\n",
       "      <td>de0ee59448bd4b9a932b2b2a857a7730</td>\n",
       "      <td>False</td>\n",
       "      <td>None</td>\n",
       "      <td>qdiff</td>\n",
       "      <td>Change of backend</td>\n",
       "      <td>0.784342</td>\n",
       "      <td>Same</td>\n",
       "    </tr>\n",
       "    <tr>\n",
       "      <th>1</th>\n",
       "      <td>1757fe997e6a481faa97339263b8ae0e</td>\n",
       "      <td>False</td>\n",
       "      <td>None</td>\n",
       "      <td>qdiff</td>\n",
       "      <td>Change of optimization level</td>\n",
       "      <td>1.000000</td>\n",
       "      <td>Same</td>\n",
       "    </tr>\n",
       "    <tr>\n",
       "      <th>1</th>\n",
       "      <td>1757fe997e6a481faa97339263b8ae0e</td>\n",
       "      <td>False</td>\n",
       "      <td>None</td>\n",
       "      <td>qdiff</td>\n",
       "      <td>QdiffG7CCNOTDecomposition</td>\n",
       "      <td>1.000000</td>\n",
       "      <td>Same</td>\n",
       "    </tr>\n",
       "    <tr>\n",
       "      <th>2</th>\n",
       "      <td>6eab42b8266a4777b7d2ba54bb4ef6de</td>\n",
       "      <td>False</td>\n",
       "      <td>None</td>\n",
       "      <td>qdiff</td>\n",
       "      <td>QdiffG7CCNOTDecomposition</td>\n",
       "      <td>0.943916</td>\n",
       "      <td>Same</td>\n",
       "    </tr>\n",
       "  </tbody>\n",
       "</table>\n",
       "</div>"
      ],
      "text/plain": [
       "                         program_id  generated_a_crash exceptions.followup  \\\n",
       "0  de0ee59448bd4b9a932b2b2a857a7730              False                None   \n",
       "0  de0ee59448bd4b9a932b2b2a857a7730              False                None   \n",
       "1  1757fe997e6a481faa97339263b8ae0e              False                None   \n",
       "1  1757fe997e6a481faa97339263b8ae0e              False                None   \n",
       "2  6eab42b8266a4777b7d2ba54bb4ef6de              False                None   \n",
       "\n",
       "  approach followup.metamorphic_transformations  divergence.ks.p-value  \\\n",
       "0    qdiff            QdiffG7CCNOTDecomposition               0.784342   \n",
       "0    qdiff                    Change of backend               0.784342   \n",
       "1    qdiff         Change of optimization level               1.000000   \n",
       "1    qdiff            QdiffG7CCNOTDecomposition               1.000000   \n",
       "2    qdiff            QdiffG7CCNOTDecomposition               0.943916   \n",
       "\n",
       "  Execution comparison  \n",
       "0                 Same  \n",
       "0                 Same  \n",
       "1                 Same  \n",
       "1                 Same  \n",
       "2                 Same  "
      ]
     },
     "execution_count": 26,
     "metadata": {},
     "output_type": "execute_result"
    }
   ],
   "source": [
    "df_flat.head()"
   ]
  },
  {
   "cell_type": "code",
   "execution_count": 27,
   "id": "f91f2c06",
   "metadata": {
    "ExecuteTime": {
     "end_time": "2022-08-28T23:14:36.052945Z",
     "start_time": "2022-08-28T23:14:35.939941Z"
    }
   },
   "outputs": [
    {
     "name": "stdout",
     "output_type": "stream",
     "text": [
      "Change of gate set: 42.22873900293255 %\n",
      "Roundtrip conversion via QASM: 68.13186813186813 %\n",
      "Change of backend: 24.025627335824883 %\n",
      "Change of coupling map: 21.53752287980476 %\n",
      "Change of optimization level: 21.529284164859003 %\n",
      "Change of qubit order: 4.549632352941177 %\n",
      "Partitioned execution: 0.0 %\n",
      "Inject null-effect operations: 33.51092168353756 %\n",
      "Add quantum register: 24.814814814814813 %\n",
      "Inject parameters: 44.73684210526316 %\n"
     ]
    }
   ],
   "source": [
    "map_mr_crash_perc = {}\n",
    "\n",
    "df_morphq_flat = df_flat[df_flat[\"approach\"] == \"morphq\"]\n",
    "\n",
    "for mr_name in MR_ALIAS.values():\n",
    "    df = df_morphq_flat\n",
    "    df_c_mr = df[df[\"followup.metamorphic_transformations\"] == mr_name]\n",
    "    n_all_program_id = len(df_c_mr[\"program_id\"].unique())    \n",
    "    n_crashing_program_ids = len(df_c_mr[\n",
    "        df_c_mr[\"Execution comparison\"] == \"Crash diff.\"\n",
    "    ][\"program_id\"].unique())\n",
    "    if n_all_program_id > 0 :\n",
    "        perc_c_mr = (float(n_crashing_program_ids) / n_all_program_id) * 100\n",
    "        print(f\"{mr_name}: {perc_c_mr} %\")\n",
    "        map_mr_crash_perc[mr_name] = perc_c_mr\n",
    "        \n"
   ]
  },
  {
   "cell_type": "code",
   "execution_count": 28,
   "id": "fc2a25dc",
   "metadata": {
    "ExecuteTime": {
     "end_time": "2022-08-28T23:14:39.566777Z",
     "start_time": "2022-08-28T23:14:39.242538Z"
    },
    "scrolled": true
   },
   "outputs": [
    {
     "data": {
      "image/png": "[encoded data removed]",
      "text/plain": [
       "<Figure size 360x216 with 1 Axes>"
      ]
     },
     "metadata": {
      "needs_background": "light"
     },
     "output_type": "display_data"
    }
   ],
   "source": [
    "labels, perc = zip(*[\n",
    "    (k, v) \n",
    "    for k, v in sorted(map_mr_crash_perc.items(), key=lambda item: item[1])])\n",
    "fig, ax = plt.subplots(figsize=(5, 3))\n",
    "\n",
    "ax.barh(\n",
    "    width=perc,\n",
    "    y=range(len(map_mr_crash_perc)),\n",
    "    tick_label=labels\n",
    ")\n",
    "ax.grid(axis='x')\n",
    "ax.set_xlim(0, 100)\n",
    "ax.set_xlabel(\"% of crashing programs containing\\nthe transformation at least once\")\n",
    "ax.set_ylabel(\"Metamorphic Transformation\")\n",
    "plt.tight_layout()\n",
    "\n",
    "fig.savefig(os.path.join(OUT_FOLDER, \"contribution_of_mr_perc_crashes.pdf\"))"
   ]
  },
  {
   "cell_type": "markdown",
   "id": "ac176657",
   "metadata": {},
   "source": [
    "## RQ 4.B: how many program with transf A crash, diverge, same?"
   ]
  },
  {
   "cell_type": "code",
   "execution_count": 29,
   "id": "ddd0ab4b",
   "metadata": {
    "ExecuteTime": {
     "end_time": "2022-08-28T23:14:47.571015Z",
     "start_time": "2022-08-28T23:14:47.177645Z"
    }
   },
   "outputs": [
    {
     "data": {
      "image/png": "[encoded data removed]",
      "text/plain": [
       "<Figure size 360x216 with 1 Axes>"
      ]
     },
     "metadata": {
      "needs_background": "light"
     },
     "output_type": "display_data"
    }
   ],
   "source": [
    "fig, ax = plt.subplots(figsize=(5, 3))\n",
    "sns.countplot(\n",
    "    data=df_flat,\n",
    "    y=COL_TRANSF,\n",
    "    order=df_flat[df_flat['Execution comparison'] == \"Crash diff.\"][COL_TRANSF].value_counts(ascending=True).index,\n",
    "    hue_order = [\"Same\", \"Crash diff.\", \"Distrib. diff.\"],\n",
    "    #order=df_flat[df_flat['Execution comparison'] == \"C\"][COL_TRANSF].value_counts(ascending=True).index,\n",
    "    #hue_order = [\"S\", \"C\", \"D\"],\n",
    "    hue='Execution comparison',\n",
    "    #palette=[\"darkorange\", \"forestgreen\", \"dodgerblue\"],\n",
    "    ax=ax\n",
    ")\n",
    "ax.set_xlabel(\"No. program pairs\")\n",
    "ax.set_ylabel(\"Metamorphic transformation\")\n",
    "ax.legend(title=\"Pair behavior\")\n",
    "plt.tight_layout()\n",
    "#fig.savefig(os.path.join(OUT_FOLDER, \"RQ3_quantitative_most_crashing_MR_medium.pdf\"))"
   ]
  },
  {
   "cell_type": "markdown",
   "id": "ffb0fde7",
   "metadata": {},
   "source": [
    "## RQ 4: contrib. to crashes vs no. MR applied"
   ]
  },
  {
   "cell_type": "code",
   "execution_count": 30,
   "id": "8e1ae540",
   "metadata": {
    "ExecuteTime": {
     "end_time": "2022-08-28T23:14:51.787584Z",
     "start_time": "2022-08-28T23:14:51.484115Z"
    }
   },
   "outputs": [
    {
     "name": "stderr",
     "output_type": "stream",
     "text": [
      "/tmp/ipykernel_4430/1936597909.py:5: SettingWithCopyWarning: \n",
      "A value is trying to be set on a copy of a slice from a DataFrame.\n",
      "Try using .loc[row_indexer,col_indexer] = value instead\n",
      "\n",
      "See the caveats in the documentation: https://pandas.pydata.org/pandas-docs/stable/user_guide/indexing.html#returning-a-view-versus-a-copy\n",
      "  df_generated_programs_morphq_w_no_MR[\"ast_list_MR\"] = \\\n",
      "/tmp/ipykernel_4430/1936597909.py:7: SettingWithCopyWarning: \n",
      "A value is trying to be set on a copy of a slice from a DataFrame.\n",
      "Try using .loc[row_indexer,col_indexer] = value instead\n",
      "\n",
      "See the caveats in the documentation: https://pandas.pydata.org/pandas-docs/stable/user_guide/indexing.html#returning-a-view-versus-a-copy\n",
      "  df_generated_programs_morphq_w_no_MR[\"no_MR_applied\"] = \\\n"
     ]
    }
   ],
   "source": [
    "df = df_generated_programs_both.copy()\n",
    "\n",
    "df_generated_programs_morphq_w_no_MR = df[df[\"approach\"] == \"morphq\"]\n",
    "\n",
    "df_generated_programs_morphq_w_no_MR[\"ast_list_MR\"] = \\\n",
    "    df_generated_programs_morphq_w_no_MR[COL_TRANSF].apply(ast.literal_eval)\n",
    "df_generated_programs_morphq_w_no_MR[\"no_MR_applied\"] = \\\n",
    "    df_generated_programs_morphq_w_no_MR[\"ast_list_MR\"].apply(lambda e: len(list(e)))\n",
    "\n",
    "df_generated_programs_morphq_w_no_MR = df_generated_programs_morphq_w_no_MR.reset_index(drop=True)"
   ]
  },
  {
   "cell_type": "code",
   "execution_count": 31,
   "id": "30691c9e",
   "metadata": {
    "ExecuteTime": {
     "end_time": "2022-08-28T23:14:52.328740Z",
     "start_time": "2022-08-28T23:14:52.276466Z"
    }
   },
   "outputs": [
    {
     "data": {
      "text/html": [
       "<div>\n",
       "<style scoped>\n",
       "    .dataframe tbody tr th:only-of-type {\n",
       "        vertical-align: middle;\n",
       "    }\n",
       "\n",
       "    .dataframe tbody tr th {\n",
       "        vertical-align: top;\n",
       "    }\n",
       "\n",
       "    .dataframe thead th {\n",
       "        text-align: right;\n",
       "    }\n",
       "</style>\n",
       "<table border=\"1\" class=\"dataframe\">\n",
       "  <thead>\n",
       "    <tr style=\"text-align: right;\">\n",
       "      <th></th>\n",
       "      <th>program_id</th>\n",
       "      <th>no_MR_applied</th>\n",
       "    </tr>\n",
       "  </thead>\n",
       "  <tbody>\n",
       "    <tr>\n",
       "      <th>0</th>\n",
       "      <td>a50d299f13be4450b764101ea975f97f</td>\n",
       "      <td>1</td>\n",
       "    </tr>\n",
       "    <tr>\n",
       "      <th>1</th>\n",
       "      <td>0c086e8fb2f94bf88bc501f8f9cec6a0</td>\n",
       "      <td>3</td>\n",
       "    </tr>\n",
       "    <tr>\n",
       "      <th>2</th>\n",
       "      <td>40fe5887f8c54cc482f0eb0ed91fd954</td>\n",
       "      <td>1</td>\n",
       "    </tr>\n",
       "    <tr>\n",
       "      <th>3</th>\n",
       "      <td>a1e50e3d53c14b1d8eed1528e4ba2a18</td>\n",
       "      <td>1</td>\n",
       "    </tr>\n",
       "    <tr>\n",
       "      <th>4</th>\n",
       "      <td>7fad98983e1e41dabea009f02c4ed5b1</td>\n",
       "      <td>1</td>\n",
       "    </tr>\n",
       "  </tbody>\n",
       "</table>\n",
       "</div>"
      ],
      "text/plain": [
       "                         program_id  no_MR_applied\n",
       "0  a50d299f13be4450b764101ea975f97f              1\n",
       "1  0c086e8fb2f94bf88bc501f8f9cec6a0              3\n",
       "2  40fe5887f8c54cc482f0eb0ed91fd954              1\n",
       "3  a1e50e3d53c14b1d8eed1528e4ba2a18              1\n",
       "4  7fad98983e1e41dabea009f02c4ed5b1              1"
      ]
     },
     "execution_count": 31,
     "metadata": {},
     "output_type": "execute_result"
    }
   ],
   "source": [
    "df_generated_programs_morphq_w_no_MR[[\"program_id\", \"no_MR_applied\"]].head()"
   ]
  },
  {
   "cell_type": "code",
   "execution_count": 32,
   "id": "7fcaee7d",
   "metadata": {
    "ExecuteTime": {
     "end_time": "2022-08-28T23:14:53.197116Z",
     "start_time": "2022-08-28T23:14:53.082144Z"
    }
   },
   "outputs": [
    {
     "data": {
      "text/plain": [
       "Index(['level_0', 'index', 'program_id', 'time_exec', 'abs_start_time',\n",
       "       'source.program_id', 'source.selected_gate_set',\n",
       "       'source.selected_optimization', 'source.shots', 'source.n_qubits',\n",
       "       'source.n_ops', 'source.opt_level', 'source.target_gates',\n",
       "       'source.py_file_path', 'source.time_generation', 'source.circuit_id',\n",
       "       'source.id_quantum_reg', 'source.id_classical_reg', 'source.gate_set',\n",
       "       'source.gates_in_circuit', 'followup.program_id',\n",
       "       'followup.selected_gate_set', 'followup.selected_optimization',\n",
       "       'followup.shots', 'followup.n_qubits', 'followup.n_ops',\n",
       "       'followup.opt_level', 'followup.target_gates', 'followup.py_file_path',\n",
       "       'followup.time_generation', 'followup.circuit_id',\n",
       "       'followup.id_quantum_reg', 'followup.id_classical_reg',\n",
       "       'followup.gate_set', 'followup.gates_in_circuit',\n",
       "       'followup.metamorphic_transformations', 'followup.time_metamorph',\n",
       "       'followup.metamorphic_transformations_times', 'divergence.ks.statistic',\n",
       "       'divergence.ks.p-value', 'divergence.ks.time', 'exceptions.source',\n",
       "       'exceptions.followup', 'experiment_name', 'approach',\n",
       "       'generated_a_crash'],\n",
       "      dtype='object')"
      ]
     },
     "execution_count": 32,
     "metadata": {},
     "output_type": "execute_result"
    }
   ],
   "source": [
    "df = df_generated_programs_both.copy()\n",
    "\n",
    "df_generated_programs_morphq = df[df[\"approach\"] == \"morphq\"]\n",
    "df_generated_programs_morphq.keys()\n"
   ]
  },
  {
   "cell_type": "code",
   "execution_count": 33,
   "id": "9e524012",
   "metadata": {
    "ExecuteTime": {
     "end_time": "2022-08-28T23:15:02.006857Z",
     "start_time": "2022-08-28T23:14:54.409501Z"
    }
   },
   "outputs": [
    {
     "data": {
      "image/png": "[encoded data removed]",
      "text/plain": [
       "<Figure size 360x216 with 2 Axes>"
      ]
     },
     "metadata": {
      "needs_background": "light"
     },
     "output_type": "display_data"
    }
   ],
   "source": [
    "# creates figures with 1:4 width ratio, grid 1x2\n",
    "fig, axes = plt.subplots(\n",
    "    nrows=1, ncols=2, gridspec_kw={'width_ratios': [3, 1]}, figsize=(5, 3))\n",
    "\n",
    "ax_mr = axes[1]\n",
    "ax_bits_vs_ops = axes[0]\n",
    "\n",
    "sns.countplot(\n",
    "    data=df_generated_programs_morphq_w_no_MR,\n",
    "    x=\"no_MR_applied\",\n",
    "    color='dodgerblue',\n",
    "    ax=ax_mr\n",
    ")\n",
    "ax_mr.set_xlabel(\"No. Transf. Applied\")\n",
    "\n",
    "\n",
    "sns.scatterplot(\n",
    "    data=df_generated_programs_morphq,\n",
    "    x='source.n_ops',\n",
    "    y='source.n_qubits',\n",
    "    ax=ax_bits_vs_ops\n",
    ")\n",
    "sns.kdeplot(\n",
    "    data=df_generated_programs_morphq,\n",
    "    x='source.n_ops',\n",
    "    y='source.n_qubits',\n",
    "    levels=5,\n",
    "    fill=True,\n",
    "    alpha=0.6,\n",
    "    cut=2,\n",
    "    ax=ax_bits_vs_ops,\n",
    ")\n",
    "\n",
    "ax_bits_vs_ops.set_ylabel(\"No. Qubits\")\n",
    "ax_bits_vs_ops.set_xlabel(\"No. Gates\")\n",
    "plt.tight_layout()\n",
    "fig.savefig(os.path.join(OUT_FOLDER, \"dataset_stats.pdf\"), bbox_inches = 'tight')\n"
   ]
  },
  {
   "cell_type": "code",
   "execution_count": 34,
   "id": "72136654",
   "metadata": {
    "ExecuteTime": {
     "end_time": "2022-08-28T23:15:02.082210Z",
     "start_time": "2022-08-28T23:15:02.008537Z"
    }
   },
   "outputs": [],
   "source": [
    "# save a list of all programs in the four categories\n",
    "\n",
    "map_no_MR_to_prog_ids = {}\n",
    "\n",
    "for i in range(1, 5):\n",
    "    programs_with_i_MR = df_generated_programs_morphq_w_no_MR[\n",
    "        df_generated_programs_morphq_w_no_MR[\"no_MR_applied\"] == i\n",
    "    ][\"program_id\"].unique()\n",
    "    map_no_MR_to_prog_ids[i] = list(programs_with_i_MR)"
   ]
  },
  {
   "cell_type": "code",
   "execution_count": 35,
   "id": "307b3b03",
   "metadata": {
    "ExecuteTime": {
     "end_time": "2022-08-28T23:15:02.124377Z",
     "start_time": "2022-08-28T23:15:02.083793Z"
    }
   },
   "outputs": [
    {
     "data": {
      "text/plain": [
       "['a50d299f13be4450b764101ea975f97f',\n",
       " '40fe5887f8c54cc482f0eb0ed91fd954',\n",
       " 'a1e50e3d53c14b1d8eed1528e4ba2a18',\n",
       " '7fad98983e1e41dabea009f02c4ed5b1',\n",
       " 'b9ef06f9f1bd4ec7a7da1643dc82dd17']"
      ]
     },
     "execution_count": 35,
     "metadata": {},
     "output_type": "execute_result"
    }
   ],
   "source": [
    "map_no_MR_to_prog_ids[1][:5]"
   ]
  },
  {
   "cell_type": "code",
   "execution_count": 36,
   "id": "868ce849",
   "metadata": {
    "ExecuteTime": {
     "end_time": "2022-08-28T23:15:02.373341Z",
     "start_time": "2022-08-28T23:15:02.126228Z"
    }
   },
   "outputs": [
    {
     "name": "stdout",
     "output_type": "stream",
     "text": [
      "Change of gate set: 53.760445682451255 %\n",
      "Roundtrip conversion via QASM: 71.99312714776632 %\n",
      "Change of backend: 40.25974025974026 %\n",
      "Change of coupling map: 41.84914841849148 %\n",
      "Change of optimization level: 38.53211009174312 %\n",
      "Change of qubit order: 19.696969696969695 %\n",
      "Partitioned execution: 0.0 %\n",
      "Inject null-effect operations: 50.187265917603 %\n",
      "Add quantum register: 47.40740740740741 %\n",
      "Inject parameters: 57.14285714285714 %\n",
      "Change of gate set: 38.125 %\n",
      "Roundtrip conversion via QASM: 66.25 %\n",
      "Change of backend: 27.288135593220336 %\n",
      "Change of coupling map: 28.32980972515856 %\n",
      "Change of optimization level: 23.91681109185442 %\n",
      "Change of qubit order: 10.3125 %\n",
      "Partitioned execution: 0.0 %\n",
      "Inject null-effect operations: 34.86590038314176 %\n",
      "Add quantum register: 29.8728813559322 %\n",
      "Inject parameters: 45.86614173228347 %\n",
      "Change of gate set: 34.177215189873415 %\n",
      "Roundtrip conversion via QASM: 65.6686626746507 %\n",
      "Change of backend: 13.8996138996139 %\n",
      "Change of coupling map: 9.591836734693878 %\n",
      "Change of optimization level: 10.53763440860215 %\n",
      "Change of qubit order: 6.230529595015576 %\n",
      "Partitioned execution: 0.0 %\n",
      "Inject null-effect operations: 27.238805970149254 %\n",
      "Add quantum register: 14.838709677419354 %\n",
      "Inject parameters: 38.49372384937239 %\n",
      "Change of gate set: 33.64485981308411 %\n",
      "Roundtrip conversion via QASM: 68.28358208955224 %\n",
      "Change of backend: 0.0 %\n",
      "Change of coupling map: 0.0 %\n",
      "Change of optimization level: 0.0 %\n",
      "Change of qubit order: 0.0 %\n",
      "Partitioned execution: 0.0 %\n",
      "Inject null-effect operations: 11.578947368421053 %\n",
      "Add quantum register: 0.0 %\n",
      "Inject parameters: 31.141868512110726 %\n"
     ]
    },
    {
     "data": {
      "text/html": [
       "<div>\n",
       "<style scoped>\n",
       "    .dataframe tbody tr th:only-of-type {\n",
       "        vertical-align: middle;\n",
       "    }\n",
       "\n",
       "    .dataframe tbody tr th {\n",
       "        vertical-align: top;\n",
       "    }\n",
       "\n",
       "    .dataframe thead th {\n",
       "        text-align: right;\n",
       "    }\n",
       "</style>\n",
       "<table border=\"1\" class=\"dataframe\">\n",
       "  <thead>\n",
       "    <tr style=\"text-align: right;\">\n",
       "      <th></th>\n",
       "      <th>perc</th>\n",
       "      <th>label</th>\n",
       "      <th>n_transf</th>\n",
       "    </tr>\n",
       "  </thead>\n",
       "  <tbody>\n",
       "    <tr>\n",
       "      <th>0</th>\n",
       "      <td>0.000000</td>\n",
       "      <td>Partitioned execution</td>\n",
       "      <td>4</td>\n",
       "    </tr>\n",
       "    <tr>\n",
       "      <th>1</th>\n",
       "      <td>19.696970</td>\n",
       "      <td>Change of qubit order</td>\n",
       "      <td>4</td>\n",
       "    </tr>\n",
       "    <tr>\n",
       "      <th>2</th>\n",
       "      <td>38.532110</td>\n",
       "      <td>Change of optimization level</td>\n",
       "      <td>4</td>\n",
       "    </tr>\n",
       "    <tr>\n",
       "      <th>3</th>\n",
       "      <td>40.259740</td>\n",
       "      <td>Change of backend</td>\n",
       "      <td>4</td>\n",
       "    </tr>\n",
       "    <tr>\n",
       "      <th>4</th>\n",
       "      <td>41.849148</td>\n",
       "      <td>Change of coupling map</td>\n",
       "      <td>4</td>\n",
       "    </tr>\n",
       "  </tbody>\n",
       "</table>\n",
       "</div>"
      ],
      "text/plain": [
       "        perc                         label  n_transf\n",
       "0   0.000000         Partitioned execution         4\n",
       "1  19.696970         Change of qubit order         4\n",
       "2  38.532110  Change of optimization level         4\n",
       "3  40.259740             Change of backend         4\n",
       "4  41.849148        Change of coupling map         4"
      ]
     },
     "execution_count": 36,
     "metadata": {},
     "output_type": "execute_result"
    }
   ],
   "source": [
    "from matplotlib.patches import Patch\n",
    "\n",
    "#fig, axes = plt.subplots(1, 4, figsize=(7, 3), sharey=True)\n",
    "\n",
    "COLORS = ['black', 'gray', 'pink', 'red']\n",
    "LEGENDS = ['+3 others', '+2 others', '+1 other', 'Single transf.']\n",
    "legend_elements = [\n",
    "      Patch(facecolor=color, edgecolor='black', label=text)\n",
    "      for color, text in list(zip(COLORS, LEGENDS))[::-1]\n",
    "]\n",
    "\n",
    "all_records = []\n",
    "\n",
    "#for i in range(4):\n",
    "for color, n_transf in zip(\n",
    "        COLORS,\n",
    "        range(4, 0, -1)):\n",
    "    #ax_i = axes[i]\n",
    "    ids_prog_to_consider = map_no_MR_to_prog_ids[n_transf]\n",
    "    \n",
    "    \n",
    "    # compute the contributions per each MR\n",
    "    map_mr_crash_perc = {}\n",
    "\n",
    "    df_morphq_flat = df_flat[df_flat[\"approach\"] == \"morphq\"]\n",
    "    df_morphq_flat = df_morphq_flat[\n",
    "        df_morphq_flat[\"program_id\"].isin(ids_prog_to_consider)\n",
    "    ]\n",
    "    \n",
    "    for mr_name in MR_ALIAS.values():\n",
    "        df = df_morphq_flat\n",
    "        df_c_mr = df[df[\"followup.metamorphic_transformations\"] == mr_name]\n",
    "        n_all_program_id = len(df_c_mr[\"program_id\"].unique())    \n",
    "        n_crashing_program_ids = len(df_c_mr[\n",
    "            df_c_mr[\"Execution comparison\"] == \"Crash diff.\"\n",
    "        ][\"program_id\"].unique())\n",
    "        if n_all_program_id > 0 :\n",
    "            perc_c_mr = (float(n_crashing_program_ids) / n_all_program_id) * 100\n",
    "            print(f\"{mr_name}: {perc_c_mr} %\")\n",
    "            map_mr_crash_perc[mr_name] = perc_c_mr\n",
    "    \n",
    "    # plot \n",
    "    labels, perc = zip(*[\n",
    "        (k, v) \n",
    "        for k, v in sorted(map_mr_crash_perc.items(), key=lambda item: item[1])])\n",
    "\n",
    "    \n",
    "    for label, p in zip(labels, perc):\n",
    "        \n",
    "        all_records.append({\n",
    "            \"perc\": p,\n",
    "            \"label\": label,\n",
    "            \"n_transf\": n_transf\n",
    "        })\n",
    "df_mutli_transf_hist = pd.DataFrame.from_records(all_records)\n",
    "df_mutli_transf_hist.head()"
   ]
  },
  {
   "cell_type": "code",
   "execution_count": 37,
   "id": "73a3ac70",
   "metadata": {
    "ExecuteTime": {
     "end_time": "2022-08-28T23:15:02.939663Z",
     "start_time": "2022-08-28T23:15:02.375033Z"
    }
   },
   "outputs": [
    {
     "data": {
      "image/png": "[encoded data removed]",
      "text/plain": [
       "<Figure size 360x216 with 1 Axes>"
      ]
     },
     "metadata": {
      "needs_background": "light"
     },
     "output_type": "display_data"
    }
   ],
   "source": [
    "\n",
    "fig, ax = plt.subplots(1, 1, figsize=(5, 3), sharey=True)\n",
    "\n",
    "order = df_mutli_transf_hist[\n",
    "    df_mutli_transf_hist[\"n_transf\"] == 4\n",
    "].sort_values(by=\"perc\", ascending=False)[\"label\"].values\n",
    "\n",
    "sns.barplot(\n",
    "    x=\"perc\", hue=\"n_transf\", y=\"label\", \n",
    "    data=df_mutli_transf_hist,\n",
    "    order=order,\n",
    "    palette=sns.color_palette([\"#ff0000\", \"#ffc0cb\", \"#808080\", \"#000000\"]),\n",
    "    ax=ax\n",
    ")\n",
    "\n",
    "ax.grid(axis='x')\n",
    "ax.set_xlim(0, 100)\n",
    "ax.set_ylabel(\"Metamorphic Transformation\")\n",
    "ax.set_xlabel(\"% of crashing programs\")\n",
    "ax.legend(handles=legend_elements, loc='best')\n",
    "\n",
    "axes[0].set_ylabel(\"Metamorphic Relationship\")\n",
    "#axes.set_xlabel(\"% of crashing programs\\nwith the given transformation\")\n",
    "plt.tight_layout()\n",
    "\n",
    "fig.savefig(os.path.join(OUT_FOLDER, \"contribution_of_mr_perc_crashes_no_MR_applied.pdf\"))"
   ]
  },
  {
   "cell_type": "markdown",
   "id": "0b80994d",
   "metadata": {},
   "source": [
    "# RQ 5: Time Analysis"
   ]
  },
  {
   "cell_type": "code",
   "execution_count": 77,
   "id": "56503857",
   "metadata": {
    "ExecuteTime": {
     "end_time": "2022-08-28T23:34:46.377689Z",
     "start_time": "2022-08-28T23:34:46.296943Z"
    }
   },
   "outputs": [
    {
     "data": {
      "text/html": [
       "<div>\n",
       "<style scoped>\n",
       "    .dataframe tbody tr th:only-of-type {\n",
       "        vertical-align: middle;\n",
       "    }\n",
       "\n",
       "    .dataframe tbody tr th {\n",
       "        vertical-align: top;\n",
       "    }\n",
       "\n",
       "    .dataframe thead th {\n",
       "        text-align: right;\n",
       "    }\n",
       "</style>\n",
       "<table border=\"1\" class=\"dataframe\">\n",
       "  <thead>\n",
       "    <tr style=\"text-align: right;\">\n",
       "      <th></th>\n",
       "      <th>program_id</th>\n",
       "      <th>time_exec</th>\n",
       "      <th>source.time_generation</th>\n",
       "      <th>followup.time_metamorph</th>\n",
       "      <th>generated_a_crash</th>\n",
       "      <th>approach</th>\n",
       "    </tr>\n",
       "  </thead>\n",
       "  <tbody>\n",
       "    <tr>\n",
       "      <th>0</th>\n",
       "      <td>de0ee59448bd4b9a932b2b2a857a7730</td>\n",
       "      <td>1.378889</td>\n",
       "      <td>0.005896</td>\n",
       "      <td>0.275460</td>\n",
       "      <td>False</td>\n",
       "      <td>qdiff</td>\n",
       "    </tr>\n",
       "    <tr>\n",
       "      <th>1</th>\n",
       "      <td>1757fe997e6a481faa97339263b8ae0e</td>\n",
       "      <td>0.487072</td>\n",
       "      <td>0.006453</td>\n",
       "      <td>0.174253</td>\n",
       "      <td>False</td>\n",
       "      <td>qdiff</td>\n",
       "    </tr>\n",
       "    <tr>\n",
       "      <th>2</th>\n",
       "      <td>6eab42b8266a4777b7d2ba54bb4ef6de</td>\n",
       "      <td>1.680066</td>\n",
       "      <td>0.006749</td>\n",
       "      <td>0.033418</td>\n",
       "      <td>False</td>\n",
       "      <td>qdiff</td>\n",
       "    </tr>\n",
       "    <tr>\n",
       "      <th>3</th>\n",
       "      <td>4ebe50857d0b4cf780ab5bad2b70efd4</td>\n",
       "      <td>0.843684</td>\n",
       "      <td>0.006671</td>\n",
       "      <td>0.030063</td>\n",
       "      <td>False</td>\n",
       "      <td>qdiff</td>\n",
       "    </tr>\n",
       "    <tr>\n",
       "      <th>4</th>\n",
       "      <td>fffb0187919d481a840493879c80cc51</td>\n",
       "      <td>0.495871</td>\n",
       "      <td>0.006348</td>\n",
       "      <td>0.030174</td>\n",
       "      <td>False</td>\n",
       "      <td>qdiff</td>\n",
       "    </tr>\n",
       "  </tbody>\n",
       "</table>\n",
       "</div>"
      ],
      "text/plain": [
       "                         program_id  time_exec  source.time_generation  \\\n",
       "0  de0ee59448bd4b9a932b2b2a857a7730   1.378889                0.005896   \n",
       "1  1757fe997e6a481faa97339263b8ae0e   0.487072                0.006453   \n",
       "2  6eab42b8266a4777b7d2ba54bb4ef6de   1.680066                0.006749   \n",
       "3  4ebe50857d0b4cf780ab5bad2b70efd4   0.843684                0.006671   \n",
       "4  fffb0187919d481a840493879c80cc51   0.495871                0.006348   \n",
       "\n",
       "   followup.time_metamorph  generated_a_crash approach  \n",
       "0                 0.275460              False    qdiff  \n",
       "1                 0.174253              False    qdiff  \n",
       "2                 0.033418              False    qdiff  \n",
       "3                 0.030063              False    qdiff  \n",
       "4                 0.030174              False    qdiff  "
      ]
     },
     "execution_count": 77,
     "metadata": {},
     "output_type": "execute_result"
    }
   ],
   "source": [
    "relevant_time_cols = [\n",
    "    'program_id',\n",
    "    'time_exec',\n",
    "    'source.time_generation',\n",
    "    #'followup.time_generation', # this attribute is statically copied form source\n",
    "    'followup.time_metamorph',\n",
    "    #'divergence.ks.time',\n",
    "    'generated_a_crash',\n",
    "    'approach'\n",
    "]\n",
    "\n",
    "#df_time = df_morphq[relevant_time_cols]\n",
    "df_time = df_generated_programs_both[relevant_time_cols]\n",
    "df_time.head()"
   ]
  },
  {
   "cell_type": "code",
   "execution_count": 78,
   "id": "3f2a8f2e",
   "metadata": {
    "ExecuteTime": {
     "end_time": "2022-08-28T23:34:46.701200Z",
     "start_time": "2022-08-28T23:34:46.558108Z"
    }
   },
   "outputs": [
    {
     "data": {
      "text/html": [
       "<div>\n",
       "<style scoped>\n",
       "    .dataframe tbody tr th:only-of-type {\n",
       "        vertical-align: middle;\n",
       "    }\n",
       "\n",
       "    .dataframe tbody tr th {\n",
       "        vertical-align: top;\n",
       "    }\n",
       "\n",
       "    .dataframe thead th {\n",
       "        text-align: right;\n",
       "    }\n",
       "</style>\n",
       "<table border=\"1\" class=\"dataframe\">\n",
       "  <thead>\n",
       "    <tr style=\"text-align: right;\">\n",
       "      <th></th>\n",
       "      <th>program_id</th>\n",
       "      <th>generated_a_crash</th>\n",
       "      <th>approach</th>\n",
       "      <th>variable</th>\n",
       "      <th>value</th>\n",
       "    </tr>\n",
       "  </thead>\n",
       "  <tbody>\n",
       "    <tr>\n",
       "      <th>0</th>\n",
       "      <td>de0ee59448bd4b9a932b2b2a857a7730</td>\n",
       "      <td>False</td>\n",
       "      <td>qdiff</td>\n",
       "      <td>time_exec</td>\n",
       "      <td>1378.889243</td>\n",
       "    </tr>\n",
       "    <tr>\n",
       "      <th>1</th>\n",
       "      <td>1757fe997e6a481faa97339263b8ae0e</td>\n",
       "      <td>False</td>\n",
       "      <td>qdiff</td>\n",
       "      <td>time_exec</td>\n",
       "      <td>487.071722</td>\n",
       "    </tr>\n",
       "    <tr>\n",
       "      <th>2</th>\n",
       "      <td>6eab42b8266a4777b7d2ba54bb4ef6de</td>\n",
       "      <td>False</td>\n",
       "      <td>qdiff</td>\n",
       "      <td>time_exec</td>\n",
       "      <td>1680.066007</td>\n",
       "    </tr>\n",
       "    <tr>\n",
       "      <th>3</th>\n",
       "      <td>4ebe50857d0b4cf780ab5bad2b70efd4</td>\n",
       "      <td>False</td>\n",
       "      <td>qdiff</td>\n",
       "      <td>time_exec</td>\n",
       "      <td>843.683853</td>\n",
       "    </tr>\n",
       "    <tr>\n",
       "      <th>4</th>\n",
       "      <td>fffb0187919d481a840493879c80cc51</td>\n",
       "      <td>False</td>\n",
       "      <td>qdiff</td>\n",
       "      <td>time_exec</td>\n",
       "      <td>495.871412</td>\n",
       "    </tr>\n",
       "    <tr>\n",
       "      <th>5</th>\n",
       "      <td>53d295074268415ebb8b97476b2af936</td>\n",
       "      <td>False</td>\n",
       "      <td>qdiff</td>\n",
       "      <td>time_exec</td>\n",
       "      <td>1023.178841</td>\n",
       "    </tr>\n",
       "    <tr>\n",
       "      <th>6</th>\n",
       "      <td>371c7f45a36948b2b1cd78be19c4dc87</td>\n",
       "      <td>False</td>\n",
       "      <td>qdiff</td>\n",
       "      <td>time_exec</td>\n",
       "      <td>627.758922</td>\n",
       "    </tr>\n",
       "    <tr>\n",
       "      <th>7</th>\n",
       "      <td>7c0605575f3d4129b2e6a3cca515bb0c</td>\n",
       "      <td>False</td>\n",
       "      <td>qdiff</td>\n",
       "      <td>time_exec</td>\n",
       "      <td>1245.982960</td>\n",
       "    </tr>\n",
       "    <tr>\n",
       "      <th>8</th>\n",
       "      <td>cbbab63bffbb4e5385eb140fdc5080df</td>\n",
       "      <td>False</td>\n",
       "      <td>qdiff</td>\n",
       "      <td>time_exec</td>\n",
       "      <td>482.488889</td>\n",
       "    </tr>\n",
       "    <tr>\n",
       "      <th>9</th>\n",
       "      <td>8f1bb6ea6ed24ba6a00577503e2e923f</td>\n",
       "      <td>False</td>\n",
       "      <td>qdiff</td>\n",
       "      <td>time_exec</td>\n",
       "      <td>918.550015</td>\n",
       "    </tr>\n",
       "    <tr>\n",
       "      <th>10</th>\n",
       "      <td>ba7fb6f014d44d0b924e8d0249447d10</td>\n",
       "      <td>False</td>\n",
       "      <td>qdiff</td>\n",
       "      <td>time_exec</td>\n",
       "      <td>1346.656381</td>\n",
       "    </tr>\n",
       "    <tr>\n",
       "      <th>11</th>\n",
       "      <td>a2b15e90480c414b83e6ffd657b22f27</td>\n",
       "      <td>False</td>\n",
       "      <td>qdiff</td>\n",
       "      <td>time_exec</td>\n",
       "      <td>605.209412</td>\n",
       "    </tr>\n",
       "    <tr>\n",
       "      <th>12</th>\n",
       "      <td>8d0eae09bcd1447aac94e9858c1c8a5d</td>\n",
       "      <td>False</td>\n",
       "      <td>qdiff</td>\n",
       "      <td>time_exec</td>\n",
       "      <td>2689.417798</td>\n",
       "    </tr>\n",
       "    <tr>\n",
       "      <th>13</th>\n",
       "      <td>ba7dd897a8c34f25a735cfafc3f9e629</td>\n",
       "      <td>False</td>\n",
       "      <td>qdiff</td>\n",
       "      <td>time_exec</td>\n",
       "      <td>539.552993</td>\n",
       "    </tr>\n",
       "    <tr>\n",
       "      <th>14</th>\n",
       "      <td>b1c3d3f7e71d4a73a19793e1f0d5fb13</td>\n",
       "      <td>False</td>\n",
       "      <td>qdiff</td>\n",
       "      <td>time_exec</td>\n",
       "      <td>534.318539</td>\n",
       "    </tr>\n",
       "    <tr>\n",
       "      <th>15</th>\n",
       "      <td>cf69e4fd7e424ce8be65e9090dbe0ea3</td>\n",
       "      <td>False</td>\n",
       "      <td>qdiff</td>\n",
       "      <td>time_exec</td>\n",
       "      <td>624.518688</td>\n",
       "    </tr>\n",
       "    <tr>\n",
       "      <th>16</th>\n",
       "      <td>c196c5e3b0874faab882b543ba307358</td>\n",
       "      <td>False</td>\n",
       "      <td>qdiff</td>\n",
       "      <td>time_exec</td>\n",
       "      <td>583.996303</td>\n",
       "    </tr>\n",
       "    <tr>\n",
       "      <th>17</th>\n",
       "      <td>35a6e6a21d1746c1a841c3ce2567d150</td>\n",
       "      <td>False</td>\n",
       "      <td>qdiff</td>\n",
       "      <td>time_exec</td>\n",
       "      <td>1408.265249</td>\n",
       "    </tr>\n",
       "    <tr>\n",
       "      <th>18</th>\n",
       "      <td>578ba4dd31574fce81f5c553f4f5001e</td>\n",
       "      <td>False</td>\n",
       "      <td>qdiff</td>\n",
       "      <td>time_exec</td>\n",
       "      <td>601.684063</td>\n",
       "    </tr>\n",
       "    <tr>\n",
       "      <th>19</th>\n",
       "      <td>e8011ee685be4516ab049aa9c18f26d2</td>\n",
       "      <td>False</td>\n",
       "      <td>qdiff</td>\n",
       "      <td>time_exec</td>\n",
       "      <td>885.766319</td>\n",
       "    </tr>\n",
       "  </tbody>\n",
       "</table>\n",
       "</div>"
      ],
      "text/plain": [
       "                          program_id  generated_a_crash approach   variable  \\\n",
       "0   de0ee59448bd4b9a932b2b2a857a7730              False    qdiff  time_exec   \n",
       "1   1757fe997e6a481faa97339263b8ae0e              False    qdiff  time_exec   \n",
       "2   6eab42b8266a4777b7d2ba54bb4ef6de              False    qdiff  time_exec   \n",
       "3   4ebe50857d0b4cf780ab5bad2b70efd4              False    qdiff  time_exec   \n",
       "4   fffb0187919d481a840493879c80cc51              False    qdiff  time_exec   \n",
       "5   53d295074268415ebb8b97476b2af936              False    qdiff  time_exec   \n",
       "6   371c7f45a36948b2b1cd78be19c4dc87              False    qdiff  time_exec   \n",
       "7   7c0605575f3d4129b2e6a3cca515bb0c              False    qdiff  time_exec   \n",
       "8   cbbab63bffbb4e5385eb140fdc5080df              False    qdiff  time_exec   \n",
       "9   8f1bb6ea6ed24ba6a00577503e2e923f              False    qdiff  time_exec   \n",
       "10  ba7fb6f014d44d0b924e8d0249447d10              False    qdiff  time_exec   \n",
       "11  a2b15e90480c414b83e6ffd657b22f27              False    qdiff  time_exec   \n",
       "12  8d0eae09bcd1447aac94e9858c1c8a5d              False    qdiff  time_exec   \n",
       "13  ba7dd897a8c34f25a735cfafc3f9e629              False    qdiff  time_exec   \n",
       "14  b1c3d3f7e71d4a73a19793e1f0d5fb13              False    qdiff  time_exec   \n",
       "15  cf69e4fd7e424ce8be65e9090dbe0ea3              False    qdiff  time_exec   \n",
       "16  c196c5e3b0874faab882b543ba307358              False    qdiff  time_exec   \n",
       "17  35a6e6a21d1746c1a841c3ce2567d150              False    qdiff  time_exec   \n",
       "18  578ba4dd31574fce81f5c553f4f5001e              False    qdiff  time_exec   \n",
       "19  e8011ee685be4516ab049aa9c18f26d2              False    qdiff  time_exec   \n",
       "\n",
       "          value  \n",
       "0   1378.889243  \n",
       "1    487.071722  \n",
       "2   1680.066007  \n",
       "3    843.683853  \n",
       "4    495.871412  \n",
       "5   1023.178841  \n",
       "6    627.758922  \n",
       "7   1245.982960  \n",
       "8    482.488889  \n",
       "9    918.550015  \n",
       "10  1346.656381  \n",
       "11   605.209412  \n",
       "12  2689.417798  \n",
       "13   539.552993  \n",
       "14   534.318539  \n",
       "15   624.518688  \n",
       "16   583.996303  \n",
       "17  1408.265249  \n",
       "18   601.684063  \n",
       "19   885.766319  "
      ]
     },
     "execution_count": 78,
     "metadata": {},
     "output_type": "execute_result"
    }
   ],
   "source": [
    "df_time_melt = pd.melt(\n",
    "    df_time, id_vars=['program_id', 'generated_a_crash', 'approach'], \n",
    "    value_vars=relevant_time_cols.remove('program_id'))\n",
    "df_time_melt[\"value\"] = df_time_melt[\"value\"].apply(lambda e: 1000 * e)\n",
    "df_time_melt.head(20)"
   ]
  },
  {
   "cell_type": "code",
   "execution_count": 79,
   "id": "14ef2512",
   "metadata": {
    "ExecuteTime": {
     "end_time": "2022-08-28T23:34:49.496196Z",
     "start_time": "2022-08-28T23:34:46.851932Z"
    }
   },
   "outputs": [
    {
     "name": "stdout",
     "output_type": "stream",
     "text": [
      "['MorphQ' 'QDiff Transf.']\n",
      "% RQ3\n",
      "\\newcommand{\\avgTimeMsGenerationAndTransf}{163.6}\n",
      "\\newcommand{\\avgTimeMsGenerationOnly}{6.0}\n",
      "\\newcommand{\\avgTimeMsTransfOnly}{157.7}\n"
     ]
    },
    {
     "data": {
      "image/png": "[encoded data removed]",
      "text/plain": [
       "<Figure size 360x108 with 1 Axes>"
      ]
     },
     "metadata": {
      "needs_background": "light"
     },
     "output_type": "display_data"
    }
   ],
   "source": [
    "fig, ax = plt.subplots(figsize=(5, 1.5))\n",
    "\n",
    "mapping = {\n",
    "    \"source.time_generation\": 'Generation (source)',\n",
    "    \"followup.time_metamorph\": 'Transformation (follow-up)',\n",
    "    \"time_exec\": \"Execution\",\n",
    "    #\"divergence.ks.time\": \"Divergence Check\"\n",
    "}\n",
    "\n",
    "df = df_time_melt\n",
    "df[\"approach\"] = df[\"approach\"].apply(lambda x: \"QDiff Transf.\" if x == \"qdiff\" else x)\n",
    "df[\"approach\"] = df[\"approach\"].apply(lambda x: \"MorphQ\" if x == \"morphq\" else x)\n",
    "df.sort_values(by=\"approach\", inplace=True)\n",
    "\n",
    "sns.barplot(\n",
    "    data=df,\n",
    "    y='variable',\n",
    "    x='value',\n",
    "    hue='approach',\n",
    "    order=list(mapping.keys()),\n",
    "    ax=ax\n",
    ")\n",
    "print(df[\"approach\"].unique())\n",
    "\n",
    "print(\"% RQ3\")\n",
    "avg_ms_gen_and_transf = df_time_melt[df_time_melt[\"variable\"].isin([\n",
    "    \"source.time_generation\", \n",
    "    \"followup.time_metamorph\"]\n",
    ")].groupby(by=\"program_id\").sum().reset_index()[\"value\"].mean()\n",
    "print(\"\\\\newcommand{\\\\avgTimeMsGenerationAndTransf}{\" + f\"{avg_ms_gen_and_transf:.1f}\" + \"}\")\n",
    "\n",
    "avg_ms_gen_only = df_time_melt[\n",
    "    df_time_melt[\"variable\"] == \"source.time_generation\"].reset_index()[\"value\"].mean()\n",
    "print(\"\\\\newcommand{\\\\avgTimeMsGenerationOnly}{\" + f\"{avg_ms_gen_only:.1f}\" + \"}\")\n",
    "avg_ms_transf_only = df_time_melt[\n",
    "    df_time_melt[\"variable\"] == \"followup.time_metamorph\"].reset_index()[\"value\"].mean()\n",
    "print(\"\\\\newcommand{\\\\avgTimeMsTransfOnly}{\" + f\"{avg_ms_transf_only:.1f}\" + \"}\")\n",
    "\n",
    "original_labels = ax.get_yticklabels()\n",
    "ax.set_yticklabels(labels=[\n",
    "    mapping.get(e._text, e._text)\n",
    "    for e in original_labels\n",
    "])\n",
    "ax.grid(axis='x', which='both')\n",
    "ax.set_xscale('log')\n",
    "ax.set_ylabel('Stage')\n",
    "ax.set_xlabel('Average time (ms) in log scale')\n",
    "ax.legend(loc='upper right', ncol=2, fontsize=9, bbox_to_anchor=(1, 1.04))\n",
    "plt.tight_layout()\n",
    "#ax.legend().set_visible(False)\n",
    "fig.savefig(os.path.join(OUT_FOLDER, \"RQ4_time_analysis.pdf\"))"
   ]
  },
  {
   "cell_type": "code",
   "execution_count": 41,
   "id": "b2add237",
   "metadata": {
    "ExecuteTime": {
     "end_time": "2022-08-17T07:49:59.601635Z",
     "start_time": "2022-08-17T07:49:59.552711Z"
    }
   },
   "outputs": [
    {
     "ename": "Exception",
     "evalue": "Stop",
     "output_type": "error",
     "traceback": [
      "\u001b[0;31m---------------------------------------------------------------------------\u001b[0m",
      "\u001b[0;31mException\u001b[0m                                 Traceback (most recent call last)",
      "\u001b[0;32m/tmp/ipykernel_38396/3073097529.py\u001b[0m in \u001b[0;36m<module>\u001b[0;34m\u001b[0m\n\u001b[0;32m----> 1\u001b[0;31m \u001b[0;32mraise\u001b[0m \u001b[0mException\u001b[0m\u001b[0;34m(\u001b[0m\u001b[0;34m\"Stop\"\u001b[0m\u001b[0;34m)\u001b[0m\u001b[0;34m\u001b[0m\u001b[0;34m\u001b[0m\u001b[0m\n\u001b[0m",
      "\u001b[0;31mException\u001b[0m: Stop"
     ]
    }
   ],
   "source": [
    "raise Exception(\"Stop\")"
   ]
  },
  {
   "cell_type": "markdown",
   "id": "c522015f",
   "metadata": {
    "ExecuteTime": {
     "end_time": "2022-06-23T14:02:48.053485Z",
     "start_time": "2022-06-23T14:02:48.007606Z"
    },
    "heading_collapsed": true
   },
   "source": [
    "# Miscellanea"
   ]
  },
  {
   "cell_type": "code",
   "execution_count": null,
   "id": "d2513627",
   "metadata": {
    "ExecuteTime": {
     "end_time": "2022-08-17T07:49:59.603131Z",
     "start_time": "2022-08-17T07:49:59.603119Z"
    },
    "hidden": true
   },
   "outputs": [],
   "source": [
    "PVAL_COL = \"divergence.ks.p-value\"\n",
    "COL_TRANSF = \"followup.metamorphic_transformations\"\n",
    "\n",
    "relevant_columns = [\n",
    "    \"program_id\",\n",
    "    \"generated_a_crash\",\n",
    "    \"exceptions.followup\",  \n",
    "    \"approach\",\n",
    "    \"experiment_name\",\n",
    "    COL_TRANSF,\n",
    "    PVAL_COL\n",
    "]\n",
    "df = df_generated_programs_both[relevant_columns]\n",
    "df.loc[:, COL_TRANSF] = df[COL_TRANSF].apply(ast.literal_eval)\n",
    "df.loc[:, COL_TRANSF] = df[COL_TRANSF].apply(lambda e: list(set(e)))\n",
    "df_flat = df.explode(COL_TRANSF)\n",
    "df_flat.head()"
   ]
  },
  {
   "cell_type": "code",
   "execution_count": null,
   "id": "0b6e6ea6",
   "metadata": {
    "ExecuteTime": {
     "end_time": "2022-08-17T07:49:59.604227Z",
     "start_time": "2022-08-17T07:49:59.604216Z"
    },
    "hidden": true
   },
   "outputs": [],
   "source": [
    "df = df_generated_programs_both[relevant_columns]\n",
    "df.loc[:, COL_TRANSF] = df[COL_TRANSF].apply(ast.literal_eval)\n",
    "df.loc[:, COL_TRANSF] = df[COL_TRANSF].apply(lambda e: list(set(e)))\n",
    "df = df[relevant_columns]\n",
    "for mr_name in ALL_MR_NAMES:\n",
    "    df[mr_name] = df['followup.metamorphic_transformations'].apply(\n",
    "        lambda list_mr_transf: int(mr_name in list_mr_transf)\n",
    "    )\n",
    "df_one_hot_transformations = df"
   ]
  },
  {
   "cell_type": "code",
   "execution_count": null,
   "id": "384c692b",
   "metadata": {
    "ExecuteTime": {
     "end_time": "2022-08-17T07:49:59.605269Z",
     "start_time": "2022-08-17T07:49:59.605258Z"
    },
    "hidden": true
   },
   "outputs": [],
   "source": [
    "import scipy\n",
    "\n",
    "def get_entropy_on_column(df: pd.DataFrame, column_name: str):\n",
    "    \"\"\"Compute the entropy on a binary column.\"\"\"\n",
    "    tot = len(df)\n",
    "    prob_positive_class = float(len(df[df[column_name] == True])) / tot\n",
    "    prob_negative_class = float(len(df[df[column_name] == False])) / tot\n",
    "    print(\"prob_positive_class: \", prob_positive_class)\n",
    "    print(\"prob_negative_class: \", prob_negative_class)\n",
    "    entropy = scipy.stats.entropy(\n",
    "        [prob_positive_class, prob_negative_class] , base=2)\n",
    "    return entropy, prob_positive_class, prob_negative_class"
   ]
  },
  {
   "cell_type": "code",
   "execution_count": null,
   "id": "f0e971b3",
   "metadata": {
    "ExecuteTime": {
     "end_time": "2022-08-17T07:49:59.606359Z",
     "start_time": "2022-08-17T07:49:59.606345Z"
    },
    "hidden": true
   },
   "outputs": [],
   "source": [
    "import scipy\n",
    "\n",
    "\n",
    "entropies_per_mr = []\n",
    "mr_names = []\n",
    "all_perc_crashes = []\n",
    "\n",
    "for c_feature in ALL_MR_NAMES:\n",
    "    df = df_one_hot_transformations\n",
    "    \n",
    "    print(\"---------------------------------\")\n",
    "    print(\"MR: \", c_feature)\n",
    "    try:\n",
    "        df_w_feature = df[df[c_feature] == 1]\n",
    "        df_no_feature = df[df[c_feature] == 0]\n",
    "    except:\n",
    "        print(\"MR not present in this experiment\")\n",
    "        continue\n",
    "\n",
    "    entropy_w_feature, perc_crashes, _ = get_entropy_on_column(\n",
    "        df=df_w_feature, column_name=\"generated_a_crash\")\n",
    "    all_perc_crashes.append(int(perc_crashes * 100))\n",
    "    print(\"- entropy_w_MR: \", entropy_w_feature)\n",
    "    print(\"len(df_w_feature): \", len(df_w_feature))\n",
    "    entropies_per_mr.append(entropy_w_feature)\n",
    "    mr_names.append(c_feature)\n",
    "    \n",
    "    entropy_no_feature = get_entropy_on_column(\n",
    "        df=df_no_feature, column_name=\"generated_a_crash\")\n",
    "    print(\"- (entropy_no_MR: \", entropy_no_feature, \")\")\n",
    "    \n"
   ]
  },
  {
   "cell_type": "code",
   "execution_count": null,
   "id": "b52e5c07",
   "metadata": {
    "ExecuteTime": {
     "end_time": "2022-08-17T07:49:59.607258Z",
     "start_time": "2022-08-17T07:49:59.607246Z"
    },
    "hidden": true
   },
   "outputs": [],
   "source": [
    "fig, ax = plt.subplots(figsize=(5, 5))\n",
    "ax.barh(\n",
    "    y=range(len(mr_names)),\n",
    "    width=entropies_per_mr,\n",
    "    tick_label=[\n",
    "        f\"{n} ({p}%)\" \n",
    "        for n, p in zip(mr_names, all_perc_crashes)]\n",
    ")\n",
    "ax.set_ylabel(\"Metamorphic transformation\\n(perc of crashes)\")\n",
    "ax.set_xlabel(\"Entropy of warnings-inducing\")"
   ]
  },
  {
   "cell_type": "markdown",
   "id": "2b81c9a6",
   "metadata": {
    "hidden": true
   },
   "source": [
    "## Random Forest: predict the crash from the MR applied"
   ]
  },
  {
   "cell_type": "code",
   "execution_count": null,
   "id": "2ec3a88e",
   "metadata": {
    "ExecuteTime": {
     "end_time": "2022-08-17T07:49:59.609361Z",
     "start_time": "2022-08-17T07:49:59.609311Z"
    },
    "hidden": true
   },
   "outputs": [],
   "source": [
    "from sklearn.ensemble import RandomForestClassifier\n",
    "\n",
    "X = df_one_hot_transformations[mr_names]\n",
    "y = df_one_hot_transformations[\"generated_a_crash\"]\n",
    "\n",
    "clf = RandomForestClassifier(max_depth=2, random_state=0)\n",
    "clf.fit(X, y)"
   ]
  },
  {
   "cell_type": "code",
   "execution_count": null,
   "id": "41cbf63e",
   "metadata": {
    "ExecuteTime": {
     "end_time": "2022-08-17T07:49:59.611793Z",
     "start_time": "2022-08-17T07:49:59.611759Z"
    },
    "hidden": true
   },
   "outputs": [],
   "source": [
    "fig, ax = plt.subplots(figsize=(5, 5))\n",
    "ax.barh(\n",
    "    y=range(len(mr_names)),\n",
    "    width=clf.feature_importances_,\n",
    "    tick_label=mr_names\n",
    ")\n",
    "ax.set_ylabel(\"Metamorphic transformation\")\n",
    "ax.set_xlabel(\"Feature Importance\")\n",
    "\n"
   ]
  },
  {
   "cell_type": "code",
   "execution_count": null,
   "id": "d101e08e",
   "metadata": {
    "ExecuteTime": {
     "end_time": "2022-08-17T07:49:59.613803Z",
     "start_time": "2022-08-17T07:49:59.613771Z"
    },
    "hidden": true
   },
   "outputs": [],
   "source": [
    "clf.predict([[0, 0, 0, 0]]))"
   ]
  }
 ],
 "metadata": {
  "kernelspec": {
   "display_name": "Python 3 (ipykernel)",
   "language": "python",
   "name": "python3"
  },
  "language_info": {
   "codemirror_mode": {
    "name": "ipython",
    "version": 3
   },
   "file_extension": ".py",
   "mimetype": "text/x-python",
   "name": "python",
   "nbconvert_exporter": "python",
   "pygments_lexer": "ipython3",
   "version": "3.9.12"
  },
  "toc": {
   "base_numbering": 1,
   "nav_menu": {},
   "number_sections": true,
   "sideBar": true,
   "skip_h1_title": false,
   "title_cell": "Table of Contents",
   "title_sidebar": "Contents",
   "toc_cell": false,
   "toc_position": {},
   "toc_section_display": true,
   "toc_window_display": true
  },
  "vscode": {
   "interpreter": {
    "hash": "669e37aaee4976ece3132cd38bfe1134af76962e140ad0dbf8dafb017883413d"
   }
  }
 },
 "nbformat": 4,
 "nbformat_minor": 5
}
