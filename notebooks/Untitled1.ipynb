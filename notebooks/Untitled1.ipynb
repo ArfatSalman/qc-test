{
 "cells": [
  {
   "cell_type": "code",
   "execution_count": 17,
   "id": "a302fd9f-2e44-4f98-9aba-af8a87a23272",
   "metadata": {},
   "outputs": [],
   "source": [
    "from pyquil import Program\n",
    "from pyquil.gates import *\n",
    "from pyquil.quilatom import Parameter, quil_sin, quil_cos, quil_exp\n",
    "from pyquil.quilbase import DefGate\n",
    "import numpy"
   ]
  },
  {
   "cell_type": "code",
   "execution_count": null,
   "id": "768ffd77-ed4a-408d-b8b3-521546414187",
   "metadata": {},
   "outputs": [],
   "source": []
  },
  {
   "cell_type": "code",
   "execution_count": 47,
   "id": "c61ca697-2813-4b3f-a072-87302dabe810",
   "metadata": {},
   "outputs": [],
   "source": [
    "theta = Parameter('theta')\n",
    "phi = Parameter('phi')\n",
    "lam = Parameter('lam')\n",
    "\n",
    "u3_matrix = numpy.array(\n",
    "            [\n",
    "                [quil_cos(theta/2), -quil_exp(1j * lam) * quil_sin(theta/2)],\n",
    "                [quil_exp(1j * phi) * quil_sin(theta/2), quil_exp(1j * (phi + lam)) * quil_cos(theta/2)],\n",
    "            ]\n",
    "        )\n",
    "gate_definition = DefGate('U3', u3_matrix, [theta, phi, lam])"
   ]
  },
  {
   "cell_type": "code",
   "execution_count": 50,
   "id": "73d3a087-bb20-4b17-937b-1a975c638711",
   "metadata": {},
   "outputs": [
    {
     "name": "stdout",
     "output_type": "stream",
     "text": [
      "DEFGATE U3(%theta, %phi, %lam):\n",
      "    COS(%theta/2), -1*EXP(i*%lam)*SIN(%theta/2)\n",
      "    EXP(i*%phi)*SIN(%theta/2), EXP(i*(%phi + %lam))*COS(%theta/2)\n",
      "\n",
      "DECLARE ro BIT[2]\n",
      "H 0\n",
      "U3(6.159830616557135,5.814130909921563,1.581219984490172) 0\n",
      "MEASURE 0 ro[0]\n",
      "\n"
     ]
    }
   ],
   "source": [
    "\n",
    "U3 = gate_definition.get_constructor()\n",
    "p = Program()\n",
    "ro = p.declare('ro', 'BIT', 2)\n",
    "p += gate_definition\n",
    "p += H(0)\n",
    "p += U3(6.159830616557135,5.814130909921563,1.581219984490172)(0)\n",
    "p += MEASURE(0, ro[0])\n",
    "print(p.out())"
   ]
  }
 ],
 "metadata": {
  "kernelspec": {
   "display_name": "Python 3 (ipykernel)",
   "language": "python",
   "name": "python3"
  },
  "language_info": {
   "codemirror_mode": {
    "name": "ipython",
    "version": 3
   },
   "file_extension": ".py",
   "mimetype": "text/x-python",
   "name": "python",
   "nbconvert_exporter": "python",
   "pygments_lexer": "ipython3",
   "version": "3.9.12"
  }
 },
 "nbformat": 4,
 "nbformat_minor": 5
}
