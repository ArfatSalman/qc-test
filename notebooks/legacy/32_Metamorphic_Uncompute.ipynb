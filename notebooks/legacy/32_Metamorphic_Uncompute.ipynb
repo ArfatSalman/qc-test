{
 "cells": [
  {
   "cell_type": "code",
   "execution_count": 1,
   "id": "eb7d5f2b",
   "metadata": {
    "ExecuteTime": {
     "end_time": "2022-02-14T13:39:41.484330Z",
     "start_time": "2022-02-14T13:39:37.113501Z"
    }
   },
   "outputs": [],
   "source": [
    "import pandas as pd\n",
    "import sys\n",
    "sys.path.append(\"../lib\")\n",
    "import seaborn as sns\n",
    "import matplotlib.pyplot as plt\n",
    "from utils import iterate_over\n",
    "from utils import load_config_and_check\n",
    "from inspector import Inspector\n",
    "from tqdm import tqdm\n",
    "import sqlite3 as sl\n",
    "import os"
   ]
  },
  {
   "cell_type": "code",
   "execution_count": 2,
   "id": "aad22667",
   "metadata": {
    "ExecuteTime": {
     "end_time": "2022-02-14T13:39:41.514816Z",
     "start_time": "2022-02-14T13:39:41.487091Z"
    }
   },
   "outputs": [],
   "source": [
    "%load_ext autoreload\n",
    "%autoreload 2"
   ]
  },
  {
   "cell_type": "code",
   "execution_count": 3,
   "id": "76491d68",
   "metadata": {
    "ExecuteTime": {
     "end_time": "2022-02-14T13:39:41.610070Z",
     "start_time": "2022-02-14T13:39:41.516629Z"
    }
   },
   "outputs": [],
   "source": [
    "config = load_config_and_check(\"../config/qmt_v03.yaml\")"
   ]
  },
  {
   "cell_type": "code",
   "execution_count": 4,
   "id": "4a8c3f1f",
   "metadata": {
    "ExecuteTime": {
     "end_time": "2022-02-14T13:39:57.878224Z",
     "start_time": "2022-02-14T13:39:41.649729Z"
    }
   },
   "outputs": [],
   "source": [
    "from metamorph import *\n",
    "from qmt import get_mr_function_and_kwargs"
   ]
  },
  {
   "cell_type": "code",
   "execution_count": 5,
   "id": "091d55ea",
   "metadata": {
    "ExecuteTime": {
     "end_time": "2022-02-14T13:39:57.931438Z",
     "start_time": "2022-02-14T13:39:57.880712Z"
    }
   },
   "outputs": [],
   "source": [
    "from metamorph_test import show_tree"
   ]
  },
  {
   "cell_type": "code",
   "execution_count": 6,
   "id": "d067e030",
   "metadata": {
    "ExecuteTime": {
     "end_time": "2022-02-14T13:39:57.981228Z",
     "start_time": "2022-02-14T13:39:57.933466Z"
    }
   },
   "outputs": [
    {
     "name": "stdout",
     "output_type": "stream",
     "text": [
      "Module(\n",
      "    body=[\n",
      "        Assign(\n",
      "            lineno=2,\n",
      "            col_offset=0,\n",
      "            end_lineno=2,\n",
      "            end_col_offset=40,\n",
      "            targets=[Name(lineno=2, col_offset=0, end_lineno=2, end_col_offset=5, id='qr_qr', ctx=Store())],\n",
      "            value=Call(\n",
      "                lineno=2,\n",
      "                col_offset=8,\n",
      "                end_lineno=2,\n",
      "                end_col_offset=40,\n",
      "                func=Name(lineno=2, col_offset=8, end_lineno=2, end_col_offset=23, id='QuantumRegister', ctx=Load()),\n",
      "                args=[Constant(lineno=2, col_offset=24, end_lineno=2, end_col_offset=25, value=9, kind=None)],\n",
      "                keywords=[\n",
      "                    keyword(\n",
      "                        arg='name',\n",
      "                        value=Constant(lineno=2, col_offset=32, end_lineno=2, end_col_offset=39, value='qr_qr', kind=None),\n",
      "                    ),\n",
      "                ],\n",
      "            ),\n",
      "            type_comment=None,\n",
      "        ),\n",
      "        Assign(\n",
      "            lineno=3,\n",
      "            col_offset=0,\n",
      "            end_lineno=3,\n",
      "            end_col_offset=42,\n",
      "            targets=[Name(lineno=3, col_offset=0, end_lineno=3, end_col_offset=5, id='cr_qr', ctx=Store())],\n",
      "            value=Call(\n",
      "                lineno=3,\n",
      "                col_offset=8,\n",
      "                end_lineno=3,\n",
      "                end_col_offset=42,\n",
      "                func=Name(lineno=3, col_offset=8, end_lineno=3, end_col_offset=25, id='ClassicalRegister', ctx=Load()),\n",
      "                args=[Constant(lineno=3, col_offset=26, end_lineno=3, end_col_offset=27, value=9, kind=None)],\n",
      "                keywords=[\n",
      "                    keyword(\n",
      "                        arg='name',\n",
      "                        value=Constant(lineno=3, col_offset=34, end_lineno=3, end_col_offset=41, value='cr_qr', kind=None),\n",
      "                    ),\n",
      "                ],\n",
      "            ),\n",
      "            type_comment=None,\n",
      "        ),\n",
      "        Assign(\n",
      "            lineno=4,\n",
      "            col_offset=0,\n",
      "            end_lineno=4,\n",
      "            end_col_offset=44,\n",
      "            targets=[Name(lineno=4, col_offset=0, end_lineno=4, end_col_offset=2, id='qc', ctx=Store())],\n",
      "            value=Call(\n",
      "                lineno=4,\n",
      "                col_offset=5,\n",
      "                end_lineno=4,\n",
      "                end_col_offset=44,\n",
      "                func=Name(lineno=4, col_offset=5, end_lineno=4, end_col_offset=19, id='QuantumCircuit', ctx=Load()),\n",
      "                args=[\n",
      "                    Name(lineno=4, col_offset=20, end_lineno=4, end_col_offset=25, id='qr_qr', ctx=Load()),\n",
      "                    Name(lineno=4, col_offset=27, end_lineno=4, end_col_offset=32, id='cr_qr', ctx=Load()),\n",
      "                ],\n",
      "                keywords=[\n",
      "                    keyword(\n",
      "                        arg='name',\n",
      "                        value=Constant(lineno=4, col_offset=39, end_lineno=4, end_col_offset=43, value='qc', kind=None),\n",
      "                    ),\n",
      "                ],\n",
      "            ),\n",
      "            type_comment=None,\n",
      "        ),\n",
      "        Expr(\n",
      "            lineno=5,\n",
      "            col_offset=0,\n",
      "            end_lineno=5,\n",
      "            end_col_offset=49,\n",
      "            value=Call(\n",
      "                lineno=5,\n",
      "                col_offset=0,\n",
      "                end_lineno=5,\n",
      "                end_col_offset=49,\n",
      "                func=Attribute(\n",
      "                    lineno=5,\n",
      "                    col_offset=0,\n",
      "                    end_lineno=5,\n",
      "                    end_col_offset=9,\n",
      "                    value=Name(lineno=5, col_offset=0, end_lineno=5, end_col_offset=2, id='qc', ctx=Load()),\n",
      "                    attr='append',\n",
      "                    ctx=Load(),\n",
      "                ),\n",
      "                args=[\n",
      "                    Call(\n",
      "                        lineno=5,\n",
      "                        col_offset=10,\n",
      "                        end_lineno=5,\n",
      "                        end_col_offset=20,\n",
      "                        func=Name(lineno=5, col_offset=10, end_lineno=5, end_col_offset=18, id='SXdgGate', ctx=Load()),\n",
      "                        args=[],\n",
      "                        keywords=[],\n",
      "                    ),\n",
      "                ],\n",
      "                keywords=[\n",
      "                    keyword(\n",
      "                        arg='qargs',\n",
      "                        value=List(\n",
      "                            lineno=5,\n",
      "                            col_offset=28,\n",
      "                            end_lineno=5,\n",
      "                            end_col_offset=38,\n",
      "                            elts=[\n",
      "                                Subscript(\n",
      "                                    lineno=5,\n",
      "                                    col_offset=29,\n",
      "                                    end_lineno=5,\n",
      "                                    end_col_offset=37,\n",
      "                                    value=Name(lineno=5, col_offset=29, end_lineno=5, end_col_offset=34, id='qr_qr', ctx=Load()),\n",
      "                                    slice=Index(\n",
      "                                        value=Constant(lineno=5, col_offset=35, end_lineno=5, end_col_offset=36, value=7, kind=None),\n",
      "                                    ),\n",
      "                                    ctx=Load(),\n",
      "                                ),\n",
      "                            ],\n",
      "                            ctx=Load(),\n",
      "                        ),\n",
      "                    ),\n",
      "                    keyword(\n",
      "                        arg='cargs',\n",
      "                        value=List(lineno=5, col_offset=46, end_lineno=5, end_col_offset=48, elts=[], ctx=Load()),\n",
      "                    ),\n",
      "                ],\n",
      "            ),\n",
      "        ),\n",
      "        Expr(\n",
      "            lineno=6,\n",
      "            col_offset=0,\n",
      "            end_lineno=6,\n",
      "            end_col_offset=58,\n",
      "            value=Call(\n",
      "                lineno=6,\n",
      "                col_offset=0,\n",
      "                end_lineno=6,\n",
      "                end_col_offset=58,\n",
      "                func=Attribute(\n",
      "                    lineno=6,\n",
      "                    col_offset=0,\n",
      "                    end_lineno=6,\n",
      "                    end_col_offset=9,\n",
      "                    value=Name(lineno=6, col_offset=0, end_lineno=6, end_col_offset=2, id='qc', ctx=Load()),\n",
      "                    attr='append',\n",
      "                    ctx=Load(),\n",
      "                ),\n",
      "                args=[\n",
      "                    Call(\n",
      "                        lineno=6,\n",
      "                        col_offset=10,\n",
      "                        end_lineno=6,\n",
      "                        end_col_offset=19,\n",
      "                        func=Name(lineno=6, col_offset=10, end_lineno=6, end_col_offset=17, id='ECRGate', ctx=Load()),\n",
      "                        args=[],\n",
      "                        keywords=[],\n",
      "                    ),\n",
      "                ],\n",
      "                keywords=[\n",
      "                    keyword(\n",
      "                        arg='qargs',\n",
      "                        value=List(\n",
      "                            lineno=6,\n",
      "                            col_offset=27,\n",
      "                            end_lineno=6,\n",
      "                            end_col_offset=47,\n",
      "                            elts=[\n",
      "                                Subscript(\n",
      "                                    lineno=6,\n",
      "                                    col_offset=28,\n",
      "                                    end_lineno=6,\n",
      "                                    end_col_offset=36,\n",
      "                                    value=Name(lineno=6, col_offset=28, end_lineno=6, end_col_offset=33, id='qr_qr', ctx=Load()),\n",
      "                                    slice=Index(\n",
      "                                        value=Constant(lineno=6, col_offset=34, end_lineno=6, end_col_offset=35, value=2, kind=None),\n",
      "                                    ),\n",
      "                                    ctx=Load(),\n",
      "                                ),\n",
      "                                Subscript(\n",
      "                                    lineno=6,\n",
      "                                    col_offset=38,\n",
      "                                    end_lineno=6,\n",
      "                                    end_col_offset=46,\n",
      "                                    value=Name(lineno=6, col_offset=38, end_lineno=6, end_col_offset=43, id='qr_qr', ctx=Load()),\n",
      "                                    slice=Index(\n",
      "                                        value=Constant(lineno=6, col_offset=44, end_lineno=6, end_col_offset=45, value=6, kind=None),\n",
      "                                    ),\n",
      "                                    ctx=Load(),\n",
      "                                ),\n",
      "                            ],\n",
      "                            ctx=Load(),\n",
      "                        ),\n",
      "                    ),\n",
      "                    keyword(\n",
      "                        arg='cargs',\n",
      "                        value=List(lineno=6, col_offset=55, end_lineno=6, end_col_offset=57, elts=[], ctx=Load()),\n",
      "                    ),\n",
      "                ],\n",
      "            ),\n",
      "        ),\n",
      "        Expr(\n",
      "            lineno=7,\n",
      "            col_offset=0,\n",
      "            end_lineno=7,\n",
      "            end_col_offset=60,\n",
      "            value=Call(\n",
      "                lineno=7,\n",
      "                col_offset=0,\n",
      "                end_lineno=7,\n",
      "                end_col_offset=60,\n",
      "                func=Attribute(\n",
      "                    lineno=7,\n",
      "                    col_offset=0,\n",
      "                    end_lineno=7,\n",
      "                    end_col_offset=9,\n",
      "                    value=Name(lineno=7, col_offset=0, end_lineno=7, end_col_offset=2, id='qc', ctx=Load()),\n",
      "                    attr='append',\n",
      "                    ctx=Load(),\n",
      "                ),\n",
      "                args=[\n",
      "                    Call(\n",
      "                        lineno=7,\n",
      "                        col_offset=10,\n",
      "                        end_lineno=7,\n",
      "                        end_col_offset=21,\n",
      "                        func=Name(lineno=7, col_offset=10, end_lineno=7, end_col_offset=19, id='iSwapGate', ctx=Load()),\n",
      "                        args=[],\n",
      "                        keywords=[],\n",
      "                    ),\n",
      "                ],\n",
      "                keywords=[\n",
      "                    keyword(\n",
      "                        arg='qargs',\n",
      "                        value=List(\n",
      "                            lineno=7,\n",
      "                            col_offset=29,\n",
      "                            end_lineno=7,\n",
      "                            end_col_offset=49,\n",
      "                            elts=[\n",
      "                                Subscript(\n",
      "                                    lineno=7,\n",
      "                                    col_offset=30,\n",
      "                                    end_lineno=7,\n",
      "                                    end_col_offset=38,\n",
      "                                    value=Name(lineno=7, col_offset=30, end_lineno=7, end_col_offset=35, id='qr_qr', ctx=Load()),\n",
      "                                    slice=Index(\n",
      "                                        value=Constant(lineno=7, col_offset=36, end_lineno=7, end_col_offset=37, value=5, kind=None),\n",
      "                                    ),\n",
      "                                    ctx=Load(),\n",
      "                                ),\n",
      "                                Subscript(\n",
      "                                    lineno=7,\n",
      "                                    col_offset=40,\n",
      "                                    end_lineno=7,\n",
      "                                    end_col_offset=48,\n",
      "                                    value=Name(lineno=7, col_offset=40, end_lineno=7, end_col_offset=45, id='qr_qr', ctx=Load()),\n",
      "                                    slice=Index(\n",
      "                                        value=Constant(lineno=7, col_offset=46, end_lineno=7, end_col_offset=47, value=4, kind=None),\n",
      "                                    ),\n",
      "                                    ctx=Load(),\n",
      "                                ),\n",
      "                            ],\n",
      "                            ctx=Load(),\n",
      "                        ),\n",
      "                    ),\n",
      "                    keyword(\n",
      "                        arg='cargs',\n",
      "                        value=List(lineno=7, col_offset=57, end_lineno=7, end_col_offset=59, elts=[], ctx=Load()),\n",
      "                    ),\n",
      "                ],\n",
      "            ),\n",
      "        ),\n",
      "    ],\n",
      "    type_ignores=[],\n",
      ")\n"
     ]
    }
   ],
   "source": [
    "show_tree(\"\"\"\n",
    "qr_qr = QuantumRegister(9, name='qr_qr')\n",
    "cr_qr = ClassicalRegister(9, name='cr_qr')\n",
    "qc = QuantumCircuit(qr_qr, cr_qr, name='qc')\n",
    "qc.append(SXdgGate(), qargs=[qr_qr[7]], cargs=[])\n",
    "qc.append(ECRGate(), qargs=[qr_qr[2], qr_qr[6]], cargs=[])\n",
    "qc.append(iSwapGate(), qargs=[qr_qr[5], qr_qr[4]], cargs=[])\n",
    "# SECTION\n",
    "\"\"\")"
   ]
  },
  {
   "cell_type": "code",
   "execution_count": 24,
   "id": "aa8d05ce",
   "metadata": {
    "ExecuteTime": {
     "end_time": "2022-02-14T13:57:49.126411Z",
     "start_time": "2022-02-14T13:57:48.992715Z"
    }
   },
   "outputs": [
    {
     "name": "stdout",
     "output_type": "stream",
     "text": [
      "# SECTION\n",
      "# NAME: PROLOGUE\n",
      "\n",
      "import qiskit\n",
      "from qiskit import QuantumCircuit, ClassicalRegister, QuantumRegister\n",
      "from qiskit.circuit.library.standard_gates import *\n",
      "# SECTION\n",
      "# NAME: CIRCUIT\n",
      "\n",
      "qr_qr = QuantumRegister(9, name='qr_qr')\n",
      "cr_qr = ClassicalRegister(9, name='cr_qr')\n",
      "qc = QuantumCircuit(qr_qr, cr_qr, name='qc')\n",
      "qc.append(SXdgGate(), qargs=[qr_qr[7]], cargs=[])\n",
      "qc.append(ECRGate(), qargs=[qr_qr[2], qr_qr[6]], cargs=[])\n",
      "\n",
      "\n",
      "subcircuit = QuantumCircuit(qr_qr, cr_qr, name='subcircuit')\n",
      "subcircuit.append(SXGate(), qargs=[qr_qr[0]], cargs=[])\n",
      "subcircuit.append(CRXGate(1.1721710219304895), qargs=[qr_qr[4], qr_qr[3]], cargs=[])\n",
      "subcircuit.append(TGate(), qargs=[qr_qr[0]], cargs=[])\n",
      "subcircuit.append(RYYGate(0.7168749499743002), qargs=[qr_qr[4], qr_qr[7]], cargs=[])\n",
      "subcircuit.append(PhaseGate(1.4073735856613805), qargs=[qr_qr[0]], cargs=[])\n",
      "\n",
      "qc.append(subcircuit, qargs=('qr_qr',), cargs=cr_qr))\n",
      "qc.append(subcircuit.inverse(), qargs=('qr_qr',), cargs=cr_qr))\n",
      "qc.append(iSwapGate(), qargs=[qr_qr[5], qr_qr[4]], cargs=[])\n",
      "# SECTION\n",
      "# NAME: OPTIMIZATION_PASSES\n",
      "\n",
      "from qiskit.transpiler import PassManager\n",
      "from qiskit.transpiler.passes import *\n",
      "passmanager = PassManager()\n",
      "qc = passmanager.run(qc)\n",
      "# SECTION\n",
      "# NAME: OPTIMIZATION_LEVEL\n",
      "\n",
      "from qiskit import transpile\n",
      "qc = transpile(qc, basis_gates=None, optimization_level=0, coupling_map=None)\n",
      "# SECTION\n",
      "# NAME: MEASUREMENT\n",
      "\n",
      "qc.measure(qr_qr, cr_qr)\n",
      "# SECTION\n",
      "# NAME: EXECUTION\n",
      "\n",
      "from qiskit import Aer, transpile, execute\n",
      "backend_efb784840b7d41c9b4f9139f73da3c40 = Aer.get_backend('qasm_simulator')\n",
      "counts = execute(qc, backend=backend_efb784840b7d41c9b4f9139f73da3c40, shots=44340).result().get_counts(qc)\n",
      "RESULT = counts\n",
      "\n"
     ]
    }
   ],
   "source": [
    "config_3 = load_config_and_check(\"../config/qmt_v03.yaml\")\n",
    "\n",
    "np.random.seed(36)\n",
    "random.seed(36)\n",
    "\n",
    "morph, kwargs = get_mr_function_and_kwargs(config_3, metamorphic_strategy=\"inject_circuits_and_inverse\")\n",
    "out_code = morph(\"\"\"\n",
    "# SECTION\n",
    "# NAME: PROLOGUE\n",
    "\n",
    "import qiskit\n",
    "from qiskit import QuantumCircuit, ClassicalRegister, QuantumRegister\n",
    "from qiskit.circuit.library.standard_gates import *\n",
    "\n",
    "# SECTION\n",
    "# NAME: CIRCUIT\n",
    "\n",
    "qr_qr = QuantumRegister(9, name='qr_qr')\n",
    "cr_qr = ClassicalRegister(9, name='cr_qr')\n",
    "qc = QuantumCircuit(qr_qr, cr_qr, name='qc')\n",
    "qc.append(SXdgGate(), qargs=[qr_qr[7]], cargs=[])\n",
    "qc.append(ECRGate(), qargs=[qr_qr[2], qr_qr[6]], cargs=[])\n",
    "qc.append(iSwapGate(), qargs=[qr_qr[5], qr_qr[4]], cargs=[])\n",
    "\n",
    "\n",
    "# SECTION\n",
    "# NAME: OPTIMIZATION_PASSES\n",
    "\n",
    "from qiskit.transpiler import PassManager\n",
    "from qiskit.transpiler.passes import *\n",
    "passmanager = PassManager()\n",
    "qc = passmanager.run(qc)\n",
    "\n",
    "# SECTION\n",
    "# NAME: OPTIMIZATION_LEVEL\n",
    "\n",
    "from qiskit import transpile\n",
    "qc = transpile(qc, basis_gates=None, optimization_level=0, coupling_map=None)\n",
    "\n",
    "# SECTION\n",
    "# NAME: MEASUREMENT\n",
    "\n",
    "qc.measure(qr_qr, cr_qr)\n",
    "\n",
    "# SECTION\n",
    "# NAME: EXECUTION\n",
    "\n",
    "from qiskit import Aer, transpile, execute\n",
    "backend_efb784840b7d41c9b4f9139f73da3c40 = Aer.get_backend('qasm_simulator')\n",
    "counts = execute(qc, backend=backend_efb784840b7d41c9b4f9139f73da3c40, shots=44340).result().get_counts(qc)\n",
    "RESULT = counts\n",
    "\n",
    "\"\"\", **kwargs)[0]\n",
    "print(out_code)"
   ]
  },
  {
   "cell_type": "code",
   "execution_count": 10,
   "id": "09fc984a",
   "metadata": {
    "ExecuteTime": {
     "end_time": "2022-02-14T13:41:38.816915Z",
     "start_time": "2022-02-14T13:41:16.297759Z"
    }
   },
   "outputs": [
    {
     "name": "stdout",
     "output_type": "stream",
     "text": [
      "> \u001b[0;32m/home/XXXX-1/projects/ML4Quantum/notebooks/mtrand.pyx\u001b[0m(905)\u001b[0;36mnumpy.random.mtrand.RandomState.choice\u001b[0;34m()\u001b[0m\n",
      "\n",
      "ipdb> list\n",
      "\n",
      "ipdb> q\n"
     ]
    }
   ],
   "source": [
    "%debug"
   ]
  },
  {
   "cell_type": "code",
   "execution_count": 8,
   "id": "cab711f4",
   "metadata": {
    "ExecuteTime": {
     "end_time": "2022-02-14T13:21:44.608774Z",
     "start_time": "2022-02-14T13:21:44.547121Z"
    }
   },
   "outputs": [
    {
     "data": {
      "text/plain": [
       "[0, 1, 2, 'a', 'b', 'c', 3, 4, 5, 6, 7, 8, 9]"
      ]
     },
     "execution_count": 8,
     "metadata": {},
     "output_type": "execute_result"
    }
   ],
   "source": [
    "master = list(range(10))\n",
    "slave = ['a', 'b', 'c']\n",
    "for s in slave[::-1]:\n",
    "    master.insert(3, s)\n",
    "master"
   ]
  },
  {
   "cell_type": "code",
   "execution_count": 11,
   "id": "3aa3460b",
   "metadata": {
    "ExecuteTime": {
     "end_time": "2022-02-14T13:35:00.143388Z",
     "start_time": "2022-02-14T13:35:00.080166Z"
    }
   },
   "outputs": [
    {
     "data": {
      "text/plain": [
       "'qc'"
      ]
     },
     "execution_count": 11,
     "metadata": {},
     "output_type": "execute_result"
    }
   ],
   "source": [
    "import re\n",
    "in_str = \"\"\"qr_qr = QuantumRegister(9, name='qr_qr')\n",
    "cr_qr = ClassicalRegister(9, name='cr_qr')\n",
    "qc = QuantumCircuit(qr_qr, cr_qr, name='qc')\n",
    "qc.append(SXdgGate(), qargs=[qr_qr[7]], cargs=[])\n",
    "qc.append(ECRGate(), qargs=[qr_qr[2], qr_qr[6]], cargs=[])\n",
    "qc.append(iSwapGate(), qargs=[qr_qr[5], qr_qr[4]], cargs=[])\"\"\"\n",
    "m = re.search(\"([a-zA-Z_]*)\\s=\\sQuantumCircuit\", in_str)\n",
    "m.group(1)"
   ]
  },
  {
   "cell_type": "markdown",
   "id": "2ad9d363",
   "metadata": {},
   "source": [
    "# DEBUG: Circuit Inverse"
   ]
  },
  {
   "cell_type": "markdown",
   "id": "56efa867",
   "metadata": {},
   "source": [
    "## Source"
   ]
  },
  {
   "cell_type": "code",
   "execution_count": 32,
   "id": "36248f13",
   "metadata": {
    "ExecuteTime": {
     "end_time": "2022-02-14T14:05:32.594287Z",
     "start_time": "2022-02-14T14:05:32.505715Z"
    }
   },
   "outputs": [
    {
     "data": {
      "text/html": [
       "<pre style=\"word-wrap: normal;white-space: pre;background: #fff0;line-height: 1.1;font-family: &quot;Courier New&quot;,Courier,monospace\">                          ┌──────────────┐                                 ┌───┐                                                                            \n",
       "qr_0: ────────────────────┤1             ├─────────────────────────────────┤ X ├────────────────────────────────────────────────────────────■───────────────\n",
       "                          │              │                                 └─┬─┘┌─────────────┐                                   ┌──────┐  │               \n",
       "qr_1: ────────────────────┤              ├─────────────────────■─────────────■──┤ Rx(0.21066) ├───────────────────────────────────┤1     ├──┼───────────────\n",
       "          ┌───┐           │              │┌────┐   ┌─────┐     │U1(3.2208)   │  └──────┬──────┘                                   │  Dcx │  │     ┌──────┐  \n",
       "qr_2: ────┤ H ├───────────┤              ├┤ Sx ├───┤ Sdg ├─────■─────────────┼─────────┼────────────────────────■─────────────────┤0     ├──┼─────┤ √Xdg ├──\n",
       "          ├───┤     ┌───┐ │              │└─┬──┘┌──┴─────┴───┐    ┌───┐      │         │                        │                 └──────┘  │     └──────┘  \n",
       "qr_3: ────┤ S ├─────┤ Y ├─┤  Rxx(5.7659) ├──■───┤ Rx(4.1149) ├────┤ H ├──────┼─────────┼────────────────────────┼───────────────────────────┼───────────────\n",
       "          └───┘     └───┘ │              │      └─────┬──────┘    └───┘      │         │                  ┌─────┴──────┐                    │               \n",
       "qr_4: ────────────────────┤              ├──■─────────┼──────────────────────■─────────■──────────────────┤ Rx(5.3577) ├────────────────────┼───────────────\n",
       "                          │              │  │         │                      │  ┌──────────────┐          └────────────┘                    │               \n",
       "qr_5: ────────────────────┤              ├──┼─────────┼──────────────────────■──┤0             ├────────────────────────────────────────────┼───■───────────\n",
       "                          │              │  │         │                      │  │  Rxx(3.3836) │                                          ┌─┴─┐ │U1(3.5571) \n",
       "qr_6: ────────────────■───┤0             ├──┼─────────┼──────────────────────┼──┤1             ├────────────────■─────────────────────────┤ H ├─■───────────\n",
       "      ┌────────────┐  │   └──────────────┘  │         │                      │  └──────────────┘┌───────────────┴────────────────┐        └───┘             \n",
       "qr_7: ┤ Rx(3.3108) ├──┼─────────────────────┼─────────┼──────────────────────┼──────────────────┤ U(1.4449,6.1965,2.6824,2.4821) ├──────────────────────────\n",
       "      ├────────────┤┌─┴──┐     ┌───┐      ┌─┴─┐       │                      │       ┌───┐      └────────────────────────────────┘                          \n",
       "qr_8: ┤ Rx(1.0467) ├┤ Sx ├─────┤ T ├──────┤ H ├───────■──────────────────────■───────┤ Y ├──────────────────────────────────────────────────────────────────\n",
       "      └────────────┘└────┘     └───┘      └───┘                                      └───┘                                                                  \n",
       "cr: 9/══════════════════════════════════════════════════════════════════════════════════════════════════════════════════════════════════════════════════════\n",
       "                                                                                                                                                            </pre>"
      ],
      "text/plain": [
       "                          ┌──────────────┐                                 ┌───┐                                                                            \n",
       "qr_0: ────────────────────┤1             ├─────────────────────────────────┤ X ├────────────────────────────────────────────────────────────■───────────────\n",
       "                          │              │                                 └─┬─┘┌─────────────┐                                   ┌──────┐  │               \n",
       "qr_1: ────────────────────┤              ├─────────────────────■─────────────■──┤ Rx(0.21066) ├───────────────────────────────────┤1     ├──┼───────────────\n",
       "          ┌───┐           │              │┌────┐   ┌─────┐     │U1(3.2208)   │  └──────┬──────┘                                   │  Dcx │  │     ┌──────┐  \n",
       "qr_2: ────┤ H ├───────────┤              ├┤ Sx ├───┤ Sdg ├─────■─────────────┼─────────┼────────────────────────■─────────────────┤0     ├──┼─────┤ √Xdg ├──\n",
       "          ├───┤     ┌───┐ │              │└─┬──┘┌──┴─────┴───┐    ┌───┐      │         │                        │                 └──────┘  │     └──────┘  \n",
       "qr_3: ────┤ S ├─────┤ Y ├─┤  Rxx(5.7659) ├──■───┤ Rx(4.1149) ├────┤ H ├──────┼─────────┼────────────────────────┼───────────────────────────┼───────────────\n",
       "          └───┘     └───┘ │              │      └─────┬──────┘    └───┘      │         │                  ┌─────┴──────┐                    │               \n",
       "qr_4: ────────────────────┤              ├──■─────────┼──────────────────────■─────────■──────────────────┤ Rx(5.3577) ├────────────────────┼───────────────\n",
       "                          │              │  │         │                      │  ┌──────────────┐          └────────────┘                    │               \n",
       "qr_5: ────────────────────┤              ├──┼─────────┼──────────────────────■──┤0             ├────────────────────────────────────────────┼───■───────────\n",
       "                          │              │  │         │                      │  │  Rxx(3.3836) │                                          ┌─┴─┐ │U1(3.5571) \n",
       "qr_6: ────────────────■───┤0             ├──┼─────────┼──────────────────────┼──┤1             ├────────────────■─────────────────────────┤ H ├─■───────────\n",
       "      ┌────────────┐  │   └──────────────┘  │         │                      │  └──────────────┘┌───────────────┴────────────────┐        └───┘             \n",
       "qr_7: ┤ Rx(3.3108) ├──┼─────────────────────┼─────────┼──────────────────────┼──────────────────┤ U(1.4449,6.1965,2.6824,2.4821) ├──────────────────────────\n",
       "      ├────────────┤┌─┴──┐     ┌───┐      ┌─┴─┐       │                      │       ┌───┐      └────────────────────────────────┘                          \n",
       "qr_8: ┤ Rx(1.0467) ├┤ Sx ├─────┤ T ├──────┤ H ├───────■──────────────────────■───────┤ Y ├──────────────────────────────────────────────────────────────────\n",
       "      └────────────┘└────┘     └───┘      └───┘                                      └───┘                                                                  \n",
       "cr: 9/══════════════════════════════════════════════════════════════════════════════════════════════════════════════════════════════════════════════════════\n",
       "                                                                                                                                                            "
      ]
     },
     "execution_count": 32,
     "metadata": {},
     "output_type": "execute_result"
    }
   ],
   "source": [
    "# SECTION\n",
    "# NAME: PROLOGUE\n",
    "\n",
    "import qiskit\n",
    "from qiskit import QuantumCircuit, ClassicalRegister, QuantumRegister\n",
    "from qiskit.circuit.library.standard_gates import *\n",
    "\n",
    "# SECTION\n",
    "# NAME: CIRCUIT\n",
    "\n",
    "qr = QuantumRegister(9, name='qr')\n",
    "cr = ClassicalRegister(9, name='cr')\n",
    "qc = QuantumCircuit(qr, cr, name='qc')\n",
    "qc.append(RXGate(1.0466978673929275), qargs=[qr[8]], cargs=[])\n",
    "qc.append(CSXGate(), qargs=[qr[6], qr[8]], cargs=[])\n",
    "qc.append(TGate(), qargs=[qr[8]], cargs=[])\n",
    "qc.append(SGate(), qargs=[qr[3]], cargs=[])\n",
    "qc.append(YGate(), qargs=[qr[3]], cargs=[])\n",
    "qc.append(HGate(), qargs=[qr[2]], cargs=[])\n",
    "qc.append(CHGate(), qargs=[qr[4], qr[8]], cargs=[])\n",
    "qc.append(RXXGate(5.7659340219179), qargs=[qr[6], qr[0]], cargs=[])\n",
    "qc.append(CSXGate(), qargs=[qr[3], qr[2]], cargs=[])\n",
    "qc.append(SdgGate(), qargs=[qr[2]], cargs=[])\n",
    "qc.append(CU1Gate(3.220809006787041), qargs=[qr[1], qr[2]], cargs=[])\n",
    "qc.append(CRXGate(4.114874291132263), qargs=[qr[8], qr[3]], cargs=[])\n",
    "qc.append(C4XGate(), qargs=[qr[5], qr[4], qr[1], qr[8], qr[0]], cargs=[])\n",
    "qc.append(RXGate(3.310801310361946), qargs=[qr[7]], cargs=[])\n",
    "qc.append(CRXGate(0.21066257384036904), qargs=[qr[4], qr[1]], cargs=[])\n",
    "qc.append(RXXGate(3.383586268608996), qargs=[qr[5], qr[6]], cargs=[])\n",
    "qc.append(CRXGate(5.3577349048578995), qargs=[qr[2], qr[4]], cargs=[])\n",
    "qc.append(DCXGate(), qargs=[qr[2], qr[1]], cargs=[])\n",
    "qc.append(HGate(), qargs=[qr[3]], cargs=[])\n",
    "qc.append(YGate(), qargs=[qr[8]], cargs=[])\n",
    "qc.append(CUGate(1.4448880414773706,6.196463507862305,2.6824327601845965,2.4820808033150423), qargs=[qr[6], qr[7]], cargs=[])\n",
    "qc.append(SXdgGate(), qargs=[qr[2]], cargs=[])\n",
    "qc.append(CHGate(), qargs=[qr[0], qr[6]], cargs=[])\n",
    "qc.append(CU1Gate(3.5570675263725655), qargs=[qr[5], qr[6]], cargs=[])\n",
    "\n",
    "# SECTION\n",
    "# NAME: OPTIMIZATION_PASSES\n",
    "\n",
    "qc.draw(fold=-1)"
   ]
  },
  {
   "cell_type": "code",
   "execution_count": 33,
   "id": "2b3f19d9",
   "metadata": {
    "ExecuteTime": {
     "end_time": "2022-02-14T14:05:33.787181Z",
     "start_time": "2022-02-14T14:05:33.360445Z"
    }
   },
   "outputs": [
    {
     "data": {
      "text/plain": [
       "{'010001100': 1,\n",
       " '110001010': 4,\n",
       " '001100011': 1,\n",
       " '110111011': 3,\n",
       " '111111111': 1,\n",
       " '101000101': 1,\n",
       " '011101011': 2,\n",
       " '010000100': 2,\n",
       " '010111111': 1,\n",
       " '110001110': 4,\n",
       " '010000110': 2,\n",
       " '110000100': 3,\n",
       " '010101001': 4,\n",
       " '110101011': 9,\n",
       " '110001000': 3,\n",
       " '110110011': 2,\n",
       " '110011010': 1,\n",
       " '111101101': 13,\n",
       " '111100001': 11,\n",
       " '110101111': 7,\n",
       " '001110110': 10,\n",
       " '010101011': 2,\n",
       " '101001001': 1,\n",
       " '001101010': 36,\n",
       " '011101101': 3,\n",
       " '011100011': 4,\n",
       " '011101010': 42,\n",
       " '111101011': 7,\n",
       " '110100101': 13,\n",
       " '111110011': 3,\n",
       " '010100111': 3,\n",
       " '010101111': 4,\n",
       " '111101111': 14,\n",
       " '011100111': 2,\n",
       " '001111110': 10,\n",
       " '010001010': 1,\n",
       " '001100010': 48,\n",
       " '110111111': 2,\n",
       " '011101110': 34,\n",
       " '101111110': 30,\n",
       " '011111010': 14,\n",
       " '010001000': 1,\n",
       " '111100100': 168,\n",
       " '011100000': 59,\n",
       " '110110111': 2,\n",
       " '101101110': 115,\n",
       " '011101000': 69,\n",
       " '111111011': 2,\n",
       " '101101100': 150,\n",
       " '101101000': 174,\n",
       " '010011010': 1,\n",
       " '110100001': 13,\n",
       " '001101110': 47,\n",
       " '111100010': 161,\n",
       " '110000010': 7,\n",
       " '011110011': 1,\n",
       " '111101000': 172,\n",
       " '111110010': 44,\n",
       " '101100010': 109,\n",
       " '011101001': 4,\n",
       " '110010110': 1,\n",
       " '101100000': 169,\n",
       " '110100011': 13,\n",
       " '011100010': 48,\n",
       " '001101100': 56,\n",
       " '111101010': 148,\n",
       " '011110110': 12,\n",
       " '111100110': 130,\n",
       " '111101110': 145,\n",
       " '111111010': 39,\n",
       " '111110111': 4,\n",
       " '010000000': 1,\n",
       " '111101100': 163,\n",
       " '111100101': 11,\n",
       " '101100110': 134,\n",
       " '111100000': 193,\n",
       " '111100111': 17,\n",
       " '111100011': 11,\n",
       " '110000000': 2,\n",
       " '010001110': 3,\n",
       " '110001100': 9,\n",
       " '011110010': 10,\n",
       " '101111010': 33,\n",
       " '011111110': 13,\n",
       " '001101000': 50,\n",
       " '111110110': 28,\n",
       " '111101001': 13,\n",
       " '010100011': 4,\n",
       " '101110110': 43,\n",
       " '101101010': 121,\n",
       " '011101111': 2,\n",
       " '001110010': 17,\n",
       " '011101100': 50,\n",
       " '011100100': 56,\n",
       " '010100101': 1,\n",
       " '101110010': 30,\n",
       " '001100100': 64,\n",
       " '110101001': 14,\n",
       " '011100110': 55,\n",
       " '001100000': 58,\n",
       " '001100110': 46,\n",
       " '101100100': 172,\n",
       " '110100111': 7,\n",
       " '011100101': 1,\n",
       " '111111110': 31,\n",
       " '010110011': 1,\n",
       " '001111010': 12,\n",
       " '010101101': 5,\n",
       " '110101101': 16}"
      ]
     },
     "execution_count": 33,
     "metadata": {},
     "output_type": "execute_result"
    }
   ],
   "source": [
    "# SECTION\n",
    "# NAME: OPTIMIZATION_LEVEL\n",
    "\n",
    "from qiskit import transpile\n",
    "qc = transpile(qc, basis_gates=None, optimization_level=3, coupling_map=None)\n",
    "\n",
    "# SECTION\n",
    "# NAME: MEASUREMENT\n",
    "\n",
    "qc.measure(qr, cr)\n",
    "\n",
    "# SECTION\n",
    "# NAME: EXECUTION\n",
    "\n",
    "from qiskit import Aer, transpile, execute\n",
    "backend_661deef4586e46bb8de45912e0ed68ee = Aer.get_backend('qasm_simulator')\n",
    "counts_source = execute(qc, backend=backend_661deef4586e46bb8de45912e0ed68ee, shots=3919).result().get_counts(qc)\n",
    "counts_source"
   ]
  },
  {
   "cell_type": "markdown",
   "id": "93fcf377",
   "metadata": {},
   "source": [
    "## Follow"
   ]
  },
  {
   "cell_type": "code",
   "execution_count": 34,
   "id": "ef009534",
   "metadata": {
    "ExecuteTime": {
     "end_time": "2022-02-14T14:05:35.756201Z",
     "start_time": "2022-02-14T14:05:35.680901Z"
    }
   },
   "outputs": [
    {
     "name": "stderr",
     "output_type": "stream",
     "text": [
      "/home/XXXX-1/.conda/envs/ML4Quantum/lib/python3.8/site-packages/qiskit/visualization/text.py:665: RuntimeWarning: The parameter \"cregbundle\" was disabled, since an instruction needs to refer to individual classical wires\n",
      "  return \"\\n\".join(self.lines()).encode(self.encoding).decode(self.encoding)\n"
     ]
    },
    {
     "data": {
      "text/html": [
       "<pre style=\"word-wrap: normal;white-space: pre;background: #fff0;line-height: 1.1;font-family: &quot;Courier New&quot;,Courier,monospace\">                          ┌──────────────┐                                 ┌───┐                                      ┌─────────────┐┌────────────────┐                                                    \n",
       "qr_0: ────────────────────┤1             ├─────────────────────────────────┤ X ├──────────────────────────────────────┤0            ├┤0               ├────────────────────────────────────■───────────────\n",
       "                          │              │                                 └─┬─┘┌─────────────┐               ┌──────┐│             ││                │                                    │               \n",
       "qr_1: ────────────────────┤              ├─────────────────────■─────────────■──┤ Rx(0.21066) ├───────────────┤1     ├┤1            ├┤1               ├────────────────────────────────────┼───────────────\n",
       "          ┌───┐           │              │┌────┐   ┌─────┐     │U1(3.2208)   │  └──────┬──────┘               │  Dcx ││             ││                │             ┌──────┐               │               \n",
       "qr_2: ────┤ H ├───────────┤              ├┤ Sx ├───┤ Sdg ├─────■─────────────┼─────────┼──────────────■───────┤0     ├┤2            ├┤2               ├─────────────┤ √Xdg ├───────────────┼───────────────\n",
       "          ├───┤     ┌───┐ │              │└─┬──┘┌──┴─────┴───┐    ┌───┐      │         │              │       └──────┘│             ││                │             └──────┘               │               \n",
       "qr_3: ────┤ S ├─────┤ Y ├─┤  Rxx(5.7659) ├──■───┤ Rx(4.1149) ├────┤ H ├──────┼─────────┼──────────────┼───────────────┤3            ├┤3               ├────────────────────────────────────┼───────────────\n",
       "          └───┘     └───┘ │              │      └─────┬──────┘    └───┘      │         │        ┌─────┴──────┐        │             ││                │                                    │               \n",
       "qr_4: ────────────────────┤              ├──■─────────┼──────────────────────■─────────■────────┤ Rx(5.3577) ├────────┤4            ├┤4               ├────────────────────────────────────┼───────────────\n",
       "                          │              │  │         │                      │  ┌──────────────┐└────────────┘        │             ││                │                                    │               \n",
       "qr_5: ────────────────────┤              ├──┼─────────┼──────────────────────■──┤0             ├──────────────────────┤5            ├┤5               ├────────────────────────────────────┼───■───────────\n",
       "                          │              │  │         │                      │  │  Rxx(3.3836) │                      │             ││                │                                  ┌─┴─┐ │U1(3.5571) \n",
       "qr_6: ────────────────■───┤0             ├──┼─────────┼──────────────────────┼──┤1             ├──────────────────────┤6            ├┤6               ├────────────────■─────────────────┤ H ├─■───────────\n",
       "      ┌────────────┐  │   └──────────────┘  │         │                      │  └──────────────┘                      │             ││                │┌───────────────┴────────────────┐└───┘             \n",
       "qr_7: ┤ Rx(3.3108) ├──┼─────────────────────┼─────────┼──────────────────────┼────────────────────────────────────────┤7            ├┤7               ├┤ U(1.4449,6.1965,2.6824,2.4821) ├──────────────────\n",
       "      ├────────────┤┌─┴──┐     ┌───┐      ┌─┴─┐       │                      │       ┌───┐                            │             ││                │└────────────────────────────────┘                  \n",
       "qr_8: ┤ Rx(1.0467) ├┤ Sx ├─────┤ T ├──────┤ H ├───────■──────────────────────■───────┤ Y ├────────────────────────────┤8            ├┤8               ├────────────────────────────────────────────────────\n",
       "      └────────────┘└────┘     └───┘      └───┘                                      └───┘                            │  subcircuit ││  subcircuit_dg │                                                    \n",
       "cr_0: ════════════════════════════════════════════════════════════════════════════════════════════════════════════════╡0            ╞╡0               ╞════════════════════════════════════════════════════\n",
       "                                                                                                                      │             ││                │                                                    \n",
       "cr_1: ════════════════════════════════════════════════════════════════════════════════════════════════════════════════╡1            ╞╡1               ╞════════════════════════════════════════════════════\n",
       "                                                                                                                      │             ││                │                                                    \n",
       "cr_2: ════════════════════════════════════════════════════════════════════════════════════════════════════════════════╡2            ╞╡2               ╞════════════════════════════════════════════════════\n",
       "                                                                                                                      │             ││                │                                                    \n",
       "cr_3: ════════════════════════════════════════════════════════════════════════════════════════════════════════════════╡3            ╞╡3               ╞════════════════════════════════════════════════════\n",
       "                                                                                                                      │             ││                │                                                    \n",
       "cr_4: ════════════════════════════════════════════════════════════════════════════════════════════════════════════════╡4            ╞╡4               ╞════════════════════════════════════════════════════\n",
       "                                                                                                                      │             ││                │                                                    \n",
       "cr_5: ════════════════════════════════════════════════════════════════════════════════════════════════════════════════╡5            ╞╡5               ╞════════════════════════════════════════════════════\n",
       "                                                                                                                      │             ││                │                                                    \n",
       "cr_6: ════════════════════════════════════════════════════════════════════════════════════════════════════════════════╡6            ╞╡6               ╞════════════════════════════════════════════════════\n",
       "                                                                                                                      │             ││                │                                                    \n",
       "cr_7: ════════════════════════════════════════════════════════════════════════════════════════════════════════════════╡7            ╞╡7               ╞════════════════════════════════════════════════════\n",
       "                                                                                                                      │             ││                │                                                    \n",
       "cr_8: ════════════════════════════════════════════════════════════════════════════════════════════════════════════════╡8            ╞╡8               ╞════════════════════════════════════════════════════\n",
       "                                                                                                                      └─────────────┘└────────────────┘                                                    </pre>"
      ],
      "text/plain": [
       "                          ┌──────────────┐                                 ┌───┐                                      ┌─────────────┐┌────────────────┐                                                    \n",
       "qr_0: ────────────────────┤1             ├─────────────────────────────────┤ X ├──────────────────────────────────────┤0            ├┤0               ├────────────────────────────────────■───────────────\n",
       "                          │              │                                 └─┬─┘┌─────────────┐               ┌──────┐│             ││                │                                    │               \n",
       "qr_1: ────────────────────┤              ├─────────────────────■─────────────■──┤ Rx(0.21066) ├───────────────┤1     ├┤1            ├┤1               ├────────────────────────────────────┼───────────────\n",
       "          ┌───┐           │              │┌────┐   ┌─────┐     │U1(3.2208)   │  └──────┬──────┘               │  Dcx ││             ││                │             ┌──────┐               │               \n",
       "qr_2: ────┤ H ├───────────┤              ├┤ Sx ├───┤ Sdg ├─────■─────────────┼─────────┼──────────────■───────┤0     ├┤2            ├┤2               ├─────────────┤ √Xdg ├───────────────┼───────────────\n",
       "          ├───┤     ┌───┐ │              │└─┬──┘┌──┴─────┴───┐    ┌───┐      │         │              │       └──────┘│             ││                │             └──────┘               │               \n",
       "qr_3: ────┤ S ├─────┤ Y ├─┤  Rxx(5.7659) ├──■───┤ Rx(4.1149) ├────┤ H ├──────┼─────────┼──────────────┼───────────────┤3            ├┤3               ├────────────────────────────────────┼───────────────\n",
       "          └───┘     └───┘ │              │      └─────┬──────┘    └───┘      │         │        ┌─────┴──────┐        │             ││                │                                    │               \n",
       "qr_4: ────────────────────┤              ├──■─────────┼──────────────────────■─────────■────────┤ Rx(5.3577) ├────────┤4            ├┤4               ├────────────────────────────────────┼───────────────\n",
       "                          │              │  │         │                      │  ┌──────────────┐└────────────┘        │             ││                │                                    │               \n",
       "qr_5: ────────────────────┤              ├──┼─────────┼──────────────────────■──┤0             ├──────────────────────┤5            ├┤5               ├────────────────────────────────────┼───■───────────\n",
       "                          │              │  │         │                      │  │  Rxx(3.3836) │                      │             ││                │                                  ┌─┴─┐ │U1(3.5571) \n",
       "qr_6: ────────────────■───┤0             ├──┼─────────┼──────────────────────┼──┤1             ├──────────────────────┤6            ├┤6               ├────────────────■─────────────────┤ H ├─■───────────\n",
       "      ┌────────────┐  │   └──────────────┘  │         │                      │  └──────────────┘                      │             ││                │┌───────────────┴────────────────┐└───┘             \n",
       "qr_7: ┤ Rx(3.3108) ├──┼─────────────────────┼─────────┼──────────────────────┼────────────────────────────────────────┤7            ├┤7               ├┤ U(1.4449,6.1965,2.6824,2.4821) ├──────────────────\n",
       "      ├────────────┤┌─┴──┐     ┌───┐      ┌─┴─┐       │                      │       ┌───┐                            │             ││                │└────────────────────────────────┘                  \n",
       "qr_8: ┤ Rx(1.0467) ├┤ Sx ├─────┤ T ├──────┤ H ├───────■──────────────────────■───────┤ Y ├────────────────────────────┤8            ├┤8               ├────────────────────────────────────────────────────\n",
       "      └────────────┘└────┘     └───┘      └───┘                                      └───┘                            │  subcircuit ││  subcircuit_dg │                                                    \n",
       "cr_0: ════════════════════════════════════════════════════════════════════════════════════════════════════════════════╡0            ╞╡0               ╞════════════════════════════════════════════════════\n",
       "                                                                                                                      │             ││                │                                                    \n",
       "cr_1: ════════════════════════════════════════════════════════════════════════════════════════════════════════════════╡1            ╞╡1               ╞════════════════════════════════════════════════════\n",
       "                                                                                                                      │             ││                │                                                    \n",
       "cr_2: ════════════════════════════════════════════════════════════════════════════════════════════════════════════════╡2            ╞╡2               ╞════════════════════════════════════════════════════\n",
       "                                                                                                                      │             ││                │                                                    \n",
       "cr_3: ════════════════════════════════════════════════════════════════════════════════════════════════════════════════╡3            ╞╡3               ╞════════════════════════════════════════════════════\n",
       "                                                                                                                      │             ││                │                                                    \n",
       "cr_4: ════════════════════════════════════════════════════════════════════════════════════════════════════════════════╡4            ╞╡4               ╞════════════════════════════════════════════════════\n",
       "                                                                                                                      │             ││                │                                                    \n",
       "cr_5: ════════════════════════════════════════════════════════════════════════════════════════════════════════════════╡5            ╞╡5               ╞════════════════════════════════════════════════════\n",
       "                                                                                                                      │             ││                │                                                    \n",
       "cr_6: ════════════════════════════════════════════════════════════════════════════════════════════════════════════════╡6            ╞╡6               ╞════════════════════════════════════════════════════\n",
       "                                                                                                                      │             ││                │                                                    \n",
       "cr_7: ════════════════════════════════════════════════════════════════════════════════════════════════════════════════╡7            ╞╡7               ╞════════════════════════════════════════════════════\n",
       "                                                                                                                      │             ││                │                                                    \n",
       "cr_8: ════════════════════════════════════════════════════════════════════════════════════════════════════════════════╡8            ╞╡8               ╞════════════════════════════════════════════════════\n",
       "                                                                                                                      └─────────────┘└────────────────┘                                                    "
      ]
     },
     "execution_count": 34,
     "metadata": {},
     "output_type": "execute_result"
    }
   ],
   "source": [
    "# SECTION\n",
    "# NAME: PROLOGUE\n",
    "\n",
    "import qiskit\n",
    "from qiskit import QuantumCircuit, ClassicalRegister, QuantumRegister\n",
    "from qiskit.circuit.library.standard_gates import *\n",
    "# SECTION\n",
    "# NAME: CIRCUIT\n",
    "\n",
    "qr = QuantumRegister(9, name='qr')\n",
    "cr = ClassicalRegister(9, name='cr')\n",
    "qc = QuantumCircuit(qr, cr, name='qc')\n",
    "qc.append(RXGate(1.0466978673929275), qargs=[qr[8]], cargs=[])\n",
    "qc.append(CSXGate(), qargs=[qr[6], qr[8]], cargs=[])\n",
    "qc.append(TGate(), qargs=[qr[8]], cargs=[])\n",
    "qc.append(SGate(), qargs=[qr[3]], cargs=[])\n",
    "qc.append(YGate(), qargs=[qr[3]], cargs=[])\n",
    "qc.append(HGate(), qargs=[qr[2]], cargs=[])\n",
    "qc.append(CHGate(), qargs=[qr[4], qr[8]], cargs=[])\n",
    "qc.append(RXXGate(5.7659340219179), qargs=[qr[6], qr[0]], cargs=[])\n",
    "qc.append(CSXGate(), qargs=[qr[3], qr[2]], cargs=[])\n",
    "qc.append(SdgGate(), qargs=[qr[2]], cargs=[])\n",
    "qc.append(CU1Gate(3.220809006787041), qargs=[qr[1], qr[2]], cargs=[])\n",
    "qc.append(CRXGate(4.114874291132263), qargs=[qr[8], qr[3]], cargs=[])\n",
    "qc.append(C4XGate(), qargs=[qr[5], qr[4], qr[1], qr[8], qr[0]], cargs=[])\n",
    "qc.append(RXGate(3.310801310361946), qargs=[qr[7]], cargs=[])\n",
    "qc.append(CRXGate(0.21066257384036904), qargs=[qr[4], qr[1]], cargs=[])\n",
    "qc.append(RXXGate(3.383586268608996), qargs=[qr[5], qr[6]], cargs=[])\n",
    "qc.append(CRXGate(5.3577349048578995), qargs=[qr[2], qr[4]], cargs=[])\n",
    "qc.append(DCXGate(), qargs=[qr[2], qr[1]], cargs=[])\n",
    "qc.append(HGate(), qargs=[qr[3]], cargs=[])\n",
    "qc.append(YGate(), qargs=[qr[8]], cargs=[])\n",
    "\n",
    "\n",
    "subcircuit = QuantumCircuit(qr, cr, name='subcircuit')\n",
    "\n",
    "qc.append(subcircuit, qargs=qr, cargs=cr)\n",
    "qc.append(subcircuit.inverse(), qargs=qr, cargs=cr)\n",
    "qc.append(CUGate(1.4448880414773706, 6.196463507862305, 2.6824327601845965, 2.4820808033150423), qargs=[qr[6], qr[7]], cargs=[])\n",
    "qc.append(SXdgGate(), qargs=[qr[2]], cargs=[])\n",
    "qc.append(CHGate(), qargs=[qr[0], qr[6]], cargs=[])\n",
    "qc.append(CU1Gate(3.5570675263725655), qargs=[qr[5], qr[6]], cargs=[])\n",
    "# SECTION\n",
    "# NAME: OPTIMIZATION_PASSES\n",
    "\n",
    "qc.draw(fold=-1)"
   ]
  },
  {
   "cell_type": "code",
   "execution_count": 35,
   "id": "98c8caea",
   "metadata": {
    "ExecuteTime": {
     "end_time": "2022-02-14T14:05:36.934050Z",
     "start_time": "2022-02-14T14:05:36.524414Z"
    }
   },
   "outputs": [
    {
     "data": {
      "text/plain": [
       "{'011111111': 1,\n",
       " '110001110': 2,\n",
       " '011100011': 1,\n",
       " '000001111': 1,\n",
       " '010001100': 2,\n",
       " '010111111': 3,\n",
       " '110110011': 1,\n",
       " '010101001': 3,\n",
       " '011101001': 4,\n",
       " '110010110': 3,\n",
       " '010100001': 1,\n",
       " '010000110': 1,\n",
       " '110000100': 4,\n",
       " '011101011': 4,\n",
       " '011111011': 3,\n",
       " '010000100': 2,\n",
       " '111101011': 7,\n",
       " '111101111': 8,\n",
       " '110101011': 9,\n",
       " '011110111': 2,\n",
       " '010110111': 2,\n",
       " '110010010': 1,\n",
       " '110000110': 4,\n",
       " '110100101': 10,\n",
       " '111101101': 15,\n",
       " '110001000': 6,\n",
       " '001111110': 11,\n",
       " '011100111': 4,\n",
       " '010100111': 6,\n",
       " '111110011': 2,\n",
       " '001110110': 16,\n",
       " '010101101': 5,\n",
       " '110101101': 11,\n",
       " '010001110': 3,\n",
       " '011110010': 18,\n",
       " '110001100': 6,\n",
       " '101100110': 143,\n",
       " '101111110': 36,\n",
       " '111110010': 40,\n",
       " '101100010': 129,\n",
       " '101100000': 156,\n",
       " '011101010': 37,\n",
       " '110000000': 1,\n",
       " '110000111': 1,\n",
       " '111100011': 13,\n",
       " '010101111': 3,\n",
       " '011100010': 42,\n",
       " '001101100': 66,\n",
       " '111100010': 145,\n",
       " '011110110': 13,\n",
       " '111100110': 129,\n",
       " '010100101': 4,\n",
       " '101110010': 43,\n",
       " '111111011': 1,\n",
       " '101101100': 171,\n",
       " '101101000': 155,\n",
       " '110100001': 16,\n",
       " '011101111': 5,\n",
       " '101101010': 126,\n",
       " '110110111': 3,\n",
       " '101101110': 116,\n",
       " '011001111': 1,\n",
       " '110111011': 3,\n",
       " '011101000': 70,\n",
       " '011101100': 65,\n",
       " '011100100': 63,\n",
       " '001110010': 12,\n",
       " '110000010': 1,\n",
       " '011110011': 1,\n",
       " '111101000': 162,\n",
       " '111111111': 5,\n",
       " '101111010': 27,\n",
       " '010100011': 3,\n",
       " '101110110': 34,\n",
       " '111111010': 35,\n",
       " '111101110': 147,\n",
       " '011111010': 15,\n",
       " '111101010': 148,\n",
       " '111100100': 171,\n",
       " '010001000': 2,\n",
       " '010001010': 2,\n",
       " '001100010': 50,\n",
       " '011101110': 51,\n",
       " '011100000': 62,\n",
       " '001101010': 32,\n",
       " '011101101': 7,\n",
       " '011100001': 4,\n",
       " '001101110': 32,\n",
       " '001111010': 11,\n",
       " '011100101': 5,\n",
       " '111111110': 24,\n",
       " '001100110': 36,\n",
       " '101100100': 161,\n",
       " '110100111': 8,\n",
       " '110001010': 3,\n",
       " '110101111': 11,\n",
       " '110100011': 9,\n",
       " '111100001': 7,\n",
       " '110101001': 17,\n",
       " '001100100': 63,\n",
       " '011100110': 49,\n",
       " '001100000': 52,\n",
       " '101100101': 1,\n",
       " '001101000': 74,\n",
       " '011111110': 16,\n",
       " '111110110': 29,\n",
       " '111110111': 3,\n",
       " '010111011': 1,\n",
       " '010000000': 3,\n",
       " '111101100': 171,\n",
       " '111100101': 5,\n",
       " '111101001': 11,\n",
       " '111100000': 157,\n",
       " '111100111': 11}"
      ]
     },
     "execution_count": 35,
     "metadata": {},
     "output_type": "execute_result"
    }
   ],
   "source": [
    "# SECTION\n",
    "# NAME: OPTIMIZATION_LEVEL\n",
    "\n",
    "from qiskit import transpile\n",
    "qc = transpile(qc, basis_gates=None, optimization_level=3, coupling_map=None)\n",
    "# SECTION\n",
    "# NAME: MEASUREMENT\n",
    "\n",
    "qc.measure(qr, cr)\n",
    "# SECTION\n",
    "# NAME: EXECUTION\n",
    "\n",
    "from qiskit import Aer, transpile, execute\n",
    "backend_661deef4586e46bb8de45912e0ed68ee = Aer.get_backend('qasm_simulator')\n",
    "counts_follow = execute(qc, backend=backend_661deef4586e46bb8de45912e0ed68ee, shots=3919).result().get_counts(qc)\n",
    "counts_follow"
   ]
  },
  {
   "cell_type": "markdown",
   "id": "eb1d5a9e",
   "metadata": {
    "ExecuteTime": {
     "end_time": "2022-02-14T13:56:17.543675Z",
     "start_time": "2022-02-14T13:56:17.484140Z"
    }
   },
   "source": [
    "## Compare"
   ]
  },
  {
   "cell_type": "code",
   "execution_count": 38,
   "id": "79afe70c",
   "metadata": {
    "ExecuteTime": {
     "end_time": "2022-02-14T14:06:10.914059Z",
     "start_time": "2022-02-14T14:06:10.853006Z"
    }
   },
   "outputs": [],
   "source": [
    "from inspector import OneNightStandInspector\n",
    "from detectors import KS_Detector, Energy_Detector"
   ]
  },
  {
   "cell_type": "code",
   "execution_count": 41,
   "id": "b6bd34bf",
   "metadata": {
    "ExecuteTime": {
     "end_time": "2022-02-14T14:06:21.325923Z",
     "start_time": "2022-02-14T14:06:21.260504Z"
    }
   },
   "outputs": [
    {
     "name": "stdout",
     "output_type": "stream",
     "text": [
      "stat: 0.02475121204388875, pval: 0.18115503451299927\n"
     ]
    }
   ],
   "source": [
    "detector = KS_Detector()\n",
    "stat, pval = detector.check(counts_source, counts_follow)\n",
    "print(f\"stat: {stat}, pval: {pval}\")"
   ]
  },
  {
   "cell_type": "code",
   "execution_count": 40,
   "id": "818087a3",
   "metadata": {
    "ExecuteTime": {
     "end_time": "2022-02-14T14:06:19.042443Z",
     "start_time": "2022-02-14T14:06:18.370131Z"
    }
   },
   "outputs": [
    {
     "name": "stdout",
     "output_type": "stream",
     "text": [
      "n_qubits: 9\n",
      "n_shots: 3919.0\n",
      "Uniform threshold: 7.654296875\n"
     ]
    },
    {
     "data": {
      "image/png": "[encoded data removed]",
      "text/plain": [
       "<Figure size 720x432 with 1 Axes>"
      ]
     },
     "metadata": {
      "needs_background": "light"
     },
     "output_type": "display_data"
    },
    {
     "data": {
      "text/plain": [
       "<inspector.OneNightStandInspector at 0x7f5581d8d820>"
      ]
     },
     "execution_count": 40,
     "metadata": {},
     "output_type": "execute_result"
    }
   ],
   "source": [
    "OneNightStandInspector(counts_source, counts_follow, name_a=\"source\", name_b=\"follow\", top_perc=1)"
   ]
  },
  {
   "cell_type": "code",
   "execution_count": null,
   "id": "66e158bf",
   "metadata": {},
   "outputs": [],
   "source": []
  }
 ],
 "metadata": {
  "kernelspec": {
   "display_name": "Python 3 (ipykernel)",
   "language": "python",
   "name": "python3"
  },
  "language_info": {
   "codemirror_mode": {
    "name": "ipython",
    "version": 3
   },
   "file_extension": ".py",
   "mimetype": "text/x-python",
   "name": "python",
   "nbconvert_exporter": "python",
   "pygments_lexer": "ipython3",
   "version": "3.8.0"
  },
  "toc": {
   "base_numbering": 1,
   "nav_menu": {},
   "number_sections": true,
   "sideBar": true,
   "skip_h1_title": false,
   "title_cell": "Table of Contents",
   "title_sidebar": "Contents",
   "toc_cell": false,
   "toc_position": {},
   "toc_section_display": true,
   "toc_window_display": false
  }
 },
 "nbformat": 4,
 "nbformat_minor": 5
}
