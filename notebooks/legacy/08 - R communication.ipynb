{
 "cells": [
  {
   "cell_type": "code",
   "execution_count": 24,
   "id": "4fda942b",
   "metadata": {
    "ExecuteTime": {
     "end_time": "2021-11-27T01:15:41.350837Z",
     "start_time": "2021-11-27T01:15:41.346790Z"
    }
   },
   "outputs": [],
   "source": [
    "input_folder = \"../data/MVP/execution_results/1637950927_5474_CirqCircuit.json\""
   ]
  },
  {
   "cell_type": "code",
   "execution_count": 25,
   "id": "05218780",
   "metadata": {
    "ExecuteTime": {
     "end_time": "2021-11-27T01:15:41.824423Z",
     "start_time": "2021-11-27T01:15:41.817971Z"
    }
   },
   "outputs": [],
   "source": [
    "def obtain_raw_samples(summary_dict, representation='binary'):\n",
    "    \"\"\"Create raw samples.\n",
    "    Params:\n",
    "    - representation (default: 'binary')\n",
    "        'binary', you get the string representation.\n",
    "        'natural', you get the natural int representation.\n",
    "    \"\"\"\n",
    "    raw_samples = []\n",
    "    for value in summary_dict.keys():\n",
    "        occurrences_of_value = summary_dict[value]\n",
    "        if representation == 'natural':\n",
    "            value = int(value, 2)\n",
    "        raw_samples.extend([value] * occurrences_of_value)\n",
    "\n",
    "    return raw_samples"
   ]
  },
  {
   "cell_type": "code",
   "execution_count": 26,
   "id": "823a566d",
   "metadata": {
    "ExecuteTime": {
     "end_time": "2021-11-27T01:15:42.138722Z",
     "start_time": "2021-11-27T01:15:42.133714Z"
    }
   },
   "outputs": [],
   "source": [
    "def get_json(path):\n",
    "    with open(path, 'r') as f:\n",
    "        return json.load(f)"
   ]
  },
  {
   "cell_type": "code",
   "execution_count": 27,
   "id": "ad7f1677",
   "metadata": {
    "ExecuteTime": {
     "end_time": "2021-11-27T01:15:42.404561Z",
     "start_time": "2021-11-27T01:15:42.400901Z"
    }
   },
   "outputs": [],
   "source": [
    "import json\n",
    "import pandas as pd"
   ]
  },
  {
   "cell_type": "code",
   "execution_count": 28,
   "id": "28d50754",
   "metadata": {
    "ExecuteTime": {
     "end_time": "2021-11-27T01:15:42.703470Z",
     "start_time": "2021-11-27T01:15:42.695444Z"
    }
   },
   "outputs": [],
   "source": [
    "results_A = get_json(input_folder)"
   ]
  },
  {
   "cell_type": "code",
   "execution_count": 29,
   "id": "dcf4537c",
   "metadata": {
    "ExecuteTime": {
     "end_time": "2021-11-27T01:15:43.173785Z",
     "start_time": "2021-11-27T01:15:43.168748Z"
    }
   },
   "outputs": [],
   "source": [
    "samples_A = obtain_raw_samples(results_A)"
   ]
  },
  {
   "cell_type": "code",
   "execution_count": 30,
   "id": "f413051a",
   "metadata": {
    "ExecuteTime": {
     "end_time": "2021-11-27T01:15:48.247978Z",
     "start_time": "2021-11-27T01:15:48.201963Z"
    }
   },
   "outputs": [],
   "source": [
    "nested_A = [\n",
    "    [c for c in str_repr] for str_repr in samples_A  \n",
    "]\n",
    "df = pd.DataFrame(nested_A)\n",
    "df.to_csv(\"../data/MVP/B.csv\", index=False)"
   ]
  },
  {
   "cell_type": "code",
   "execution_count": null,
   "id": "7660ced4",
   "metadata": {},
   "outputs": [],
   "source": []
  }
 ],
 "metadata": {
  "kernelspec": {
   "display_name": "Python 3 (ipykernel)",
   "language": "python",
   "name": "python3"
  },
  "language_info": {
   "codemirror_mode": {
    "name": "ipython",
    "version": 3
   },
   "file_extension": ".py",
   "mimetype": "text/x-python",
   "name": "python",
   "nbconvert_exporter": "python",
   "pygments_lexer": "ipython3",
   "version": "3.8.0"
  },
  "toc": {
   "base_numbering": 1,
   "nav_menu": {},
   "number_sections": true,
   "sideBar": true,
   "skip_h1_title": false,
   "title_cell": "Table of Contents",
   "title_sidebar": "Contents",
   "toc_cell": false,
   "toc_position": {},
   "toc_section_display": true,
   "toc_window_display": false
  }
 },
 "nbformat": 4,
 "nbformat_minor": 5
}
