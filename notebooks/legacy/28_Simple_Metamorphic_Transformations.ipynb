{
 "cells": [
  {
   "cell_type": "code",
   "execution_count": 1,
   "id": "1bb18cf9",
   "metadata": {
    "ExecuteTime": {
     "end_time": "2022-02-02T14:46:17.530075Z",
     "start_time": "2022-02-02T14:46:17.525354Z"
    }
   },
   "outputs": [],
   "source": [
    "# GOAL: \n",
    "# Given a qasm file content apply the transformation, then run the program \n",
    "# on the same platform (QISKIT), which has a perfect reading of QASM files\n",
    "# and them:\n",
    "# - run program VS\n",
    "# - run matamorph(program)\n",
    "\n",
    "# Metamorphic relationship \n",
    "# - 'qubit_order': permute the order of qubits but fix the mapping to HW\n",
    "# - ''"
   ]
  },
  {
   "cell_type": "code",
   "execution_count": 2,
   "id": "e0391a6a",
   "metadata": {
    "ExecuteTime": {
     "end_time": "2022-02-02T14:46:21.932803Z",
     "start_time": "2022-02-02T14:46:17.533854Z"
    }
   },
   "outputs": [],
   "source": [
    "import pandas as pd\n",
    "import sys\n",
    "sys.path.append(\"../lib\")\n",
    "import seaborn as sns\n",
    "import matplotlib.pyplot as plt\n",
    "from utils import iterate_over\n",
    "from utils import load_config_and_check\n",
    "from inspector import Inspector\n",
    "from tqdm import tqdm\n",
    "import sqlite3 as sl\n",
    "import os"
   ]
  },
  {
   "cell_type": "code",
   "execution_count": 3,
   "id": "c40b9736",
   "metadata": {
    "ExecuteTime": {
     "end_time": "2022-02-02T14:46:21.958068Z",
     "start_time": "2022-02-02T14:46:21.937489Z"
    }
   },
   "outputs": [],
   "source": [
    "%load_ext autoreload\n",
    "%autoreload 2"
   ]
  },
  {
   "cell_type": "code",
   "execution_count": 4,
   "id": "e4cc9edf",
   "metadata": {
    "ExecuteTime": {
     "end_time": "2022-02-02T14:46:27.995612Z",
     "start_time": "2022-02-02T14:46:21.960051Z"
    }
   },
   "outputs": [],
   "source": [
    "from detectors import KS_Detector"
   ]
  },
  {
   "cell_type": "code",
   "execution_count": 5,
   "id": "4e750466",
   "metadata": {
    "ExecuteTime": {
     "end_time": "2022-02-02T14:46:28.021165Z",
     "start_time": "2022-02-02T14:46:27.997120Z"
    }
   },
   "outputs": [],
   "source": [
    "#QASM_PATH = \"stub_files/example.qasm\"\n",
    "QASM_PATH = \"stub_files/easy_example.qasm\"\n",
    "QASM_CONTENT = open(QASM_PATH, 'r').read()"
   ]
  },
  {
   "cell_type": "code",
   "execution_count": 6,
   "id": "b2046d2c",
   "metadata": {
    "ExecuteTime": {
     "end_time": "2022-02-02T14:46:28.043096Z",
     "start_time": "2022-02-02T14:46:28.022588Z"
    }
   },
   "outputs": [
    {
     "name": "stdout",
     "output_type": "stream",
     "text": [
      "OPENQASM 2.0;\n",
      "include \"qelib1.inc\";\n",
      "qreg q[4];\n",
      "creg c[4];\n",
      "h q[0];\n",
      "cx q[0], q[1];\n",
      "ry(1.11) q[2];\n",
      "rz(2.22) q[2];\n",
      "cx q[2], q[3];\n",
      "h q[3];\n",
      "h q[1];\n",
      "barrier q;\n",
      "measure q -> c;\n"
     ]
    }
   ],
   "source": [
    "print(QASM_CONTENT)"
   ]
  },
  {
   "cell_type": "code",
   "execution_count": 7,
   "id": "140c59c4",
   "metadata": {
    "ExecuteTime": {
     "end_time": "2022-02-02T14:46:30.633429Z",
     "start_time": "2022-02-02T14:46:28.044526Z"
    }
   },
   "outputs": [],
   "source": [
    "import qiskit\n",
    "from qiskit import QuantumCircuit\n",
    "from qiskit import Aer, transpile\n"
   ]
  },
  {
   "cell_type": "code",
   "execution_count": 8,
   "id": "e591d050",
   "metadata": {
    "ExecuteTime": {
     "end_time": "2022-02-02T14:46:30.676568Z",
     "start_time": "2022-02-02T14:46:30.635458Z"
    }
   },
   "outputs": [
    {
     "data": {
      "text/plain": [
       "'110'"
      ]
     },
     "execution_count": 8,
     "metadata": {},
     "output_type": "execute_result"
    }
   ],
   "source": [
    "import re\n",
    "import uuid\n",
    "from typing import Dict, Any, List\n",
    "import numpy as np\n",
    "\n",
    "def get_n_qubits(qasm_content: str) -> int:\n",
    "    m = re.search(\"qreg q\\[(\\d*)\", qasm_content)\n",
    "    if m:\n",
    "        return int(m.group(1))\n",
    "    return -1\n",
    "\n",
    "def replace_all_reg_occurrences(qasm_content: str, start: str, end: str) -> str:\n",
    "    qasm_content = qasm_content.replace(f\"q[{start}]\", f\"q[{end}]\")\n",
    "    qasm_content = qasm_content.replace(f\"c[{start}]\", f\"c[{end}]\")\n",
    "    return qasm_content\n",
    "\n",
    "def scramble_qubits(qasm_content: str, qubits_mapping: Dict[int, int]):\n",
    "    \"\"\"Swap the qubits based on order.\"\"\"\n",
    "    pairs = [{\"start\": k, \"end\": v} for k, v in qubits_mapping.items()]\n",
    "    triplets = [ {\"tmp\": uuid.uuid4().hex, **p} for p in pairs]\n",
    "    print(\"-\" * 80)\n",
    "    print(qubits_mapping)\n",
    "    for triplet in triplets:\n",
    "        qasm_content = replace_all_reg_occurrences(\n",
    "            qasm_content, start=triplet[\"start\"], end=triplet[\"tmp\"])\n",
    "    for triplet in triplets:\n",
    "        qasm_content = replace_all_reg_occurrences(\n",
    "            qasm_content, start=triplet[\"tmp\"], end=triplet[\"end\"])\n",
    "    return qasm_content\n",
    "        \n",
    "def create_random_mapping(qasm_content: str, seed: int = None) -> Dict[int, int]:\n",
    "    max_qubits = get_n_qubits(qasm_content)\n",
    "    if seed: \n",
    "        np.random.seed(seed)\n",
    "    start_qubits = np.arange(max_qubits)\n",
    "    np.random.shuffle(start_qubits)\n",
    "    end_qubits = np.arange(max_qubits)\n",
    "    np.random.shuffle(end_qubits)\n",
    "    return {f: s for f, s in zip(start_qubits, end_qubits)}\n",
    "  \n",
    "def read_str_with_mapping(bitstring: str, direct_mapping: Dict[int, int]):\n",
    "    \"\"\"Given a bitstring convert it to the original mapping.\"\"\"\n",
    "    n_bits = len(bitstring)\n",
    "    return \"\".join([bitstring[direct_mapping[i]] for i in range(n_bits)])\n",
    "    \n",
    "def convert_result_to_mapping(result: Dict[str, int], qubits_mapping: Dict[int, int]):\n",
    "    \"\"\"Convert the result via the given mapping.\n",
    "    \n",
    "    because a qubit maping will make also the result scrambled thus we have\n",
    "    to reverse the mapping and read the results.\n",
    "    \"\"\"\n",
    "    return {\n",
    "        read_str_with_mapping(bitstring, qubits_mapping): freq\n",
    "        for bitstring, freq in result.items()\n",
    "    }\n",
    "\n",
    "read_str_with_mapping(\"011\", {0:1, 1:2, 2:0})"
   ]
  },
  {
   "cell_type": "code",
   "execution_count": 9,
   "id": "512a4f02",
   "metadata": {
    "ExecuteTime": {
     "end_time": "2022-02-02T14:46:30.798340Z",
     "start_time": "2022-02-02T14:46:30.679517Z"
    }
   },
   "outputs": [
    {
     "name": "stdout",
     "output_type": "stream",
     "text": [
      "--------------------------------------------------------------------------------\n",
      "BEFORE\n",
      "OPENQASM 2.0;\n",
      "include \"qelib1.inc\";\n",
      "qreg q[4];\n",
      "creg c[4];\n",
      "h q[0];\n",
      "cx q[0], q[1];\n",
      "ry(1.11) q[2];\n",
      "rz(2.22) q[2];\n",
      "cx q[2], q[3];\n",
      "h q[3];\n",
      "h q[1];\n",
      "barrier q;\n",
      "measure q -> c;\n",
      "--------------------------------------------------------------------------------\n",
      "{1: 3, 2: 0, 0: 1, 3: 2}\n",
      "--------------------------------------------------------------------------------\n",
      "AFTER\n",
      "OPENQASM 2.0;\n",
      "include \"qelib1.inc\";\n",
      "qreg q[4];\n",
      "creg c[4];\n",
      "h q[1];\n",
      "cx q[1], q[3];\n",
      "ry(1.11) q[0];\n",
      "rz(2.22) q[0];\n",
      "cx q[0], q[2];\n",
      "h q[2];\n",
      "h q[3];\n",
      "barrier q;\n",
      "measure q -> c;\n",
      "Morphed version saved here: stub_files/easy_example.qasm_morphed\n"
     ]
    }
   ],
   "source": [
    "def morph_qubit_order(qasm_path, seed: int = 42):\n",
    "    \"\"\"Change the qubit order\"\"\"\n",
    "    content = open(qasm_path, 'r').read()\n",
    "    print(\"-\" * 80)\n",
    "    print(\"BEFORE\")\n",
    "    print(content)\n",
    "    random_mapping = create_random_mapping(qasm_content=content, seed=seed) \n",
    "    new_qasm = scramble_qubits(qasm_content=content, qubits_mapping=random_mapping)\n",
    "    new_qasm_path = qasm_path + \"_morphed\"\n",
    "    with open(new_qasm_path, 'w') as out_file:\n",
    "        out_file.write(new_qasm)\n",
    "    print(\"-\" * 80)\n",
    "    print(\"AFTER\")\n",
    "    print(new_qasm)\n",
    "    print(f\"Morphed version saved here: {new_qasm_path}\")\n",
    "    new_qc = QuantumCircuit.from_qasm_file(new_qasm_path)\n",
    "    return new_qc, random_mapping\n",
    "\n",
    "new_qc, new_mapping = morph_qubit_order(qasm_path=QASM_PATH, seed=14)"
   ]
  },
  {
   "cell_type": "code",
   "execution_count": 10,
   "id": "4e8088c1",
   "metadata": {
    "ExecuteTime": {
     "end_time": "2022-02-02T14:46:30.833565Z",
     "start_time": "2022-02-02T14:46:30.800217Z"
    }
   },
   "outputs": [
    {
     "data": {
      "text/html": [
       "<pre style=\"word-wrap: normal;white-space: pre;background: #fff0;line-height: 1.1;font-family: &quot;Courier New&quot;,Courier,monospace\">     ┌──────────┐┌──────────┐           ░ ┌─┐         \n",
       "q_0: ┤ Ry(1.11) ├┤ Rz(2.22) ├──■────────░─┤M├─────────\n",
       "     └──┬───┬───┘└──────────┘  │        ░ └╥┘┌─┐      \n",
       "q_1: ───┤ H ├─────────■────────┼────────░──╫─┤M├──────\n",
       "        └───┘         │      ┌─┴─┐┌───┐ ░  ║ └╥┘┌─┐   \n",
       "q_2: ─────────────────┼──────┤ X ├┤ H ├─░──╫──╫─┤M├───\n",
       "                    ┌─┴─┐    ├───┤└───┘ ░  ║  ║ └╥┘┌─┐\n",
       "q_3: ───────────────┤ X ├────┤ H ├──────░──╫──╫──╫─┤M├\n",
       "                    └───┘    └───┘      ░  ║  ║  ║ └╥┘\n",
       "c: 4/══════════════════════════════════════╩══╩══╩══╩═\n",
       "                                           0  1  2  3 </pre>"
      ],
      "text/plain": [
       "     ┌──────────┐┌──────────┐           ░ ┌─┐         \n",
       "q_0: ┤ Ry(1.11) ├┤ Rz(2.22) ├──■────────░─┤M├─────────\n",
       "     └──┬───┬───┘└──────────┘  │        ░ └╥┘┌─┐      \n",
       "q_1: ───┤ H ├─────────■────────┼────────░──╫─┤M├──────\n",
       "        └───┘         │      ┌─┴─┐┌───┐ ░  ║ └╥┘┌─┐   \n",
       "q_2: ─────────────────┼──────┤ X ├┤ H ├─░──╫──╫─┤M├───\n",
       "                    ┌─┴─┐    ├───┤└───┘ ░  ║  ║ └╥┘┌─┐\n",
       "q_3: ───────────────┤ X ├────┤ H ├──────░──╫──╫──╫─┤M├\n",
       "                    └───┘    └───┘      ░  ║  ║  ║ └╥┘\n",
       "c: 4/══════════════════════════════════════╩══╩══╩══╩═\n",
       "                                           0  1  2  3 "
      ]
     },
     "execution_count": 10,
     "metadata": {},
     "output_type": "execute_result"
    }
   ],
   "source": [
    "new_qc.draw(fold=-1)"
   ]
  },
  {
   "cell_type": "code",
   "execution_count": 11,
   "id": "6574ba15",
   "metadata": {
    "ExecuteTime": {
     "end_time": "2022-02-02T14:46:31.010065Z",
     "start_time": "2022-02-02T14:46:30.835125Z"
    }
   },
   "outputs": [],
   "source": [
    "qc = QuantumCircuit.from_qasm_file(QASM_PATH)"
   ]
  },
  {
   "cell_type": "code",
   "execution_count": 12,
   "id": "02524111",
   "metadata": {
    "ExecuteTime": {
     "end_time": "2022-02-02T14:46:31.044002Z",
     "start_time": "2022-02-02T14:46:31.011697Z"
    }
   },
   "outputs": [
    {
     "data": {
      "text/html": [
       "<pre style=\"word-wrap: normal;white-space: pre;background: #fff0;line-height: 1.1;font-family: &quot;Courier New&quot;,Courier,monospace\">        ┌───┐                           ░ ┌─┐         \n",
       "q_0: ───┤ H ├─────────■─────────────────░─┤M├─────────\n",
       "        └───┘       ┌─┴─┐    ┌───┐      ░ └╥┘┌─┐      \n",
       "q_1: ───────────────┤ X ├────┤ H ├──────░──╫─┤M├──────\n",
       "     ┌──────────┐┌──┴───┴───┐└───┘      ░  ║ └╥┘┌─┐   \n",
       "q_2: ┤ Ry(1.11) ├┤ Rz(2.22) ├──■────────░──╫──╫─┤M├───\n",
       "     └──────────┘└──────────┘┌─┴─┐┌───┐ ░  ║  ║ └╥┘┌─┐\n",
       "q_3: ────────────────────────┤ X ├┤ H ├─░──╫──╫──╫─┤M├\n",
       "                             └───┘└───┘ ░  ║  ║  ║ └╥┘\n",
       "c: 4/══════════════════════════════════════╩══╩══╩══╩═\n",
       "                                           0  1  2  3 </pre>"
      ],
      "text/plain": [
       "        ┌───┐                           ░ ┌─┐         \n",
       "q_0: ───┤ H ├─────────■─────────────────░─┤M├─────────\n",
       "        └───┘       ┌─┴─┐    ┌───┐      ░ └╥┘┌─┐      \n",
       "q_1: ───────────────┤ X ├────┤ H ├──────░──╫─┤M├──────\n",
       "     ┌──────────┐┌──┴───┴───┐└───┘      ░  ║ └╥┘┌─┐   \n",
       "q_2: ┤ Ry(1.11) ├┤ Rz(2.22) ├──■────────░──╫──╫─┤M├───\n",
       "     └──────────┘└──────────┘┌─┴─┐┌───┐ ░  ║  ║ └╥┘┌─┐\n",
       "q_3: ────────────────────────┤ X ├┤ H ├─░──╫──╫──╫─┤M├\n",
       "                             └───┘└───┘ ░  ║  ║  ║ └╥┘\n",
       "c: 4/══════════════════════════════════════╩══╩══╩══╩═\n",
       "                                           0  1  2  3 "
      ]
     },
     "execution_count": 12,
     "metadata": {},
     "output_type": "execute_result"
    }
   ],
   "source": [
    "qc.draw(fold=-1)"
   ]
  },
  {
   "cell_type": "code",
   "execution_count": 37,
   "id": "786d023d",
   "metadata": {
    "ExecuteTime": {
     "end_time": "2022-02-02T15:00:12.958067Z",
     "start_time": "2022-02-02T15:00:12.921708Z"
    }
   },
   "outputs": [],
   "source": [
    "def execute_circuit(circuit_to_execute: QuantumCircuit, shots: int = 8192, coupling_map=None):\n",
    "    # Transpile for simulator\n",
    "    simulator = Aer.get_backend('aer_simulator')\n",
    "    circ = transpile(circuit_to_execute, simulator, coupling_map=coupling_map)\n",
    "    print(circ)\n",
    "    # Run and get counts\n",
    "    result = simulator.run(circ, shots=shots).result()\n",
    "    counts = result.get_counts(circ)\n",
    "    return counts"
   ]
  },
  {
   "cell_type": "code",
   "execution_count": 23,
   "id": "03d0a172",
   "metadata": {
    "ExecuteTime": {
     "end_time": "2022-02-02T14:51:00.789353Z",
     "start_time": "2022-02-02T14:51:00.755236Z"
    }
   },
   "outputs": [],
   "source": [
    "from qiskit.transpiler import CouplingMap\n",
    "from itertools import combinations"
   ]
  },
  {
   "cell_type": "code",
   "execution_count": 43,
   "id": "f3d68ed8",
   "metadata": {
    "ExecuteTime": {
     "end_time": "2022-02-02T15:02:14.765731Z",
     "start_time": "2022-02-02T15:02:14.718337Z"
    }
   },
   "outputs": [],
   "source": [
    "def generate_random_coupling_map(n_qubits: int = 4, dropout: float = 0.3, seed: int = 42):\n",
    "    \"\"\"Create a random qubits connection list for the coupling map.\"\"\"\n",
    "    np.random.seed(seed)\n",
    "    idxs = range(n_qubits)\n",
    "    all_possible_connections = np.array(list(combinations(idxs, 2)))\n",
    "    rnd_choice_mask = np.random.choice(\n",
    "        [True, False], size=len(all_possible_connections), \n",
    "        p=[1 - dropout, dropout])\n",
    "    return list(all_possible_connections[rnd_choice_mask])\n",
    "    \n",
    "cm_original = CouplingMap(generate_random_coupling_map(n_qubits=4, seed=42))\n",
    "cm_new = CouplingMap(generate_random_coupling_map(n_qubits=4, seed=1234))\n"
   ]
  },
  {
   "cell_type": "code",
   "execution_count": 44,
   "id": "2960836b",
   "metadata": {
    "ExecuteTime": {
     "end_time": "2022-02-02T15:02:15.715132Z",
     "start_time": "2022-02-02T15:02:15.486097Z"
    }
   },
   "outputs": [
    {
     "name": "stdout",
     "output_type": "stream",
     "text": [
      "global phase: 5.1732\n",
      "                ┌───┐                  ░ ┌─┐         \n",
      "q_0 -> 0 ───────┤ H ├─────────■────────░─┤M├─────────\n",
      "                └───┘       ┌─┴─┐┌───┐ ░ └╥┘┌─┐      \n",
      "q_1 -> 1 ───────────────────┤ X ├┤ H ├─░──╫─┤M├──────\n",
      "         ┌─────────────────┐└───┘└───┘ ░  ║ └╥┘┌─┐   \n",
      "q_2 -> 2 ┤ U3(1.11,2.22,0) ├──■────────░──╫──╫─┤M├───\n",
      "         └─────────────────┘┌─┴─┐┌───┐ ░  ║  ║ └╥┘┌─┐\n",
      "q_3 -> 3 ───────────────────┤ X ├┤ H ├─░──╫──╫──╫─┤M├\n",
      "                            └───┘└───┘ ░  ║  ║  ║ └╥┘\n",
      "    c: 4/═════════════════════════════════╩══╩══╩══╩═\n",
      "                                          0  1  2  3 \n",
      "global phase: 5.1732\n",
      "                     ┌───┐                       ┌───┐   ┌───┐           ░    »\n",
      "q_2 -> 0 ─────X──────┤ H ├────────────────────■──┤ H ├─X─┤ H ├──■────────░────»\n",
      "              │      └───┘                    │  └───┘ │ ├───┤  │        ░    »\n",
      "q_3 -> 1 ─────X───────────────────────────────┼────────X─┤ H ├──┼────────░────»\n",
      "            ┌───┐         ┌────────────────┐  │          └───┘┌─┴─┐┌───┐ ░ ┌─┐»\n",
      "q_1 -> 2 ───┤ H ├──────X──┤ U2(0,-0.92159) ├──┼───────────────┤ X ├┤ H ├─░─┤M├»\n",
      "         ┌──┴───┴───┐  │  └─────┬───┬──────┘┌─┴─┐┌───┐        └───┘└───┘ ░ └╥┘»\n",
      "q_0 -> 3 ┤ Ry(1.11) ├──X────────┤ H ├───────┤ X ├┤ H ├───────────────────░──╫─»\n",
      "         └──────────┘           └───┘       └───┘└───┘                   ░  ║ »\n",
      "    c: 4/═══════════════════════════════════════════════════════════════════╩═»\n",
      "                                                                            0 »\n",
      "«            ┌─┐   \n",
      "«q_2 -> 0 ───┤M├───\n",
      "«            └╥┘┌─┐\n",
      "«q_3 -> 1 ────╫─┤M├\n",
      "«             ║ └╥┘\n",
      "«q_1 -> 2 ────╫──╫─\n",
      "«         ┌─┐ ║  ║ \n",
      "«q_0 -> 3 ┤M├─╫──╫─\n",
      "«         └╥┘ ║  ║ \n",
      "«    c: 4/═╩══╩══╩═\n",
      "«          1  2  3 \n"
     ]
    }
   ],
   "source": [
    "original_res = execute_circuit(circuit_to_execute=qc, coupling_map=cm_original)\n",
    "morphed_res = execute_circuit(circuit_to_execute=new_qc, coupling_map=cm_new)\n",
    "reordered_morphed_res = convert_result_to_mapping(morphed_res, new_mapping)"
   ]
  },
  {
   "cell_type": "code",
   "execution_count": 45,
   "id": "3fa15111",
   "metadata": {
    "ExecuteTime": {
     "end_time": "2022-02-02T15:02:23.679078Z",
     "start_time": "2022-02-02T15:02:23.644720Z"
    }
   },
   "outputs": [
    {
     "data": {
      "text/plain": [
       "{'1110': 271,\n",
       " '1100': 274,\n",
       " '0100': 293,\n",
       " '0001': 731,\n",
       " '1111': 256,\n",
       " '0000': 746,\n",
       " '0010': 782,\n",
       " '1011': 774,\n",
       " '0011': 703,\n",
       " '0111': 268,\n",
       " '1000': 740,\n",
       " '0110': 293,\n",
       " '1101': 295,\n",
       " '1010': 720,\n",
       " '1001': 738,\n",
       " '0101': 308}"
      ]
     },
     "execution_count": 45,
     "metadata": {},
     "output_type": "execute_result"
    }
   ],
   "source": [
    "original_res"
   ]
  },
  {
   "cell_type": "code",
   "execution_count": 46,
   "id": "5766b46d",
   "metadata": {
    "ExecuteTime": {
     "end_time": "2022-02-02T15:02:24.099484Z",
     "start_time": "2022-02-02T15:02:24.065528Z"
    }
   },
   "outputs": [
    {
     "data": {
      "text/plain": [
       "{'1100': 752,\n",
       " '0010': 708,\n",
       " '1011': 289,\n",
       " '0111': 303,\n",
       " '0011': 285,\n",
       " '1110': 728,\n",
       " '1001': 290,\n",
       " '0101': 283,\n",
       " '1111': 259,\n",
       " '0001': 285,\n",
       " '1010': 734,\n",
       " '1101': 283,\n",
       " '1000': 675,\n",
       " '0110': 808,\n",
       " '0000': 727,\n",
       " '0100': 783}"
      ]
     },
     "execution_count": 46,
     "metadata": {},
     "output_type": "execute_result"
    }
   ],
   "source": [
    "morphed_res"
   ]
  },
  {
   "cell_type": "code",
   "execution_count": 47,
   "id": "aa6a700b",
   "metadata": {
    "ExecuteTime": {
     "end_time": "2022-02-02T15:02:24.990925Z",
     "start_time": "2022-02-02T15:02:24.952858Z"
    }
   },
   "outputs": [
    {
     "data": {
      "text/plain": [
       "{'1010': 752,\n",
       " '0001': 708,\n",
       " '0111': 289,\n",
       " '1101': 303,\n",
       " '0101': 285,\n",
       " '1011': 728,\n",
       " '0110': 290,\n",
       " '1100': 283,\n",
       " '1111': 259,\n",
       " '0100': 285,\n",
       " '0011': 734,\n",
       " '1110': 283,\n",
       " '0010': 675,\n",
       " '1001': 808,\n",
       " '0000': 727,\n",
       " '1000': 783}"
      ]
     },
     "execution_count": 47,
     "metadata": {},
     "output_type": "execute_result"
    }
   ],
   "source": [
    "reordered_morphed_res"
   ]
  },
  {
   "cell_type": "code",
   "execution_count": 52,
   "id": "3e9a9903",
   "metadata": {
    "ExecuteTime": {
     "end_time": "2022-02-02T15:04:30.041597Z",
     "start_time": "2022-02-02T15:04:29.999791Z"
    }
   },
   "outputs": [
    {
     "name": "stdout",
     "output_type": "stream",
     "text": [
      "p_val_with_scrambled: 4.36241839563252e-49 [expected: divergence]\n",
      "Interpretation guide: very low pvalue => divergent programs\n"
     ]
    }
   ],
   "source": [
    "detector = KS_Detector()\n",
    "stat, p_val_with_scrambled = detector.check(original_res, morphed_res)\n",
    "print(f\"p_val_with_scrambled: {p_val_with_scrambled} [expected: divergence]\")\n",
    "print(\"Interpretation guide: very low pvalue => divergent programs\")"
   ]
  },
  {
   "cell_type": "code",
   "execution_count": 53,
   "id": "177c06a1",
   "metadata": {
    "ExecuteTime": {
     "end_time": "2022-02-02T15:04:30.354230Z",
     "start_time": "2022-02-02T15:04:30.310026Z"
    }
   },
   "outputs": [
    {
     "name": "stdout",
     "output_type": "stream",
     "text": [
      "p_val_with_reordered: 0.11915070001671184 [expected: no divergence]\n",
      "Interpretation guide: more than 0.05 pvalue => no divergence\n"
     ]
    }
   ],
   "source": [
    "detector = KS_Detector()\n",
    "stat, p_val_with_reordered  = detector.check(original_res, reordered_morphed_res)\n",
    "print(f\"p_val_with_reordered: {p_val_with_reordered} [expected: no divergence]\")\n",
    "print(\"Interpretation guide: more than 0.05 pvalue => no divergence\")"
   ]
  },
  {
   "cell_type": "markdown",
   "id": "ec892d83",
   "metadata": {},
   "source": [
    "# Bank of generated programs"
   ]
  },
  {
   "cell_type": "code",
   "execution_count": 20,
   "id": "bc38025e",
   "metadata": {
    "ExecuteTime": {
     "end_time": "2022-02-02T14:46:32.791105Z",
     "start_time": "2022-02-02T14:46:32.766691Z"
    }
   },
   "outputs": [],
   "source": [
    "PATH_PROGRAMS = \"../data/q\""
   ]
  },
  {
   "cell_type": "code",
   "execution_count": 21,
   "id": "426d04aa",
   "metadata": {
    "ExecuteTime": {
     "end_time": "2022-02-02T14:46:32.816094Z",
     "start_time": "2022-02-02T14:46:32.792338Z"
    }
   },
   "outputs": [],
   "source": [
    "def motamorphic_run():\n",
    "    pass"
   ]
  }
 ],
 "metadata": {
  "kernelspec": {
   "display_name": "Python 3 (ipykernel)",
   "language": "python",
   "name": "python3"
  },
  "language_info": {
   "codemirror_mode": {
    "name": "ipython",
    "version": 3
   },
   "file_extension": ".py",
   "mimetype": "text/x-python",
   "name": "python",
   "nbconvert_exporter": "python",
   "pygments_lexer": "ipython3",
   "version": "3.8.0"
  },
  "toc": {
   "base_numbering": 1,
   "nav_menu": {},
   "number_sections": true,
   "sideBar": true,
   "skip_h1_title": false,
   "title_cell": "Table of Contents",
   "title_sidebar": "Contents",
   "toc_cell": false,
   "toc_position": {},
   "toc_section_display": true,
   "toc_window_display": false
  }
 },
 "nbformat": 4,
 "nbformat_minor": 5
}
