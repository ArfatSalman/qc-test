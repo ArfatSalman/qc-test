{
 "cells": [
  {
   "cell_type": "code",
   "execution_count": null,
   "id": "1fa6e711",
   "metadata": {},
   "outputs": [],
   "source": [
    "# get some quantum programs"
   ]
  },
  {
   "cell_type": "code",
   "execution_count": 1,
   "id": "6824e98a",
   "metadata": {
    "ExecuteTime": {
     "end_time": "2021-10-22T14:33:18.279313Z",
     "start_time": "2021-10-22T14:33:17.024540Z"
    }
   },
   "outputs": [],
   "source": [
    "import qiskit\n",
    "import matplotlib.pyplot as plt"
   ]
  },
  {
   "cell_type": "code",
   "execution_count": 2,
   "id": "c51c85f4",
   "metadata": {
    "ExecuteTime": {
     "end_time": "2021-10-22T14:33:19.025288Z",
     "start_time": "2021-10-22T14:33:18.282324Z"
    }
   },
   "outputs": [],
   "source": [
    "# initialization\n",
    "import numpy as np\n",
    "\n",
    "# importing Qiskit\n",
    "from qiskit import IBMQ, Aer\n",
    "from qiskit.providers.ibmq import least_busy\n",
    "from qiskit import QuantumCircuit, assemble, transpile\n",
    "\n",
    "# import basic plot tools\n",
    "from qiskit.visualization import plot_histogram"
   ]
  },
  {
   "cell_type": "code",
   "execution_count": 3,
   "id": "26997dee",
   "metadata": {
    "ExecuteTime": {
     "end_time": "2021-10-22T14:33:19.039816Z",
     "start_time": "2021-10-22T14:33:19.027547Z"
    }
   },
   "outputs": [
    {
     "data": {
      "text/html": [
       "<pre style=\"word-wrap: normal;white-space: pre;background: #fff0;line-height: 1.1;font-family: &quot;Courier New&quot;,Courier,monospace\">     \n",
       "q_0: \n",
       "     \n",
       "q_1: \n",
       "     \n",
       "q_2: \n",
       "     \n",
       "q_3: \n",
       "     </pre>"
      ],
      "text/plain": [
       "     \n",
       "q_0: \n",
       "     \n",
       "q_1: \n",
       "     \n",
       "q_2: \n",
       "     \n",
       "q_3: \n",
       "     "
      ]
     },
     "execution_count": 3,
     "metadata": {},
     "output_type": "execute_result"
    }
   ],
   "source": [
    "# set the length of the n-bit input string. \n",
    "n = 3\n",
    "\n",
    "const_oracle = QuantumCircuit(n+1)\n",
    "\n",
    "output = np.random.randint(2)\n",
    "if output == 1:\n",
    "    const_oracle.x(n)\n",
    "\n",
    "const_oracle.draw()"
   ]
  },
  {
   "cell_type": "code",
   "execution_count": 4,
   "id": "05b80e37",
   "metadata": {
    "ExecuteTime": {
     "end_time": "2021-10-22T14:33:19.060590Z",
     "start_time": "2021-10-22T14:33:19.042017Z"
    }
   },
   "outputs": [
    {
     "data": {
      "text/html": [
       "<pre style=\"word-wrap: normal;white-space: pre;background: #fff0;line-height: 1.1;font-family: &quot;Courier New&quot;,Courier,monospace\">     ┌───┐ ░                 ░ ┌───┐\n",
       "q_0: ┤ X ├─░───■─────────────░─┤ X ├\n",
       "     └───┘ ░   │             ░ └───┘\n",
       "q_1: ──────░───┼────■────────░──────\n",
       "     ┌───┐ ░   │    │        ░ ┌───┐\n",
       "q_2: ┤ X ├─░───┼────┼────■───░─┤ X ├\n",
       "     └───┘ ░ ┌─┴─┐┌─┴─┐┌─┴─┐ ░ └───┘\n",
       "q_3: ──────░─┤ X ├┤ X ├┤ X ├─░──────\n",
       "           ░ └───┘└───┘└───┘ ░      </pre>"
      ],
      "text/plain": [
       "     ┌───┐ ░                 ░ ┌───┐\n",
       "q_0: ┤ X ├─░───■─────────────░─┤ X ├\n",
       "     └───┘ ░   │             ░ └───┘\n",
       "q_1: ──────░───┼────■────────░──────\n",
       "     ┌───┐ ░   │    │        ░ ┌───┐\n",
       "q_2: ┤ X ├─░───┼────┼────■───░─┤ X ├\n",
       "     └───┘ ░ ┌─┴─┐┌─┴─┐┌─┴─┐ ░ └───┘\n",
       "q_3: ──────░─┤ X ├┤ X ├┤ X ├─░──────\n",
       "           ░ └───┘└───┘└───┘ ░      "
      ]
     },
     "execution_count": 4,
     "metadata": {},
     "output_type": "execute_result"
    }
   ],
   "source": [
    "balanced_oracle = QuantumCircuit(n+1)\n",
    "b_str = \"101\"\n",
    "\n",
    "# Place X-gates\n",
    "for qubit in range(len(b_str)):\n",
    "    if b_str[qubit] == '1':\n",
    "        balanced_oracle.x(qubit)\n",
    "\n",
    "# Use barrier as divider\n",
    "balanced_oracle.barrier()\n",
    "\n",
    "# Controlled-NOT gates\n",
    "for qubit in range(n):\n",
    "    balanced_oracle.cx(qubit, n)\n",
    "\n",
    "balanced_oracle.barrier()\n",
    "\n",
    "# Place X-gates\n",
    "for qubit in range(len(b_str)):\n",
    "    if b_str[qubit] == '1':\n",
    "        balanced_oracle.x(qubit)\n",
    "\n",
    "# Show oracle\n",
    "balanced_oracle.draw()"
   ]
  },
  {
   "cell_type": "code",
   "execution_count": 5,
   "id": "825c8b4e",
   "metadata": {
    "ExecuteTime": {
     "end_time": "2021-10-22T14:33:19.075798Z",
     "start_time": "2021-10-22T14:33:19.062277Z"
    }
   },
   "outputs": [
    {
     "data": {
      "text/html": [
       "<pre style=\"word-wrap: normal;white-space: pre;background: #fff0;line-height: 1.1;font-family: &quot;Courier New&quot;,Courier,monospace\">     ┌───┐     \n",
       "q_0: ┤ H ├─────\n",
       "     ├───┤     \n",
       "q_1: ┤ H ├─────\n",
       "     ├───┤     \n",
       "q_2: ┤ H ├─────\n",
       "     ├───┤┌───┐\n",
       "q_3: ┤ X ├┤ H ├\n",
       "     └───┘└───┘\n",
       "c: 3/══════════\n",
       "               </pre>"
      ],
      "text/plain": [
       "     ┌───┐     \n",
       "q_0: ┤ H ├─────\n",
       "     ├───┤     \n",
       "q_1: ┤ H ├─────\n",
       "     ├───┤     \n",
       "q_2: ┤ H ├─────\n",
       "     ├───┤┌───┐\n",
       "q_3: ┤ X ├┤ H ├\n",
       "     └───┘└───┘\n",
       "c: 3/══════════\n",
       "               "
      ]
     },
     "execution_count": 5,
     "metadata": {},
     "output_type": "execute_result"
    }
   ],
   "source": [
    "dj_circuit = QuantumCircuit(n+1, n)\n",
    "\n",
    "# Apply H-gates\n",
    "for qubit in range(n):\n",
    "    dj_circuit.h(qubit)\n",
    "\n",
    "# Put qubit in state |->\n",
    "dj_circuit.x(n)\n",
    "dj_circuit.h(n)\n",
    "dj_circuit.draw()"
   ]
  },
  {
   "cell_type": "code",
   "execution_count": 6,
   "id": "a43d8d20",
   "metadata": {
    "ExecuteTime": {
     "end_time": "2021-10-22T14:33:20.823818Z",
     "start_time": "2021-10-22T14:33:20.795563Z"
    }
   },
   "outputs": [
    {
     "name": "stderr",
     "output_type": "stream",
     "text": [
      "/tmp/ipykernel_46306/525878989.py:12: DeprecationWarning: The QuantumCircuit.__iadd__() method is being deprecated. Use the compose() (potentially with the inplace=True argument) and tensor() methods which are more flexible w.r.t circuit register compatibility.\n",
      "  dj_circuit += balanced_oracle\n",
      "/home/XXXX-1/.conda/envs/ML4Quantum/lib/python3.8/site-packages/qiskit/circuit/quantumcircuit.py:942: DeprecationWarning: The QuantumCircuit.extend() method is being deprecated. Use the compose() (potentially with the inplace=True argument) and tensor() methods which are more flexible w.r.t circuit register compatibility.\n",
      "  return self.extend(rhs)\n"
     ]
    },
    {
     "data": {
      "text/html": [
       "<pre style=\"word-wrap: normal;white-space: pre;background: #fff0;line-height: 1.1;font-family: &quot;Courier New&quot;,Courier,monospace\">     ┌───┐┌───┐ ░                 ░ ┌───┐\n",
       "q_0: ┤ H ├┤ X ├─░───■─────────────░─┤ X ├\n",
       "     ├───┤└───┘ ░   │             ░ └───┘\n",
       "q_1: ┤ H ├──────░───┼────■────────░──────\n",
       "     ├───┤┌───┐ ░   │    │        ░ ┌───┐\n",
       "q_2: ┤ H ├┤ X ├─░───┼────┼────■───░─┤ X ├\n",
       "     ├───┤├───┤ ░ ┌─┴─┐┌─┴─┐┌─┴─┐ ░ └───┘\n",
       "q_3: ┤ X ├┤ H ├─░─┤ X ├┤ X ├┤ X ├─░──────\n",
       "     └───┘└───┘ ░ └───┘└───┘└───┘ ░      \n",
       "c: 3/════════════════════════════════════\n",
       "                                         </pre>"
      ],
      "text/plain": [
       "     ┌───┐┌───┐ ░                 ░ ┌───┐\n",
       "q_0: ┤ H ├┤ X ├─░───■─────────────░─┤ X ├\n",
       "     ├───┤└───┘ ░   │             ░ └───┘\n",
       "q_1: ┤ H ├──────░───┼────■────────░──────\n",
       "     ├───┤┌───┐ ░   │    │        ░ ┌───┐\n",
       "q_2: ┤ H ├┤ X ├─░───┼────┼────■───░─┤ X ├\n",
       "     ├───┤├───┤ ░ ┌─┴─┐┌─┴─┐┌─┴─┐ ░ └───┘\n",
       "q_3: ┤ X ├┤ H ├─░─┤ X ├┤ X ├┤ X ├─░──────\n",
       "     └───┘└───┘ ░ └───┘└───┘└───┘ ░      \n",
       "c: 3/════════════════════════════════════\n",
       "                                         "
      ]
     },
     "execution_count": 6,
     "metadata": {},
     "output_type": "execute_result"
    }
   ],
   "source": [
    "dj_circuit = QuantumCircuit(n+1, n)\n",
    "\n",
    "# Apply H-gates\n",
    "for qubit in range(n):\n",
    "    dj_circuit.h(qubit)\n",
    "\n",
    "# Put qubit in state |->\n",
    "dj_circuit.x(n)\n",
    "dj_circuit.h(n)\n",
    "\n",
    "# Add oracle\n",
    "dj_circuit += balanced_oracle\n",
    "dj_circuit.draw()"
   ]
  },
  {
   "cell_type": "code",
   "execution_count": 7,
   "id": "eb371c0b",
   "metadata": {
    "ExecuteTime": {
     "end_time": "2021-10-22T14:33:21.654380Z",
     "start_time": "2021-10-22T14:33:21.634179Z"
    }
   },
   "outputs": [
    {
     "data": {
      "text/html": [
       "<pre style=\"word-wrap: normal;white-space: pre;background: #fff0;line-height: 1.1;font-family: &quot;Courier New&quot;,Courier,monospace\">     ┌───┐┌───┐ ░                 ░ ┌───┐┌───┐ ░ ┌─┐      \n",
       "q_0: ┤ H ├┤ X ├─░───■─────────────░─┤ X ├┤ H ├─░─┤M├──────\n",
       "     ├───┤└───┘ ░   │             ░ ├───┤└───┘ ░ └╥┘┌─┐   \n",
       "q_1: ┤ H ├──────░───┼────■────────░─┤ H ├──────░──╫─┤M├───\n",
       "     ├───┤┌───┐ ░   │    │        ░ ├───┤┌───┐ ░  ║ └╥┘┌─┐\n",
       "q_2: ┤ H ├┤ X ├─░───┼────┼────■───░─┤ X ├┤ H ├─░──╫──╫─┤M├\n",
       "     ├───┤├───┤ ░ ┌─┴─┐┌─┴─┐┌─┴─┐ ░ └───┘└───┘ ░  ║  ║ └╥┘\n",
       "q_3: ┤ X ├┤ H ├─░─┤ X ├┤ X ├┤ X ├─░────────────░──╫──╫──╫─\n",
       "     └───┘└───┘ ░ └───┘└───┘└───┘ ░            ░  ║  ║  ║ \n",
       "c: 3/═════════════════════════════════════════════╩══╩══╩═\n",
       "                                                  0  1  2 </pre>"
      ],
      "text/plain": [
       "     ┌───┐┌───┐ ░                 ░ ┌───┐┌───┐ ░ ┌─┐      \n",
       "q_0: ┤ H ├┤ X ├─░───■─────────────░─┤ X ├┤ H ├─░─┤M├──────\n",
       "     ├───┤└───┘ ░   │             ░ ├───┤└───┘ ░ └╥┘┌─┐   \n",
       "q_1: ┤ H ├──────░───┼────■────────░─┤ H ├──────░──╫─┤M├───\n",
       "     ├───┤┌───┐ ░   │    │        ░ ├───┤┌───┐ ░  ║ └╥┘┌─┐\n",
       "q_2: ┤ H ├┤ X ├─░───┼────┼────■───░─┤ X ├┤ H ├─░──╫──╫─┤M├\n",
       "     ├───┤├───┤ ░ ┌─┴─┐┌─┴─┐┌─┴─┐ ░ └───┘└───┘ ░  ║  ║ └╥┘\n",
       "q_3: ┤ X ├┤ H ├─░─┤ X ├┤ X ├┤ X ├─░────────────░──╫──╫──╫─\n",
       "     └───┘└───┘ ░ └───┘└───┘└───┘ ░            ░  ║  ║  ║ \n",
       "c: 3/═════════════════════════════════════════════╩══╩══╩═\n",
       "                                                  0  1  2 "
      ]
     },
     "execution_count": 7,
     "metadata": {},
     "output_type": "execute_result"
    }
   ],
   "source": [
    "dj_circuit = QuantumCircuit(n+1, n)\n",
    "\n",
    "# Apply H-gates\n",
    "for qubit in range(n):\n",
    "    dj_circuit.h(qubit)\n",
    "\n",
    "# Put qubit in state |->\n",
    "dj_circuit.x(n)\n",
    "dj_circuit.h(n)\n",
    "\n",
    "# Add oracle\n",
    "dj_circuit += balanced_oracle\n",
    "\n",
    "# Repeat H-gates\n",
    "for qubit in range(n):\n",
    "    dj_circuit.h(qubit)\n",
    "dj_circuit.barrier()\n",
    "\n",
    "# Measure\n",
    "for i in range(n):\n",
    "    dj_circuit.measure(i, i)\n",
    "\n",
    "# Display circuit\n",
    "dj_circuit.draw()"
   ]
  },
  {
   "cell_type": "code",
   "execution_count": 8,
   "id": "610357b0",
   "metadata": {
    "ExecuteTime": {
     "end_time": "2021-10-22T14:33:24.059442Z",
     "start_time": "2021-10-22T14:33:22.683934Z"
    }
   },
   "outputs": [
    {
     "name": "stderr",
     "output_type": "stream",
     "text": [
      "/home/XXXX-1/.conda/envs/ML4Quantum/lib/python3.8/site-packages/qiskit/utils/deprecation.py:62: DeprecationWarning: Using a qobj for run() is deprecated as of qiskit-aer 0.9.0 and will be removed no sooner than 3 months from that release date. Transpiled circuits should now be passed directly using `backend.run(circuits, **run_options).\n",
      "  return func(*args, **kwargs)\n"
     ]
    },
    {
     "data": {
      "image/png": "[encoded data removed]",
      "text/plain": [
       "<Figure size 504x360 with 1 Axes>"
      ]
     },
     "execution_count": 8,
     "metadata": {},
     "output_type": "execute_result"
    }
   ],
   "source": [
    "\n",
    "# use local simulator\n",
    "aer_sim = Aer.get_backend('aer_simulator')\n",
    "shots = 1024\n",
    "qobj = assemble(dj_circuit, aer_sim)\n",
    "results = aer_sim.run(qobj).result()\n",
    "answer = results.get_counts()\n",
    "\n",
    "plot_histogram(answer)"
   ]
  },
  {
   "cell_type": "markdown",
   "id": "81dea102",
   "metadata": {},
   "source": [
    "# Genetic Algorithms"
   ]
  },
  {
   "cell_type": "code",
   "execution_count": 9,
   "id": "54266503",
   "metadata": {
    "ExecuteTime": {
     "end_time": "2021-10-22T14:33:25.773048Z",
     "start_time": "2021-10-22T14:33:25.768392Z"
    }
   },
   "outputs": [],
   "source": [
    "# create an encoding form gates > to circuit\n",
    "\n",
    "# (gate_id, qubit_index, parameter_1, parameter_2)\n",
    "\n",
    "# fitness function > length of the circuit + skewed probability "
   ]
  },
  {
   "cell_type": "code",
   "execution_count": 12,
   "id": "097aeb08",
   "metadata": {
    "ExecuteTime": {
     "end_time": "2021-10-22T14:33:54.647289Z",
     "start_time": "2021-10-22T14:33:47.060687Z"
    }
   },
   "outputs": [],
   "source": [
    "import random\n",
    "from deap import creator, base, tools, algorithms\n",
    "\n",
    "creator.create(\"FitnessMax\", base.Fitness, weights=(1.0,))\n",
    "creator.create(\"Individual\", list, fitness=creator.FitnessMax)\n",
    "\n",
    "toolbox = base.Toolbox()\n",
    "\n",
    "# original \n",
    "# toolbox.register(\"attr_bool\", random.randint, 0, 1)\n",
    "toolbox.register(\"attr_bool\", random.random)\n",
    "toolbox.register(\"individual\", tools.initRepeat, creator.Individual, toolbox.attr_bool, n=100)\n",
    "toolbox.register(\"population\", tools.initRepeat, list, toolbox.individual)\n",
    "\n",
    "def evalOneMax(individual):\n",
    "    return sum(individual),\n",
    "\n",
    "toolbox.register(\"evaluate\", evalOneMax)\n",
    "toolbox.register(\"mate\", tools.cxTwoPoint)\n",
    "toolbox.register(\"mutate\", tools.mutFlipBit, indpb=0.05)\n",
    "toolbox.register(\"select\", tools.selTournament, tournsize=3)\n",
    "\n",
    "population = toolbox.population(n=300)\n",
    "\n",
    "NGEN = 400\n",
    "for gen in range(NGEN):\n",
    "    offspring = algorithms.varAnd(population, toolbox, cxpb=0.5, mutpb=0.1)\n",
    "    fits = toolbox.map(toolbox.evaluate, offspring)\n",
    "    for fit, ind in zip(fits, offspring):\n",
    "        ind.fitness.values = fit\n",
    "    population = toolbox.select(offspring, k=len(population))\n",
    "top10 = tools.selBest(population, k=10)"
   ]
  },
  {
   "cell_type": "code",
   "execution_count": 13,
   "id": "eabd1f1f",
   "metadata": {
    "ExecuteTime": {
     "end_time": "2021-10-22T14:33:54.654960Z",
     "start_time": "2021-10-22T14:33:54.650102Z"
    }
   },
   "outputs": [
    {
     "data": {
      "text/plain": [
       "79.91793389598631"
      ]
     },
     "execution_count": 13,
     "metadata": {},
     "output_type": "execute_result"
    }
   ],
   "source": [
    "sum(top10[0])"
   ]
  },
  {
   "cell_type": "markdown",
   "id": "1c79bd42",
   "metadata": {},
   "source": [
    "## Quantum encoding"
   ]
  },
  {
   "cell_type": "code",
   "execution_count": 14,
   "id": "4ca3ef1c",
   "metadata": {
    "ExecuteTime": {
     "end_time": "2021-10-22T14:33:58.101914Z",
     "start_time": "2021-10-22T14:33:58.083346Z"
    }
   },
   "outputs": [
    {
     "data": {
      "text/plain": [
       "[array([0.17203165, 0.71852791, 0.96536681]),\n",
       " array([0.80524233, 0.02540824, 0.65680808]),\n",
       " array([0.91371831, 0.59793659, 0.7170851 ]),\n",
       " array([0.16539594, 0.36706845, 0.12949823]),\n",
       " array([0.11874269, 0.37652608, 0.61160441]),\n",
       " array([0.15570444, 0.74078314, 0.45401727]),\n",
       " array([0.71794894, 0.69755574, 0.45041893]),\n",
       " array([0.55691334, 0.09333888, 0.02953974]),\n",
       " array([0.29564149, 0.45945166, 0.66116248]),\n",
       " array([0.84970646, 0.33686032, 0.90060488]),\n",
       " array([0.50289958, 0.41216203, 0.42089836]),\n",
       " array([0.31531208, 0.49237835, 0.39401424]),\n",
       " array([0.63133492, 0.50391169, 0.49130904]),\n",
       " array([0.80362493, 0.19011524, 0.83046698]),\n",
       " array([0.36931079, 0.740318  , 0.67403457]),\n",
       " array([0.61554252, 0.27550855, 0.53438675]),\n",
       " array([0.24520739, 0.88572502, 0.48842235]),\n",
       " array([0.86293031, 0.02013637, 0.29786758]),\n",
       " array([0.78557843, 0.66373861, 0.89700666]),\n",
       " array([0.32046158, 0.56478916, 0.71713845]),\n",
       " array([0.42225682, 0.88847428, 0.35016743]),\n",
       " array([0.67787515, 0.38136165, 0.22441953]),\n",
       " array([0.08306763, 0.56267508, 0.17741707]),\n",
       " array([0.17751513, 0.96226374, 0.1603122 ]),\n",
       " array([0.61576493, 0.00681836, 0.59322559]),\n",
       " array([0.77824598, 0.90480106, 0.96731011]),\n",
       " array([0.55693099, 0.64514901, 0.9414005 ]),\n",
       " array([0.80674055, 0.76354534, 0.86746339]),\n",
       " array([0.15389659, 0.09833305, 0.95028797]),\n",
       " array([0.01346626, 0.08149014, 0.11119187]),\n",
       " array([0.73473115, 0.62054807, 0.53852861]),\n",
       " array([0.08510903, 0.91392799, 0.81763034]),\n",
       " array([0.02598986, 0.62096878, 0.78546916]),\n",
       " array([0.80066672])]"
      ]
     },
     "execution_count": 14,
     "metadata": {},
     "output_type": "execute_result"
    }
   ],
   "source": [
    "lst = np.random.rand(100)\n",
    "n = 3\n",
    "[lst[i:i + n] for i in range(0, len(lst), n)]"
   ]
  },
  {
   "cell_type": "code",
   "execution_count": 15,
   "id": "18698351",
   "metadata": {
    "ExecuteTime": {
     "end_time": "2021-10-22T14:34:03.294947Z",
     "start_time": "2021-10-22T14:34:03.135228Z"
    }
   },
   "outputs": [
    {
     "data": {
      "text/html": [
       "<pre style=\"word-wrap: normal;white-space: pre;background: #fff0;line-height: 1.1;font-family: &quot;Courier New&quot;,Courier,monospace\">            ░ ┌───────────┐   ┌───┐    ┌───────────┐┌───┐                  »\n",
       " q_0: ──────░─┤ P(4.1268) ├───┤ Y ├────┤ P(1.8716) ├┤ Z ├──────────────────»\n",
       "            ░ └───┬───┬───┘┌──┴───┴───┐└───────────┘└───┘             ┌───┐»\n",
       " q_1: ──────░─────┤ X ├────┤ P(5.218) ├───────────────────────────────┤ X ├»\n",
       "            ░     └─┬─┘    └──┬───┬───┘                               └─┬─┘»\n",
       " q_2: ──────░───────┼─────────┤ Z ├─────────────────────────────────────┼──»\n",
       "            ░       │         └───┘    ┌───────────┐┌───┐               │  »\n",
       " q_3: ──────░───────■───────────■──────┤ P(5.6587) ├┤ Z ├───────────────┼──»\n",
       "            ░                   │      └───┬───┬───┘├───┤    ┌───┐      │  »\n",
       " q_4: ──────░───────────────────┼──────────┤ X ├────┤ X ├────┤ Y ├──────┼──»\n",
       "      ┌───┐ ░ ┌───────────┐     │          └─┬─┘    ├───┤    ├───┤      │  »\n",
       " q_5: ┤ X ├─░─┤ P(4.5056) ├─────┼────────────┼──────┤ Z ├────┤ X ├──────■──»\n",
       "      ├───┤ ░ └───────────┘   ┌─┴─┐          │      ├───┤    ├───┤    ┌───┐»\n",
       " q_6: ┤ X ├─░─────────────────┤ X ├──────────┼──────┤ Z ├────┤ Z ├────┤ Y ├»\n",
       "      ├───┤ ░                 └───┘          │      ├───┤┌───┴───┴───┐└───┘»\n",
       " q_7: ┤ X ├─░───────■────────────────────────■──────┤ X ├┤ P(5.4504) ├─────»\n",
       "      ├───┤ ░       │         ┌───┐        ┌───┐    └───┘└───────────┘     »\n",
       " q_8: ┤ X ├─░───────┼─────────┤ X ├────────┤ Y ├───────────────────────────»\n",
       "      └───┘ ░     ┌─┴─┐       └───┘        └───┘                           »\n",
       " q_9: ──────░─────┤ X ├────────────────────────────────────────────────────»\n",
       "            ░     └───┘                                                    »\n",
       "c: 10/═════════════════════════════════════════════════════════════════════»\n",
       "                                                                           »\n",
       "«                                ░ ┌─┐                           \n",
       "« q_0: ─────────────────■────■───░─┤M├───────────────────────────\n",
       "«           ┌───┐       │  ┌─┴─┐ ░ └╥┘┌─┐                        \n",
       "« q_1: ─────┤ X ├───────┼──┤ X ├─░──╫─┤M├────────────────────────\n",
       "«           └─┬─┘       │  └───┘ ░  ║ └╥┘┌─┐                     \n",
       "« q_2: ───────┼─────────┼────────░──╫──╫─┤M├─────────────────────\n",
       "«             │         │        ░  ║  ║ └╥┘┌─┐                  \n",
       "« q_3: ───────┼─────────┼────────░──╫──╫──╫─┤M├──────────────────\n",
       "«      ┌───┐  │         │        ░  ║  ║  ║ └╥┘┌─┐               \n",
       "« q_4: ┤ X ├──┼─────────┼────────░──╫──╫──╫──╫─┤M├───────────────\n",
       "«      └───┘  │         │        ░  ║  ║  ║  ║ └╥┘┌─┐            \n",
       "« q_5: ───────┼─────────┼────────░──╫──╫──╫──╫──╫─┤M├────────────\n",
       "«      ┌───┐  │         │        ░  ║  ║  ║  ║  ║ └╥┘┌─┐         \n",
       "« q_6: ┤ Z ├──┼────■────┼────────░──╫──╫──╫──╫──╫──╫─┤M├─────────\n",
       "«      └───┘  │  ┌─┴─┐  │        ░  ║  ║  ║  ║  ║  ║ └╥┘┌─┐      \n",
       "« q_7: ───────┼──┤ X ├──┼────────░──╫──╫──╫──╫──╫──╫──╫─┤M├──────\n",
       "«             │  └───┘  │  ┌───┐ ░  ║  ║  ║  ║  ║  ║  ║ └╥┘┌─┐   \n",
       "« q_8: ───────┼─────────┼──┤ X ├─░──╫──╫──╫──╫──╫──╫──╫──╫─┤M├───\n",
       "«             │  ┌───┐┌─┴─┐└─┬─┘ ░  ║  ║  ║  ║  ║  ║  ║  ║ └╥┘┌─┐\n",
       "« q_9: ───────■──┤ Z ├┤ X ├──■───░──╫──╫──╫──╫──╫──╫──╫──╫──╫─┤M├\n",
       "«                └───┘└───┘      ░  ║  ║  ║  ║  ║  ║  ║  ║  ║ └╥┘\n",
       "«c: 10/═════════════════════════════╩══╩══╩══╩══╩══╩══╩══╩══╩══╩═\n",
       "«                                   0  1  2  3  4  5  6  7  8  9 </pre>"
      ],
      "text/plain": [
       "            ░ ┌───────────┐   ┌───┐    ┌───────────┐┌───┐                  »\n",
       " q_0: ──────░─┤ P(4.1268) ├───┤ Y ├────┤ P(1.8716) ├┤ Z ├──────────────────»\n",
       "            ░ └───┬───┬───┘┌──┴───┴───┐└───────────┘└───┘             ┌───┐»\n",
       " q_1: ──────░─────┤ X ├────┤ P(5.218) ├───────────────────────────────┤ X ├»\n",
       "            ░     └─┬─┘    └──┬───┬───┘                               └─┬─┘»\n",
       " q_2: ──────░───────┼─────────┤ Z ├─────────────────────────────────────┼──»\n",
       "            ░       │         └───┘    ┌───────────┐┌───┐               │  »\n",
       " q_3: ──────░───────■───────────■──────┤ P(5.6587) ├┤ Z ├───────────────┼──»\n",
       "            ░                   │      └───┬───┬───┘├───┤    ┌───┐      │  »\n",
       " q_4: ──────░───────────────────┼──────────┤ X ├────┤ X ├────┤ Y ├──────┼──»\n",
       "      ┌───┐ ░ ┌───────────┐     │          └─┬─┘    ├───┤    ├───┤      │  »\n",
       " q_5: ┤ X ├─░─┤ P(4.5056) ├─────┼────────────┼──────┤ Z ├────┤ X ├──────■──»\n",
       "      ├───┤ ░ └───────────┘   ┌─┴─┐          │      ├───┤    ├───┤    ┌───┐»\n",
       " q_6: ┤ X ├─░─────────────────┤ X ├──────────┼──────┤ Z ├────┤ Z ├────┤ Y ├»\n",
       "      ├───┤ ░                 └───┘          │      ├───┤┌───┴───┴───┐└───┘»\n",
       " q_7: ┤ X ├─░───────■────────────────────────■──────┤ X ├┤ P(5.4504) ├─────»\n",
       "      ├───┤ ░       │         ┌───┐        ┌───┐    └───┘└───────────┘     »\n",
       " q_8: ┤ X ├─░───────┼─────────┤ X ├────────┤ Y ├───────────────────────────»\n",
       "      └───┘ ░     ┌─┴─┐       └───┘        └───┘                           »\n",
       " q_9: ──────░─────┤ X ├────────────────────────────────────────────────────»\n",
       "            ░     └───┘                                                    »\n",
       "c: 10/═════════════════════════════════════════════════════════════════════»\n",
       "                                                                           »\n",
       "«                                ░ ┌─┐                           \n",
       "« q_0: ─────────────────■────■───░─┤M├───────────────────────────\n",
       "«           ┌───┐       │  ┌─┴─┐ ░ └╥┘┌─┐                        \n",
       "« q_1: ─────┤ X ├───────┼──┤ X ├─░──╫─┤M├────────────────────────\n",
       "«           └─┬─┘       │  └───┘ ░  ║ └╥┘┌─┐                     \n",
       "« q_2: ───────┼─────────┼────────░──╫──╫─┤M├─────────────────────\n",
       "«             │         │        ░  ║  ║ └╥┘┌─┐                  \n",
       "« q_3: ───────┼─────────┼────────░──╫──╫──╫─┤M├──────────────────\n",
       "«      ┌───┐  │         │        ░  ║  ║  ║ └╥┘┌─┐               \n",
       "« q_4: ┤ X ├──┼─────────┼────────░──╫──╫──╫──╫─┤M├───────────────\n",
       "«      └───┘  │         │        ░  ║  ║  ║  ║ └╥┘┌─┐            \n",
       "« q_5: ───────┼─────────┼────────░──╫──╫──╫──╫──╫─┤M├────────────\n",
       "«      ┌───┐  │         │        ░  ║  ║  ║  ║  ║ └╥┘┌─┐         \n",
       "« q_6: ┤ Z ├──┼────■────┼────────░──╫──╫──╫──╫──╫──╫─┤M├─────────\n",
       "«      └───┘  │  ┌─┴─┐  │        ░  ║  ║  ║  ║  ║  ║ └╥┘┌─┐      \n",
       "« q_7: ───────┼──┤ X ├──┼────────░──╫──╫──╫──╫──╫──╫──╫─┤M├──────\n",
       "«             │  └───┘  │  ┌───┐ ░  ║  ║  ║  ║  ║  ║  ║ └╥┘┌─┐   \n",
       "« q_8: ───────┼─────────┼──┤ X ├─░──╫──╫──╫──╫──╫──╫──╫──╫─┤M├───\n",
       "«             │  ┌───┐┌─┴─┐└─┬─┘ ░  ║  ║  ║  ║  ║  ║  ║  ║ └╥┘┌─┐\n",
       "« q_9: ───────■──┤ Z ├┤ X ├──■───░──╫──╫──╫──╫──╫──╫──╫──╫──╫─┤M├\n",
       "«                └───┘└───┘      ░  ║  ║  ║  ║  ║  ║  ║  ║  ║ └╥┘\n",
       "«c: 10/═════════════════════════════╩══╩══╩══╩══╩══╩══╩══╩══╩══╩═\n",
       "«                                   0  1  2  3  4  5  6  7  8  9 "
      ]
     },
     "execution_count": 15,
     "metadata": {},
     "output_type": "execute_result"
    }
   ],
   "source": [
    "from qiskit.circuit import qpy_serialization\n",
    "from typing import List\n",
    "import math\n",
    "\n",
    "gate_set = [\n",
    "   \"cx\", \"x\", \"y\", \"z\", \"p\"\n",
    "]\n",
    "\n",
    "\n",
    "def encoding_to_circuit(encoding: List[float], n_qubits: int, classical_input: int = None):\n",
    "    \"\"\"Convert encoding to a real circuit.\n",
    "    \n",
    "    We have a list to encode the single operation, the final list looks like:\n",
    "    (0.23, 0.75, 0.76, 0.44, etc)\n",
    "    (gate_type, qubit, parameter, gate_type, qubit, parameter, etc...)\n",
    "    The single operation is made of three floats: \n",
    "    (gate_type, qubit, parameter)\n",
    "    The first float encodes the gate. We divide the interval uniformly \n",
    "    on the available gates:\n",
    "    - CNOT\n",
    "    - pauli X\n",
    "    - pauli Y\n",
    "    - pauli Z\n",
    "    - pahse shift\n",
    "    The second float encodes the qubit on which it applies to. We divide the\n",
    "    interval uniformly on the available qubits.\n",
    "    The third float is used only by:\n",
    "    - cnot gate: to select a target qubit (similarly to the first flaot)\n",
    "    - phase shift: to select the rotation\n",
    "    Based on the second digit we decide on which qubit it acts on\n",
    "    \n",
    "    \"\"\"\n",
    "    \n",
    "    # quantum registers, and classical registers\n",
    "    qc = QuantumCircuit(n_qubits, n_qubits)\n",
    "    qubits = range(n_qubits)\n",
    "    \n",
    "    \n",
    "    if classical_input != None:\n",
    "        assert isinstance(classical_input, int)\n",
    "        format_string = \"{0:\" + str(n_qubits) + \"b}\"\n",
    "        string_input = format_string.format(classical_input).zfill(n_qubits)\n",
    "        for i, c in enumerate(string_input):\n",
    "            if c == \"1\": \n",
    "                qc.x(i)\n",
    "    \n",
    "    qc.barrier()\n",
    "    \n",
    "    # get the single chunks\n",
    "    n = 3  # number of parameters per operation\n",
    "    chunks = [encoding[i:i + n] for i in range(0, len(encoding), n)]\n",
    "    for op in chunks:\n",
    "        # discard incomplete sequences\n",
    "        if len(op) != 3: \n",
    "            continue\n",
    "        # get the type of gate\n",
    "        op_type = gate_set[int(op[0] / (float(1) / (len(gate_set))))]\n",
    "        #print(op_type, \" : \", op[0])\n",
    "        method_to_call = getattr(qc, op_type)\n",
    "        \n",
    "        \n",
    "        # get target qubit\n",
    "        qubit = qubits[int(op[1] / (float(1) / (len(qubits))))]\n",
    "        #print(qubit, \" : \", op[1])\n",
    "        \n",
    "        # extra parameter\n",
    "        if op_type == \"cx\":\n",
    "            # get second target qubit\n",
    "            second_target_qubit = qubits[int(op[2] / (float(1) / (len(qubits))))]\n",
    "            #print(second_target_qubit, \" : \", op[2])\n",
    "            method_to_call(qubit, second_target_qubit)\n",
    "        elif op_type == \"p\":\n",
    "            # get rotation parameter\n",
    "            parameter = 2 * math.pi * op[2]\n",
    "            #print(parameter, \" : \", op[2])\n",
    "            method_to_call(parameter, qubit)\n",
    "        else:\n",
    "            # call the simple X, Y, Z gate on a single qubit\n",
    "            method_to_call(qubit)\n",
    "            \n",
    "    qc.barrier()\n",
    "    # Measure\n",
    "    for i in range(n_qubits):\n",
    "        qc.measure(i, i)\n",
    "    return qc\n",
    "    \n",
    "random_circuit = encoding_to_circuit(lst, n_qubits=10, classical_input=30)\n",
    "\n",
    "random_circuit.draw()"
   ]
  },
  {
   "cell_type": "code",
   "execution_count": 18,
   "id": "c3f30205",
   "metadata": {
    "ExecuteTime": {
     "end_time": "2021-10-22T14:34:22.790377Z",
     "start_time": "2021-10-22T14:34:22.783534Z"
    }
   },
   "outputs": [
    {
     "name": "stdout",
     "output_type": "stream",
     "text": [
      "OPENQASM 2.0;\n",
      "include \"qelib1.inc\";\n",
      "qreg q[10];\n",
      "creg c[10];\n",
      "x q[5];\n",
      "x q[6];\n",
      "x q[7];\n",
      "x q[8];\n",
      "barrier q[0],q[1],q[2],q[3],q[4],q[5],q[6],q[7],q[8],q[9];\n",
      "cx q[7],q[9];\n",
      "p(4.1268469) q[0];\n",
      "p(4.5055786) q[5];\n",
      "cx q[3],q[1];\n",
      "cx q[3],q[6];\n",
      "cx q[7],q[4];\n",
      "z q[6];\n",
      "y q[0];\n",
      "x q[4];\n",
      "p(5.6586673) q[3];\n",
      "y q[4];\n",
      "x q[4];\n",
      "z q[5];\n",
      "p(5.2179779) q[1];\n",
      "x q[7];\n",
      "z q[2];\n",
      "x q[8];\n",
      "p(1.8715572) q[0];\n",
      "z q[6];\n",
      "x q[5];\n",
      "y q[8];\n",
      "z q[3];\n",
      "cx q[5],q[1];\n",
      "cx q[9],q[1];\n",
      "z q[0];\n",
      "z q[9];\n",
      "y q[6];\n",
      "p(5.4504332) q[7];\n",
      "cx q[0],q[9];\n",
      "cx q[0],q[1];\n",
      "z q[6];\n",
      "cx q[9],q[8];\n",
      "cx q[6],q[7];\n",
      "barrier q[0],q[1],q[2],q[3],q[4],q[5],q[6],q[7],q[8],q[9];\n",
      "measure q[0] -> c[0];\n",
      "measure q[1] -> c[1];\n",
      "measure q[2] -> c[2];\n",
      "measure q[3] -> c[3];\n",
      "measure q[4] -> c[4];\n",
      "measure q[5] -> c[5];\n",
      "measure q[6] -> c[6];\n",
      "measure q[7] -> c[7];\n",
      "measure q[8] -> c[8];\n",
      "measure q[9] -> c[9];\n",
      "\n"
     ]
    }
   ],
   "source": [
    "print(random_circuit.qasm())"
   ]
  },
  {
   "cell_type": "code",
   "execution_count": 66,
   "id": "309b7036",
   "metadata": {},
   "outputs": [],
   "source": [
    "#with open('random_.qpy', 'wb') as fd:\n",
    "#   qpy_serialization.dump(random_circuit, fd)"
   ]
  },
  {
   "cell_type": "code",
   "execution_count": 149,
   "id": "2b07315e",
   "metadata": {},
   "outputs": [],
   "source": [
    "AER_SIM = Aer.get_backend('aer_simulator')\n",
    "from IPython.display import display\n",
    "\n",
    "def binaryToDecimal(val): \n",
    "    if str(val).strip() == \"\":\n",
    "        return 0\n",
    "    return int(val, 2) \n",
    "\n",
    "def decToBin(val, n_bits):\n",
    "    format_string = \"{0:\" + str(n_bits) + \"b}\"\n",
    "    string_input = format_string.format(val).zfill(n_bits)\n",
    "    return str(string_input)\n",
    "\n",
    "def evaluate(encoding, classical_input, verbose=1):\n",
    "    random_circuit = encoding_to_circuit(lst, n_qubits=10, classical_input=classical_input)\n",
    "    if verbose > 1: \n",
    "        display(random_circuit.draw())\n",
    "    # use local simulator\n",
    "    shots = 1024\n",
    "    #qobj = assemble(random_circuit, AER_SIM)\n",
    "    #results = AER_SIM.run(qobj).result()\n",
    "    results = AER_SIM.run(random_circuit).result()\n",
    "    answer = dict(results.get_counts())\n",
    "    if verbose > 1: \n",
    "        plot_histogram(answer)\n",
    "    keys, values = [], []\n",
    "    if verbose > 0:\n",
    "        print(\"Options\")\n",
    "    for k, v in answer.items():\n",
    "        dec_key = binaryToDecimal(k)\n",
    "        if verbose > 0:\n",
    "            print(f\"{dec_key} : {v}\")\n",
    "        keys.append(dec_key)\n",
    "        values.append(v)\n",
    "    max_result = keys[np.argmax(values)]\n",
    "    return max_result"
   ]
  },
  {
   "cell_type": "code",
   "execution_count": 133,
   "id": "d53228a3",
   "metadata": {},
   "outputs": [
    {
     "ename": "SyntaxError",
     "evalue": "invalid syntax (439036512.py, line 3)",
     "output_type": "error",
     "traceback": [
      "\u001b[0;36m  File \u001b[0;32m\"/tmp/ipykernel_32014/439036512.py\"\u001b[0;36m, line \u001b[0;32m3\u001b[0m\n\u001b[0;31m    >>> y_pred = [2.5, 0.0, 2, 8]\u001b[0m\n\u001b[0m    ^\u001b[0m\n\u001b[0;31mSyntaxError\u001b[0m\u001b[0;31m:\u001b[0m invalid syntax\n"
     ]
    }
   ],
   "source": [
    "from sklearn.metrics import mean_squared_error\n",
    "y_true = [3, -0.5, 2, 7]\n",
    ">>> y_pred = [2.5, 0.0, 2, 8]\n",
    ">>> mean_squared_error(y_true, y_pred)"
   ]
  },
  {
   "cell_type": "code",
   "execution_count": 139,
   "id": "b675732f",
   "metadata": {},
   "outputs": [
    {
     "name": "stderr",
     "output_type": "stream",
     "text": [
      "/home/XXXX-1/.local/share/virtualenvs/ML4Quantum-CjQW4tL4/lib/python3.8/site-packages/qiskit/utils/deprecation.py:62: DeprecationWarning: Using a qobj for run() is deprecated as of qiskit-aer 0.9.0 and will be removed no sooner than 3 months from that release date. Transpiled circuits should now be passed directly using `backend.run(circuits, **run_options).\n",
      "  return func(*args, **kwargs)\n"
     ]
    },
    {
     "name": "stdout",
     "output_type": "stream",
     "text": [
      "mse: 339584.8333333333\n",
      "(30, 5)\n"
     ]
    },
    {
     "data": {
      "text/html": [
       "<div>\n",
       "<style scoped>\n",
       "    .dataframe tbody tr th:only-of-type {\n",
       "        vertical-align: middle;\n",
       "    }\n",
       "\n",
       "    .dataframe tbody tr th {\n",
       "        vertical-align: top;\n",
       "    }\n",
       "\n",
       "    .dataframe thead th {\n",
       "        text-align: right;\n",
       "    }\n",
       "</style>\n",
       "<table border=\"1\" class=\"dataframe\">\n",
       "  <thead>\n",
       "    <tr style=\"text-align: right;\">\n",
       "      <th></th>\n",
       "      <th>x_add_1</th>\n",
       "      <th>x_add_2</th>\n",
       "      <th>y_pred</th>\n",
       "      <th>y_true</th>\n",
       "      <th>input_as_dec</th>\n",
       "    </tr>\n",
       "  </thead>\n",
       "  <tbody>\n",
       "    <tr>\n",
       "      <th>0</th>\n",
       "      <td>7</td>\n",
       "      <td>4</td>\n",
       "      <td>628</td>\n",
       "      <td>11</td>\n",
       "      <td>228</td>\n",
       "    </tr>\n",
       "    <tr>\n",
       "      <th>1</th>\n",
       "      <td>1</td>\n",
       "      <td>19</td>\n",
       "      <td>984</td>\n",
       "      <td>20</td>\n",
       "      <td>51</td>\n",
       "    </tr>\n",
       "    <tr>\n",
       "      <th>2</th>\n",
       "      <td>17</td>\n",
       "      <td>19</td>\n",
       "      <td>987</td>\n",
       "      <td>36</td>\n",
       "      <td>563</td>\n",
       "    </tr>\n",
       "    <tr>\n",
       "      <th>3</th>\n",
       "      <td>15</td>\n",
       "      <td>21</td>\n",
       "      <td>86</td>\n",
       "      <td>36</td>\n",
       "      <td>501</td>\n",
       "    </tr>\n",
       "    <tr>\n",
       "      <th>4</th>\n",
       "      <td>14</td>\n",
       "      <td>9</td>\n",
       "      <td>742</td>\n",
       "      <td>23</td>\n",
       "      <td>457</td>\n",
       "    </tr>\n",
       "  </tbody>\n",
       "</table>\n",
       "</div>"
      ],
      "text/plain": [
       "   x_add_1  x_add_2  y_pred  y_true  input_as_dec\n",
       "0        7        4     628      11           228\n",
       "1        1       19     984      20            51\n",
       "2       17       19     987      36           563\n",
       "3       15       21      86      36           501\n",
       "4       14        9     742      23           457"
      ]
     },
     "execution_count": 139,
     "metadata": {},
     "output_type": "execute_result"
    }
   ],
   "source": [
    "import random\n",
    "from sklearn.metrics import mean_squared_error\n",
    "\n",
    "dec_input = []\n",
    "y_pred = []\n",
    "x_add_1 = []\n",
    "x_add_2 = []\n",
    "y_true = []\n",
    "\n",
    "n_bits = 10\n",
    "n_sample = 30\n",
    "\n",
    "random.seed(42)\n",
    "\n",
    "for i in random.sample(range(2**n_bits), n_sample): # sample \n",
    "    # transform the decimal value in the binary and the split the binary string \n",
    "    # to get two numbers\n",
    "    bitstring = decToBin(i, n_bits)\n",
    "    half_bits = int(n_bits / 2)\n",
    "    first_addendum = binaryToDecimal(bitstring[:half_bits])\n",
    "    second_addendum = binaryToDecimal(bitstring[half_bits:])\n",
    "    x_add_1.append(first_addendum)\n",
    "    x_add_2.append(second_addendum)\n",
    "    y_artificial = first_addendum + second_addendum\n",
    "    y_true.append(y_artificial)\n",
    "    dec_input.append(i)\n",
    "    res_y = evaluate(encoding=lst, classical_input=i, verbose=0)\n",
    "    y_pred.append(res_y)\n",
    "    \n",
    "    \n",
    "df = pd.DataFrame({\n",
    "    \"x_add_1\":  x_add_1,\n",
    "    \"x_add_2\":  x_add_2,\n",
    "    \"y_pred\": y_pred,\n",
    "    \"y_true\": y_true,\n",
    "    \"input_as_dec\": dec_input,\n",
    "})\n",
    "\n",
    "mse = mean_squared_error(y_true, y_pred)\n",
    "print(f\"mse: {mse}\")\n",
    "print(df.shape)\n",
    "df.head()"
   ]
  },
  {
   "cell_type": "code",
   "execution_count": 114,
   "id": "04353132",
   "metadata": {},
   "outputs": [
    {
     "name": "stderr",
     "output_type": "stream",
     "text": [
      "/home/XXXX-1/.local/share/virtualenvs/ML4Quantum-CjQW4tL4/lib/python3.8/site-packages/qiskit/utils/deprecation.py:62: DeprecationWarning: Using a qobj for run() is deprecated as of qiskit-aer 0.9.0 and will be removed no sooner than 3 months from that release date. Transpiled circuits should now be passed directly using `backend.run(circuits, **run_options).\n",
      "  return func(*args, **kwargs)\n"
     ]
    },
    {
     "data": {
      "text/plain": [
       "[<matplotlib.lines.Line2D at 0x7f9e3e16b100>]"
      ]
     },
     "execution_count": 114,
     "metadata": {},
     "output_type": "execute_result"
    },
    {
     "data": {
      "image/png": "[encoded data removed]",
      "text/plain": [
       "<Figure size 432x288 with 1 Axes>"
      ]
     },
     "metadata": {
      "needs_background": "light"
     },
     "output_type": "display_data"
    }
   ],
   "source": [
    "x = []\n",
    "y = []\n",
    "\n",
    "for i in range(2**10): #range(2**10):\n",
    "    x.append(i)\n",
    "    res_y = evaluate(encoding=lst, classical_input=i, verbose=0)\n",
    "    y.append(res_y)\n",
    "    \n",
    "    \n",
    "plt.plot(x, y)"
   ]
  },
  {
   "cell_type": "code",
   "execution_count": 115,
   "id": "e754888f",
   "metadata": {},
   "outputs": [
    {
     "data": {
      "image/png": "[encoded data removed]",
      "text/plain": [
       "<Figure size 432x288 with 1 Axes>"
      ]
     },
     "metadata": {
      "needs_background": "light"
     },
     "output_type": "display_data"
    }
   ],
   "source": [
    "from statsmodels.graphics.tsaplots import plot_acf\n",
    "# https://www.alpharithms.com/autocorrelation-time-series-python-432909/\n",
    "import matplotlib.pyplot as plt\n",
    "# Use the Autocorrelation function\n",
    "# from the statsmodel library passing\n",
    "# our DataFrame object in as the data\n",
    "# Note: Limiting Lags to 50\n",
    "plot_acf(y, lags=50)\n",
    "# Show the AR as a plot\n",
    "plt.show()"
   ]
  },
  {
   "cell_type": "markdown",
   "id": "ff89e5a3",
   "metadata": {},
   "source": [
    "# Genetic Algos to learn quantum circuits"
   ]
  },
  {
   "cell_type": "code",
   "execution_count": 154,
   "id": "dfc2d3d7",
   "metadata": {},
   "outputs": [],
   "source": [
    "import random\n",
    "from sklearn.metrics import mean_squared_error\n",
    "\n",
    "def fitness_function(encoding, n_bits=10, n_sample=30, verbose=False):\n",
    "\n",
    "    dec_input = []\n",
    "    y_pred = []\n",
    "    x_add_1 = []\n",
    "    x_add_2 = []\n",
    "    y_true = []\n",
    "\n",
    "    for i in random.sample(range(2**n_bits), n_sample): # sample \n",
    "        # transform the decimal value in the binary and the split the binary string \n",
    "        # to get two numbers\n",
    "        bitstring = decToBin(i, n_bits)\n",
    "        half_bits = int(n_bits / 2)\n",
    "        first_addendum = binaryToDecimal(bitstring[:half_bits])\n",
    "        second_addendum = binaryToDecimal(bitstring[half_bits:])\n",
    "        x_add_1.append(first_addendum)\n",
    "        x_add_2.append(second_addendum)\n",
    "        y_artificial = first_addendum + second_addendum\n",
    "        y_true.append(y_artificial)\n",
    "        dec_input.append(i)\n",
    "        res_y = evaluate(encoding=encoding, classical_input=i, verbose=0)\n",
    "        y_pred.append(res_y)\n",
    "\n",
    "    if verbose:\n",
    "        df = pd.DataFrame({\n",
    "            \"x_add_1\":  x_add_1,\n",
    "            \"x_add_2\":  x_add_2,\n",
    "            \"y_pred\": y_pred,\n",
    "            \"y_true\": y_true,\n",
    "            \"input_as_dec\": dec_input,\n",
    "        })\n",
    "        display(df.head())\n",
    "    mse = mean_squared_error(y_true, y_pred)\n",
    "    return mse"
   ]
  },
  {
   "cell_type": "code",
   "execution_count": 155,
   "id": "95408a48",
   "metadata": {},
   "outputs": [
    {
     "data": {
      "text/plain": [
       "291374.4"
      ]
     },
     "execution_count": 155,
     "metadata": {},
     "output_type": "execute_result"
    }
   ],
   "source": [
    "fitness_function(encoding=lst, n_bits=10, n_sample=30, verbose=False)"
   ]
  },
  {
   "cell_type": "code",
   "execution_count": 160,
   "id": "edad9bf9",
   "metadata": {},
   "outputs": [
    {
     "name": "stderr",
     "output_type": "stream",
     "text": [
      "/home/XXXX-1/.local/share/virtualenvs/ML4Quantum-CjQW4tL4/lib/python3.8/site-packages/deap/creator.py:138: RuntimeWarning: A class named 'FitnessMax' has already been created and it will be overwritten. Consider deleting previous creation of that class or rename it.\n",
      "  warnings.warn(\"A class named '{0}' has already been created and it \"\n",
      "/home/XXXX-1/.local/share/virtualenvs/ML4Quantum-CjQW4tL4/lib/python3.8/site-packages/deap/creator.py:138: RuntimeWarning: A class named 'Individual' has already been created and it will be overwritten. Consider deleting previous creation of that class or rename it.\n",
      "  warnings.warn(\"A class named '{0}' has already been created and it \"\n",
      "100%|████████████████████████████████████████████████████████████████████████████████████████████████████████████████████████████████████████████| 40/40 [1:06:06<00:00, 99.17s/it]\n"
     ]
    }
   ],
   "source": [
    "import random\n",
    "from tqdm import tqdm\n",
    "from deap import creator, base, tools, algorithms\n",
    "from scoop import futures\n",
    "\n",
    "creator.create(\"FitnessMax\", base.Fitness, weights=(1.0,))\n",
    "creator.create(\"Individual\", list, fitness=creator.FitnessMax)\n",
    "\n",
    "toolbox = base.Toolbox()\n",
    "\n",
    "# original \n",
    "# toolbox.register(\"attr_bool\", random.randint, 0, 1)\n",
    "toolbox.register(\"attr_bool\", random.random)\n",
    "toolbox.register(\"individual\", tools.initRepeat, creator.Individual, toolbox.attr_bool, n=100)\n",
    "toolbox.register(\"population\", tools.initRepeat, list, toolbox.individual)\n",
    "# change for scoop\n",
    "#toolbox.register(\"map\",futures.map) # <--------------- overload the map function\n",
    "\n",
    "def evalOneMax(individual):\n",
    "    return -fitness_function(encoding=individual, n_bits=10, n_sample=30, verbose=False),\n",
    "\n",
    "toolbox.register(\"evaluate\", evalOneMax)\n",
    "toolbox.register(\"mate\", tools.cxTwoPoint)\n",
    "toolbox.register(\"mutate\", tools.mutFlipBit, indpb=0.05)\n",
    "toolbox.register(\"select\", tools.selTournament, tournsize=3)\n",
    "\n",
    "population = toolbox.population(n=300)\n",
    "\n",
    "NGEN = 40\n",
    "for gen in tqdm(range(NGEN)):\n",
    "    offspring = algorithms.varAnd(population, toolbox, cxpb=0.5, mutpb=0.1)\n",
    "    fits = toolbox.map(toolbox.evaluate, offspring)\n",
    "    for fit, ind in zip(fits, offspring):\n",
    "        ind.fitness.values = fit\n",
    "    population = toolbox.select(offspring, k=len(population))\n",
    "top10 = tools.selBest(population, k=10)"
   ]
  },
  {
   "cell_type": "code",
   "execution_count": 161,
   "id": "63371c2c",
   "metadata": {},
   "outputs": [
    {
     "data": {
      "text/html": [
       "<div>\n",
       "<style scoped>\n",
       "    .dataframe tbody tr th:only-of-type {\n",
       "        vertical-align: middle;\n",
       "    }\n",
       "\n",
       "    .dataframe tbody tr th {\n",
       "        vertical-align: top;\n",
       "    }\n",
       "\n",
       "    .dataframe thead th {\n",
       "        text-align: right;\n",
       "    }\n",
       "</style>\n",
       "<table border=\"1\" class=\"dataframe\">\n",
       "  <thead>\n",
       "    <tr style=\"text-align: right;\">\n",
       "      <th></th>\n",
       "      <th>x_add_1</th>\n",
       "      <th>x_add_2</th>\n",
       "      <th>y_pred</th>\n",
       "      <th>y_true</th>\n",
       "      <th>input_as_dec</th>\n",
       "    </tr>\n",
       "  </thead>\n",
       "  <tbody>\n",
       "    <tr>\n",
       "      <th>0</th>\n",
       "      <td>11</td>\n",
       "      <td>9</td>\n",
       "      <td>754</td>\n",
       "      <td>20</td>\n",
       "      <td>361</td>\n",
       "    </tr>\n",
       "    <tr>\n",
       "      <th>1</th>\n",
       "      <td>25</td>\n",
       "      <td>22</td>\n",
       "      <td>281</td>\n",
       "      <td>47</td>\n",
       "      <td>822</td>\n",
       "    </tr>\n",
       "    <tr>\n",
       "      <th>2</th>\n",
       "      <td>26</td>\n",
       "      <td>15</td>\n",
       "      <td>289</td>\n",
       "      <td>41</td>\n",
       "      <td>847</td>\n",
       "    </tr>\n",
       "    <tr>\n",
       "      <th>3</th>\n",
       "      <td>14</td>\n",
       "      <td>2</td>\n",
       "      <td>422</td>\n",
       "      <td>16</td>\n",
       "      <td>450</td>\n",
       "    </tr>\n",
       "    <tr>\n",
       "      <th>4</th>\n",
       "      <td>9</td>\n",
       "      <td>0</td>\n",
       "      <td>250</td>\n",
       "      <td>9</td>\n",
       "      <td>288</td>\n",
       "    </tr>\n",
       "  </tbody>\n",
       "</table>\n",
       "</div>"
      ],
      "text/plain": [
       "   x_add_1  x_add_2  y_pred  y_true  input_as_dec\n",
       "0       11        9     754      20           361\n",
       "1       25       22     281      47           822\n",
       "2       26       15     289      41           847\n",
       "3       14        2     422      16           450\n",
       "4        9        0     250       9           288"
      ]
     },
     "metadata": {},
     "output_type": "display_data"
    },
    {
     "data": {
      "text/plain": [
       "296298.1"
      ]
     },
     "execution_count": 161,
     "metadata": {},
     "output_type": "execute_result"
    }
   ],
   "source": [
    "best = top10[0]\n",
    "fitness_function(encoding=best, n_bits=10, n_sample=30, verbose=True)"
   ]
  },
  {
   "cell_type": "code",
   "execution_count": null,
   "id": "6fe98607",
   "metadata": {},
   "outputs": [],
   "source": []
  }
 ],
 "metadata": {
  "kernelspec": {
   "display_name": "Python 3 (ipykernel)",
   "language": "python",
   "name": "python3"
  },
  "language_info": {
   "codemirror_mode": {
    "name": "ipython",
    "version": 3
   },
   "file_extension": ".py",
   "mimetype": "text/x-python",
   "name": "python",
   "nbconvert_exporter": "python",
   "pygments_lexer": "ipython3",
   "version": "3.8.0"
  },
  "toc": {
   "base_numbering": 1,
   "nav_menu": {},
   "number_sections": true,
   "sideBar": true,
   "skip_h1_title": false,
   "title_cell": "Table of Contents",
   "title_sidebar": "Contents",
   "toc_cell": false,
   "toc_position": {},
   "toc_section_display": true,
   "toc_window_display": true
  }
 },
 "nbformat": 4,
 "nbformat_minor": 5
}
