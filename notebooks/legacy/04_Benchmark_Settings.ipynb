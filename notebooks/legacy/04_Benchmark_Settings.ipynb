{
 "cells": [
  {
   "cell_type": "code",
   "execution_count": 1,
   "id": "75bfa931",
   "metadata": {
    "ExecuteTime": {
     "end_time": "2021-10-28T11:32:57.720112Z",
     "start_time": "2021-10-28T11:32:57.715706Z"
    }
   },
   "outputs": [],
   "source": [
    "# goal: use the mined dataset to create setting to verify a proposed similarity \n",
    "# measure between two outputs of platform A and platform B."
   ]
  },
  {
   "cell_type": "code",
   "execution_count": 3,
   "id": "25c988dd",
   "metadata": {
    "ExecuteTime": {
     "end_time": "2021-11-02T13:42:55.852951Z",
     "start_time": "2021-11-02T13:42:52.785090Z"
    }
   },
   "outputs": [],
   "source": [
    "import numpy as np\n",
    "import cirq\n",
    "import qiskit\n",
    "from qiskit.circuit import qpy_serialization\n",
    "from qiskit import QuantumCircuit\n",
    "from typing import List\n",
    "import math\n",
    "import pandas as pd\n",
    "from IPython.display import display\n",
    "from tqdm import tqdm\n",
    "import seaborn as sns\n",
    "import matplotlib.pyplot as plt"
   ]
  },
  {
   "cell_type": "code",
   "execution_count": 4,
   "id": "b3385c09",
   "metadata": {
    "ExecuteTime": {
     "end_time": "2021-11-02T13:42:55.858987Z",
     "start_time": "2021-11-02T13:42:55.855506Z"
    }
   },
   "outputs": [],
   "source": [
    "import os"
   ]
  },
  {
   "cell_type": "code",
   "execution_count": 5,
   "id": "c8f1e389",
   "metadata": {
    "ExecuteTime": {
     "end_time": "2021-11-02T13:42:55.872695Z",
     "start_time": "2021-11-02T13:42:55.860622Z"
    }
   },
   "outputs": [],
   "source": [
    "REAL_DATA_FOLDER = \"../data/random_program_execution\"\n",
    "RANDOM_DATA_FOLDER = \"../data/random_program_execution\"\n",
    "QASM_DATA_FOLDER = \"../data/nisq_qasm\""
   ]
  },
  {
   "cell_type": "code",
   "execution_count": 6,
   "id": "586743d4",
   "metadata": {
    "ExecuteTime": {
     "end_time": "2021-11-02T13:42:55.901130Z",
     "start_time": "2021-11-02T13:42:55.875521Z"
    }
   },
   "outputs": [
    {
     "name": "stdout",
     "output_type": "stream",
     "text": [
      "We have 1000 records.\n"
     ]
    },
    {
     "data": {
      "text/plain": [
       "['e2e61b72c823f6c498d424fc96f9ca902d4891bf3b3e06c4c41c275b1da8a4f6',\n",
       " '800bc8213d4d4a8bfacd9c55d5bbc47567e9774933bf2005b4bba02cdee3621a',\n",
       " '61315b4807dc067fdd9235f4cd60c36c3b85bdc996ca73f0ca2250d24fd14a49',\n",
       " '861981676798916eef3ea5ad9c25a9cd68d0d881baa711e80ebc4f1f9c5a1224',\n",
       " '5b3324a7e63f091d3cb02eb7b26ccf09adcec22f087f9f206e46df526e449420']"
      ]
     },
     "execution_count": 6,
     "metadata": {},
     "output_type": "execute_result"
    }
   ],
   "source": [
    "records = [\n",
    "    {\n",
    "        \"filepath\": f,\n",
    "        \"hash\": f.rsplit('_', 1)[0],\n",
    "        \"platform\": f.rsplit('_', 1)[1].replace(\".csv\", \"\")\n",
    "    } \n",
    "    for f in os.listdir(REAL_DATA_FOLDER)\n",
    "    if f.endswith(\".csv\")\n",
    "]\n",
    "ids = list(set([r['hash'] for r in records]))\n",
    "print(f\"We have {len(ids)} records.\")\n",
    "ids[:5]"
   ]
  },
  {
   "cell_type": "code",
   "execution_count": 7,
   "id": "81848026",
   "metadata": {
    "ExecuteTime": {
     "end_time": "2021-11-02T13:42:55.910640Z",
     "start_time": "2021-11-02T13:42:55.902922Z"
    }
   },
   "outputs": [
    {
     "name": "stdout",
     "output_type": "stream",
     "text": [
      "We have 12 records for real qasm algorithms.\n"
     ]
    },
    {
     "data": {
      "text/plain": [
       "['bv_n14', 'sat_n11', 'multiply_n13', 'simon_n6', 'ising_n10']"
      ]
     },
     "execution_count": 7,
     "metadata": {},
     "output_type": "execute_result"
    }
   ],
   "source": [
    "records_qasm = [\n",
    "    {\n",
    "        \"filepath\": f,\n",
    "        \"algo_name\": f.rsplit('_', 1)[0],\n",
    "        \"platform\": f.rsplit('_', 1)[1].replace(\".csv\", \"\")\n",
    "    } \n",
    "    for f in os.listdir(QASM_DATA_FOLDER)\n",
    "    if f.endswith(\".csv\")\n",
    "]\n",
    "ids_qasm = list(set([r['algo_name'] for r in records_qasm]))\n",
    "print(f\"We have {len(ids_qasm)} records for real qasm algorithms.\")\n",
    "ids_qasm[:5]"
   ]
  },
  {
   "cell_type": "code",
   "execution_count": 8,
   "id": "4ec3a258",
   "metadata": {
    "ExecuteTime": {
     "end_time": "2021-11-02T13:42:55.931328Z",
     "start_time": "2021-11-02T13:42:55.912622Z"
    }
   },
   "outputs": [],
   "source": [
    "records_random = [\n",
    "    {\n",
    "        \"filepath\": f,\n",
    "        \"random\": f.replace(\".csv\", \"\")\n",
    "    } \n",
    "    for f in os.listdir(RANDOM_DATA_FOLDER)\n",
    "    if f.endswith(\".csv\")\n",
    "]\n",
    "ids_random = list(set([r['random'] for r in records_random]))"
   ]
  },
  {
   "cell_type": "code",
   "execution_count": 9,
   "id": "24412e2e",
   "metadata": {
    "ExecuteTime": {
     "end_time": "2021-11-02T13:42:55.942355Z",
     "start_time": "2021-11-02T13:42:55.933352Z"
    }
   },
   "outputs": [],
   "source": [
    "def create_pairs(ids_left, suffix_left, folder_left,\n",
    "                 ids_right, suffix_right, folder_right,\n",
    "                 n_samples, shared_ids=False):\n",
    "    \"\"\"Create pairs of experiments left and rights.\n",
    "    \n",
    "    n_samples: int \n",
    "        number of circuits which are sampled. If zero, all the ids are used \n",
    "        in the current order and no sampling is performed.\n",
    "    \n",
    "    shared_ids: boolean\n",
    "        whether the sampling procedure should be done once and the IDs\n",
    "        should be shared, aka we get the same circuit from the two platforms\n",
    "    \"\"\"\n",
    "    shortest_list = min(len(ids_left), len(ids_right))\n",
    "    if shortest_list < n_samples:\n",
    "        print(f\"There are not enough circuits to sample: {shortest_list}\")\n",
    "        print(f\"and you asked for: {n_samples}\")\n",
    "        print(\"Warning we then use all the circuits.\")\n",
    "        n_samples = shortest_list\n",
    "    if n_samples > 0:\n",
    "        left_candidates = np.random.choice(ids_left, size=n_samples, replace=False)\n",
    "        right_candidates = np.random.choice(ids_right, size=n_samples, replace=False)\n",
    "    else:\n",
    "        left_candidates = ids_left\n",
    "        right_candidates = ids_right\n",
    "    if shared_ids:\n",
    "        assert sorted(ids_right) == sorted(ids_left), \"IDs left and right lists are not matching\"\n",
    "        right_candidates = left_candidates\n",
    "    left_dfs = [\n",
    "        pd.read_csv(\n",
    "            os.path.join(folder_left, f\"{id_left}{suffix_left}.csv\")\n",
    "        )\n",
    "        for id_left in left_candidates\n",
    "    ]\n",
    "    right_dfs = [\n",
    "        pd.read_csv(\n",
    "            os.path.join(folder_right, f\"{id_right}{suffix_right}.csv\")\n",
    "        )\n",
    "        for id_right in right_candidates\n",
    "    ]\n",
    "    return zip(left_dfs, right_dfs)\n",
    "    "
   ]
  },
  {
   "cell_type": "code",
   "execution_count": 10,
   "id": "370d0a51",
   "metadata": {
    "ExecuteTime": {
     "end_time": "2021-11-02T13:43:04.458833Z",
     "start_time": "2021-11-02T13:42:55.944024Z"
    }
   },
   "outputs": [],
   "source": [
    "pairs = create_pairs(ids_left=ids, suffix_left=\"_qiskit\", folder_left=REAL_DATA_FOLDER,\n",
    "                     ids_right=ids_random, suffix_right=\"\", folder_right=RANDOM_DATA_FOLDER,\n",
    "                     n_samples=50)"
   ]
  },
  {
   "cell_type": "code",
   "execution_count": 11,
   "id": "d2cd150d",
   "metadata": {
    "ExecuteTime": {
     "end_time": "2021-11-02T13:43:04.465125Z",
     "start_time": "2021-11-02T13:43:04.461392Z"
    }
   },
   "outputs": [],
   "source": [
    "from IPython.display import display, HTML"
   ]
  },
  {
   "cell_type": "code",
   "execution_count": 12,
   "id": "e6fe6e05",
   "metadata": {
    "ExecuteTime": {
     "end_time": "2021-11-02T13:43:04.513675Z",
     "start_time": "2021-11-02T13:43:04.466567Z"
    }
   },
   "outputs": [
    {
     "data": {
      "text/html": [
       "<div>\n",
       "<style scoped>\n",
       "    .dataframe tbody tr th:only-of-type {\n",
       "        vertical-align: middle;\n",
       "    }\n",
       "\n",
       "    .dataframe tbody tr th {\n",
       "        vertical-align: top;\n",
       "    }\n",
       "\n",
       "    .dataframe thead th {\n",
       "        text-align: right;\n",
       "    }\n",
       "</style>\n",
       "<table border=\"1\" class=\"dataframe\">\n",
       "  <thead>\n",
       "    <tr style=\"text-align: right;\">\n",
       "      <th></th>\n",
       "      <th>Unnamed: 0</th>\n",
       "      <th>1101111010</th>\n",
       "      <th>0011011101</th>\n",
       "      <th>1011011101</th>\n",
       "      <th>1010011100</th>\n",
       "      <th>0001001100</th>\n",
       "      <th>0100000101</th>\n",
       "      <th>0010010101</th>\n",
       "      <th>1110110111</th>\n",
       "      <th>1010100010</th>\n",
       "      <th>...</th>\n",
       "      <th>0011100011</th>\n",
       "      <th>0000101111</th>\n",
       "      <th>1000111111</th>\n",
       "      <th>0011010001</th>\n",
       "      <th>1011111010</th>\n",
       "      <th>1010000100</th>\n",
       "      <th>0000111010</th>\n",
       "      <th>1000111010</th>\n",
       "      <th>1110010101</th>\n",
       "      <th>1110101011</th>\n",
       "    </tr>\n",
       "  </thead>\n",
       "  <tbody>\n",
       "    <tr>\n",
       "      <th>0</th>\n",
       "      <td>0</td>\n",
       "      <td>1.0</td>\n",
       "      <td>1.0</td>\n",
       "      <td>1.0</td>\n",
       "      <td>1.0</td>\n",
       "      <td>1.0</td>\n",
       "      <td>1.0</td>\n",
       "      <td>1.0</td>\n",
       "      <td>1.0</td>\n",
       "      <td>1.0</td>\n",
       "      <td>...</td>\n",
       "      <td>NaN</td>\n",
       "      <td>NaN</td>\n",
       "      <td>NaN</td>\n",
       "      <td>NaN</td>\n",
       "      <td>NaN</td>\n",
       "      <td>NaN</td>\n",
       "      <td>NaN</td>\n",
       "      <td>NaN</td>\n",
       "      <td>NaN</td>\n",
       "      <td>NaN</td>\n",
       "    </tr>\n",
       "    <tr>\n",
       "      <th>1</th>\n",
       "      <td>1</td>\n",
       "      <td>NaN</td>\n",
       "      <td>NaN</td>\n",
       "      <td>NaN</td>\n",
       "      <td>2.0</td>\n",
       "      <td>NaN</td>\n",
       "      <td>1.0</td>\n",
       "      <td>NaN</td>\n",
       "      <td>NaN</td>\n",
       "      <td>NaN</td>\n",
       "      <td>...</td>\n",
       "      <td>NaN</td>\n",
       "      <td>NaN</td>\n",
       "      <td>NaN</td>\n",
       "      <td>NaN</td>\n",
       "      <td>NaN</td>\n",
       "      <td>NaN</td>\n",
       "      <td>NaN</td>\n",
       "      <td>NaN</td>\n",
       "      <td>NaN</td>\n",
       "      <td>NaN</td>\n",
       "    </tr>\n",
       "    <tr>\n",
       "      <th>2</th>\n",
       "      <td>2</td>\n",
       "      <td>1.0</td>\n",
       "      <td>1.0</td>\n",
       "      <td>NaN</td>\n",
       "      <td>2.0</td>\n",
       "      <td>NaN</td>\n",
       "      <td>2.0</td>\n",
       "      <td>NaN</td>\n",
       "      <td>2.0</td>\n",
       "      <td>NaN</td>\n",
       "      <td>...</td>\n",
       "      <td>NaN</td>\n",
       "      <td>NaN</td>\n",
       "      <td>NaN</td>\n",
       "      <td>NaN</td>\n",
       "      <td>NaN</td>\n",
       "      <td>NaN</td>\n",
       "      <td>NaN</td>\n",
       "      <td>NaN</td>\n",
       "      <td>NaN</td>\n",
       "      <td>NaN</td>\n",
       "    </tr>\n",
       "    <tr>\n",
       "      <th>3</th>\n",
       "      <td>3</td>\n",
       "      <td>NaN</td>\n",
       "      <td>NaN</td>\n",
       "      <td>1.0</td>\n",
       "      <td>1.0</td>\n",
       "      <td>NaN</td>\n",
       "      <td>2.0</td>\n",
       "      <td>NaN</td>\n",
       "      <td>4.0</td>\n",
       "      <td>NaN</td>\n",
       "      <td>...</td>\n",
       "      <td>NaN</td>\n",
       "      <td>NaN</td>\n",
       "      <td>NaN</td>\n",
       "      <td>NaN</td>\n",
       "      <td>NaN</td>\n",
       "      <td>NaN</td>\n",
       "      <td>NaN</td>\n",
       "      <td>NaN</td>\n",
       "      <td>NaN</td>\n",
       "      <td>NaN</td>\n",
       "    </tr>\n",
       "    <tr>\n",
       "      <th>4</th>\n",
       "      <td>4</td>\n",
       "      <td>NaN</td>\n",
       "      <td>NaN</td>\n",
       "      <td>1.0</td>\n",
       "      <td>4.0</td>\n",
       "      <td>NaN</td>\n",
       "      <td>2.0</td>\n",
       "      <td>NaN</td>\n",
       "      <td>2.0</td>\n",
       "      <td>NaN</td>\n",
       "      <td>...</td>\n",
       "      <td>NaN</td>\n",
       "      <td>NaN</td>\n",
       "      <td>NaN</td>\n",
       "      <td>NaN</td>\n",
       "      <td>NaN</td>\n",
       "      <td>NaN</td>\n",
       "      <td>NaN</td>\n",
       "      <td>NaN</td>\n",
       "      <td>NaN</td>\n",
       "      <td>NaN</td>\n",
       "    </tr>\n",
       "  </tbody>\n",
       "</table>\n",
       "<p>5 rows × 397 columns</p>\n",
       "</div>"
      ],
      "text/plain": [
       "   Unnamed: 0  1101111010  0011011101  1011011101  1010011100  0001001100  \\\n",
       "0           0         1.0         1.0         1.0         1.0         1.0   \n",
       "1           1         NaN         NaN         NaN         2.0         NaN   \n",
       "2           2         1.0         1.0         NaN         2.0         NaN   \n",
       "3           3         NaN         NaN         1.0         1.0         NaN   \n",
       "4           4         NaN         NaN         1.0         4.0         NaN   \n",
       "\n",
       "   0100000101  0010010101  1110110111  1010100010  ...  0011100011  \\\n",
       "0         1.0         1.0         1.0         1.0  ...         NaN   \n",
       "1         1.0         NaN         NaN         NaN  ...         NaN   \n",
       "2         2.0         NaN         2.0         NaN  ...         NaN   \n",
       "3         2.0         NaN         4.0         NaN  ...         NaN   \n",
       "4         2.0         NaN         2.0         NaN  ...         NaN   \n",
       "\n",
       "   0000101111  1000111111  0011010001  1011111010  1010000100  0000111010  \\\n",
       "0         NaN         NaN         NaN         NaN         NaN         NaN   \n",
       "1         NaN         NaN         NaN         NaN         NaN         NaN   \n",
       "2         NaN         NaN         NaN         NaN         NaN         NaN   \n",
       "3         NaN         NaN         NaN         NaN         NaN         NaN   \n",
       "4         NaN         NaN         NaN         NaN         NaN         NaN   \n",
       "\n",
       "   1000111010  1110010101  1110101011  \n",
       "0         NaN         NaN         NaN  \n",
       "1         NaN         NaN         NaN  \n",
       "2         NaN         NaN         NaN  \n",
       "3         NaN         NaN         NaN  \n",
       "4         NaN         NaN         NaN  \n",
       "\n",
       "[5 rows x 397 columns]"
      ]
     },
     "metadata": {},
     "output_type": "display_data"
    },
    {
     "data": {
      "text/html": [
       "<div>\n",
       "<style scoped>\n",
       "    .dataframe tbody tr th:only-of-type {\n",
       "        vertical-align: middle;\n",
       "    }\n",
       "\n",
       "    .dataframe tbody tr th {\n",
       "        vertical-align: top;\n",
       "    }\n",
       "\n",
       "    .dataframe thead th {\n",
       "        text-align: right;\n",
       "    }\n",
       "</style>\n",
       "<table border=\"1\" class=\"dataframe\">\n",
       "  <thead>\n",
       "    <tr style=\"text-align: right;\">\n",
       "      <th></th>\n",
       "      <th>Unnamed: 0</th>\n",
       "      <th>1101101001</th>\n",
       "      <th>0001011111</th>\n",
       "      <th>0000100001</th>\n",
       "      <th>0100001111</th>\n",
       "      <th>1101101010</th>\n",
       "      <th>0100111011</th>\n",
       "      <th>0110011001</th>\n",
       "      <th>0001100101</th>\n",
       "      <th>0001011100</th>\n",
       "      <th>...</th>\n",
       "      <th>0100010100</th>\n",
       "      <th>0111100010</th>\n",
       "      <th>0011000110</th>\n",
       "      <th>1001100110</th>\n",
       "      <th>1110111111</th>\n",
       "      <th>1110101011</th>\n",
       "      <th>0001010001</th>\n",
       "      <th>0111100011</th>\n",
       "      <th>1110110110</th>\n",
       "      <th>0010101110</th>\n",
       "    </tr>\n",
       "  </thead>\n",
       "  <tbody>\n",
       "    <tr>\n",
       "      <th>0</th>\n",
       "      <td>0</td>\n",
       "      <td>5.0</td>\n",
       "      <td>7.0</td>\n",
       "      <td>5.0</td>\n",
       "      <td>2.0</td>\n",
       "      <td>14</td>\n",
       "      <td>2.0</td>\n",
       "      <td>1.0</td>\n",
       "      <td>2.0</td>\n",
       "      <td>4.0</td>\n",
       "      <td>...</td>\n",
       "      <td>NaN</td>\n",
       "      <td>NaN</td>\n",
       "      <td>NaN</td>\n",
       "      <td>NaN</td>\n",
       "      <td>NaN</td>\n",
       "      <td>NaN</td>\n",
       "      <td>NaN</td>\n",
       "      <td>NaN</td>\n",
       "      <td>NaN</td>\n",
       "      <td>NaN</td>\n",
       "    </tr>\n",
       "    <tr>\n",
       "      <th>1</th>\n",
       "      <td>1</td>\n",
       "      <td>6.0</td>\n",
       "      <td>8.0</td>\n",
       "      <td>3.0</td>\n",
       "      <td>1.0</td>\n",
       "      <td>25</td>\n",
       "      <td>1.0</td>\n",
       "      <td>NaN</td>\n",
       "      <td>2.0</td>\n",
       "      <td>1.0</td>\n",
       "      <td>...</td>\n",
       "      <td>NaN</td>\n",
       "      <td>NaN</td>\n",
       "      <td>NaN</td>\n",
       "      <td>NaN</td>\n",
       "      <td>NaN</td>\n",
       "      <td>NaN</td>\n",
       "      <td>NaN</td>\n",
       "      <td>NaN</td>\n",
       "      <td>NaN</td>\n",
       "      <td>NaN</td>\n",
       "    </tr>\n",
       "    <tr>\n",
       "      <th>2</th>\n",
       "      <td>2</td>\n",
       "      <td>6.0</td>\n",
       "      <td>5.0</td>\n",
       "      <td>2.0</td>\n",
       "      <td>1.0</td>\n",
       "      <td>11</td>\n",
       "      <td>4.0</td>\n",
       "      <td>NaN</td>\n",
       "      <td>1.0</td>\n",
       "      <td>2.0</td>\n",
       "      <td>...</td>\n",
       "      <td>NaN</td>\n",
       "      <td>NaN</td>\n",
       "      <td>NaN</td>\n",
       "      <td>NaN</td>\n",
       "      <td>NaN</td>\n",
       "      <td>NaN</td>\n",
       "      <td>NaN</td>\n",
       "      <td>NaN</td>\n",
       "      <td>NaN</td>\n",
       "      <td>NaN</td>\n",
       "    </tr>\n",
       "    <tr>\n",
       "      <th>3</th>\n",
       "      <td>3</td>\n",
       "      <td>5.0</td>\n",
       "      <td>4.0</td>\n",
       "      <td>5.0</td>\n",
       "      <td>NaN</td>\n",
       "      <td>23</td>\n",
       "      <td>NaN</td>\n",
       "      <td>NaN</td>\n",
       "      <td>1.0</td>\n",
       "      <td>7.0</td>\n",
       "      <td>...</td>\n",
       "      <td>NaN</td>\n",
       "      <td>NaN</td>\n",
       "      <td>NaN</td>\n",
       "      <td>NaN</td>\n",
       "      <td>NaN</td>\n",
       "      <td>NaN</td>\n",
       "      <td>NaN</td>\n",
       "      <td>NaN</td>\n",
       "      <td>NaN</td>\n",
       "      <td>NaN</td>\n",
       "    </tr>\n",
       "    <tr>\n",
       "      <th>4</th>\n",
       "      <td>4</td>\n",
       "      <td>2.0</td>\n",
       "      <td>6.0</td>\n",
       "      <td>5.0</td>\n",
       "      <td>NaN</td>\n",
       "      <td>16</td>\n",
       "      <td>NaN</td>\n",
       "      <td>NaN</td>\n",
       "      <td>2.0</td>\n",
       "      <td>1.0</td>\n",
       "      <td>...</td>\n",
       "      <td>NaN</td>\n",
       "      <td>NaN</td>\n",
       "      <td>NaN</td>\n",
       "      <td>NaN</td>\n",
       "      <td>NaN</td>\n",
       "      <td>NaN</td>\n",
       "      <td>NaN</td>\n",
       "      <td>NaN</td>\n",
       "      <td>NaN</td>\n",
       "      <td>NaN</td>\n",
       "    </tr>\n",
       "  </tbody>\n",
       "</table>\n",
       "<p>5 rows × 976 columns</p>\n",
       "</div>"
      ],
      "text/plain": [
       "   Unnamed: 0  1101101001  0001011111  0000100001  0100001111  1101101010  \\\n",
       "0           0         5.0         7.0         5.0         2.0          14   \n",
       "1           1         6.0         8.0         3.0         1.0          25   \n",
       "2           2         6.0         5.0         2.0         1.0          11   \n",
       "3           3         5.0         4.0         5.0         NaN          23   \n",
       "4           4         2.0         6.0         5.0         NaN          16   \n",
       "\n",
       "   0100111011  0110011001  0001100101  0001011100  ...  0100010100  \\\n",
       "0         2.0         1.0         2.0         4.0  ...         NaN   \n",
       "1         1.0         NaN         2.0         1.0  ...         NaN   \n",
       "2         4.0         NaN         1.0         2.0  ...         NaN   \n",
       "3         NaN         NaN         1.0         7.0  ...         NaN   \n",
       "4         NaN         NaN         2.0         1.0  ...         NaN   \n",
       "\n",
       "   0111100010  0011000110  1001100110  1110111111  1110101011  0001010001  \\\n",
       "0         NaN         NaN         NaN         NaN         NaN         NaN   \n",
       "1         NaN         NaN         NaN         NaN         NaN         NaN   \n",
       "2         NaN         NaN         NaN         NaN         NaN         NaN   \n",
       "3         NaN         NaN         NaN         NaN         NaN         NaN   \n",
       "4         NaN         NaN         NaN         NaN         NaN         NaN   \n",
       "\n",
       "   0111100011  1110110110  0010101110  \n",
       "0         NaN         NaN         NaN  \n",
       "1         NaN         NaN         NaN  \n",
       "2         NaN         NaN         NaN  \n",
       "3         NaN         NaN         NaN  \n",
       "4         NaN         NaN         NaN  \n",
       "\n",
       "[5 rows x 976 columns]"
      ]
     },
     "metadata": {},
     "output_type": "display_data"
    }
   ],
   "source": [
    "for df_left, df_right in pairs:\n",
    "    display(df_left.head())\n",
    "    display(df_right.head())\n",
    "    break"
   ]
  },
  {
   "cell_type": "markdown",
   "id": "cb462e98",
   "metadata": {},
   "source": [
    "# Similarity Measures"
   ]
  },
  {
   "cell_type": "code",
   "execution_count": 30,
   "id": "05fa0d5a",
   "metadata": {
    "ExecuteTime": {
     "end_time": "2021-11-02T14:11:19.966615Z",
     "start_time": "2021-11-02T14:11:19.952919Z"
    },
    "code_folding": []
   },
   "outputs": [],
   "source": [
    "from scipy.stats import ttest_ind\n",
    "\n",
    "TOP_K_SOLUTION_TO_COMPARE = 5\n",
    "\n",
    "def score_top_k(df_master, df_slave, first_k=TOP_K_SOLUTION_TO_COMPARE):\n",
    "    # get the top k occurring solutions according to the master\n",
    "    m = df_master.fillna(0).to_numpy()\n",
    "    solution_cum_freq = m.sum(axis=0)\n",
    "    most_frequent_solutions = np.argsort(solution_cum_freq)[::-1]\n",
    "    if len(most_frequent_solutions) > first_k:\n",
    "        most_frequent_solutions = most_frequent_solutions[:first_k]\n",
    "    relevant_solutions = df_master.columns[most_frequent_solutions]\n",
    "    freqs = solution_cum_freq[most_frequent_solutions]\n",
    "    # compute p-values\n",
    "    p_values = []\n",
    "    df_master = df_master.fillna(0)\n",
    "    df_slave = df_slave.fillna(0)\n",
    "    for c in relevant_solutions:\n",
    "        try:\n",
    "            stat, p = ttest_ind(df_master[c], df_slave[c])\n",
    "        except:\n",
    "            if c not in df_master.columns:\n",
    "                print(f\"{c} column was missing from result of platform master\")\n",
    "                df_master[c] = 0\n",
    "            if c not in df_slave.columns:\n",
    "                print(f\"{c} column was missing from result of platform slave\")\n",
    "                df_slave[c] = 0\n",
    "            stat, p = ttest_ind(df_master[c], df_slave[c])    \n",
    "        p_values.append(p)\n",
    "    return min(p_values)"
   ]
  },
  {
   "cell_type": "markdown",
   "id": "40ccea84",
   "metadata": {},
   "source": [
    "# Interpretation Routine"
   ]
  },
  {
   "cell_type": "code",
   "execution_count": 14,
   "id": "f93daeb7",
   "metadata": {
    "ExecuteTime": {
     "end_time": "2021-11-02T13:43:04.532964Z",
     "start_time": "2021-11-02T13:43:04.522453Z"
    }
   },
   "outputs": [],
   "source": [
    "def interpret_as_p_value(score):\n",
    "    print(f\"P-Value like interpretation for: {score}\")\n",
    "    if score > 0.05:\n",
    "        print('Probably the same distribution')\n",
    "    else:\n",
    "        print('Probably different distributions')"
   ]
  },
  {
   "cell_type": "markdown",
   "id": "cca87071",
   "metadata": {},
   "source": [
    "# Method Selection"
   ]
  },
  {
   "cell_type": "code",
   "execution_count": 17,
   "id": "d4b46585",
   "metadata": {
    "ExecuteTime": {
     "end_time": "2021-11-02T13:43:20.546199Z",
     "start_time": "2021-11-02T13:43:20.543266Z"
    }
   },
   "outputs": [],
   "source": [
    "detector = score_top_k"
   ]
  },
  {
   "cell_type": "markdown",
   "id": "feb1d35a",
   "metadata": {
    "ExecuteTime": {
     "end_time": "2021-10-28T13:31:38.134627Z",
     "start_time": "2021-10-28T13:31:38.127744Z"
    }
   },
   "source": [
    "# Distinguish between: Real Quantum vs Uniform Random "
   ]
  },
  {
   "cell_type": "code",
   "execution_count": 20,
   "id": "df964b4b",
   "metadata": {
    "ExecuteTime": {
     "end_time": "2021-11-02T09:53:11.646702Z",
     "start_time": "2021-11-02T09:53:00.557760Z"
    }
   },
   "outputs": [
    {
     "name": "stdout",
     "output_type": "stream",
     "text": [
      "1101011101 column was missing from result of platform slave\n",
      "0000100010 column was missing from result of platform slave\n",
      "1010001001 column was missing from result of platform slave\n",
      "0110100001 column was missing from result of platform slave\n",
      "0001010010 column was missing from result of platform slave\n",
      "0110110110 column was missing from result of platform slave\n",
      "1001110100 column was missing from result of platform slave\n",
      "1111101100 column was missing from result of platform slave\n",
      "1110110001 column was missing from result of platform slave\n",
      "0000011011 column was missing from result of platform slave\n",
      "1001000100 column was missing from result of platform slave\n",
      "0001100101 column was missing from result of platform slave\n",
      "0101011110 column was missing from result of platform slave\n",
      "1100101111 column was missing from result of platform slave\n",
      "1001110011 column was missing from result of platform slave\n",
      "0000011011 column was missing from result of platform slave\n",
      "1101110110 column was missing from result of platform slave\n",
      "P-Value like interpretation for: 2.1912171835190454e-63\n",
      "Probably different distributions\n"
     ]
    }
   ],
   "source": [
    "pairs = create_pairs(ids_left=ids, suffix_left=\"_qiskit\", folder_left=REAL_DATA_FOLDER,\n",
    "                     ids_right=ids_random, suffix_right=\"\", folder_right=RANDOM_DATA_FOLDER,\n",
    "                     n_samples=50)\n",
    "scores = []\n",
    "for df_left, df_right in pairs:\n",
    "    score = detector(df_left, df_right)\n",
    "    scores.append(score)\n",
    "average_score = np.mean(scores)\n",
    "interpret_as_p_value(average_score)"
   ]
  },
  {
   "cell_type": "markdown",
   "id": "08df64db",
   "metadata": {},
   "source": [
    "# Distinguish between: Same (artificial) Distribution (Random)"
   ]
  },
  {
   "cell_type": "code",
   "execution_count": 21,
   "id": "083b0fc1",
   "metadata": {
    "ExecuteTime": {
     "end_time": "2021-11-02T09:53:20.604270Z",
     "start_time": "2021-11-02T09:53:11.648185Z"
    }
   },
   "outputs": [
    {
     "name": "stdout",
     "output_type": "stream",
     "text": [
      "1010001100 column was missing from result of platform slave\n",
      "0000011111 column was missing from result of platform slave\n",
      "0101100011 column was missing from result of platform slave\n",
      "0101101110 column was missing from result of platform slave\n",
      "1101011111 column was missing from result of platform slave\n",
      "0101011101 column was missing from result of platform slave\n",
      "0010100111 column was missing from result of platform slave\n",
      "0100110010 column was missing from result of platform slave\n",
      "0000110110 column was missing from result of platform slave\n",
      "0010010101 column was missing from result of platform slave\n",
      "0110110011 column was missing from result of platform slave\n",
      "0010100010 column was missing from result of platform slave\n",
      "0010110010 column was missing from result of platform slave\n",
      "1010111110 column was missing from result of platform slave\n",
      "0101101001 column was missing from result of platform slave\n",
      "1101110101 column was missing from result of platform slave\n",
      "0011010111 column was missing from result of platform slave\n",
      "0011011100 column was missing from result of platform slave\n",
      "1001010000 column was missing from result of platform slave\n",
      "1000000100 column was missing from result of platform slave\n",
      "0111011001 column was missing from result of platform slave\n",
      "1011011000 column was missing from result of platform slave\n",
      "1010011100 column was missing from result of platform slave\n",
      "0001000101 column was missing from result of platform slave\n",
      "1011000010 column was missing from result of platform slave\n",
      "0110010000 column was missing from result of platform slave\n",
      "0001100001 column was missing from result of platform slave\n",
      "1001100111 column was missing from result of platform slave\n",
      "1110010110 column was missing from result of platform slave\n",
      "1111001111 column was missing from result of platform slave\n",
      "P-Value like interpretation for: 2.0637547522521455e-70\n",
      "Probably different distributions\n"
     ]
    }
   ],
   "source": [
    "pairs = create_pairs(ids_left=ids_random[:500], suffix_left=\"\", folder_left=RANDOM_DATA_FOLDER,\n",
    "                     ids_right=ids_random[500:], suffix_right=\"\", folder_right=RANDOM_DATA_FOLDER,\n",
    "                     n_samples=50)\n",
    "scores = []\n",
    "for df_left, df_right in pairs:\n",
    "    score = detector(df_left, df_right)\n",
    "    scores.append(score)\n",
    "average_score = np.mean(scores)\n",
    "interpret_as_p_value(average_score)"
   ]
  },
  {
   "cell_type": "markdown",
   "id": "57acdcf4",
   "metadata": {},
   "source": [
    "**OBSERVATION**: testing only the first top-k (aka 5) bitstrings suffers when the distributions are very spread (uniform distributions)"
   ]
  },
  {
   "cell_type": "markdown",
   "id": "cc4721df",
   "metadata": {},
   "source": [
    "# Distinguish: Same Platform, Same Circuit\n",
    "Assumption: there are no bug in the sampling procedure of one platform"
   ]
  },
  {
   "cell_type": "code",
   "execution_count": 22,
   "id": "ba648b1a",
   "metadata": {
    "ExecuteTime": {
     "end_time": "2021-11-02T09:53:29.614438Z",
     "start_time": "2021-11-02T09:53:20.606105Z"
    }
   },
   "outputs": [
    {
     "name": "stdout",
     "output_type": "stream",
     "text": [
      "---- overall ----\n",
      "P-Value like interpretation for: 0.03684048990722175\n",
      "Probably different distributions\n",
      "---- platfrom specific ----\n",
      "Platform left:\n",
      "P-Value like interpretation for: 0.04039995258271368\n",
      "Probably different distributions\n",
      "Platform right:\n",
      "P-Value like interpretation for: 0.033281027231729834\n",
      "Probably different distributions\n"
     ]
    }
   ],
   "source": [
    "pairs = create_pairs(ids_left=ids, suffix_left=\"_qiskit\", folder_left=REAL_DATA_FOLDER,\n",
    "                     ids_right=ids, suffix_right=\"_cirq\", folder_right=REAL_DATA_FOLDER,\n",
    "                     n_samples=50, shared_ids=True)\n",
    "scores = []\n",
    "for df_left, df_right in pairs:\n",
    "\n",
    "    for df in [df_left, df_right]:\n",
    "        # NOTE THAT WE COMPARE THE SAME PLATFORM  \n",
    "        # use the first half sampling on one side and the second half on the other\n",
    "        half = int(len(df) / 2)\n",
    "        score = detector(df[:half], df[half:])\n",
    "        scores.append(score)\n",
    "    \n",
    "print('---- overall ----')\n",
    "average_score = np.mean(scores)\n",
    "interpret_as_p_value(average_score)\n",
    "print('---- platfrom specific ----')\n",
    "scores_left = [s for i, s in enumerate(scores) if i % 2 == 0]\n",
    "scores_right = [s for i, s in enumerate(scores) if i % 2 != 0]\n",
    "for name, scores in [('left', scores_left), ('right', scores_right)]:\n",
    "    print(f'Platform {name}:')\n",
    "    average_score = np.mean(scores)\n",
    "    interpret_as_p_value(average_score)"
   ]
  },
  {
   "cell_type": "markdown",
   "id": "507cbdce",
   "metadata": {},
   "source": [
    "# Test on: Different Platform, Same (Real) Algo "
   ]
  },
  {
   "cell_type": "code",
   "execution_count": 15,
   "id": "18f4fed4",
   "metadata": {
    "ExecuteTime": {
     "end_time": "2021-11-02T13:43:12.003290Z",
     "start_time": "2021-11-02T13:43:11.998852Z"
    }
   },
   "outputs": [],
   "source": [
    "debug_ids = [\n",
    "    'sat_n11'\n",
    "]"
   ]
  },
  {
   "cell_type": "code",
   "execution_count": 32,
   "id": "367d20c5",
   "metadata": {
    "ExecuteTime": {
     "end_time": "2021-11-02T14:12:53.692514Z",
     "start_time": "2021-11-02T14:12:31.906129Z"
    }
   },
   "outputs": [
    {
     "name": "stdout",
     "output_type": "stream",
     "text": [
      "--------------------------------------------------------------------------------\n",
      "bv_n14\n"
     ]
    },
    {
     "data": {
      "text/html": [
       "<div>\n",
       "<style scoped>\n",
       "    .dataframe tbody tr th:only-of-type {\n",
       "        vertical-align: middle;\n",
       "    }\n",
       "\n",
       "    .dataframe tbody tr th {\n",
       "        vertical-align: top;\n",
       "    }\n",
       "\n",
       "    .dataframe thead th {\n",
       "        text-align: right;\n",
       "    }\n",
       "</style>\n",
       "<table border=\"1\" class=\"dataframe\">\n",
       "  <thead>\n",
       "    <tr style=\"text-align: right;\">\n",
       "      <th></th>\n",
       "      <th>1111111111111</th>\n",
       "    </tr>\n",
       "  </thead>\n",
       "  <tbody>\n",
       "    <tr>\n",
       "      <th>0</th>\n",
       "      <td>1024</td>\n",
       "    </tr>\n",
       "    <tr>\n",
       "      <th>1</th>\n",
       "      <td>1024</td>\n",
       "    </tr>\n",
       "    <tr>\n",
       "      <th>2</th>\n",
       "      <td>1024</td>\n",
       "    </tr>\n",
       "    <tr>\n",
       "      <th>3</th>\n",
       "      <td>1024</td>\n",
       "    </tr>\n",
       "    <tr>\n",
       "      <th>4</th>\n",
       "      <td>1024</td>\n",
       "    </tr>\n",
       "    <tr>\n",
       "      <th>...</th>\n",
       "      <td>...</td>\n",
       "    </tr>\n",
       "    <tr>\n",
       "      <th>95</th>\n",
       "      <td>1024</td>\n",
       "    </tr>\n",
       "    <tr>\n",
       "      <th>96</th>\n",
       "      <td>1024</td>\n",
       "    </tr>\n",
       "    <tr>\n",
       "      <th>97</th>\n",
       "      <td>1024</td>\n",
       "    </tr>\n",
       "    <tr>\n",
       "      <th>98</th>\n",
       "      <td>1024</td>\n",
       "    </tr>\n",
       "    <tr>\n",
       "      <th>99</th>\n",
       "      <td>1024</td>\n",
       "    </tr>\n",
       "  </tbody>\n",
       "</table>\n",
       "<p>100 rows × 1 columns</p>\n",
       "</div>"
      ],
      "text/plain": [
       "    1111111111111\n",
       "0            1024\n",
       "1            1024\n",
       "2            1024\n",
       "3            1024\n",
       "4            1024\n",
       "..            ...\n",
       "95           1024\n",
       "96           1024\n",
       "97           1024\n",
       "98           1024\n",
       "99           1024\n",
       "\n",
       "[100 rows x 1 columns]"
      ]
     },
     "metadata": {},
     "output_type": "display_data"
    },
    {
     "data": {
      "text/html": [
       "<div>\n",
       "<style scoped>\n",
       "    .dataframe tbody tr th:only-of-type {\n",
       "        vertical-align: middle;\n",
       "    }\n",
       "\n",
       "    .dataframe tbody tr th {\n",
       "        vertical-align: top;\n",
       "    }\n",
       "\n",
       "    .dataframe thead th {\n",
       "        text-align: right;\n",
       "    }\n",
       "</style>\n",
       "<table border=\"1\" class=\"dataframe\">\n",
       "  <thead>\n",
       "    <tr style=\"text-align: right;\">\n",
       "      <th></th>\n",
       "      <th>1111111111111</th>\n",
       "    </tr>\n",
       "  </thead>\n",
       "  <tbody>\n",
       "    <tr>\n",
       "      <th>0</th>\n",
       "      <td>1024</td>\n",
       "    </tr>\n",
       "    <tr>\n",
       "      <th>1</th>\n",
       "      <td>1024</td>\n",
       "    </tr>\n",
       "    <tr>\n",
       "      <th>2</th>\n",
       "      <td>1024</td>\n",
       "    </tr>\n",
       "    <tr>\n",
       "      <th>3</th>\n",
       "      <td>1024</td>\n",
       "    </tr>\n",
       "    <tr>\n",
       "      <th>4</th>\n",
       "      <td>1024</td>\n",
       "    </tr>\n",
       "    <tr>\n",
       "      <th>...</th>\n",
       "      <td>...</td>\n",
       "    </tr>\n",
       "    <tr>\n",
       "      <th>95</th>\n",
       "      <td>1024</td>\n",
       "    </tr>\n",
       "    <tr>\n",
       "      <th>96</th>\n",
       "      <td>1024</td>\n",
       "    </tr>\n",
       "    <tr>\n",
       "      <th>97</th>\n",
       "      <td>1024</td>\n",
       "    </tr>\n",
       "    <tr>\n",
       "      <th>98</th>\n",
       "      <td>1024</td>\n",
       "    </tr>\n",
       "    <tr>\n",
       "      <th>99</th>\n",
       "      <td>1024</td>\n",
       "    </tr>\n",
       "  </tbody>\n",
       "</table>\n",
       "<p>100 rows × 1 columns</p>\n",
       "</div>"
      ],
      "text/plain": [
       "    1111111111111\n",
       "0            1024\n",
       "1            1024\n",
       "2            1024\n",
       "3            1024\n",
       "4            1024\n",
       "..            ...\n",
       "95           1024\n",
       "96           1024\n",
       "97           1024\n",
       "98           1024\n",
       "99           1024\n",
       "\n",
       "[100 rows x 1 columns]"
      ]
     },
     "metadata": {},
     "output_type": "display_data"
    },
    {
     "name": "stdout",
     "output_type": "stream",
     "text": [
      "nan\n"
     ]
    }
   ],
   "source": [
    "folder = QASM_DATA_FOLDER\n",
    "suffix_left = \"_qiskit\"\n",
    "suffix_right = \"_cirq\"\n",
    "\n",
    "left_dfs = [\n",
    "    pd.read_csv(\n",
    "        os.path.join(folder, f\"{id_left}{suffix_left}.csv\"),\n",
    "        index_col=0\n",
    "    )\n",
    "    for id_left in ids_qasm\n",
    "]\n",
    "right_dfs = [\n",
    "    pd.read_csv(\n",
    "        os.path.join(folder, f\"{id_right}{suffix_right}.csv\"),\n",
    "        index_col=0\n",
    "    )\n",
    "    for id_right in ids_qasm\n",
    "]\n",
    "\n",
    "scores = []\n",
    "for df_left, df_right, id_program in zip(left_dfs, right_dfs, ids_qasm):\n",
    "    print(\"-\" * 80)\n",
    "    print(id_program)\n",
    "    display(df_left)\n",
    "    display(df_right)\n",
    "    score = detector(df_left, df_right)\n",
    "    print(score)\n",
    "    scores.append(score)\n",
    "    break"
   ]
  },
  {
   "cell_type": "code",
   "execution_count": 20,
   "id": "21c8d9ad",
   "metadata": {
    "ExecuteTime": {
     "end_time": "2021-11-02T13:51:31.116387Z",
     "start_time": "2021-11-02T13:51:07.665816Z"
    }
   },
   "outputs": [
    {
     "name": "stdout",
     "output_type": "stream",
     "text": [
      "--------------------------------------------------------------------------------\n",
      "{'filepath': 'simon_n6_cirq.csv', 'algo_name': 'simon_n6', 'platform': 'cirq'}\n",
      "nan\n",
      "--------------------------------------------------------------------------------\n",
      "{'filepath': 'simon_n6_qiskit.csv', 'algo_name': 'simon_n6', 'platform': 'qiskit'}\n",
      "0.1534379674360089\n",
      "--------------------------------------------------------------------------------\n",
      "{'filepath': 'bv_n14_qiskit.csv', 'algo_name': 'bv_n14', 'platform': 'qiskit'}\n",
      "nan\n",
      "--------------------------------------------------------------------------------\n",
      "{'filepath': 'adder_n10_cirq.csv', 'algo_name': 'adder_n10', 'platform': 'cirq'}\n",
      "000111 column was missing from result of platform slave\n",
      "001011 column was missing from result of platform slave\n",
      "001111 column was missing from result of platform slave\n",
      "1.1574585212096103e-165\n",
      "--------------------------------------------------------------------------------\n",
      "{'filepath': 'sat_n11_cirq.csv', 'algo_name': 'sat_n11', 'platform': 'cirq'}\n",
      "1.2794118867942466e-150\n",
      "--------------------------------------------------------------------------------\n",
      "{'filepath': 'seca_n11_cirq.csv', 'algo_name': 'seca_n11', 'platform': 'cirq'}\n",
      "10000000001 column was missing from result of platform slave\n",
      "11000000000 column was missing from result of platform slave\n",
      "11000000001 column was missing from result of platform slave\n",
      "10000000000 column was missing from result of platform slave\n",
      "4.198105891732659e-239\n",
      "--------------------------------------------------------------------------------\n",
      "{'filepath': 'qaoa_n6_cirq.csv', 'algo_name': 'qaoa_n6', 'platform': 'cirq'}\n",
      "8.468907697031769e-116\n",
      "--------------------------------------------------------------------------------\n",
      "{'filepath': 'ising_n10_cirq.csv', 'algo_name': 'ising_n10', 'platform': 'cirq'}\n",
      "0.00898797260330989\n",
      "--------------------------------------------------------------------------------\n",
      "{'filepath': 'dnn_n8_qiskit.csv', 'algo_name': 'dnn_n8', 'platform': 'qiskit'}\n",
      "001 column was missing from result of platform slave\n",
      "0.0\n",
      "--------------------------------------------------------------------------------\n",
      "{'filepath': 'bb84_n8_cirq.csv', 'algo_name': 'bb84_n8', 'platform': 'cirq'}\n",
      "10000 column was missing from result of platform slave\n",
      "0.0\n",
      "--------------------------------------------------------------------------------\n",
      "{'filepath': 'sat_n11_qiskit.csv', 'algo_name': 'sat_n11', 'platform': 'qiskit'}\n",
      "0 0 1 1 0 1 0 1 column was missing from result of platform slave\n",
      "0 1 0 1 0 1 0 0 column was missing from result of platform slave\n",
      "0 0 1 1 0 1 0 0 column was missing from result of platform slave\n",
      "0 1 0 1 0 1 0 1 column was missing from result of platform slave\n",
      "5.901303463246013e-132\n",
      "--------------------------------------------------------------------------------\n",
      "{'filepath': 'qaoa_n6_qiskit.csv', 'algo_name': 'qaoa_n6', 'platform': 'qiskit'}\n",
      "0.33181593880147986\n",
      "P-Value like interpretation for: 0.04942418788407986\n",
      "Probably different distributions\n"
     ]
    }
   ],
   "source": [
    "pairs = create_pairs(ids_left=ids_qasm, suffix_left=\"_qiskit\", folder_left=QASM_DATA_FOLDER,\n",
    "                     ids_right=ids_qasm, suffix_right=\"_cirq\", folder_right=QASM_DATA_FOLDER,\n",
    "                     n_samples=0, shared_ids=True)\n",
    "scores = []\n",
    "for (df_left, df_right), record in zip(pairs, records_qasm):\n",
    "    print(\"-\" * 80)\n",
    "    print(record)\n",
    "    display(df_left)\n",
    "    display(df_right)\n",
    "    score = detector(df_left, df_right)\n",
    "    print(score)\n",
    "    scores.append(score)\n",
    "    break\n",
    "no_nan_scores = np.array(scores)\n",
    "no_nan_scores = no_nan_scores[~np.isnan(no_nan_scores)]\n",
    "average_score = np.mean(no_nan_scores)\n",
    "interpret_as_p_value(average_score)"
   ]
  },
  {
   "cell_type": "code",
   "execution_count": 21,
   "id": "85da95eb",
   "metadata": {
    "ExecuteTime": {
     "end_time": "2021-11-02T13:51:53.385044Z",
     "start_time": "2021-11-02T13:51:53.375138Z"
    }
   },
   "outputs": [
    {
     "data": {
      "text/plain": [
       "[nan,\n",
       " 0.1534379674360089,\n",
       " nan,\n",
       " 1.1574585212096103e-165,\n",
       " 1.2794118867942466e-150,\n",
       " 4.198105891732659e-239,\n",
       " 8.468907697031769e-116,\n",
       " 0.00898797260330989,\n",
       " 0.0,\n",
       " 0.0,\n",
       " 5.901303463246013e-132,\n",
       " 0.33181593880147986]"
      ]
     },
     "execution_count": 21,
     "metadata": {},
     "output_type": "execute_result"
    }
   ],
   "source": [
    "scores"
   ]
  },
  {
   "cell_type": "code",
   "execution_count": null,
   "id": "c1782a67",
   "metadata": {},
   "outputs": [],
   "source": []
  }
 ],
 "metadata": {
  "kernelspec": {
   "display_name": "Python 3 (ipykernel)",
   "language": "python",
   "name": "python3"
  },
  "language_info": {
   "codemirror_mode": {
    "name": "ipython",
    "version": 3
   },
   "file_extension": ".py",
   "mimetype": "text/x-python",
   "name": "python",
   "nbconvert_exporter": "python",
   "pygments_lexer": "ipython3",
   "version": "3.8.0"
  },
  "toc": {
   "base_numbering": 1,
   "nav_menu": {},
   "number_sections": true,
   "sideBar": true,
   "skip_h1_title": false,
   "title_cell": "Table of Contents",
   "title_sidebar": "Contents",
   "toc_cell": false,
   "toc_position": {},
   "toc_section_display": true,
   "toc_window_display": false
  }
 },
 "nbformat": 4,
 "nbformat_minor": 5
}
