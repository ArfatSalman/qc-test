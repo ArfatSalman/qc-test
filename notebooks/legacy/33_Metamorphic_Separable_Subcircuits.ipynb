{
 "cells": [
  {
   "cell_type": "code",
   "execution_count": 1,
   "id": "9ef57e20",
   "metadata": {
    "ExecuteTime": {
     "end_time": "2022-02-15T12:52:03.980108Z",
     "start_time": "2022-02-15T12:52:03.975394Z"
    }
   },
   "outputs": [],
   "source": [
    "# goal: create two circuits which do not have any entanglement and thus \n",
    "# can be separated and run separately. Then get the cartesian product to \n",
    "# recreate the original distribution"
   ]
  },
  {
   "cell_type": "code",
   "execution_count": 2,
   "id": "d89d2188",
   "metadata": {
    "ExecuteTime": {
     "end_time": "2022-02-16T13:47:10.541727Z",
     "start_time": "2022-02-16T13:47:06.287690Z"
    }
   },
   "outputs": [],
   "source": [
    "import pandas as pd\n",
    "import sys\n",
    "sys.path.append(\"../lib\")\n",
    "import seaborn as sns\n",
    "import matplotlib.pyplot as plt\n",
    "from utils import iterate_over\n",
    "from utils import load_config_and_check\n",
    "from inspector import Inspector\n",
    "from tqdm import tqdm\n",
    "import sqlite3 as sl\n",
    "import os"
   ]
  },
  {
   "cell_type": "code",
   "execution_count": 3,
   "id": "e90f9150",
   "metadata": {
    "ExecuteTime": {
     "end_time": "2022-02-16T13:47:10.578478Z",
     "start_time": "2022-02-16T13:47:10.546240Z"
    }
   },
   "outputs": [],
   "source": [
    "%load_ext autoreload\n",
    "%autoreload 2"
   ]
  },
  {
   "cell_type": "code",
   "execution_count": 4,
   "id": "a28b358b",
   "metadata": {
    "ExecuteTime": {
     "end_time": "2022-02-16T13:47:10.649362Z",
     "start_time": "2022-02-16T13:47:10.580103Z"
    }
   },
   "outputs": [],
   "source": [
    "config = load_config_and_check(\"../config/qmt_v04.yaml\")"
   ]
  },
  {
   "cell_type": "code",
   "execution_count": 4,
   "id": "6c39324f",
   "metadata": {
    "ExecuteTime": {
     "end_time": "2022-02-15T14:43:44.032164Z",
     "start_time": "2022-02-15T14:43:27.608625Z"
    }
   },
   "outputs": [],
   "source": [
    "from metamorph import *\n",
    "from qmt import get_mr_function_and_kwargs\n",
    "from metamorph_test import show_tree"
   ]
  },
  {
   "cell_type": "code",
   "execution_count": 13,
   "id": "3d823d23",
   "metadata": {
    "ExecuteTime": {
     "end_time": "2022-02-15T13:13:24.330527Z",
     "start_time": "2022-02-15T13:13:23.943646Z"
    }
   },
   "outputs": [
    {
     "data": {
      "text/html": [
       "<pre style=\"word-wrap: normal;white-space: pre;background: #fff0;line-height: 1.1;font-family: &quot;Courier New&quot;,Courier,monospace\">         ┌───────┐          ░ ┌─┐                        \n",
       "qr_qr_0: ┤0      ├──────────░─┤M├────────────────────────\n",
       "         │       │          ░ └╥┘┌─┐                     \n",
       "qr_qr_1: ┤1      ├──────────░──╫─┤M├─────────────────────\n",
       "         │       │          ░  ║ └╥┘┌─┐                  \n",
       "qr_qr_2: ┤2      ├──────────░──╫──╫─┤M├──────────────────\n",
       "         │       │          ░  ║  ║ └╥┘┌─┐               \n",
       "qr_qr_3: ┤3      ├──────────░──╫──╫──╫─┤M├───────────────\n",
       "         │       │          ░  ║  ║  ║ └╥┘┌─┐            \n",
       "qr_qr_4: ┤4      ├──────────░──╫──╫──╫──╫─┤M├────────────\n",
       "         │       │          ░  ║  ║  ║  ║ └╥┘┌─┐         \n",
       "qr_qr_5: ┤5      ├──────────░──╫──╫──╫──╫──╫─┤M├─────────\n",
       "         │       │┌───────┐ ░  ║  ║  ║  ║  ║ └╥┘┌─┐      \n",
       "qr_qr_6: ┤       ├┤0      ├─░──╫──╫──╫──╫──╫──╫─┤M├──────\n",
       "         │       ││       │ ░  ║  ║  ║  ║  ║  ║ └╥┘┌─┐   \n",
       "qr_qr_7: ┤  qc_1 ├┤1      ├─░──╫──╫──╫──╫──╫──╫──╫─┤M├───\n",
       "         │       ││       │ ░  ║  ║  ║  ║  ║  ║  ║ └╥┘┌─┐\n",
       "qr_qr_8: ┤       ├┤2      ├─░──╫──╫──╫──╫──╫──╫──╫──╫─┤M├\n",
       "         │       ││       │ ░  ║  ║  ║  ║  ║  ║  ║  ║ └╥┘\n",
       "cr_qr_0: ╡0      ╞╡       ╞════╬══╬══╬══╬══╬══╬══╬══╬══╬═\n",
       "         │       ││       │    ║  ║  ║  ║  ║  ║  ║  ║  ║ \n",
       "cr_qr_1: ╡1      ╞╡       ╞════╬══╬══╬══╬══╬══╬══╬══╬══╬═\n",
       "         │       ││       │    ║  ║  ║  ║  ║  ║  ║  ║  ║ \n",
       "cr_qr_2: ╡2      ╞╡       ╞════╬══╬══╬══╬══╬══╬══╬══╬══╬═\n",
       "         │       ││  qc_2 │    ║  ║  ║  ║  ║  ║  ║  ║  ║ \n",
       "cr_qr_3: ╡3      ╞╡       ╞════╬══╬══╬══╬══╬══╬══╬══╬══╬═\n",
       "         │       ││       │    ║  ║  ║  ║  ║  ║  ║  ║  ║ \n",
       "cr_qr_4: ╡4      ╞╡       ╞════╬══╬══╬══╬══╬══╬══╬══╬══╬═\n",
       "         │       ││       │    ║  ║  ║  ║  ║  ║  ║  ║  ║ \n",
       "cr_qr_5: ╡5      ╞╡       ╞════╬══╬══╬══╬══╬══╬══╬══╬══╬═\n",
       "         └───────┘│       │    ║  ║  ║  ║  ║  ║  ║  ║  ║ \n",
       "cr_qr_6: ═════════╡0      ╞════╬══╬══╬══╬══╬══╬══╬══╬══╬═\n",
       "                  │       │    ║  ║  ║  ║  ║  ║  ║  ║  ║ \n",
       "cr_qr_7: ═════════╡1      ╞════╬══╬══╬══╬══╬══╬══╬══╬══╬═\n",
       "                  │       │    ║  ║  ║  ║  ║  ║  ║  ║  ║ \n",
       "cr_qr_8: ═════════╡2      ╞════╬══╬══╬══╬══╬══╬══╬══╬══╬═\n",
       "                  └───────┘    ║  ║  ║  ║  ║  ║  ║  ║  ║ \n",
       " meas_0: ══════════════════════╩══╬══╬══╬══╬══╬══╬══╬══╬═\n",
       "                                  ║  ║  ║  ║  ║  ║  ║  ║ \n",
       " meas_1: ═════════════════════════╩══╬══╬══╬══╬══╬══╬══╬═\n",
       "                                     ║  ║  ║  ║  ║  ║  ║ \n",
       " meas_2: ════════════════════════════╩══╬══╬══╬══╬══╬══╬═\n",
       "                                        ║  ║  ║  ║  ║  ║ \n",
       " meas_3: ═══════════════════════════════╩══╬══╬══╬══╬══╬═\n",
       "                                           ║  ║  ║  ║  ║ \n",
       " meas_4: ══════════════════════════════════╩══╬══╬══╬══╬═\n",
       "                                              ║  ║  ║  ║ \n",
       " meas_5: ═════════════════════════════════════╩══╬══╬══╬═\n",
       "                                                 ║  ║  ║ \n",
       " meas_6: ════════════════════════════════════════╩══╬══╬═\n",
       "                                                    ║  ║ \n",
       " meas_7: ═══════════════════════════════════════════╩══╬═\n",
       "                                                       ║ \n",
       " meas_8: ══════════════════════════════════════════════╩═\n",
       "                                                         </pre>"
      ],
      "text/plain": [
       "         ┌───────┐          ░ ┌─┐                        \n",
       "qr_qr_0: ┤0      ├──────────░─┤M├────────────────────────\n",
       "         │       │          ░ └╥┘┌─┐                     \n",
       "qr_qr_1: ┤1      ├──────────░──╫─┤M├─────────────────────\n",
       "         │       │          ░  ║ └╥┘┌─┐                  \n",
       "qr_qr_2: ┤2      ├──────────░──╫──╫─┤M├──────────────────\n",
       "         │       │          ░  ║  ║ └╥┘┌─┐               \n",
       "qr_qr_3: ┤3      ├──────────░──╫──╫──╫─┤M├───────────────\n",
       "         │       │          ░  ║  ║  ║ └╥┘┌─┐            \n",
       "qr_qr_4: ┤4      ├──────────░──╫──╫──╫──╫─┤M├────────────\n",
       "         │       │          ░  ║  ║  ║  ║ └╥┘┌─┐         \n",
       "qr_qr_5: ┤5      ├──────────░──╫──╫──╫──╫──╫─┤M├─────────\n",
       "         │       │┌───────┐ ░  ║  ║  ║  ║  ║ └╥┘┌─┐      \n",
       "qr_qr_6: ┤       ├┤0      ├─░──╫──╫──╫──╫──╫──╫─┤M├──────\n",
       "         │       ││       │ ░  ║  ║  ║  ║  ║  ║ └╥┘┌─┐   \n",
       "qr_qr_7: ┤  qc_1 ├┤1      ├─░──╫──╫──╫──╫──╫──╫──╫─┤M├───\n",
       "         │       ││       │ ░  ║  ║  ║  ║  ║  ║  ║ └╥┘┌─┐\n",
       "qr_qr_8: ┤       ├┤2      ├─░──╫──╫──╫──╫──╫──╫──╫──╫─┤M├\n",
       "         │       ││       │ ░  ║  ║  ║  ║  ║  ║  ║  ║ └╥┘\n",
       "cr_qr_0: ╡0      ╞╡       ╞════╬══╬══╬══╬══╬══╬══╬══╬══╬═\n",
       "         │       ││       │    ║  ║  ║  ║  ║  ║  ║  ║  ║ \n",
       "cr_qr_1: ╡1      ╞╡       ╞════╬══╬══╬══╬══╬══╬══╬══╬══╬═\n",
       "         │       ││       │    ║  ║  ║  ║  ║  ║  ║  ║  ║ \n",
       "cr_qr_2: ╡2      ╞╡       ╞════╬══╬══╬══╬══╬══╬══╬══╬══╬═\n",
       "         │       ││  qc_2 │    ║  ║  ║  ║  ║  ║  ║  ║  ║ \n",
       "cr_qr_3: ╡3      ╞╡       ╞════╬══╬══╬══╬══╬══╬══╬══╬══╬═\n",
       "         │       ││       │    ║  ║  ║  ║  ║  ║  ║  ║  ║ \n",
       "cr_qr_4: ╡4      ╞╡       ╞════╬══╬══╬══╬══╬══╬══╬══╬══╬═\n",
       "         │       ││       │    ║  ║  ║  ║  ║  ║  ║  ║  ║ \n",
       "cr_qr_5: ╡5      ╞╡       ╞════╬══╬══╬══╬══╬══╬══╬══╬══╬═\n",
       "         └───────┘│       │    ║  ║  ║  ║  ║  ║  ║  ║  ║ \n",
       "cr_qr_6: ═════════╡0      ╞════╬══╬══╬══╬══╬══╬══╬══╬══╬═\n",
       "                  │       │    ║  ║  ║  ║  ║  ║  ║  ║  ║ \n",
       "cr_qr_7: ═════════╡1      ╞════╬══╬══╬══╬══╬══╬══╬══╬══╬═\n",
       "                  │       │    ║  ║  ║  ║  ║  ║  ║  ║  ║ \n",
       "cr_qr_8: ═════════╡2      ╞════╬══╬══╬══╬══╬══╬══╬══╬══╬═\n",
       "                  └───────┘    ║  ║  ║  ║  ║  ║  ║  ║  ║ \n",
       " meas_0: ══════════════════════╩══╬══╬══╬══╬══╬══╬══╬══╬═\n",
       "                                  ║  ║  ║  ║  ║  ║  ║  ║ \n",
       " meas_1: ═════════════════════════╩══╬══╬══╬══╬══╬══╬══╬═\n",
       "                                     ║  ║  ║  ║  ║  ║  ║ \n",
       " meas_2: ════════════════════════════╩══╬══╬══╬══╬══╬══╬═\n",
       "                                        ║  ║  ║  ║  ║  ║ \n",
       " meas_3: ═══════════════════════════════╩══╬══╬══╬══╬══╬═\n",
       "                                           ║  ║  ║  ║  ║ \n",
       " meas_4: ══════════════════════════════════╩══╬══╬══╬══╬═\n",
       "                                              ║  ║  ║  ║ \n",
       " meas_5: ═════════════════════════════════════╩══╬══╬══╬═\n",
       "                                                 ║  ║  ║ \n",
       " meas_6: ════════════════════════════════════════╩══╬══╬═\n",
       "                                                    ║  ║ \n",
       " meas_7: ═══════════════════════════════════════════╩══╬═\n",
       "                                                       ║ \n",
       " meas_8: ══════════════════════════════════════════════╩═\n",
       "                                                         "
      ]
     },
     "execution_count": 13,
     "metadata": {},
     "output_type": "execute_result"
    }
   ],
   "source": [
    "# SECTION\n",
    "# NAME: PROLOGUE\n",
    "\n",
    "import qiskit\n",
    "from qiskit import QuantumCircuit, ClassicalRegister, QuantumRegister\n",
    "from qiskit.circuit.library.standard_gates import *\n",
    "# SECTION\n",
    "# NAME: CIRCUIT\n",
    "\n",
    "qr_main = QuantumRegister(9, name='qr_qr')\n",
    "cr_main = ClassicalRegister(9, name='cr_qr')\n",
    "qc_main = QuantumCircuit(qr_main, cr_main, name='qc_main')\n",
    "\n",
    "\n",
    "qr_1 = QuantumRegister(6, name='qr_qr')\n",
    "cr_1 = ClassicalRegister(6, name='cr_qr')\n",
    "qc_1 = QuantumCircuit(qr_1, cr_1, name='qc_1')\n",
    "qc_1.append(SXdgGate(), qargs=[qr_1[5]], cargs=[])\n",
    "qc_1.append(ECRGate(), qargs=[qr_1[2], qr_1[3]], cargs=[])\n",
    "\n",
    "\n",
    "qr_2 = QuantumRegister(3, name='qr_qr')\n",
    "cr_2 = ClassicalRegister(3, name='cr_qr')\n",
    "qc_2 = QuantumCircuit(qr_2, cr_2, name='qc_2')\n",
    "qc_2.append(SXdgGate(), qargs=[qr_2[2]], cargs=[])\n",
    "qc_2.append(ECRGate(), qargs=[qr_2[1], qr_2[0]], cargs=[])\n",
    "\n",
    "qc_main.append(qc_1, qargs=qr_main[:6], cargs=cr_main[:6])\n",
    "qc_main.append(qc_2, qargs=qr_main[6:], cargs=cr_main[6:])\n",
    "\n",
    "qc_main.measure_all()\n",
    "qc_main.draw(fold=-1)\n",
    "\n",
    "\n"
   ]
  },
  {
   "cell_type": "code",
   "execution_count": 16,
   "id": "f5567b27",
   "metadata": {
    "ExecuteTime": {
     "end_time": "2022-02-15T13:14:29.495812Z",
     "start_time": "2022-02-15T13:14:29.391725Z"
    }
   },
   "outputs": [
    {
     "data": {
      "text/html": [
       "<pre style=\"word-wrap: normal;white-space: pre;background: #fff0;line-height: 1.1;font-family: &quot;Courier New&quot;,Courier,monospace\">global phase: 3π/2\n",
       "                                                                                             ░ ┌─┐                        \n",
       "qr_qr_0: ────────────────────────────────────────────────────────────────────────────────────░─┤M├────────────────────────\n",
       "                                                                                             ░ └╥┘┌─┐                     \n",
       "qr_qr_1: ────────────────────────────────────────────────────────────────────────────────────░──╫─┤M├─────────────────────\n",
       "                                               ┌───────────┐                                 ░  ║ └╥┘┌─┐                  \n",
       "qr_qr_2: ────────────────■──────────────────■──┤ U3(π,0,π) ├───────■────────────────■────────░──╫──╫─┤M├──────────────────\n",
       "            ┌───┐      ┌─┴─┐   ┌─────────┐┌─┴─┐└───┬───┬───┘┌───┐┌─┴─┐┌──────────┐┌─┴─┐┌───┐ ░  ║  ║ └╥┘┌─┐               \n",
       "qr_qr_3: ───┤ H ├──────┤ X ├───┤ Rz(π/4) ├┤ X ├────┤ H ├────┤ H ├┤ X ├┤ Rz(-π/4) ├┤ X ├┤ H ├─░──╫──╫──╫─┤M├───────────────\n",
       "            └───┘      └───┘   └─────────┘└───┘    └───┘    └───┘└───┘└──────────┘└───┘└───┘ ░  ║  ║  ║ └╥┘┌─┐            \n",
       "qr_qr_4: ────────────────────────────────────────────────────────────────────────────────────░──╫──╫──╫──╫─┤M├────────────\n",
       "         ┌─────────┐┌─────────┐┌─────────┐                                                   ░  ║  ║  ║  ║ └╥┘┌─┐         \n",
       "qr_qr_5: ┤ U1(π/2) ├┤ U2(0,π) ├┤ U1(π/2) ├───────────────────────────────────────────────────░──╫──╫──╫──╫──╫─┤M├─────────\n",
       "         └──┬───┬──┘└──┬───┬──┘├─────────┤┌───┐    ┌───┐    ┌───┐┌───┐┌──────────┐┌───┐┌───┐ ░  ║  ║  ║  ║  ║ └╥┘┌─┐      \n",
       "qr_qr_6: ───┤ H ├──────┤ X ├───┤ Rz(π/4) ├┤ X ├────┤ H ├────┤ H ├┤ X ├┤ Rz(-π/4) ├┤ X ├┤ H ├─░──╫──╫──╫──╫──╫──╫─┤M├──────\n",
       "            └───┘      └─┬─┘   └─────────┘└─┬─┘┌───┴───┴───┐└───┘└─┬─┘└──────────┘└─┬─┘└───┘ ░  ║  ║  ║  ║  ║  ║ └╥┘┌─┐   \n",
       "qr_qr_7: ────────────────■──────────────────■──┤ U3(π,0,π) ├───────■────────────────■────────░──╫──╫──╫──╫──╫──╫──╫─┤M├───\n",
       "         ┌─────────┐┌─────────┐┌─────────┐     └───────────┘                                 ░  ║  ║  ║  ║  ║  ║  ║ └╥┘┌─┐\n",
       "qr_qr_8: ┤ U1(π/2) ├┤ U2(0,π) ├┤ U1(π/2) ├───────────────────────────────────────────────────░──╫──╫──╫──╫──╫──╫──╫──╫─┤M├\n",
       "         └─────────┘└─────────┘└─────────┘                                                   ░  ║  ║  ║  ║  ║  ║  ║  ║ └╥┘\n",
       "cr_qr: 9/═══════════════════════════════════════════════════════════════════════════════════════╬══╬══╬══╬══╬══╬══╬══╬══╬═\n",
       "                                                                                                ║  ║  ║  ║  ║  ║  ║  ║  ║ \n",
       " meas: 9/═══════════════════════════════════════════════════════════════════════════════════════╩══╩══╩══╩══╩══╩══╩══╩══╩═\n",
       "                                                                                                0  1  2  3  4  5  6  7  8 </pre>"
      ],
      "text/plain": [
       "global phase: 3π/2\n",
       "                                                                                             ░ ┌─┐                        \n",
       "qr_qr_0: ────────────────────────────────────────────────────────────────────────────────────░─┤M├────────────────────────\n",
       "                                                                                             ░ └╥┘┌─┐                     \n",
       "qr_qr_1: ────────────────────────────────────────────────────────────────────────────────────░──╫─┤M├─────────────────────\n",
       "                                               ┌───────────┐                                 ░  ║ └╥┘┌─┐                  \n",
       "qr_qr_2: ────────────────■──────────────────■──┤ U3(π,0,π) ├───────■────────────────■────────░──╫──╫─┤M├──────────────────\n",
       "            ┌───┐      ┌─┴─┐   ┌─────────┐┌─┴─┐└───┬───┬───┘┌───┐┌─┴─┐┌──────────┐┌─┴─┐┌───┐ ░  ║  ║ └╥┘┌─┐               \n",
       "qr_qr_3: ───┤ H ├──────┤ X ├───┤ Rz(π/4) ├┤ X ├────┤ H ├────┤ H ├┤ X ├┤ Rz(-π/4) ├┤ X ├┤ H ├─░──╫──╫──╫─┤M├───────────────\n",
       "            └───┘      └───┘   └─────────┘└───┘    └───┘    └───┘└───┘└──────────┘└───┘└───┘ ░  ║  ║  ║ └╥┘┌─┐            \n",
       "qr_qr_4: ────────────────────────────────────────────────────────────────────────────────────░──╫──╫──╫──╫─┤M├────────────\n",
       "         ┌─────────┐┌─────────┐┌─────────┐                                                   ░  ║  ║  ║  ║ └╥┘┌─┐         \n",
       "qr_qr_5: ┤ U1(π/2) ├┤ U2(0,π) ├┤ U1(π/2) ├───────────────────────────────────────────────────░──╫──╫──╫──╫──╫─┤M├─────────\n",
       "         └──┬───┬──┘└──┬───┬──┘├─────────┤┌───┐    ┌───┐    ┌───┐┌───┐┌──────────┐┌───┐┌───┐ ░  ║  ║  ║  ║  ║ └╥┘┌─┐      \n",
       "qr_qr_6: ───┤ H ├──────┤ X ├───┤ Rz(π/4) ├┤ X ├────┤ H ├────┤ H ├┤ X ├┤ Rz(-π/4) ├┤ X ├┤ H ├─░──╫──╫──╫──╫──╫──╫─┤M├──────\n",
       "            └───┘      └─┬─┘   └─────────┘└─┬─┘┌───┴───┴───┐└───┘└─┬─┘└──────────┘└─┬─┘└───┘ ░  ║  ║  ║  ║  ║  ║ └╥┘┌─┐   \n",
       "qr_qr_7: ────────────────■──────────────────■──┤ U3(π,0,π) ├───────■────────────────■────────░──╫──╫──╫──╫──╫──╫──╫─┤M├───\n",
       "         ┌─────────┐┌─────────┐┌─────────┐     └───────────┘                                 ░  ║  ║  ║  ║  ║  ║  ║ └╥┘┌─┐\n",
       "qr_qr_8: ┤ U1(π/2) ├┤ U2(0,π) ├┤ U1(π/2) ├───────────────────────────────────────────────────░──╫──╫──╫──╫──╫──╫──╫──╫─┤M├\n",
       "         └─────────┘└─────────┘└─────────┘                                                   ░  ║  ║  ║  ║  ║  ║  ║  ║ └╥┘\n",
       "cr_qr: 9/═══════════════════════════════════════════════════════════════════════════════════════╬══╬══╬══╬══╬══╬══╬══╬══╬═\n",
       "                                                                                                ║  ║  ║  ║  ║  ║  ║  ║  ║ \n",
       " meas: 9/═══════════════════════════════════════════════════════════════════════════════════════╩══╩══╩══╩══╩══╩══╩══╩══╩═\n",
       "                                                                                                0  1  2  3  4  5  6  7  8 "
      ]
     },
     "execution_count": 16,
     "metadata": {},
     "output_type": "execute_result"
    }
   ],
   "source": [
    "qc_main_decomposed = qc_main.decompose()\n",
    "qc_main_decomposed = qc_main_decomposed.decompose()\n",
    "qc_main_decomposed = qc_main_decomposed.decompose()\n",
    "qc_main_decomposed.draw(fold=-1)"
   ]
  },
  {
   "cell_type": "markdown",
   "id": "f7592b02",
   "metadata": {},
   "source": [
    "## Test Generator"
   ]
  },
  {
   "cell_type": "code",
   "execution_count": 17,
   "id": "56b423bf",
   "metadata": {
    "ExecuteTime": {
     "end_time": "2022-02-15T13:28:40.091796Z",
     "start_time": "2022-02-15T13:28:39.871824Z"
    }
   },
   "outputs": [],
   "source": [
    "from generation_strategy_python import QiskitSeparableFuzzer"
   ]
  },
  {
   "cell_type": "code",
   "execution_count": 41,
   "id": "b195a7fd",
   "metadata": {
    "ExecuteTime": {
     "end_time": "2022-02-15T13:58:06.233594Z",
     "start_time": "2022-02-15T13:58:06.178157Z"
    }
   },
   "outputs": [],
   "source": [
    "config_generator = config[\"generation_strategy\"]\n",
    "generator =  QiskitSeparableFuzzer()\n",
    "\n",
    "py_file, metadata = generator.generate_file(\n",
    "    gate_set=config_generator[\"gate_set\"],\n",
    "    n_qubits=10,\n",
    "    n_ops=5,\n",
    "    optimizations=[],\n",
    "    backend=\"qasm_simulator\",\n",
    "    shots=1024,\n",
    "    level_auto_optimization=3,\n",
    "    target_gates=None\n",
    ")"
   ]
  },
  {
   "cell_type": "code",
   "execution_count": 42,
   "id": "ef7b20ab",
   "metadata": {
    "ExecuteTime": {
     "end_time": "2022-02-15T13:58:07.208907Z",
     "start_time": "2022-02-15T13:58:07.155193Z"
    }
   },
   "outputs": [
    {
     "name": "stdout",
     "output_type": "stream",
     "text": [
      "\n",
      "# SECTION\n",
      "# NAME: PROLOGUE\n",
      "\n",
      "import qiskit\n",
      "from qiskit import QuantumCircuit, ClassicalRegister, QuantumRegister\n",
      "from qiskit.circuit.library.standard_gates import *\n",
      "\n",
      "# SECTION\n",
      "# NAME: CIRCUIT\n",
      "\n",
      "qr_main = QuantumRegister(10, name='qr_main')\n",
      "cr_main = ClassicalRegister(10, name='cr_main')\n",
      "qc_main = QuantumCircuit(qr_main, cr_main, name='qc_main')\n",
      "\n",
      "qr_1 = QuantumRegister(2, name='qr_1')\n",
      "cr_1 = ClassicalRegister(2, name='cr_1')\n",
      "qc_1 = QuantumCircuit(qr_1, cr_1, name='qc_1')\n",
      "qc_1.append(SdgGate(), qargs=[qr_1[0]], cargs=[])\n",
      "qc_1.append(XGate(), qargs=[qr_1[0]], cargs=[])\n",
      "qc_1.append(RZZGate(0.4429181854627117), qargs=[qr_1[1], qr_1[0]], cargs=[])\n",
      "qc_1.append(RYYGate(2.2725577430206263), qargs=[qr_1[0], qr_1[1]], cargs=[])\n",
      "qc_1.append(TGate(), qargs=[qr_1[0]], cargs=[])\n",
      "\n",
      "qr_2 = QuantumRegister(8, name='qr_2')\n",
      "cr_2 = ClassicalRegister(8, name='cr_2')\n",
      "qc_2 = QuantumCircuit(qr_2, cr_2, name='qc_2')\n",
      "qc_2.append(CSXGate(), qargs=[qr_2[0], qr_2[4]], cargs=[])\n",
      "qc_2.append(HGate(), qargs=[qr_2[1]], cargs=[])\n",
      "qc_2.append(CSXGate(), qargs=[qr_2[6], qr_2[1]], cargs=[])\n",
      "qc_2.append(CRXGate(4.017627836736385), qargs=[qr_2[4], qr_2[2]], cargs=[])\n",
      "qc_2.append(RZGate(5.914588166120627), qargs=[qr_2[6]], cargs=[])\n",
      "\n",
      "qc_main.append(qc_1, qargs=qr_main[:2], cargs=cr_main[:2])\n",
      "qc_main.append(qc_2, qargs=qr_main[2:], cargs=cr_main[2:])\n",
      "\n",
      "# SECTION\n",
      "# NAME: OPTIMIZATION_PASSES\n",
      "\n",
      "from qiskit.transpiler import PassManager\n",
      "from qiskit.transpiler.passes import *\n",
      "passmanager = PassManager()\n",
      "qc_main = passmanager.run(qc_main)\n",
      "\n",
      "# SECTION\n",
      "# NAME: OPTIMIZATION_LEVEL\n",
      "\n",
      "from qiskit import transpile\n",
      "qc_main = transpile(qc_main, basis_gates=None, optimization_level=3, coupling_map=None)\n",
      "\n",
      "# SECTION\n",
      "# NAME: MEASUREMENT\n",
      "\n",
      "qc_main.measure(qr_main, cr_main)\n",
      "\n",
      "# SECTION\n",
      "# NAME: EXECUTION\n",
      "\n",
      "from qiskit import Aer, transpile, execute\n",
      "backend_bfe499e55f2a46d9af796663b94b4970 = Aer.get_backend('qasm_simulator')\n",
      "counts = execute(qc_main, backend=backend_bfe499e55f2a46d9af796663b94b4970, shots=1024).result().get_counts(qc_main)\n",
      "RESULT = counts\n"
     ]
    }
   ],
   "source": [
    "print(py_file)"
   ]
  },
  {
   "cell_type": "markdown",
   "id": "a4b5d347",
   "metadata": {},
   "source": [
    "## Manual Run"
   ]
  },
  {
   "cell_type": "code",
   "execution_count": 43,
   "id": "51cc6abf",
   "metadata": {
    "ExecuteTime": {
     "end_time": "2022-02-15T13:58:18.500931Z",
     "start_time": "2022-02-15T13:58:18.429739Z"
    }
   },
   "outputs": [
    {
     "data": {
      "text/html": [
       "<pre style=\"word-wrap: normal;white-space: pre;background: #fff0;line-height: 1.1;font-family: &quot;Courier New&quot;,Courier,monospace\">           ┌───────┐         \n",
       "qr_main_0: ┤0      ├─────────\n",
       "           │       │         \n",
       "qr_main_1: ┤1      ├─────────\n",
       "           │       │┌───────┐\n",
       "qr_main_2: ┤       ├┤0      ├\n",
       "           │       ││       │\n",
       "qr_main_3: ┤       ├┤1      ├\n",
       "           │       ││       │\n",
       "qr_main_4: ┤       ├┤2      ├\n",
       "           │       ││       │\n",
       "qr_main_5: ┤       ├┤3      ├\n",
       "           │  qc_1 ││       │\n",
       "qr_main_6: ┤       ├┤4      ├\n",
       "           │       ││       │\n",
       "qr_main_7: ┤       ├┤5      ├\n",
       "           │       ││       │\n",
       "qr_main_8: ┤       ├┤6      ├\n",
       "           │       ││       │\n",
       "qr_main_9: ┤       ├┤7      ├\n",
       "           │       ││       │\n",
       "cr_main_0: ╡0      ╞╡       ╞\n",
       "           │       ││  qc_2 │\n",
       "cr_main_1: ╡1      ╞╡       ╞\n",
       "           └───────┘│       │\n",
       "cr_main_2: ═════════╡0      ╞\n",
       "                    │       │\n",
       "cr_main_3: ═════════╡1      ╞\n",
       "                    │       │\n",
       "cr_main_4: ═════════╡2      ╞\n",
       "                    │       │\n",
       "cr_main_5: ═════════╡3      ╞\n",
       "                    │       │\n",
       "cr_main_6: ═════════╡4      ╞\n",
       "                    │       │\n",
       "cr_main_7: ═════════╡5      ╞\n",
       "                    │       │\n",
       "cr_main_8: ═════════╡6      ╞\n",
       "                    │       │\n",
       "cr_main_9: ═════════╡7      ╞\n",
       "                    └───────┘</pre>"
      ],
      "text/plain": [
       "           ┌───────┐         \n",
       "qr_main_0: ┤0      ├─────────\n",
       "           │       │         \n",
       "qr_main_1: ┤1      ├─────────\n",
       "           │       │┌───────┐\n",
       "qr_main_2: ┤       ├┤0      ├\n",
       "           │       ││       │\n",
       "qr_main_3: ┤       ├┤1      ├\n",
       "           │       ││       │\n",
       "qr_main_4: ┤       ├┤2      ├\n",
       "           │       ││       │\n",
       "qr_main_5: ┤       ├┤3      ├\n",
       "           │  qc_1 ││       │\n",
       "qr_main_6: ┤       ├┤4      ├\n",
       "           │       ││       │\n",
       "qr_main_7: ┤       ├┤5      ├\n",
       "           │       ││       │\n",
       "qr_main_8: ┤       ├┤6      ├\n",
       "           │       ││       │\n",
       "qr_main_9: ┤       ├┤7      ├\n",
       "           │       ││       │\n",
       "cr_main_0: ╡0      ╞╡       ╞\n",
       "           │       ││  qc_2 │\n",
       "cr_main_1: ╡1      ╞╡       ╞\n",
       "           └───────┘│       │\n",
       "cr_main_2: ═════════╡0      ╞\n",
       "                    │       │\n",
       "cr_main_3: ═════════╡1      ╞\n",
       "                    │       │\n",
       "cr_main_4: ═════════╡2      ╞\n",
       "                    │       │\n",
       "cr_main_5: ═════════╡3      ╞\n",
       "                    │       │\n",
       "cr_main_6: ═════════╡4      ╞\n",
       "                    │       │\n",
       "cr_main_7: ═════════╡5      ╞\n",
       "                    │       │\n",
       "cr_main_8: ═════════╡6      ╞\n",
       "                    │       │\n",
       "cr_main_9: ═════════╡7      ╞\n",
       "                    └───────┘"
      ]
     },
     "execution_count": 43,
     "metadata": {},
     "output_type": "execute_result"
    }
   ],
   "source": [
    "qr_main = QuantumRegister(10, name='qr_main')\n",
    "cr_main = ClassicalRegister(10, name='cr_main')\n",
    "qc_main = QuantumCircuit(qr_main, cr_main, name='qc_main')\n",
    "\n",
    "qr_1 = QuantumRegister(2, name='qr_1')\n",
    "cr_1 = ClassicalRegister(2, name='cr_1')\n",
    "qc_1 = QuantumCircuit(qr_1, cr_1, name='qc_1')\n",
    "qc_1.append(SdgGate(), qargs=[qr_1[0]], cargs=[])\n",
    "qc_1.append(XGate(), qargs=[qr_1[0]], cargs=[])\n",
    "qc_1.append(RZZGate(0.4429181854627117), qargs=[qr_1[1], qr_1[0]], cargs=[])\n",
    "qc_1.append(RYYGate(2.2725577430206263), qargs=[qr_1[0], qr_1[1]], cargs=[])\n",
    "qc_1.append(TGate(), qargs=[qr_1[0]], cargs=[])\n",
    "\n",
    "qr_2 = QuantumRegister(8, name='qr_2')\n",
    "cr_2 = ClassicalRegister(8, name='cr_2')\n",
    "qc_2 = QuantumCircuit(qr_2, cr_2, name='qc_2')\n",
    "qc_2.append(CSXGate(), qargs=[qr_2[0], qr_2[4]], cargs=[])\n",
    "qc_2.append(HGate(), qargs=[qr_2[1]], cargs=[])\n",
    "qc_2.append(CSXGate(), qargs=[qr_2[6], qr_2[1]], cargs=[])\n",
    "qc_2.append(CRXGate(4.017627836736385), qargs=[qr_2[4], qr_2[2]], cargs=[])\n",
    "qc_2.append(RZGate(5.914588166120627), qargs=[qr_2[6]], cargs=[])\n",
    "\n",
    "qc_main.append(qc_1, qargs=qr_main[:2], cargs=cr_main[:2])\n",
    "qc_main.append(qc_2, qargs=qr_main[2:], cargs=cr_main[2:])\n",
    "qc_main.draw(fold=-1)"
   ]
  },
  {
   "cell_type": "code",
   "execution_count": 44,
   "id": "ae4394a7",
   "metadata": {
    "ExecuteTime": {
     "end_time": "2022-02-15T13:58:20.937374Z",
     "start_time": "2022-02-15T13:58:20.804309Z"
    }
   },
   "outputs": [],
   "source": [
    "from qiskit import transpile\n",
    "qc_main = transpile(qc_main, basis_gates=None, optimization_level=3, coupling_map=None)\n",
    "qc_main.measure(qr_main, cr_main)\n",
    "from qiskit import Aer, transpile, execute\n",
    "backend_1aadb08f9aac4c348050ae3bf9e30b12 = Aer.get_backend('qasm_simulator')\n",
    "counts_main = execute(qc_main, backend=backend_1aadb08f9aac4c348050ae3bf9e30b12, shots=1024).result().get_counts(qc_main)"
   ]
  },
  {
   "cell_type": "code",
   "execution_count": 45,
   "id": "1c6d29ae",
   "metadata": {
    "ExecuteTime": {
     "end_time": "2022-02-15T13:58:21.528449Z",
     "start_time": "2022-02-15T13:58:21.475217Z"
    }
   },
   "outputs": [
    {
     "data": {
      "text/plain": [
       "{'0000000001': 80, '0000000010': 411, '0000001001': 91, '0000001010': 442}"
      ]
     },
     "execution_count": 45,
     "metadata": {},
     "output_type": "execute_result"
    }
   ],
   "source": [
    "counts_main"
   ]
  },
  {
   "cell_type": "code",
   "execution_count": 46,
   "id": "264bc79e",
   "metadata": {
    "ExecuteTime": {
     "end_time": "2022-02-15T13:58:22.498476Z",
     "start_time": "2022-02-15T13:58:22.394712Z"
    }
   },
   "outputs": [],
   "source": [
    "from qiskit import transpile\n",
    "qc_1 = transpile(qc_1, basis_gates=None, optimization_level=3, coupling_map=None)\n",
    "qc_1.measure(qr_1, cr_1)\n",
    "from qiskit import Aer, transpile, execute\n",
    "backend_1aadb08f9aac4c348050ae3bf9e30b12 = Aer.get_backend('qasm_simulator')\n",
    "\n",
    "counts_1 = execute(qc_1, backend=backend_1aadb08f9aac4c348050ae3bf9e30b12, shots=1024).result().get_counts(qc_1)"
   ]
  },
  {
   "cell_type": "code",
   "execution_count": 47,
   "id": "fcda5d55",
   "metadata": {
    "ExecuteTime": {
     "end_time": "2022-02-15T13:58:23.580764Z",
     "start_time": "2022-02-15T13:58:23.522778Z"
    }
   },
   "outputs": [
    {
     "data": {
      "text/plain": [
       "{'01': 169, '10': 855}"
      ]
     },
     "execution_count": 47,
     "metadata": {},
     "output_type": "execute_result"
    }
   ],
   "source": [
    "counts_1"
   ]
  },
  {
   "cell_type": "code",
   "execution_count": 48,
   "id": "f8eb5fca",
   "metadata": {
    "ExecuteTime": {
     "end_time": "2022-02-15T13:58:27.864149Z",
     "start_time": "2022-02-15T13:58:27.728380Z"
    }
   },
   "outputs": [],
   "source": [
    "from qiskit import transpile\n",
    "qc_2 = transpile(qc_2, basis_gates=None, optimization_level=3, coupling_map=None)\n",
    "qc_2.measure(qr_2, cr_2)\n",
    "from qiskit import Aer, transpile, execute\n",
    "backend_1aadb08f9aac4c348050ae3bf9e30b12 = Aer.get_backend('qasm_simulator')\n",
    "\n",
    "counts_2 = execute(qc_2, backend=backend_1aadb08f9aac4c348050ae3bf9e30b12, shots=1024).result().get_counts(qc_2)"
   ]
  },
  {
   "cell_type": "code",
   "execution_count": 49,
   "id": "0b67d4af",
   "metadata": {
    "ExecuteTime": {
     "end_time": "2022-02-15T13:58:29.478811Z",
     "start_time": "2022-02-15T13:58:29.419831Z"
    }
   },
   "outputs": [
    {
     "data": {
      "text/plain": [
       "{'00000010': 517, '00000000': 507}"
      ]
     },
     "execution_count": 49,
     "metadata": {},
     "output_type": "execute_result"
    }
   ],
   "source": [
    "counts_2"
   ]
  },
  {
   "cell_type": "code",
   "execution_count": 57,
   "id": "0cf92244",
   "metadata": {
    "ExecuteTime": {
     "end_time": "2022-02-15T14:31:15.660553Z",
     "start_time": "2022-02-15T14:31:15.602075Z"
    }
   },
   "outputs": [],
   "source": [
    "from typing import Dict, List, Any\n",
    "from functools import reduce\n",
    "\n",
    "def reconstruct(counts: List[Dict[str, int]]):\n",
    "    \"\"\"Pass the count results.\n",
    "    \n",
    "    NB: list the circuit working on lower qubit indices first.\n",
    "    \"\"\"\n",
    "    return reduce(lambda counts_1, counts_2: {\n",
    "        k2 + k1: v1 * v2 for k1, v1 in counts_1.items() for k2, v2 in counts_2.items()\n",
    "    }, counts)\n",
    "    \n",
    "    "
   ]
  },
  {
   "cell_type": "code",
   "execution_count": 50,
   "id": "14e03fee",
   "metadata": {
    "ExecuteTime": {
     "end_time": "2022-02-15T13:59:16.503939Z",
     "start_time": "2022-02-15T13:59:16.448569Z"
    }
   },
   "outputs": [
    {
     "data": {
      "text/plain": [
       "{'0000001001': 87373,\n",
       " '0000000001': 85683,\n",
       " '0000001010': 442035,\n",
       " '0000000010': 433485}"
      ]
     },
     "execution_count": 50,
     "metadata": {},
     "output_type": "execute_result"
    }
   ],
   "source": [
    "count_reconstructed = {\n",
    "    k2 + k1: v1 * v2 for k1, v1 in counts_1.items() for k2, v2 in counts_2.items()\n",
    "}\n",
    "count_reconstructed"
   ]
  },
  {
   "cell_type": "code",
   "execution_count": 58,
   "id": "d09c2e46",
   "metadata": {
    "ExecuteTime": {
     "end_time": "2022-02-15T14:31:28.047657Z",
     "start_time": "2022-02-15T14:31:27.993909Z"
    }
   },
   "outputs": [
    {
     "data": {
      "text/plain": [
       "{'0000001001': 87373,\n",
       " '0000000001': 85683,\n",
       " '0000001010': 442035,\n",
       " '0000000010': 433485}"
      ]
     },
     "execution_count": 58,
     "metadata": {},
     "output_type": "execute_result"
    }
   ],
   "source": [
    "reconstruct([counts_1, counts_2])"
   ]
  },
  {
   "cell_type": "markdown",
   "id": "51e975ad",
   "metadata": {},
   "source": [
    "## Extract circuits via Static Analysis"
   ]
  },
  {
   "cell_type": "code",
   "execution_count": 52,
   "id": "29d61b2a",
   "metadata": {
    "ExecuteTime": {
     "end_time": "2022-02-15T14:09:47.508222Z",
     "start_time": "2022-02-15T14:09:47.444298Z"
    }
   },
   "outputs": [],
   "source": [
    "from metamorph import get_circuits_used"
   ]
  },
  {
   "cell_type": "code",
   "execution_count": 54,
   "id": "705c6429",
   "metadata": {
    "ExecuteTime": {
     "end_time": "2022-02-15T14:18:49.304796Z",
     "start_time": "2022-02-15T14:18:49.233748Z"
    }
   },
   "outputs": [
    {
     "data": {
      "text/plain": [
       "[{'name': 'qc_main',\n",
       "  'quantum_register': 'qr_main',\n",
       "  'classical_register': 'cr_main',\n",
       "  'size': 10},\n",
       " {'name': 'qc_1',\n",
       "  'quantum_register': 'qr_1',\n",
       "  'classical_register': 'cr_1',\n",
       "  'size': 2},\n",
       " {'name': 'qc_2',\n",
       "  'quantum_register': 'qr_2',\n",
       "  'classical_register': 'cr_2',\n",
       "  'size': 8}]"
      ]
     },
     "execution_count": 54,
     "metadata": {},
     "output_type": "execute_result"
    }
   ],
   "source": [
    "get_circuits_used(\"\"\"\n",
    "qr_main = QuantumRegister(10, name='qr_main')\n",
    "cr_main = ClassicalRegister(10, name='cr_main')\n",
    "qc_main = QuantumCircuit(qr_main, cr_main, name='qc_main')\n",
    "\n",
    "qr_1 = QuantumRegister(2, name='qr_1')\n",
    "cr_1 = ClassicalRegister(2, name='cr_1')\n",
    "qc_1 = QuantumCircuit(qr_1, cr_1, name='qc_1')\n",
    "qc_1.append(SdgGate(), qargs=[qr_1[0]], cargs=[])\n",
    "qc_1.append(XGate(), qargs=[qr_1[0]], cargs=[])\n",
    "qc_1.append(RZZGate(0.4429181854627117), qargs=[qr_1[1], qr_1[0]], cargs=[])\n",
    "qc_1.append(RYYGate(2.2725577430206263), qargs=[qr_1[0], qr_1[1]], cargs=[])\n",
    "qc_1.append(TGate(), qargs=[qr_1[0]], cargs=[])\n",
    "\n",
    "qr_2 = QuantumRegister(8, name='qr_2')\n",
    "cr_2 = ClassicalRegister(8, name='cr_2')\n",
    "qc_2 = QuantumCircuit(qr_2, cr_2, name='qc_2')\n",
    "qc_2.append(CSXGate(), qargs=[qr_2[0], qr_2[4]], cargs=[])\n",
    "qc_2.append(HGate(), qargs=[qr_2[1]], cargs=[])\n",
    "qc_2.append(CSXGate(), qargs=[qr_2[6], qr_2[1]], cargs=[])\n",
    "qc_2.append(CRXGate(4.017627836736385), qargs=[qr_2[4], qr_2[2]], cargs=[])\n",
    "qc_2.append(RZGate(5.914588166120627), qargs=[qr_2[6]], cargs=[])\n",
    "\n",
    "qc_main.append(qc_1, qargs=qr_main[:2], cargs=cr_main[:2])\n",
    "qc_main.append(qc_2, qargs=qr_main[2:], cargs=cr_main[2:])\n",
    "qc_main.draw(fold=-1)\n",
    "\"\"\")"
   ]
  },
  {
   "cell_type": "markdown",
   "id": "9bb83580",
   "metadata": {},
   "source": [
    "## Test the metamorphic relationship"
   ]
  },
  {
   "cell_type": "code",
   "execution_count": 9,
   "id": "6da30430",
   "metadata": {
    "ExecuteTime": {
     "end_time": "2022-02-15T14:47:06.526477Z",
     "start_time": "2022-02-15T14:47:06.377620Z"
    }
   },
   "outputs": [
    {
     "name": "stdout",
     "output_type": "stream",
     "text": [
      "# SECTION\n",
      "# NAME: PROLOGUE\n",
      "\n",
      "import qiskit\n",
      "from qiskit import QuantumCircuit, ClassicalRegister, QuantumRegister\n",
      "from qiskit.circuit.library.standard_gates import *\n",
      "# SECTION\n",
      "# NAME: CIRCUIT\n",
      "\n",
      "qr_main = QuantumRegister(10, name='qr_main')\n",
      "cr_main = ClassicalRegister(10, name='cr_main')\n",
      "qc_main = QuantumCircuit(qr_main, cr_main, name='qc_main')\n",
      "qr_1 = QuantumRegister(2, name='qr_1')\n",
      "cr_1 = ClassicalRegister(2, name='cr_1')\n",
      "qc_1 = QuantumCircuit(qr_1, cr_1, name='qc_1')\n",
      "qc_1.append(SdgGate(), qargs=[qr_1[0]], cargs=[])\n",
      "qc_1.append(XGate(), qargs=[qr_1[0]], cargs=[])\n",
      "qc_1.append(RZZGate(0.4429181854627117), qargs=[qr_1[1], qr_1[0]], cargs=[])\n",
      "qc_1.append(RYYGate(2.2725577430206263), qargs=[qr_1[0], qr_1[1]], cargs=[])\n",
      "qc_1.append(TGate(), qargs=[qr_1[0]], cargs=[])\n",
      "qr_2 = QuantumRegister(8, name='qr_2')\n",
      "cr_2 = ClassicalRegister(8, name='cr_2')\n",
      "qc_2 = QuantumCircuit(qr_2, cr_2, name='qc_2')\n",
      "qc_2.append(CSXGate(), qargs=[qr_2[0], qr_2[4]], cargs=[])\n",
      "qc_2.append(HGate(), qargs=[qr_2[1]], cargs=[])\n",
      "qc_2.append(CSXGate(), qargs=[qr_2[6], qr_2[1]], cargs=[])\n",
      "qc_2.append(CRXGate(4.017627836736385), qargs=[qr_2[4], qr_2[2]], cargs=[])\n",
      "qc_2.append(RZGate(5.914588166120627), qargs=[qr_2[6]], cargs=[])\n",
      "qc_main.append(qc_1, qargs=qr_main[:2], cargs=cr_main[:2])\n",
      "qc_main.append(qc_2, qargs=qr_main[2:], cargs=cr_main[2:])\n",
      "# SECTION\n",
      "# NAME: OPTIMIZATION_PASSES\n",
      "\n",
      "from qiskit.transpiler import PassManager\n",
      "from qiskit.transpiler.passes import *\n",
      "passmanager = PassManager()\n",
      "qc_1 = passmanager.run(qc_1)\n",
      "qc_2 = passmanager.run(qc_2)\n",
      "# SECTION\n",
      "# NAME: OPTIMIZATION_LEVEL\n",
      "\n",
      "from qiskit import transpile\n",
      "qc_1 = transpile(qc_1, basis_gates=None, optimization_level=3, coupling_map=None)\n",
      "qc_2 = transpile(qc_2, basis_gates=None, optimization_level=3, coupling_map=None)\n",
      "# SECTION\n",
      "# NAME: MEASUREMENT\n",
      "\n",
      "qc_1.measure(qr_1, cr_1)\n",
      "qc_2.measure(qr_2, cr_2)\n",
      "# SECTION\n",
      "# NAME: EXECUTION\n",
      "\n",
      "from qiskit import Aer, transpile, execute\n",
      "backend_bfe499e55f2a46d9af796663b94b4970 = Aer.get_backend('qasm_simulator')\n",
      "counts_1 = execute(qc_1, backend=backend_bfe499e55f2a46d9af796663b94b4970, shots=1024).result().get_counts(qc_1)\n",
      "counts_2 = execute(qc_2, backend=backend_bfe499e55f2a46d9af796663b94b4970, shots=1024).result().get_counts(qc_2)\n",
      "\n",
      "from typing import Dict, List, Any\n",
      "from functools import reduce\n",
      "\n",
      "def reconstruct(counts: List[Dict[str, int]]):\n",
      "    \"\"\"Pass the count results.\n",
      "\n",
      "    NB: list the circuit working on lower qubit indices first.\n",
      "    \"\"\"\n",
      "    return reduce(lambda counts_1, counts_2: {\n",
      "        k2 + k1: v1 * v2 for k1, v1 in counts_1.items() for k2, v2 in counts_2.items()\n",
      "    }, counts)\n",
      "    \n",
      "counts = reconstruct([counts_1, counts_2])\n",
      "RESULT = counts\n",
      "    \n",
      "\n"
     ]
    }
   ],
   "source": [
    "config_4 = load_config_and_check(\"../config/qmt_v04.yaml\")\n",
    "\n",
    "np.random.seed(36)\n",
    "random.seed(36)\n",
    "\n",
    "morph, kwargs = get_mr_function_and_kwargs(config_4, metamorphic_strategy=\"run_partitions_and_aggregate\")\n",
    "out_code = morph(\"\"\"\n",
    "# SECTION\n",
    "# NAME: PROLOGUE\n",
    "\n",
    "import qiskit\n",
    "from qiskit import QuantumCircuit, ClassicalRegister, QuantumRegister\n",
    "from qiskit.circuit.library.standard_gates import *\n",
    "\n",
    "# SECTION\n",
    "# NAME: CIRCUIT\n",
    "\n",
    "qr_main = QuantumRegister(10, name='qr_main')\n",
    "cr_main = ClassicalRegister(10, name='cr_main')\n",
    "qc_main = QuantumCircuit(qr_main, cr_main, name='qc_main')\n",
    "\n",
    "qr_1 = QuantumRegister(2, name='qr_1')\n",
    "cr_1 = ClassicalRegister(2, name='cr_1')\n",
    "qc_1 = QuantumCircuit(qr_1, cr_1, name='qc_1')\n",
    "qc_1.append(SdgGate(), qargs=[qr_1[0]], cargs=[])\n",
    "qc_1.append(XGate(), qargs=[qr_1[0]], cargs=[])\n",
    "qc_1.append(RZZGate(0.4429181854627117), qargs=[qr_1[1], qr_1[0]], cargs=[])\n",
    "qc_1.append(RYYGate(2.2725577430206263), qargs=[qr_1[0], qr_1[1]], cargs=[])\n",
    "qc_1.append(TGate(), qargs=[qr_1[0]], cargs=[])\n",
    "\n",
    "qr_2 = QuantumRegister(8, name='qr_2')\n",
    "cr_2 = ClassicalRegister(8, name='cr_2')\n",
    "qc_2 = QuantumCircuit(qr_2, cr_2, name='qc_2')\n",
    "qc_2.append(CSXGate(), qargs=[qr_2[0], qr_2[4]], cargs=[])\n",
    "qc_2.append(HGate(), qargs=[qr_2[1]], cargs=[])\n",
    "qc_2.append(CSXGate(), qargs=[qr_2[6], qr_2[1]], cargs=[])\n",
    "qc_2.append(CRXGate(4.017627836736385), qargs=[qr_2[4], qr_2[2]], cargs=[])\n",
    "qc_2.append(RZGate(5.914588166120627), qargs=[qr_2[6]], cargs=[])\n",
    "\n",
    "qc_main.append(qc_1, qargs=qr_main[:2], cargs=cr_main[:2])\n",
    "qc_main.append(qc_2, qargs=qr_main[2:], cargs=cr_main[2:])\n",
    "\n",
    "# SECTION\n",
    "# NAME: OPTIMIZATION_PASSES\n",
    "\n",
    "from qiskit.transpiler import PassManager\n",
    "from qiskit.transpiler.passes import *\n",
    "passmanager = PassManager()\n",
    "qc_main = passmanager.run(qc_main)\n",
    "\n",
    "# SECTION\n",
    "# NAME: OPTIMIZATION_LEVEL\n",
    "\n",
    "from qiskit import transpile\n",
    "qc_main = transpile(qc_main, basis_gates=None, optimization_level=3, coupling_map=None)\n",
    "\n",
    "# SECTION\n",
    "# NAME: MEASUREMENT\n",
    "\n",
    "qc_main.measure(qr_main, cr_main)\n",
    "\n",
    "# SECTION\n",
    "# NAME: EXECUTION\n",
    "\n",
    "from qiskit import Aer, transpile, execute\n",
    "backend_bfe499e55f2a46d9af796663b94b4970 = Aer.get_backend('qasm_simulator')\n",
    "counts = execute(qc_main, backend=backend_bfe499e55f2a46d9af796663b94b4970, shots=1024).result().get_counts(qc_main)\n",
    "RESULT = counts\n",
    "\n",
    "\"\"\", **kwargs)[0]\n",
    "print(out_code)"
   ]
  },
  {
   "cell_type": "code",
   "execution_count": 10,
   "id": "c0b50e77",
   "metadata": {
    "ExecuteTime": {
     "end_time": "2022-02-15T14:47:11.951994Z",
     "start_time": "2022-02-15T14:47:11.771977Z"
    }
   },
   "outputs": [
    {
     "data": {
      "text/plain": [
       "{'0000000010': 473670,\n",
       " '0000001010': 377274,\n",
       " '0000000001': 110010,\n",
       " '0000001001': 87622}"
      ]
     },
     "execution_count": 10,
     "metadata": {},
     "output_type": "execute_result"
    }
   ],
   "source": [
    "GLOBALS = {\"RESULT\": 0}\n",
    "exec(out_code, GLOBALS)\n",
    "GLOBALS[\"RESULT\"]"
   ]
  },
  {
   "cell_type": "code",
   "execution_count": null,
   "id": "71122546",
   "metadata": {},
   "outputs": [],
   "source": [
    "{'0000001001': 87373,\n",
    " '0000000001': 85683,\n",
    " '0000001010': 442035,\n",
    " '0000000010': 433485}"
   ]
  },
  {
   "cell_type": "markdown",
   "id": "f76f7fef",
   "metadata": {},
   "source": [
    "# INSPECT POSSIBLE DIVERGENCES"
   ]
  },
  {
   "cell_type": "code",
   "execution_count": 8,
   "id": "9565e5e2",
   "metadata": {
    "ExecuteTime": {
     "end_time": "2022-02-16T13:49:51.818843Z",
     "start_time": "2022-02-16T13:49:51.591118Z"
    }
   },
   "outputs": [
    {
     "name": "stdout",
     "output_type": "stream",
     "text": [
      "\n",
      "# SECTION\n",
      "# NAME: PROLOGUE\n",
      "\n",
      "import qiskit\n",
      "from qiskit import QuantumCircuit, ClassicalRegister, QuantumRegister\n",
      "from qiskit.circuit.library.standard_gates import *\n",
      "\n",
      "# SECTION\n",
      "# NAME: CIRCUIT\n",
      "\n",
      "qr_main = QuantumRegister(8, name='qr_main')\n",
      "cr_main = ClassicalRegister(8, name='cr_main')\n",
      "qc_main = QuantumCircuit(qr_main, cr_main, name='qc_main')\n",
      "\n",
      "qr_1 = QuantumRegister(1, name='qr_1')\n",
      "cr_1 = ClassicalRegister(1, name='cr_1')\n",
      "qc_1 = QuantumCircuit(qr_1, cr_1, name='qc_1')\n",
      "qc_1.append(RXGate(3.514427971795593), qargs=[qr_1[0]], cargs=[])\n",
      "qc_1.append(ZGate(), qargs=[qr_1[0]], cargs=[])\n",
      "qc_1.append(RXGate(5.201522684257953), qargs=[qr_1[0]], cargs=[])\n",
      "qc_1.append(UGate(1.8522777990670056,2.588488816542936,1.2590639615916288), qargs=[qr_1[0]], cargs=[])\n",
      "qc_1.append(SdgGate(), qargs=[qr_1[0]], cargs=[])\n",
      "qc_1.append(SXdgGate(), qargs=[qr_1[0]], cargs=[])\n",
      "\n",
      "qr_2 = QuantumRegister(7, name='qr_2')\n",
      "cr_2 = ClassicalRegister(7, name='cr_2')\n",
      "qc_2 = QuantumCircuit(qr_2, cr_2, name='qc_2')\n",
      "qc_2.append(RXGate(4.964476800536401), qargs=[qr_2[4]], cargs=[])\n",
      "qc_2.append(CHGate(), qargs=[qr_2[0], qr_2[1]], cargs=[])\n",
      "qc_2.append(ZGate(), qargs=[qr_2[5]], cargs=[])\n",
      "qc_2.append(CRXGate(1.707261060794883), qargs=[qr_2[4], qr_2[5]], cargs=[])\n",
      "qc_2.append(SGate(), qargs=[qr_2[3]], cargs=[])\n",
      "qc_2.append(SGate(), qargs=[qr_2[5]], cargs=[])\n",
      "\n",
      "qc_main.append(qc_1, qargs=qr_main[:1], cargs=cr_main[:1])\n",
      "qc_main.append(qc_2, qargs=qr_main[1:], cargs=cr_main[1:])\n",
      "\n",
      "# SECTION\n",
      "# NAME: OPTIMIZATION_PASSES\n",
      "\n",
      "from qiskit.transpiler import PassManager\n",
      "from qiskit.transpiler.passes import *\n",
      "passmanager = PassManager()\n",
      "qc_main = passmanager.run(qc_main)\n",
      "\n",
      "# SECTION\n",
      "# NAME: OPTIMIZATION_LEVEL\n",
      "\n",
      "from qiskit import transpile\n",
      "qc_main = transpile(qc_main, basis_gates=None, optimization_level=0, coupling_map=None)\n",
      "\n",
      "# SECTION\n",
      "# NAME: MEASUREMENT\n",
      "\n",
      "qc_main.measure(qr_main, cr_main)\n",
      "\n",
      "# SECTION\n",
      "# NAME: EXECUTION\n",
      "\n",
      "from qiskit import Aer, transpile, execute\n",
      "backend_46222a2f0e84494588cdd8d7df4feffa = Aer.get_backend('qasm_simulator')\n",
      "counts = execute(qc_main, backend=backend_46222a2f0e84494588cdd8d7df4feffa, shots=2771).result().get_counts(qc_main)\n",
      "RESULT = counts\n",
      "--------------------------------------------------------------------------------\n",
      "# SECTION\n",
      "# NAME: PROLOGUE\n",
      "\n",
      "import qiskit\n",
      "from qiskit import QuantumCircuit, ClassicalRegister, QuantumRegister\n",
      "from qiskit.circuit.library.standard_gates import *\n",
      "# SECTION\n",
      "# NAME: CIRCUIT\n",
      "\n",
      "qr_main = QuantumRegister(8, name='qr_main')\n",
      "cr_main = ClassicalRegister(8, name='cr_main')\n",
      "qc_main = QuantumCircuit(qr_main, cr_main, name='qc_main')\n",
      "qr_1 = QuantumRegister(1, name='qr_1')\n",
      "cr_1 = ClassicalRegister(1, name='cr_1')\n",
      "qc_1 = QuantumCircuit(qr_1, cr_1, name='qc_1')\n",
      "qc_1.append(RXGate(3.514427971795593), qargs=[qr_1[0]], cargs=[])\n",
      "qc_1.append(ZGate(), qargs=[qr_1[0]], cargs=[])\n",
      "qc_1.append(RXGate(5.201522684257953), qargs=[qr_1[0]], cargs=[])\n",
      "qc_1.append(UGate(1.8522777990670056, 2.588488816542936, 1.2590639615916288), qargs=[qr_1[0]], cargs=[])\n",
      "qc_1.append(SdgGate(), qargs=[qr_1[0]], cargs=[])\n",
      "qc_1.append(SXdgGate(), qargs=[qr_1[0]], cargs=[])\n",
      "qr_2 = QuantumRegister(7, name='qr_2')\n",
      "cr_2 = ClassicalRegister(7, name='cr_2')\n",
      "qc_2 = QuantumCircuit(qr_2, cr_2, name='qc_2')\n",
      "qc_2.append(RXGate(4.964476800536401), qargs=[qr_2[4]], cargs=[])\n",
      "qc_2.append(CHGate(), qargs=[qr_2[0], qr_2[1]], cargs=[])\n",
      "qc_2.append(ZGate(), qargs=[qr_2[5]], cargs=[])\n",
      "qc_2.append(CRXGate(1.707261060794883), qargs=[qr_2[4], qr_2[5]], cargs=[])\n",
      "qc_2.append(SGate(), qargs=[qr_2[3]], cargs=[])\n",
      "qc_2.append(SGate(), qargs=[qr_2[5]], cargs=[])\n",
      "qc_main.append(qc_1, qargs=qr_main[:1], cargs=cr_main[:1])\n",
      "qc_main.append(qc_2, qargs=qr_main[1:], cargs=cr_main[1:])\n",
      "# SECTION\n",
      "# NAME: OPTIMIZATION_PASSES\n",
      "\n",
      "from qiskit.transpiler import PassManager\n",
      "from qiskit.transpiler.passes import *\n",
      "passmanager = PassManager()\n",
      "qc_1 = passmanager.run(qc_1)\n",
      "qc_2 = passmanager.run(qc_2)\n",
      "# SECTION\n",
      "# NAME: OPTIMIZATION_LEVEL\n",
      "\n",
      "from qiskit import transpile\n",
      "qc_1 = transpile(qc_1, basis_gates=None, optimization_level=0, coupling_map=None)\n",
      "qc_2 = transpile(qc_2, basis_gates=None, optimization_level=0, coupling_map=None)\n",
      "# SECTION\n",
      "# NAME: MEASUREMENT\n",
      "\n",
      "qc_1.measure(qr_1, cr_1)\n",
      "qc_2.measure(qr_2, cr_2)\n",
      "# SECTION\n",
      "# NAME: EXECUTION\n",
      "\n",
      "from qiskit import Aer, transpile, execute\n",
      "backend_46222a2f0e84494588cdd8d7df4feffa = Aer.get_backend('qasm_simulator')\n",
      "counts_1 = execute(qc_1, backend=backend_46222a2f0e84494588cdd8d7df4feffa, shots=2771).result().get_counts(qc_1)\n",
      "counts_2 = execute(qc_2, backend=backend_46222a2f0e84494588cdd8d7df4feffa, shots=2771).result().get_counts(qc_2)\n",
      "\n",
      "from typing import Dict, List, Any\n",
      "from functools import reduce\n",
      "\n",
      "def reconstruct(counts: List[Dict[str, int]]):\n",
      "    \"\"\"Pass the count results.\n",
      "\n",
      "    NB: list the circuit working on lower qubit indices first.\n",
      "    \"\"\"\n",
      "    return reduce(lambda counts_1, counts_2: {\n",
      "        k2 + k1: v1 * v2 for k1, v1 in counts_1.items() for k2, v2 in counts_2.items()\n",
      "    }, counts)\n",
      "    \n",
      "counts = reconstruct([counts_1, counts_2])\n",
      "RESULT = counts\n",
      "    \n",
      "\n"
     ]
    }
   ],
   "source": [
    "from qmt import execute_single_py_program\n",
    "\n",
    "PROGRAM_ID = \"2b684bc692404d98a637751bf9cbef7e\"\n",
    "\n",
    "\n",
    "PATH_SOURCE = os.path.join(config[\"experiment_folder\"], \"programs\", \"source\", f\"{PROGRAM_ID}.py\")\n",
    "print(open(PATH_SOURCE, 'r').read())\n",
    "counts_source = execute_single_py_program(PATH_SOURCE)\n",
    "print(\"-\" * 80)\n",
    "PATH_FOLLOWUP = os.path.join(config[\"experiment_folder\"], \"programs\", \"followup\", f\"{PROGRAM_ID}.py\")\n",
    "print(open(PATH_FOLLOWUP, 'r').read())\n",
    "counts_follow = execute_single_py_program(PATH_FOLLOWUP)"
   ]
  },
  {
   "cell_type": "code",
   "execution_count": 12,
   "id": "280e68a9",
   "metadata": {
    "ExecuteTime": {
     "end_time": "2022-02-16T14:01:43.081684Z",
     "start_time": "2022-02-16T14:01:37.740688Z"
    }
   },
   "outputs": [
    {
     "name": "stdout",
     "output_type": "stream",
     "text": [
      "stat: 0.006073758983106081, pval: 0.9999441616834833\n",
      "n_qubits: 8\n",
      "n_shots_platform_a: 2771.0\n",
      "n_shots_platform_b: 7678441.0\n",
      "Uniform threshold: 0.00390625\n"
     ]
    },
    {
     "data": {
      "image/png": "[encoded data removed]",
      "text/plain": [
       "<Figure size 720x432 with 1 Axes>"
      ]
     },
     "metadata": {
      "needs_background": "light"
     },
     "output_type": "display_data"
    },
    {
     "data": {
      "text/plain": [
       "<inspector.OneNightStandInspector at 0x7f1a6129c7f0>"
      ]
     },
     "execution_count": 12,
     "metadata": {},
     "output_type": "execute_result"
    }
   ],
   "source": [
    "from inspector import OneNightStandInspector\n",
    "from detectors import KS_Detector, Energy_Detector\n",
    "detector = KS_Detector()\n",
    "stat, pval = detector.check(counts_source, counts_follow)\n",
    "print(f\"stat: {stat}, pval: {pval}\")\n",
    "OneNightStandInspector(counts_source, counts_follow, name_a=\"source\", name_b=\"follow\", top_perc=1)"
   ]
  },
  {
   "cell_type": "markdown",
   "id": "a59aa3ce",
   "metadata": {},
   "source": [
    "## RERUN"
   ]
  },
  {
   "cell_type": "code",
   "execution_count": null,
   "id": "191d25ad",
   "metadata": {},
   "outputs": [],
   "source": [
    "# divergence.ks.p-value =  2.717850e-07\n",
    "# id: 2b684bc692404d98a637751bf9cbef7e"
   ]
  }
 ],
 "metadata": {
  "kernelspec": {
   "display_name": "Python 3 (ipykernel)",
   "language": "python",
   "name": "python3"
  },
  "language_info": {
   "codemirror_mode": {
    "name": "ipython",
    "version": 3
   },
   "file_extension": ".py",
   "mimetype": "text/x-python",
   "name": "python",
   "nbconvert_exporter": "python",
   "pygments_lexer": "ipython3",
   "version": "3.8.0"
  },
  "toc": {
   "base_numbering": 1,
   "nav_menu": {},
   "number_sections": true,
   "sideBar": true,
   "skip_h1_title": false,
   "title_cell": "Table of Contents",
   "title_sidebar": "Contents",
   "toc_cell": false,
   "toc_position": {},
   "toc_section_display": true,
   "toc_window_display": true
  }
 },
 "nbformat": 4,
 "nbformat_minor": 5
}
