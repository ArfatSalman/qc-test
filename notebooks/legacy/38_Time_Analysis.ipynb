{
 "cells": [
  {
   "cell_type": "code",
   "execution_count": 1,
   "id": "f800de28",
   "metadata": {
    "ExecuteTime": {
     "end_time": "2022-02-27T09:55:28.874884Z",
     "start_time": "2022-02-27T09:55:24.667121Z"
    }
   },
   "outputs": [],
   "source": [
    "import pandas as pd\n",
    "import sys\n",
    "sys.path.append(\"../lib\")\n",
    "import seaborn as sns\n",
    "import matplotlib.pyplot as plt\n",
    "from utils import iterate_over\n",
    "from utils import load_config_and_check\n",
    "from inspector import Inspector\n",
    "from tqdm import tqdm\n",
    "import sqlite3 as sl\n",
    "import os"
   ]
  },
  {
   "cell_type": "code",
   "execution_count": 2,
   "id": "a401c211",
   "metadata": {
    "ExecuteTime": {
     "end_time": "2022-02-27T09:55:28.909465Z",
     "start_time": "2022-02-27T09:55:28.878435Z"
    }
   },
   "outputs": [],
   "source": [
    "%load_ext autoreload\n",
    "%autoreload 2"
   ]
  },
  {
   "cell_type": "markdown",
   "id": "08474394",
   "metadata": {},
   "source": [
    "## Read Data"
   ]
  },
  {
   "cell_type": "code",
   "execution_count": 3,
   "id": "5f24d7c0",
   "metadata": {
    "ExecuteTime": {
     "end_time": "2022-02-27T09:56:38.935924Z",
     "start_time": "2022-02-27T09:56:38.913076Z"
    }
   },
   "outputs": [],
   "source": [
    "import pandas as pd"
   ]
  },
  {
   "cell_type": "code",
   "execution_count": 5,
   "id": "05b73913",
   "metadata": {
    "ExecuteTime": {
     "end_time": "2022-02-27T09:59:16.547924Z",
     "start_time": "2022-02-27T09:59:16.439420Z"
    }
   },
   "outputs": [],
   "source": [
    "config = load_config_and_check(\"../config/qmt_v07.yaml\")"
   ]
  },
  {
   "cell_type": "markdown",
   "id": "6b0e3753",
   "metadata": {},
   "source": [
    "# Quick check EDA "
   ]
  },
  {
   "cell_type": "code",
   "execution_count": 8,
   "id": "00665e3c",
   "metadata": {
    "ExecuteTime": {
     "end_time": "2022-02-27T10:00:24.256053Z",
     "start_time": "2022-02-27T10:00:23.259059Z"
    }
   },
   "outputs": [
    {
     "name": "stdout",
     "output_type": "stream",
     "text": [
      "<class 'pandas.core.frame.DataFrame'>\n",
      "RangeIndex: 33518 entries, 0 to 33517\n",
      "Data columns (total 39 columns):\n",
      " #   Column                           Non-Null Count  Dtype  \n",
      "---  ------                           --------------  -----  \n",
      " 0   index                            33518 non-null  int64  \n",
      " 1   program_id                       33518 non-null  object \n",
      " 2   time_exec                        33518 non-null  float64\n",
      " 3   source.program_id                33518 non-null  object \n",
      " 4   source.selected_gate_set         33518 non-null  object \n",
      " 5   source.selected_optimization     33518 non-null  object \n",
      " 6   source.shots                     33518 non-null  int64  \n",
      " 7   source.n_qubits                  33518 non-null  int64  \n",
      " 8   source.n_ops                     33518 non-null  int64  \n",
      " 9   source.opt_level                 33518 non-null  int64  \n",
      " 10  source.target_gates              0 non-null      object \n",
      " 11  source.py_file_path              33518 non-null  object \n",
      " 12  source.time_generation           33518 non-null  float64\n",
      " 13  source.circuit_id                33518 non-null  object \n",
      " 14  source.id_quantum_reg            33518 non-null  object \n",
      " 15  source.id_classical_reg          33518 non-null  object \n",
      " 16  source.gate_set                  33518 non-null  object \n",
      " 17  followup.program_id              33518 non-null  object \n",
      " 18  followup.selected_gate_set       33518 non-null  object \n",
      " 19  followup.selected_optimization   33518 non-null  object \n",
      " 20  followup.shots                   33518 non-null  int64  \n",
      " 21  followup.n_qubits                33518 non-null  int64  \n",
      " 22  followup.n_ops                   33518 non-null  int64  \n",
      " 23  followup.opt_level               33518 non-null  int64  \n",
      " 24  followup.target_gates            0 non-null      object \n",
      " 25  followup.py_file_path            33518 non-null  object \n",
      " 26  followup.time_generation         33518 non-null  float64\n",
      " 27  followup.circuit_id              33518 non-null  object \n",
      " 28  followup.id_quantum_reg          33518 non-null  object \n",
      " 29  followup.id_classical_reg        33518 non-null  object \n",
      " 30  followup.gate_set                33518 non-null  object \n",
      " 31  followup.metamorphic_strategies  33518 non-null  object \n",
      " 32  followup.time_metamorph          33518 non-null  float64\n",
      " 33  followup.metamorphic_times       33518 non-null  object \n",
      " 34  divergence.ks.statistic          33518 non-null  float64\n",
      " 35  divergence.ks.p-value            33518 non-null  float64\n",
      " 36  divergence.ks.time               33518 non-null  float64\n",
      " 37  exceptions.source                0 non-null      object \n",
      " 38  exceptions.followup              21492 non-null  object \n",
      "dtypes: float64(7), int64(9), object(23)\n",
      "memory usage: 10.0+ MB\n"
     ]
    }
   ],
   "source": [
    "con = sl.connect(os.path.join(config[\"experiment_folder\"], \"qfl.db\"))\n",
    "df = pd.read_sql(\"\"\"SELECT * FROM QFLDATA\"\"\", con)\n",
    "df.info()"
   ]
  },
  {
   "cell_type": "code",
   "execution_count": 9,
   "id": "13614a5b",
   "metadata": {
    "ExecuteTime": {
     "end_time": "2022-02-27T10:01:25.250203Z",
     "start_time": "2022-02-27T10:01:25.219489Z"
    }
   },
   "outputs": [
    {
     "data": {
      "text/plain": [
       "['time_exec',\n",
       " 'source.time_generation',\n",
       " 'followup.time_generation',\n",
       " 'followup.time_metamorph',\n",
       " 'followup.metamorphic_times',\n",
       " 'divergence.ks.time']"
      ]
     },
     "execution_count": 9,
     "metadata": {},
     "output_type": "execute_result"
    }
   ],
   "source": [
    "[c for c in df.columns if \"time\" in c]"
   ]
  },
  {
   "cell_type": "code",
   "execution_count": 14,
   "id": "b7486c57",
   "metadata": {
    "ExecuteTime": {
     "end_time": "2022-02-27T10:03:35.201718Z",
     "start_time": "2022-02-27T10:03:35.176895Z"
    }
   },
   "outputs": [
    {
     "data": {
      "text/plain": [
       "\"['change_backend', 'change_coupling_map']\""
      ]
     },
     "execution_count": 14,
     "metadata": {},
     "output_type": "execute_result"
    }
   ],
   "source": [
    "df.iloc[2][\"followup.metamorphic_strategies\"]"
   ]
  },
  {
   "cell_type": "code",
   "execution_count": 13,
   "id": "1048d023",
   "metadata": {
    "ExecuteTime": {
     "end_time": "2022-02-27T10:03:33.355906Z",
     "start_time": "2022-02-27T10:03:33.334116Z"
    }
   },
   "outputs": [
    {
     "data": {
      "text/plain": [
       "'[0.0056653739884495735, 0.00462045194581151]'"
      ]
     },
     "execution_count": 13,
     "metadata": {},
     "output_type": "execute_result"
    }
   ],
   "source": [
    "df.iloc[2][\"followup.metamorphic_times\"]"
   ]
  },
  {
   "cell_type": "markdown",
   "id": "7e6317d0",
   "metadata": {},
   "source": [
    "# Create aggregated data"
   ]
  },
  {
   "cell_type": "code",
   "execution_count": 21,
   "id": "cf1540e1",
   "metadata": {
    "ExecuteTime": {
     "end_time": "2022-02-27T10:47:02.162823Z",
     "start_time": "2022-02-27T10:47:02.130097Z"
    }
   },
   "outputs": [
    {
     "data": {
      "text/html": [
       "<div>\n",
       "<style scoped>\n",
       "    .dataframe tbody tr th:only-of-type {\n",
       "        vertical-align: middle;\n",
       "    }\n",
       "\n",
       "    .dataframe tbody tr th {\n",
       "        vertical-align: top;\n",
       "    }\n",
       "\n",
       "    .dataframe thead th {\n",
       "        text-align: right;\n",
       "    }\n",
       "</style>\n",
       "<table border=\"1\" class=\"dataframe\">\n",
       "  <thead>\n",
       "    <tr style=\"text-align: right;\">\n",
       "      <th></th>\n",
       "      <th>program_id</th>\n",
       "      <th>time_exec</th>\n",
       "      <th>source.time_generation</th>\n",
       "      <th>followup.time_generation</th>\n",
       "      <th>followup.time_metamorph</th>\n",
       "      <th>divergence.ks.time</th>\n",
       "    </tr>\n",
       "  </thead>\n",
       "  <tbody>\n",
       "    <tr>\n",
       "      <th>0</th>\n",
       "      <td>702666942a78493cb86c73e446e32ac2</td>\n",
       "      <td>0.405335</td>\n",
       "      <td>0.005364</td>\n",
       "      <td>0.005364</td>\n",
       "      <td>0.019991</td>\n",
       "      <td>0.011086</td>\n",
       "    </tr>\n",
       "    <tr>\n",
       "      <th>1</th>\n",
       "      <td>d16a9864a4b2409fb2bc35f7aeb803be</td>\n",
       "      <td>0.944097</td>\n",
       "      <td>0.009761</td>\n",
       "      <td>0.009761</td>\n",
       "      <td>0.054740</td>\n",
       "      <td>0.027485</td>\n",
       "    </tr>\n",
       "    <tr>\n",
       "      <th>2</th>\n",
       "      <td>49ef7ae2154f40ea813c51d18c22b748</td>\n",
       "      <td>0.711311</td>\n",
       "      <td>0.009808</td>\n",
       "      <td>0.009808</td>\n",
       "      <td>0.032950</td>\n",
       "      <td>0.019987</td>\n",
       "    </tr>\n",
       "    <tr>\n",
       "      <th>3</th>\n",
       "      <td>4dd1f272ac834f9683a98dd9ca0daa2e</td>\n",
       "      <td>0.846428</td>\n",
       "      <td>0.009944</td>\n",
       "      <td>0.009944</td>\n",
       "      <td>0.040833</td>\n",
       "      <td>0.010125</td>\n",
       "    </tr>\n",
       "    <tr>\n",
       "      <th>4</th>\n",
       "      <td>1c5a1506bf6d4f4fbd6ca8f48c49903c</td>\n",
       "      <td>0.508497</td>\n",
       "      <td>0.008455</td>\n",
       "      <td>0.008455</td>\n",
       "      <td>0.038247</td>\n",
       "      <td>0.005185</td>\n",
       "    </tr>\n",
       "  </tbody>\n",
       "</table>\n",
       "</div>"
      ],
      "text/plain": [
       "                         program_id  time_exec  source.time_generation  \\\n",
       "0  702666942a78493cb86c73e446e32ac2   0.405335                0.005364   \n",
       "1  d16a9864a4b2409fb2bc35f7aeb803be   0.944097                0.009761   \n",
       "2  49ef7ae2154f40ea813c51d18c22b748   0.711311                0.009808   \n",
       "3  4dd1f272ac834f9683a98dd9ca0daa2e   0.846428                0.009944   \n",
       "4  1c5a1506bf6d4f4fbd6ca8f48c49903c   0.508497                0.008455   \n",
       "\n",
       "   followup.time_generation  followup.time_metamorph  divergence.ks.time  \n",
       "0                  0.005364                 0.019991            0.011086  \n",
       "1                  0.009761                 0.054740            0.027485  \n",
       "2                  0.009808                 0.032950            0.019987  \n",
       "3                  0.009944                 0.040833            0.010125  \n",
       "4                  0.008455                 0.038247            0.005185  "
      ]
     },
     "execution_count": 21,
     "metadata": {},
     "output_type": "execute_result"
    }
   ],
   "source": [
    "df_time = df[[\n",
    "    'program_id',\n",
    "    'time_exec',\n",
    "    'source.time_generation',\n",
    "    'followup.time_generation',\n",
    "    'followup.time_metamorph',\n",
    "    'divergence.ks.time'\n",
    "]]\n",
    "\n",
    "df_time.head()"
   ]
  },
  {
   "cell_type": "code",
   "execution_count": 22,
   "id": "3f030414",
   "metadata": {
    "ExecuteTime": {
     "end_time": "2022-02-27T10:47:02.461491Z",
     "start_time": "2022-02-27T10:47:02.411640Z"
    }
   },
   "outputs": [
    {
     "data": {
      "text/html": [
       "<div>\n",
       "<style scoped>\n",
       "    .dataframe tbody tr th:only-of-type {\n",
       "        vertical-align: middle;\n",
       "    }\n",
       "\n",
       "    .dataframe tbody tr th {\n",
       "        vertical-align: top;\n",
       "    }\n",
       "\n",
       "    .dataframe thead th {\n",
       "        text-align: right;\n",
       "    }\n",
       "</style>\n",
       "<table border=\"1\" class=\"dataframe\">\n",
       "  <thead>\n",
       "    <tr style=\"text-align: right;\">\n",
       "      <th></th>\n",
       "      <th>program_id</th>\n",
       "      <th>variable</th>\n",
       "      <th>value</th>\n",
       "    </tr>\n",
       "  </thead>\n",
       "  <tbody>\n",
       "    <tr>\n",
       "      <th>0</th>\n",
       "      <td>702666942a78493cb86c73e446e32ac2</td>\n",
       "      <td>time_exec</td>\n",
       "      <td>0.405335</td>\n",
       "    </tr>\n",
       "    <tr>\n",
       "      <th>1</th>\n",
       "      <td>d16a9864a4b2409fb2bc35f7aeb803be</td>\n",
       "      <td>time_exec</td>\n",
       "      <td>0.944097</td>\n",
       "    </tr>\n",
       "    <tr>\n",
       "      <th>2</th>\n",
       "      <td>49ef7ae2154f40ea813c51d18c22b748</td>\n",
       "      <td>time_exec</td>\n",
       "      <td>0.711311</td>\n",
       "    </tr>\n",
       "    <tr>\n",
       "      <th>3</th>\n",
       "      <td>4dd1f272ac834f9683a98dd9ca0daa2e</td>\n",
       "      <td>time_exec</td>\n",
       "      <td>0.846428</td>\n",
       "    </tr>\n",
       "    <tr>\n",
       "      <th>4</th>\n",
       "      <td>1c5a1506bf6d4f4fbd6ca8f48c49903c</td>\n",
       "      <td>time_exec</td>\n",
       "      <td>0.508497</td>\n",
       "    </tr>\n",
       "    <tr>\n",
       "      <th>5</th>\n",
       "      <td>79dee27a8c59446783516420799f5b06</td>\n",
       "      <td>time_exec</td>\n",
       "      <td>0.547088</td>\n",
       "    </tr>\n",
       "    <tr>\n",
       "      <th>6</th>\n",
       "      <td>86fc143a1862412d83e006a368c3a74c</td>\n",
       "      <td>time_exec</td>\n",
       "      <td>0.514013</td>\n",
       "    </tr>\n",
       "    <tr>\n",
       "      <th>7</th>\n",
       "      <td>f2e3864864ed4866bc6d1e9b1d403afd</td>\n",
       "      <td>time_exec</td>\n",
       "      <td>0.355561</td>\n",
       "    </tr>\n",
       "    <tr>\n",
       "      <th>8</th>\n",
       "      <td>366e20be9acc4e2c9e72c378309f4b29</td>\n",
       "      <td>time_exec</td>\n",
       "      <td>0.512701</td>\n",
       "    </tr>\n",
       "    <tr>\n",
       "      <th>9</th>\n",
       "      <td>2f950659d2e74811a0c090df3f06aeeb</td>\n",
       "      <td>time_exec</td>\n",
       "      <td>0.636736</td>\n",
       "    </tr>\n",
       "    <tr>\n",
       "      <th>10</th>\n",
       "      <td>ef6278aedb664864bbfe18f617b3a0af</td>\n",
       "      <td>time_exec</td>\n",
       "      <td>0.378881</td>\n",
       "    </tr>\n",
       "    <tr>\n",
       "      <th>11</th>\n",
       "      <td>24f13f26e7b94d26afbc3e59de9e4d4d</td>\n",
       "      <td>time_exec</td>\n",
       "      <td>0.755824</td>\n",
       "    </tr>\n",
       "    <tr>\n",
       "      <th>12</th>\n",
       "      <td>ec5bae771b03464ba127ec5557d7675e</td>\n",
       "      <td>time_exec</td>\n",
       "      <td>0.790147</td>\n",
       "    </tr>\n",
       "    <tr>\n",
       "      <th>13</th>\n",
       "      <td>077057b508784b9f836f9660a2c96f3a</td>\n",
       "      <td>time_exec</td>\n",
       "      <td>0.542130</td>\n",
       "    </tr>\n",
       "    <tr>\n",
       "      <th>14</th>\n",
       "      <td>a833cf40184a44a8bebc6ef45828c9cb</td>\n",
       "      <td>time_exec</td>\n",
       "      <td>0.732351</td>\n",
       "    </tr>\n",
       "    <tr>\n",
       "      <th>15</th>\n",
       "      <td>3eb6652ac09b416db016faca0eeaf6dd</td>\n",
       "      <td>time_exec</td>\n",
       "      <td>0.832810</td>\n",
       "    </tr>\n",
       "    <tr>\n",
       "      <th>16</th>\n",
       "      <td>bc7ccefe4e4e4a5c9ee57e0e23663314</td>\n",
       "      <td>time_exec</td>\n",
       "      <td>0.815833</td>\n",
       "    </tr>\n",
       "    <tr>\n",
       "      <th>17</th>\n",
       "      <td>eaae76a63c2b4fa08480e5437ac3f515</td>\n",
       "      <td>time_exec</td>\n",
       "      <td>0.728834</td>\n",
       "    </tr>\n",
       "    <tr>\n",
       "      <th>18</th>\n",
       "      <td>34f008c82c0f4e09ab0fc55235b1a53b</td>\n",
       "      <td>time_exec</td>\n",
       "      <td>0.415584</td>\n",
       "    </tr>\n",
       "    <tr>\n",
       "      <th>19</th>\n",
       "      <td>86c289d32a504dbd99ea3972e74f82d9</td>\n",
       "      <td>time_exec</td>\n",
       "      <td>0.365097</td>\n",
       "    </tr>\n",
       "  </tbody>\n",
       "</table>\n",
       "</div>"
      ],
      "text/plain": [
       "                          program_id   variable     value\n",
       "0   702666942a78493cb86c73e446e32ac2  time_exec  0.405335\n",
       "1   d16a9864a4b2409fb2bc35f7aeb803be  time_exec  0.944097\n",
       "2   49ef7ae2154f40ea813c51d18c22b748  time_exec  0.711311\n",
       "3   4dd1f272ac834f9683a98dd9ca0daa2e  time_exec  0.846428\n",
       "4   1c5a1506bf6d4f4fbd6ca8f48c49903c  time_exec  0.508497\n",
       "5   79dee27a8c59446783516420799f5b06  time_exec  0.547088\n",
       "6   86fc143a1862412d83e006a368c3a74c  time_exec  0.514013\n",
       "7   f2e3864864ed4866bc6d1e9b1d403afd  time_exec  0.355561\n",
       "8   366e20be9acc4e2c9e72c378309f4b29  time_exec  0.512701\n",
       "9   2f950659d2e74811a0c090df3f06aeeb  time_exec  0.636736\n",
       "10  ef6278aedb664864bbfe18f617b3a0af  time_exec  0.378881\n",
       "11  24f13f26e7b94d26afbc3e59de9e4d4d  time_exec  0.755824\n",
       "12  ec5bae771b03464ba127ec5557d7675e  time_exec  0.790147\n",
       "13  077057b508784b9f836f9660a2c96f3a  time_exec  0.542130\n",
       "14  a833cf40184a44a8bebc6ef45828c9cb  time_exec  0.732351\n",
       "15  3eb6652ac09b416db016faca0eeaf6dd  time_exec  0.832810\n",
       "16  bc7ccefe4e4e4a5c9ee57e0e23663314  time_exec  0.815833\n",
       "17  eaae76a63c2b4fa08480e5437ac3f515  time_exec  0.728834\n",
       "18  34f008c82c0f4e09ab0fc55235b1a53b  time_exec  0.415584\n",
       "19  86c289d32a504dbd99ea3972e74f82d9  time_exec  0.365097"
      ]
     },
     "execution_count": 22,
     "metadata": {},
     "output_type": "execute_result"
    }
   ],
   "source": [
    "df_time_melt = pd.melt(\n",
    "    df_time, id_vars=['program_id'], value_vars=[\n",
    "    'time_exec',\n",
    "    'source.time_generation',\n",
    "    'followup.time_generation',\n",
    "    'followup.time_metamorph',\n",
    "    'divergence.ks.time'\n",
    "])\n",
    "df_time_melt.head(20)"
   ]
  },
  {
   "cell_type": "markdown",
   "id": "5706bd13",
   "metadata": {},
   "source": [
    "# Visualize Aggregated Data"
   ]
  },
  {
   "cell_type": "code",
   "execution_count": 34,
   "id": "b291d53a",
   "metadata": {
    "ExecuteTime": {
     "end_time": "2022-02-27T10:52:23.962725Z",
     "start_time": "2022-02-27T10:52:23.653263Z"
    }
   },
   "outputs": [
    {
     "data": {
      "text/plain": [
       "<AxesSubplot:xlabel='value', ylabel='variable'>"
      ]
     },
     "execution_count": 34,
     "metadata": {},
     "output_type": "execute_result"
    },
    {
     "data": {
      "image/png": "[encoded data removed]",
      "text/plain": [
       "<Figure size 360x216 with 1 Axes>"
      ]
     },
     "metadata": {
      "needs_background": "light"
     },
     "output_type": "display_data"
    }
   ],
   "source": [
    "fig, ax = plt.subplots(figsize=(5, 3))\n",
    "\n",
    "sns.boxplot(\n",
    "    data=df_time_melt,\n",
    "    y='variable',\n",
    "    x='value',\n",
    "    showfliers=False,\n",
    "    ax=ax\n",
    ")"
   ]
  },
  {
   "cell_type": "code",
   "execution_count": null,
   "id": "207a2a81",
   "metadata": {},
   "outputs": [],
   "source": []
  }
 ],
 "metadata": {
  "kernelspec": {
   "display_name": "Python 3 (ipykernel)",
   "language": "python",
   "name": "python3"
  },
  "language_info": {
   "codemirror_mode": {
    "name": "ipython",
    "version": 3
   },
   "file_extension": ".py",
   "mimetype": "text/x-python",
   "name": "python",
   "nbconvert_exporter": "python",
   "pygments_lexer": "ipython3",
   "version": "3.8.0"
  },
  "toc": {
   "base_numbering": 1,
   "nav_menu": {},
   "number_sections": true,
   "sideBar": true,
   "skip_h1_title": false,
   "title_cell": "Table of Contents",
   "title_sidebar": "Contents",
   "toc_cell": false,
   "toc_position": {},
   "toc_section_display": true,
   "toc_window_display": false
  }
 },
 "nbformat": 4,
 "nbformat_minor": 5
}
