{
 "cells": [
  {
   "cell_type": "code",
   "execution_count": 1,
   "id": "615d616f",
   "metadata": {
    "ExecuteTime": {
     "end_time": "2022-06-27T14:19:29.449860Z",
     "start_time": "2022-06-27T14:19:20.556129Z"
    }
   },
   "outputs": [],
   "source": [
    "import project_path\n",
    "\n",
    "import matplotlib.pyplot as plt\n",
    "import os\n",
    "import pandas as pd\n",
    "import seaborn as sns\n",
    "import sqlite3 as sl\n",
    "from tqdm import tqdm\n",
    "from typing import List, Any, Tuple, Dict\n",
    "\n",
    "from lib.detectors import KS_Detector\n",
    "from lib.inspector import Inspector\n",
    "from lib.inspector import OneNightStandInspector\n",
    "from lib.qmt import execute_programs\n",
    "from lib.utils import iterate_over\n",
    "from lib.utils import load_config_and_check\n",
    "from lib.inspector import retrieve_relevant_file_paths\n",
    "from lib.inspector import inspec_column_of\n",
    "from lib.inspector import read_program\n",
    "from lib.inspector import create_folder_in_interesting_cases\n",
    "from lib.inspector import copy_bug\n",
    "\n",
    "%load_ext autoreload\n",
    "%autoreload 2"
   ]
  },
  {
   "cell_type": "code",
   "execution_count": 2,
   "id": "2d9eed0d",
   "metadata": {
    "ExecuteTime": {
     "end_time": "2022-06-27T14:19:29.493178Z",
     "start_time": "2022-06-27T14:19:29.452013Z"
    }
   },
   "outputs": [],
   "source": [
    "from copy import deepcopy\n",
    "from os.path import join\n",
    "import pathlib\n",
    "import shutil\n",
    "import random"
   ]
  },
  {
   "cell_type": "code",
   "execution_count": 3,
   "id": "c607457a",
   "metadata": {
    "ExecuteTime": {
     "end_time": "2022-06-27T14:19:29.538478Z",
     "start_time": "2022-06-27T14:19:29.494611Z"
    }
   },
   "outputs": [],
   "source": [
    "import ipywidgets as widgets\n",
    "from IPython.display import clear_output\n",
    "from datetime import datetime\n",
    "def print_time():\n",
    "    now = datetime.now()\n",
    "    current_time = now.strftime(\"%H:%M:%S\")\n",
    "    print(\"Current Time =\", current_time)"
   ]
  },
  {
   "cell_type": "markdown",
   "id": "3164c2a8",
   "metadata": {},
   "source": [
    "# Select an Experiment and Clustering"
   ]
  },
  {
   "cell_type": "code",
   "execution_count": 22,
   "id": "f63f107f",
   "metadata": {
    "ExecuteTime": {
     "end_time": "2022-06-27T14:27:16.546166Z",
     "start_time": "2022-06-27T14:27:16.463085Z"
    }
   },
   "outputs": [
    {
     "data": {
      "application/vnd.jupyter.widget-view+json": {
       "model_id": "1dc2989d70b7469e8234aaf3de0fd5ea",
       "version_major": 2,
       "version_minor": 0
      },
      "text/plain": [
       "Dropdown(description='Experiment to consider:', layout=Layout(width='max-content'), options=('qmt_v21', 'qmt_v…"
      ]
     },
     "metadata": {},
     "output_type": "display_data"
    },
    {
     "data": {
      "application/vnd.jupyter.widget-view+json": {
       "model_id": "ef2e95c333ce460cb8864d60fe800a60",
       "version_major": 2,
       "version_minor": 0
      },
      "text/plain": [
       "Dropdown(description='Clustering file:', layout=Layout(width='max-content'), options=('cluster_v01',), style=D…"
      ]
     },
     "metadata": {},
     "output_type": "display_data"
    }
   ],
   "source": [
    "available_experiments = os.listdir(\"../config/\")\n",
    "available_experiments = list(sorted([\n",
    "    filename.replace(\".yaml\", \"\") for filename in available_experiments\n",
    "    if filename.endswith(\".yaml\")\n",
    "]))\n",
    "exp_dropdown = widgets.Dropdown(\n",
    "    options=available_experiments,\n",
    "    value='qmt_v21',\n",
    "    description='Experiment to consider:',\n",
    "    disabled=False,\n",
    "    style={'description_width': 'max-content'},\n",
    "    layout={'width': 'max-content'}\n",
    ")\n",
    "\n",
    "available_clustering_config_files = os.listdir(\"../config/clustering/\")\n",
    "available_clustering_config_files = [\n",
    "    filename.replace(\".yaml\", \"\") \n",
    "    for filename in available_clustering_config_files\n",
    "    if filename.endswith(\".yaml\")\n",
    "]\n",
    "cluster_config_dropdown = widgets.Dropdown(\n",
    "    options=available_clustering_config_files,\n",
    "    value='cluster_v01',\n",
    "    description='Clustering file:',\n",
    "    disabled=False,\n",
    "    style={'description_width': 'max-content'},\n",
    "    layout={'width': 'max-content'}\n",
    ")\n",
    "\n",
    "display(exp_dropdown)\n",
    "display(cluster_config_dropdown)"
   ]
  },
  {
   "cell_type": "markdown",
   "id": "ef3cf88f",
   "metadata": {},
   "source": [
    "# Load Data"
   ]
  },
  {
   "cell_type": "code",
   "execution_count": 23,
   "id": "bf0a162f",
   "metadata": {
    "ExecuteTime": {
     "end_time": "2022-06-27T14:27:25.747494Z",
     "start_time": "2022-06-27T14:27:25.300153Z"
    }
   },
   "outputs": [
    {
     "name": "stdout",
     "output_type": "stream",
     "text": [
      "Total (potentially divergent) comparisons: 10248\n",
      "Total crash in programs: 1959\n",
      "\tcrashing source: 0\n",
      "\tcrashing follow-up: 1959\n"
     ]
    }
   ],
   "source": [
    "# FILEPATHS\n",
    "EXP_FOLDER = exp_dropdown.value\n",
    "SQL_PATH = os.path.join(\"..\", \"data\", EXP_FOLDER, \"qfl.db\")\n",
    "LOG_PATH = os.path.join(\"..\", \"data\", EXP_FOLDER, \"log_fuzzy.txt\")\n",
    "# READ DATABASE\n",
    "SQL_CONNECTION = sl.connect(SQL_PATH)\n",
    "# LOAD DATA\n",
    "df_data = pd.read_sql(\"\"\"SELECT * from QFLDATA\"\"\", SQL_CONNECTION)\n",
    "print(f\"Total (potentially divergent) comparisons: {len(df_data)}\")\n",
    "try:\n",
    "    df_crash = pd.read_sql(\"\"\"SELECT * from CRASHDATA\"\"\", SQL_CONNECTION)\n",
    "    print(f\"Total crash in programs: {len(df_crash)}\")\n",
    "    print(f\"\\tcrashing source: {len(df_crash[~df_crash['exceptions.source'].isna()])}\")\n",
    "    print(f\"\\tcrashing follow-up: {len(df_crash[~df_crash['exceptions.followup'].isna()])}\")\n",
    "    CRASHED_PROGRAMS = list(df_crash[~df_crash['exceptions.followup'].isna()][\"program_id\"])\n",
    "except Exception as e:\n",
    "    df_crash = pd.DataFrame()\n",
    "    CRASHED_PROGRAMS = []\n",
    "    print(\"No crash data\")"
   ]
  },
  {
   "cell_type": "markdown",
   "id": "8ee01c27",
   "metadata": {},
   "source": [
    "# Visualize the Clustering"
   ]
  },
  {
   "cell_type": "code",
   "execution_count": 25,
   "id": "261bbec6",
   "metadata": {
    "ExecuteTime": {
     "end_time": "2022-06-27T14:33:06.095803Z",
     "start_time": "2022-06-27T14:33:05.428711Z"
    }
   },
   "outputs": [
    {
     "data": {
      "text/plain": [
       "Text(0, 0.5, 'Custer-level Warning Representatives')"
      ]
     },
     "execution_count": 25,
     "metadata": {},
     "output_type": "execute_result"
    },
    {
     "data": {
      "image/png": "[encoded data removed]",
      "text/plain": [
       "<Figure size 360x360 with 1 Axes>"
      ]
     },
     "metadata": {
      "needs_background": "light"
     },
     "output_type": "display_data"
    }
   ],
   "source": [
    "from lib.inspector import cluster_warnings\n",
    "\n",
    "cluster_config = load_config_and_check(\n",
    "    f\"../config/clustering/{cluster_config_dropdown.value}.yaml\")\n",
    "df_crash_clustered = cluster_warnings(\n",
    "    df=df_crash,\n",
    "    warning_col=\"exceptions.followup\",\n",
    "    cluster_config=cluster_config,  \n",
    ")\n",
    "fig, ax = plt.subplots(figsize=(5,5))\n",
    "sns.countplot(\n",
    "    data=df_crash_clustered,\n",
    "    y=\"short_desc\",\n",
    "    ax=ax)\n",
    "ax.set_ylabel(\"Custer-level Warning Representatives\")"
   ]
  },
  {
   "cell_type": "markdown",
   "id": "28d01e59",
   "metadata": {},
   "source": [
    "# Sample a Warning (randomly) from a Cluster"
   ]
  },
  {
   "cell_type": "code",
   "execution_count": null,
   "id": "bf51474f",
   "metadata": {
    "ExecuteTime": {
     "start_time": "2022-06-27T14:31:42.677Z"
    }
   },
   "outputs": [],
   "source": [
    "cluster_selector = widgets.Dropdown(\n",
    "    options=df_crash_clustered[\"short_desc\"].unique(),\n",
    "    value='No cluster',\n",
    "    description='Cluster to sample:',\n",
    "    disabled=False,\n",
    "    style={'description_width': 'max-content'},\n",
    "    layout={'width': 'max-content'}\n",
    ")\n",
    "k_selector = widgets.IntSlider(\n",
    "    value=10,\n",
    "    min=3,\n",
    "    max=100,\n",
    "    step=1,\n",
    "    description='To inspect:',\n",
    "    disabled=False,\n",
    "    continuous_update=False,\n",
    "    orientation='horizontal',\n",
    "    readout=True,\n",
    "    readout_format='d'\n",
    ")\n",
    "show_top_k_btn = widgets.Button(\n",
    "    description='Show warnings',\n",
    "    disabled=False,\n",
    "    button_style='', # 'success', 'info', 'warning', 'danger' or ''\n",
    "    tooltip='Click to print the top warnings ',\n",
    "    icon='fa-eye' # (FontAwesome names without the `fa-` prefix)\n",
    ")\n",
    "from IPython.display import clear_output\n",
    "\n",
    "CURRENT_CLUSTER_WARNINGS = []\n",
    "\n",
    "def show_top_k_warnings(widget):\n",
    "    global CURRENT_CLUSTER_WARNINGS\n",
    "    print(f\"TOP {k_selector.value} (raw) warnings by occurence in the given cluster\")\n",
    "    df_single_cluster = df_crash_clustered[\n",
    "        df_crash_clustered[\"short_desc\"] == cluster_selector.value]\n",
    "    CURRENT_CLUSTER_WARNINGS = sorted(df_single_cluster[\"exceptions.followup\"].unique())\n",
    "    df_grouped = df_single_cluster.groupby(\n",
    "        by=[\"exceptions.followup\"])[\"index\"].count().sort_values(\n",
    "        ascending=False)\n",
    "    clear_output()\n",
    "    display(cluster_selector)\n",
    "    display(k_selector)\n",
    "    display(show_top_k_btn)\n",
    "    display(df_grouped.head(k_selector.value))\n",
    "\n",
    "show_top_k_btn.on_click(show_top_k_warnings)\n",
    "\n",
    "display(cluster_selector)\n",
    "display(k_selector)\n",
    "display(show_top_k_btn)\n",
    "\n"
   ]
  },
  {
   "cell_type": "markdown",
   "id": "64b74309",
   "metadata": {},
   "source": [
    "# Pick Specific Example"
   ]
  },
  {
   "cell_type": "code",
   "execution_count": 8,
   "id": "02933733",
   "metadata": {
    "ExecuteTime": {
     "end_time": "2022-06-27T14:21:19.562776Z",
     "start_time": "2022-06-27T14:21:19.492487Z"
    }
   },
   "outputs": [
    {
     "data": {
      "application/vnd.jupyter.widget-view+json": {
       "model_id": "bde1e3a95c3c4d4d8ef44f63845995f4",
       "version_major": 2,
       "version_minor": 0
      },
      "text/plain": [
       "Dropdown(description='Specific warning:', layout=Layout(width='max-content'), options=('ParameterExpression wi…"
      ]
     },
     "metadata": {},
     "output_type": "display_data"
    },
    {
     "data": {
      "application/vnd.jupyter.widget-view+json": {
       "model_id": "14203fb403774e3c83de4cbcbd20f2fa",
       "version_major": 2,
       "version_minor": 0
      },
      "text/plain": [
       "Checkbox(value=False, description='Cluster-Level', indent=False)"
      ]
     },
     "metadata": {},
     "output_type": "display_data"
    },
    {
     "data": {
      "application/vnd.jupyter.widget-view+json": {
       "model_id": "d7f127f48c6247129abf7b9e220f5c8c",
       "version_major": 2,
       "version_minor": 0
      },
      "text/plain": [
       "Button(description='Sample', icon='eye', style=ButtonStyle(), tooltip='Sample one example')"
      ]
     },
     "metadata": {},
     "output_type": "display_data"
    },
    {
     "name": "stdout",
     "output_type": "stream",
     "text": [
      "From: ParameterExpression with unbound parameters ({Parameter(p_1bf2a8)}) cannot be cast to a float.\n",
      "Current Time = 16:21:28\n",
      "PROGRAM_ID_UNDER_ANALYSIS: da73717fb82d41f1aa8c158adad1269b\n"
     ]
    }
   ],
   "source": [
    "warning_selector = widgets.Dropdown(\n",
    "    options=CURRENT_CLUSTER_WARNINGS,\n",
    "    description='Specific warning:',\n",
    "    disabled=False,\n",
    "    style={'description_width': 'max-content'},\n",
    "    layout={'width': 'max-content'}\n",
    ")\n",
    "check_specific_warning = widgets.Checkbox(\n",
    "    value=False,\n",
    "    description='Cluster-Level',\n",
    "    disabled=False,\n",
    "    indent=False\n",
    ")\n",
    "\n",
    "sample_example_btn = widgets.Button(\n",
    "    description='Sample',\n",
    "    disabled=False,\n",
    "    button_style='', # 'success', 'info', 'warning', 'danger' or ''\n",
    "    tooltip='Sample one example',\n",
    "    icon='fa-eye' # (FontAwesome names without the `fa-` prefix)\n",
    ")\n",
    "\n",
    "def show_program_id(widget):\n",
    "    global PROGRAM_ID_UNDER_ANALYSIS\n",
    "    if not check_specific_warning.value:\n",
    "        df_selection = df_crash_clustered[\n",
    "            df_crash_clustered[\"exceptions.followup\"] == \\\n",
    "                warning_selector.value]\n",
    "        print(f\"From: {warning_selector.value}\")\n",
    "    elif check_specific_warning.value:\n",
    "        df_selection = df_crash_clustered[\n",
    "            df_crash_clustered[\"short_desc\"] == \\\n",
    "                cluster_selector.value]\n",
    "        print(f\"From: {cluster_selector.value}\")\n",
    "    PROGRAM_ID_UNDER_ANALYSIS = random.choice(\n",
    "        list(df_selection[\"program_id\"]))   \n",
    "    print_time()\n",
    "    print(f\"PROGRAM_ID_UNDER_ANALYSIS: {PROGRAM_ID_UNDER_ANALYSIS}\")\n",
    "\n",
    "sample_example_btn.on_click(show_program_id)\n",
    "\n",
    "display(warning_selector)\n",
    "display(check_specific_warning)\n",
    "display(sample_example_btn)"
   ]
  },
  {
   "cell_type": "markdown",
   "id": "f0325b08",
   "metadata": {},
   "source": [
    "# Visualize the Diff: Source vs FollowUp\n",
    "Start the timer (aka create a file with the current timestamp and the program id)."
   ]
  },
  {
   "cell_type": "code",
   "execution_count": 9,
   "id": "a90b48ff",
   "metadata": {
    "ExecuteTime": {
     "end_time": "2022-06-27T14:21:31.835936Z",
     "start_time": "2022-06-27T14:21:31.748415Z"
    },
    "scrolled": false
   },
   "outputs": [
    {
     "name": "stdout",
     "output_type": "stream",
     "text": [
      "source: ../data/qmt_v40/programs/source/da73717fb82d41f1aa8c158adad1269b.py\n",
      "followup: ../data/qmt_v40/programs/followup/da73717fb82d41f1aa8c158adad1269b.py\n",
      "metadata: ../data/qmt_v40/programs/metadata/da73717fb82d41f1aa8c158adad1269b.json\n",
      "metadata_exec: ../data/qmt_v40/programs/metadata_exec/da73717fb82d41f1aa8c158adad1269b.json\n",
      "n hits: 1\n",
      "['AddUnusedRegister', 'InjectNullEffect', 'InjectParameters']\n",
      "# SOURCE ---------------\n",
      "\u001b[31m\n",
      "# SECTION\n",
      "# NAME: PROLOGUE\n",
      "\n",
      "import qiskit\n",
      "from qiskit import QuantumCircuit, ClassicalRegister, QuantumRegister\n",
      "from qiskit.circuit.library.standard_gates import *\n",
      "from qiskit.circuit import Parameter\n",
      "\n",
      "# SECTION\n",
      "# NAME: CIRCUIT\n",
      "\n",
      "qr = QuantumRegister(4, name='qr')\n",
      "cr = ClassicalRegister(4, name='cr')\n",
      "qc = QuantumCircuit(qr, cr, name='qc')\n",
      "qc.append(UGate(2.8458343693045194,0.8049272483743091,4.522551608829603), qargs=[qr[0]], cargs=[])\n",
      "qc.append(RZXGate(1.4741171548842849), qargs=[qr[1], qr[0]], cargs=[])\n",
      "qc.append(CRZGate(1.9894567235400444), qargs=[qr[0], qr[3]], cargs=[])\n",
      "qc.append(CPhaseGate(5.230927969464406), qargs=[qr[0], qr[2]], cargs=[])\n",
      "qc.append(U2Gate(1.9215956857252672,2.14327055370008), qargs=[qr[2]], cargs=[])\n",
      "qc.append(RYGate(6.120216069994306), qargs=[qr[2]], cargs=[])\n",
      "qc.append(SwapGate(), qargs=[qr[1], qr[3]], cargs=[])\n",
      "qc.append(RYYGate(2.76364050020305), qargs=[qr[2], qr[0]], cargs=[])\n",
      "qc.append(ECRGate(), qargs=[qr[3], qr[1]], cargs=[])\n",
      "qc.append(RZXGate(5.846603962473085), qargs=[qr[0], qr[3]], cargs=[])\n",
      "qc.append(RZZGate(5.26050782109599), qargs=[qr[3], qr[1]], cargs=[])\n",
      "qc.append(RZZGate(3.4915073537531343), qargs=[qr[1], qr[0]], cargs=[])\n",
      "qc.append(TdgGate(), qargs=[qr[1]], cargs=[])\n",
      "qc.append(ZGate(), qargs=[qr[1]], cargs=[])\n",
      "qc.append(SwapGate(), qargs=[qr[0], qr[1]], cargs=[])\n",
      "qc.append(CRXGate(1.0476083838738137), qargs=[qr[0], qr[2]], cargs=[])\n",
      "qc.append(CRXGate(3.151109085277851), qargs=[qr[2], qr[1]], cargs=[])\n",
      "qc.append(SwapGate(), qargs=[qr[3], qr[2]], cargs=[])\n",
      "\n",
      "# SECTION\n",
      "# NAME: MEASUREMENT\n",
      "\n",
      "qc.measure(qr, cr)\n",
      "\n",
      "# SECTION\n",
      "# NAME: OPTIMIZATION_LEVEL\n",
      "\n",
      "from qiskit import transpile\n",
      "qc = transpile(qc, basis_gates=None, optimization_level=2, coupling_map=None)\n",
      "\n",
      "# SECTION\n",
      "# NAME: EXECUTION\n",
      "\n",
      "from qiskit import Aer, transpile, execute\n",
      "backend_4c4c3c1fe3374475b3b4750c7c5d8db3 = Aer.get_backend('qasm_simulator')\n",
      "counts = execute(qc, backend=backend_4c4c3c1fe3374475b3b4750c7c5d8db3, shots=692).result().get_counts(qc)\n",
      "RESULT = counts\u001b[0m\n",
      "#--------------------------------------------------------------------------------\n",
      "# FOLLOWUP -------------\n",
      "\u001b[34m# SECTION\n",
      "# NAME: PROLOGUE\n",
      "\n",
      "import qiskit\n",
      "from qiskit import QuantumCircuit, ClassicalRegister, QuantumRegister\n",
      "from qiskit.circuit.library.standard_gates import *\n",
      "from qiskit.circuit import Parameter\n",
      "# SECTION\n",
      "# NAME: PARAMETERS\n",
      "# SECTION\n",
      "# NAME: PARAMETERS\n",
      "p_cd7288 = Parameter('p_cd7288')\n",
      "p_874460 = Parameter('p_874460')\n",
      "p_adca06 = Parameter('p_adca06')\n",
      "p_b2d019 = Parameter('p_b2d019')\n",
      "p_2aa4e6 = Parameter('p_2aa4e6')\n",
      "p_2d9c93 = Parameter('p_2d9c93')\n",
      "p_052275 = Parameter('p_052275')\n",
      "p_569191 = Parameter('p_569191')\n",
      "p_557243 = Parameter('p_557243')\n",
      "p_bee21f = Parameter('p_bee21f')\n",
      "p_37d5be = Parameter('p_37d5be')\n",
      "p_c75c35 = Parameter('p_c75c35')\n",
      "p_1c6afa = Parameter('p_1c6afa')\n",
      "p_1bf2a8 = Parameter('p_1bf2a8')\n",
      "p_856ca3 = Parameter('p_856ca3')\n",
      "p_c49fe8 = Parameter('p_c49fe8')\n",
      "\n",
      "# SECTION\n",
      "# NAME: CIRCUIT\n",
      "qr = QuantumRegister(4, name='qr')\n",
      "cr = ClassicalRegister(4, name='cr')\n",
      "qc = QuantumCircuit(qr, cr, name='qc')\n",
      "qc.append(UGate(p_c49fe8, p_2aa4e6, p_adca06), qargs=[qr[0]], cargs=[])\n",
      "qc.append(RZXGate(p_c75c35), qargs=[qr[1], qr[0]], cargs=[])\n",
      "qc.append(CRZGate(1.9894567235400444), qargs=[qr[0], qr[3]], cargs=[])\n",
      "qc.append(CPhaseGate(p_2d9c93), qargs=[qr[0], qr[2]], cargs=[])\n",
      "qc.append(U2Gate(p_052275, 2.14327055370008), qargs=[qr[2]], cargs=[])\n",
      "qc.append(RYGate(6.120216069994306), qargs=[qr[2]], cargs=[])\n",
      "subcircuit = QuantumCircuit(qr, cr, name='subcircuit')\n",
      "subcircuit.append(U2Gate(3.4383177762610617, p_874460), qargs=[qr[3]], cargs=[]\n",
      "    )\n",
      "subcircuit.append(CZGate(), qargs=[qr[0], qr[2]], cargs=[])\n",
      "subcircuit.append(HGate(), qargs=[qr[1]], cargs=[])\n",
      "subcircuit.append(CHGate(), qargs=[qr[3], qr[1]], cargs=[])\n",
      "subcircuit.append(ECRGate(), qargs=[qr[0], qr[2]], cargs=[])\n",
      "subcircuit.append(TGate(), qargs=[qr[0]], cargs=[])\n",
      "subcircuit.append(CUGate(p_1bf2a8, p_bee21f, p_1c6afa, p_569191), qargs=[qr\n",
      "    [3], qr[1]], cargs=[])\n",
      "qc.append(subcircuit, qargs=qr, cargs=cr)\n",
      "qc.append(subcircuit.inverse(), qargs=qr, cargs=cr)\n",
      "qc.append(SwapGate(), qargs=[qr[1], qr[3]], cargs=[])\n",
      "qc.append(RYYGate(p_cd7288), qargs=[qr[2], qr[0]], cargs=[])\n",
      "qc.append(ECRGate(), qargs=[qr[3], qr[1]], cargs=[])\n",
      "qc.append(RZXGate(p_856ca3), qargs=[qr[0], qr[3]], cargs=[])\n",
      "qc.append(RZZGate(p_557243), qargs=[qr[3], qr[1]], cargs=[])\n",
      "qc.append(RZZGate(p_b2d019), qargs=[qr[1], qr[0]], cargs=[])\n",
      "qc.append(TdgGate(), qargs=[qr[1]], cargs=[])\n",
      "qc.append(ZGate(), qargs=[qr[1]], cargs=[])\n",
      "qc.append(SwapGate(), qargs=[qr[0], qr[1]], cargs=[])\n",
      "qc.append(CRXGate(p_37d5be), qargs=[qr[0], qr[2]], cargs=[])\n",
      "qc.append(CRXGate(3.151109085277851), qargs=[qr[2], qr[1]], cargs=[])\n",
      "qc.append(SwapGate(), qargs=[qr[3], qr[2]], cargs=[])\n",
      "# SECTION\n",
      "# NAME: USELESS_ENTITIES\n",
      "\n",
      "qr_191aed = QuantumRegister(2, name='qr_191aed')\n",
      "qc.add_register(qr_191aed)\n",
      "# SECTION\n",
      "# NAME: MEASUREMENT\n",
      "\n",
      "qc.measure(qr, cr)\n",
      "# SECTION\n",
      "# NAME: PARAMETER_BINDING\n",
      "\n",
      "qc = qc.bind_parameters({\n",
      "    p_cd7288: 2.76364050020305,\n",
      "    p_874460: 3.1934524077429205,\n",
      "    p_adca06: 4.522551608829603,\n",
      "    p_b2d019: 3.4915073537531343,\n",
      "    p_2aa4e6: 0.8049272483743091,\n",
      "    p_2d9c93: 5.230927969464406,\n",
      "    p_052275: 1.9215956857252672,\n",
      "    p_569191: 2.181033860168429,\n",
      "    p_557243: 5.26050782109599,\n",
      "    p_bee21f: 1.911498667420756,\n",
      "    p_37d5be: 1.0476083838738137,\n",
      "    p_c75c35: 1.4741171548842849,\n",
      "    p_1c6afa: 0.23740716258939984,\n",
      "    p_1bf2a8: 0.05987661442959947,\n",
      "    p_856ca3: 5.846603962473085,\n",
      "    p_c49fe8: 2.8458343693045194,\n",
      "})\n",
      "\n",
      "# SECTION\n",
      "# NAME: OPTIMIZATION_LEVEL\n",
      "\n",
      "from qiskit import transpile\n",
      "qc = transpile(qc, basis_gates=None, optimization_level=2, coupling_map=None)\n",
      "# SECTION\n",
      "# NAME: EXECUTION\n",
      "\n",
      "from qiskit import Aer, transpile, execute\n",
      "backend_4c4c3c1fe3374475b3b4750c7c5d8db3 = Aer.get_backend('qasm_simulator')\n",
      "counts = execute(qc, backend=backend_4c4c3c1fe3374475b3b4750c7c5d8db3, shots=692).result().get_counts(qc)\n",
      "RESULT = counts\n",
      "\u001b[0m\n",
      "# Difference -----------\n",
      "- \n",
      "  # SECTION\n",
      "  # NAME: PROLOGUE\n",
      "  \n",
      "  import qiskit\n",
      "  from qiskit import QuantumCircuit, ClassicalRegister, QuantumRegister\n",
      "  from qiskit.circuit.library.standard_gates import *\n",
      "  from qiskit.circuit import Parameter\n",
      "+ # SECTION\n",
      "+ # NAME: PARAMETERS\n",
      "+ # SECTION\n",
      "+ # NAME: PARAMETERS\n",
      "+ p_cd7288 = Parameter('p_cd7288')\n",
      "+ p_874460 = Parameter('p_874460')\n",
      "+ p_adca06 = Parameter('p_adca06')\n",
      "+ p_b2d019 = Parameter('p_b2d019')\n",
      "+ p_2aa4e6 = Parameter('p_2aa4e6')\n",
      "+ p_2d9c93 = Parameter('p_2d9c93')\n",
      "+ p_052275 = Parameter('p_052275')\n",
      "+ p_569191 = Parameter('p_569191')\n",
      "+ p_557243 = Parameter('p_557243')\n",
      "+ p_bee21f = Parameter('p_bee21f')\n",
      "+ p_37d5be = Parameter('p_37d5be')\n",
      "+ p_c75c35 = Parameter('p_c75c35')\n",
      "+ p_1c6afa = Parameter('p_1c6afa')\n",
      "+ p_1bf2a8 = Parameter('p_1bf2a8')\n",
      "+ p_856ca3 = Parameter('p_856ca3')\n",
      "+ p_c49fe8 = Parameter('p_c49fe8')\n",
      "  \n",
      "  # SECTION\n",
      "  # NAME: CIRCUIT\n",
      "- \n",
      "  qr = QuantumRegister(4, name='qr')\n",
      "  cr = ClassicalRegister(4, name='cr')\n",
      "  qc = QuantumCircuit(qr, cr, name='qc')\n",
      "- qc.append(UGate(2.8458343693045194,0.8049272483743091,4.522551608829603), qargs=[qr[0]], cargs=[])\n",
      "+ qc.append(UGate(p_c49fe8, p_2aa4e6, p_adca06), qargs=[qr[0]], cargs=[])\n",
      "- qc.append(RZXGate(1.4741171548842849), qargs=[qr[1], qr[0]], cargs=[])\n",
      "?                   ^^^ ----- ^^^^^^^^\n",
      "\n",
      "+ qc.append(RZXGate(p_c75c35), qargs=[qr[1], qr[0]], cargs=[])\n",
      "?                   ^^^  ^^^\n",
      "\n",
      "  qc.append(CRZGate(1.9894567235400444), qargs=[qr[0], qr[3]], cargs=[])\n",
      "- qc.append(CPhaseGate(5.230927969464406), qargs=[qr[0], qr[2]], cargs=[])\n",
      "?                      ^^  -------------\n",
      "\n",
      "+ qc.append(CPhaseGate(p_2d9c93), qargs=[qr[0], qr[2]], cargs=[])\n",
      "?                      ^^ ++++\n",
      "\n",
      "- qc.append(U2Gate(1.9215956857252672,2.14327055370008), qargs=[qr[2]], cargs=[])\n",
      "?                  ^^^^^^^^^^^^^  ^ ^\n",
      "\n",
      "+ qc.append(U2Gate(p_052275, 2.14327055370008), qargs=[qr[2]], cargs=[])\n",
      "?                  ^^^  ^ ^ +\n",
      "\n",
      "  qc.append(RYGate(6.120216069994306), qargs=[qr[2]], cargs=[])\n",
      "+ subcircuit = QuantumCircuit(qr, cr, name='subcircuit')\n",
      "+ subcircuit.append(U2Gate(3.4383177762610617, p_874460), qargs=[qr[3]], cargs=[]\n",
      "+     )\n",
      "+ subcircuit.append(CZGate(), qargs=[qr[0], qr[2]], cargs=[])\n",
      "+ subcircuit.append(HGate(), qargs=[qr[1]], cargs=[])\n",
      "+ subcircuit.append(CHGate(), qargs=[qr[3], qr[1]], cargs=[])\n",
      "+ subcircuit.append(ECRGate(), qargs=[qr[0], qr[2]], cargs=[])\n",
      "+ subcircuit.append(TGate(), qargs=[qr[0]], cargs=[])\n",
      "+ subcircuit.append(CUGate(p_1bf2a8, p_bee21f, p_1c6afa, p_569191), qargs=[qr\n",
      "+     [3], qr[1]], cargs=[])\n",
      "+ qc.append(subcircuit, qargs=qr, cargs=cr)\n",
      "+ qc.append(subcircuit.inverse(), qargs=qr, cargs=cr)\n",
      "  qc.append(SwapGate(), qargs=[qr[1], qr[3]], cargs=[])\n",
      "- qc.append(RYYGate(2.76364050020305), qargs=[qr[2], qr[0]], cargs=[])\n",
      "?                    ^^^^^^^^^^^^^^^\n",
      "\n",
      "+ qc.append(RYYGate(p_cd7288), qargs=[qr[2], qr[0]], cargs=[])\n",
      "?                   +++++ ^^\n",
      "\n",
      "  qc.append(ECRGate(), qargs=[qr[3], qr[1]], cargs=[])\n",
      "- qc.append(RZXGate(5.846603962473085), qargs=[qr[0], qr[3]], cargs=[])\n",
      "?                   ^^^^^^^^^^^^^^^\n",
      "\n",
      "+ qc.append(RZXGate(p_856ca3), qargs=[qr[0], qr[3]], cargs=[])\n",
      "?                   ^^  ++++\n",
      "\n",
      "- qc.append(RZZGate(5.26050782109599), qargs=[qr[3], qr[1]], cargs=[])\n",
      "?                    ^ ^^^^^^^^^^^^^\n",
      "\n",
      "+ qc.append(RZZGate(p_557243), qargs=[qr[3], qr[1]], cargs=[])\n",
      "?                   ++ ^^ ^^\n",
      "\n",
      "- qc.append(RZZGate(3.4915073537531343), qargs=[qr[1], qr[0]], cargs=[])\n",
      "?                   ^^^ --------------\n",
      "\n",
      "+ qc.append(RZZGate(p_b2d019), qargs=[qr[1], qr[0]], cargs=[])\n",
      "?                   ^^^^^^^\n",
      "\n",
      "  qc.append(TdgGate(), qargs=[qr[1]], cargs=[])\n",
      "  qc.append(ZGate(), qargs=[qr[1]], cargs=[])\n",
      "  qc.append(SwapGate(), qargs=[qr[0], qr[1]], cargs=[])\n",
      "- qc.append(CRXGate(1.0476083838738137), qargs=[qr[0], qr[2]], cargs=[])\n",
      "?                   ^^^^^^^^^^^^^^^^\n",
      "\n",
      "+ qc.append(CRXGate(p_37d5be), qargs=[qr[0], qr[2]], cargs=[])\n",
      "?                   ^^  ++++\n",
      "\n",
      "  qc.append(CRXGate(3.151109085277851), qargs=[qr[2], qr[1]], cargs=[])\n",
      "  qc.append(SwapGate(), qargs=[qr[3], qr[2]], cargs=[])\n",
      "+ # SECTION\n",
      "+ # NAME: USELESS_ENTITIES\n",
      "  \n",
      "+ qr_191aed = QuantumRegister(2, name='qr_191aed')\n",
      "+ qc.add_register(qr_191aed)\n",
      "  # SECTION\n",
      "  # NAME: MEASUREMENT\n",
      "  \n",
      "  qc.measure(qr, cr)\n",
      "+ # SECTION\n",
      "+ # NAME: PARAMETER_BINDING\n",
      "+ \n",
      "+ qc = qc.bind_parameters({\n",
      "+     p_cd7288: 2.76364050020305,\n",
      "+     p_874460: 3.1934524077429205,\n",
      "+     p_adca06: 4.522551608829603,\n",
      "+     p_b2d019: 3.4915073537531343,\n",
      "+     p_2aa4e6: 0.8049272483743091,\n",
      "+     p_2d9c93: 5.230927969464406,\n",
      "+     p_052275: 1.9215956857252672,\n",
      "+     p_569191: 2.181033860168429,\n",
      "+     p_557243: 5.26050782109599,\n",
      "+     p_bee21f: 1.911498667420756,\n",
      "+     p_37d5be: 1.0476083838738137,\n",
      "+     p_c75c35: 1.4741171548842849,\n",
      "+     p_1c6afa: 0.23740716258939984,\n",
      "+     p_1bf2a8: 0.05987661442959947,\n",
      "+     p_856ca3: 5.846603962473085,\n",
      "+     p_c49fe8: 2.8458343693045194,\n",
      "+ })\n",
      "  \n",
      "  # SECTION\n",
      "  # NAME: OPTIMIZATION_LEVEL\n",
      "  \n",
      "  from qiskit import transpile\n",
      "  qc = transpile(qc, basis_gates=None, optimization_level=2, coupling_map=None)\n",
      "- \n",
      "  # SECTION\n",
      "  # NAME: EXECUTION\n",
      "  \n",
      "  from qiskit import Aer, transpile, execute\n",
      "  backend_4c4c3c1fe3374475b3b4750c7c5d8db3 = Aer.get_backend('qasm_simulator')\n",
      "  counts = execute(qc, backend=backend_4c4c3c1fe3374475b3b4750c7c5d8db3, shots=692).result().get_counts(qc)\n",
      "  RESULT = counts\n"
     ]
    }
   ],
   "source": [
    "BUG_PATHS = retrieve_relevant_file_paths(\n",
    "    experiment_folder=EXP_FOLDER,\n",
    "    program_id=PROGRAM_ID_UNDER_ANALYSIS\n",
    ")\n",
    "for k, v in BUG_PATHS.items():\n",
    "    print(f\"{k}: {v}\")\n",
    "# inspect relevant properties\n",
    "inspec_column_of(\n",
    "    df=df_crash,  # TROUBLESHOOTING change with df_data if the program is from a divergence\n",
    "    program_id=PROGRAM_ID_UNDER_ANALYSIS, \n",
    "    target_col=\"followup.metamorphic_transformations\"\n",
    ")\n",
    "print('# SOURCE ---------------')\n",
    "source_file = read_program(path=BUG_PATHS['source'], color='red')\n",
    "print(\"#\" + \"-\" * 80)\n",
    "print('# FOLLOWUP -------------')\n",
    "follow_file = read_program(path=BUG_PATHS['followup'], color='blue')\n",
    "print('# Difference -----------')\n",
    "\n",
    "\n",
    "from difflib import Differ\n",
    "  \n",
    "differ = Differ()\n",
    "\n",
    "for line in differ.compare(source_file.splitlines(), follow_file.splitlines()):\n",
    "    print(line)\n"
   ]
  },
  {
   "cell_type": "markdown",
   "id": "ca09cb3c",
   "metadata": {},
   "source": [
    "# Copy FollowUp to a New Cell\n",
    "Change the followup until it stops crashing"
   ]
  },
  {
   "cell_type": "code",
   "execution_count": 10,
   "id": "8292b430",
   "metadata": {
    "ExecuteTime": {
     "end_time": "2022-06-27T14:21:37.131877Z",
     "start_time": "2022-06-27T14:21:37.081537Z"
    }
   },
   "outputs": [],
   "source": [
    "get_ipython().set_next_input(follow_file)"
   ]
  },
  {
   "cell_type": "code",
   "execution_count": 15,
   "id": "4f1c2b30",
   "metadata": {
    "ExecuteTime": {
     "end_time": "2022-06-27T14:24:44.880480Z",
     "start_time": "2022-06-27T14:24:44.736199Z"
    }
   },
   "outputs": [
    {
     "ename": "TypeError",
     "evalue": "ParameterExpression with unbound parameters ({Parameter(p_1bf2a8)}) cannot be cast to a float.",
     "output_type": "error",
     "traceback": [
      "\u001b[0;31m---------------------------------------------------------------------------\u001b[0m",
      "\u001b[0;31mRuntimeError\u001b[0m                              Traceback (most recent call last)",
      "\u001b[0;32m~/.conda/envs/ML4Quantum/lib/python3.8/site-packages/qiskit/circuit/parameterexpression.py\u001b[0m in \u001b[0;36m__float__\u001b[0;34m(self)\u001b[0m\n\u001b[1;32m    443\u001b[0m         \u001b[0;32mtry\u001b[0m\u001b[0;34m:\u001b[0m\u001b[0;34m\u001b[0m\u001b[0;34m\u001b[0m\u001b[0m\n\u001b[0;32m--> 444\u001b[0;31m             \u001b[0;32mreturn\u001b[0m \u001b[0mfloat\u001b[0m\u001b[0;34m(\u001b[0m\u001b[0mself\u001b[0m\u001b[0;34m.\u001b[0m\u001b[0m_symbol_expr\u001b[0m\u001b[0;34m)\u001b[0m\u001b[0;34m\u001b[0m\u001b[0;34m\u001b[0m\u001b[0m\n\u001b[0m\u001b[1;32m    445\u001b[0m         \u001b[0;31m# TypeError is for sympy, RuntimeError for symengine\u001b[0m\u001b[0;34m\u001b[0m\u001b[0;34m\u001b[0m\u001b[0;34m\u001b[0m\u001b[0m\n",
      "\u001b[0;32msymengine_wrapper.pyx\u001b[0m in \u001b[0;36msymengine.lib.symengine_wrapper.Basic.__float__\u001b[0;34m()\u001b[0m\n",
      "\u001b[0;32msymengine_wrapper.pyx\u001b[0m in \u001b[0;36msymengine.lib.symengine_wrapper.Basic.n\u001b[0;34m()\u001b[0m\n",
      "\u001b[0;32msymengine_wrapper.pyx\u001b[0m in \u001b[0;36msymengine.lib.symengine_wrapper.evalf\u001b[0;34m()\u001b[0m\n",
      "\u001b[0;31mRuntimeError\u001b[0m: Symbol cannot be evaluated.",
      "\nThe above exception was the direct cause of the following exception:\n",
      "\u001b[0;31mTypeError\u001b[0m                                 Traceback (most recent call last)",
      "\u001b[0;32m/tmp/ipykernel_24767/2725224447.py\u001b[0m in \u001b[0;36m<module>\u001b[0;34m\u001b[0m\n\u001b[1;32m     42\u001b[0m \u001b[0;34m\u001b[0m\u001b[0m\n\u001b[1;32m     43\u001b[0m \u001b[0;32mfrom\u001b[0m \u001b[0mqiskit\u001b[0m \u001b[0;32mimport\u001b[0m \u001b[0mtranspile\u001b[0m\u001b[0;34m\u001b[0m\u001b[0;34m\u001b[0m\u001b[0m\n\u001b[0;32m---> 44\u001b[0;31m \u001b[0mqc\u001b[0m \u001b[0;34m=\u001b[0m \u001b[0mtranspile\u001b[0m\u001b[0;34m(\u001b[0m\u001b[0mqc\u001b[0m\u001b[0;34m,\u001b[0m \u001b[0mbasis_gates\u001b[0m\u001b[0;34m=\u001b[0m\u001b[0;32mNone\u001b[0m\u001b[0;34m,\u001b[0m \u001b[0moptimization_level\u001b[0m\u001b[0;34m=\u001b[0m\u001b[0;36m2\u001b[0m\u001b[0;34m,\u001b[0m \u001b[0mcoupling_map\u001b[0m\u001b[0;34m=\u001b[0m\u001b[0;32mNone\u001b[0m\u001b[0;34m)\u001b[0m\u001b[0;34m\u001b[0m\u001b[0;34m\u001b[0m\u001b[0m\n\u001b[0m\u001b[1;32m     45\u001b[0m \u001b[0;31m# SECTION\u001b[0m\u001b[0;34m\u001b[0m\u001b[0;34m\u001b[0m\u001b[0;34m\u001b[0m\u001b[0m\n\u001b[1;32m     46\u001b[0m \u001b[0;31m# NAME: EXECUTION\u001b[0m\u001b[0;34m\u001b[0m\u001b[0;34m\u001b[0m\u001b[0;34m\u001b[0m\u001b[0m\n",
      "\u001b[0;32m~/.conda/envs/ML4Quantum/lib/python3.8/site-packages/qiskit/compiler/transpiler.py\u001b[0m in \u001b[0;36mtranspile\u001b[0;34m(circuits, backend, basis_gates, inst_map, coupling_map, backend_properties, initial_layout, layout_method, routing_method, translation_method, scheduling_method, instruction_durations, dt, approximation_degree, timing_constraints, seed_transpiler, optimization_level, pass_manager, callback, output_name, unitary_synthesis_method, unitary_synthesis_plugin_config, target)\u001b[0m\n\u001b[1;32m    333\u001b[0m \u001b[0;34m\u001b[0m\u001b[0m\n\u001b[1;32m    334\u001b[0m     \u001b[0;31m# Transpile circuits in parallel\u001b[0m\u001b[0;34m\u001b[0m\u001b[0;34m\u001b[0m\u001b[0;34m\u001b[0m\u001b[0m\n\u001b[0;32m--> 335\u001b[0;31m     \u001b[0mcircuits\u001b[0m \u001b[0;34m=\u001b[0m \u001b[0mparallel_map\u001b[0m\u001b[0;34m(\u001b[0m\u001b[0m_transpile_circuit\u001b[0m\u001b[0;34m,\u001b[0m \u001b[0mlist\u001b[0m\u001b[0;34m(\u001b[0m\u001b[0mzip\u001b[0m\u001b[0;34m(\u001b[0m\u001b[0mcircuits\u001b[0m\u001b[0;34m,\u001b[0m \u001b[0mtranspile_args\u001b[0m\u001b[0;34m)\u001b[0m\u001b[0;34m)\u001b[0m\u001b[0;34m)\u001b[0m\u001b[0;34m\u001b[0m\u001b[0;34m\u001b[0m\u001b[0m\n\u001b[0m\u001b[1;32m    336\u001b[0m \u001b[0;34m\u001b[0m\u001b[0m\n\u001b[1;32m    337\u001b[0m     \u001b[0mend_time\u001b[0m \u001b[0;34m=\u001b[0m \u001b[0mtime\u001b[0m\u001b[0;34m(\u001b[0m\u001b[0;34m)\u001b[0m\u001b[0;34m\u001b[0m\u001b[0;34m\u001b[0m\u001b[0m\n",
      "\u001b[0;32m~/.conda/envs/ML4Quantum/lib/python3.8/site-packages/qiskit/tools/parallel.py\u001b[0m in \u001b[0;36mparallel_map\u001b[0;34m(task, values, task_args, task_kwargs, num_processes)\u001b[0m\n\u001b[1;32m    130\u001b[0m         \u001b[0;32mreturn\u001b[0m \u001b[0;34m[\u001b[0m\u001b[0;34m]\u001b[0m\u001b[0;34m\u001b[0m\u001b[0;34m\u001b[0m\u001b[0m\n\u001b[1;32m    131\u001b[0m     \u001b[0;32mif\u001b[0m \u001b[0mlen\u001b[0m\u001b[0;34m(\u001b[0m\u001b[0mvalues\u001b[0m\u001b[0;34m)\u001b[0m \u001b[0;34m==\u001b[0m \u001b[0;36m1\u001b[0m\u001b[0;34m:\u001b[0m\u001b[0;34m\u001b[0m\u001b[0;34m\u001b[0m\u001b[0m\n\u001b[0;32m--> 132\u001b[0;31m         \u001b[0;32mreturn\u001b[0m \u001b[0;34m[\u001b[0m\u001b[0mtask\u001b[0m\u001b[0;34m(\u001b[0m\u001b[0mvalues\u001b[0m\u001b[0;34m[\u001b[0m\u001b[0;36m0\u001b[0m\u001b[0;34m]\u001b[0m\u001b[0;34m,\u001b[0m \u001b[0;34m*\u001b[0m\u001b[0mtask_args\u001b[0m\u001b[0;34m,\u001b[0m \u001b[0;34m**\u001b[0m\u001b[0mtask_kwargs\u001b[0m\u001b[0;34m)\u001b[0m\u001b[0;34m]\u001b[0m\u001b[0;34m\u001b[0m\u001b[0;34m\u001b[0m\u001b[0m\n\u001b[0m\u001b[1;32m    133\u001b[0m \u001b[0;34m\u001b[0m\u001b[0m\n\u001b[1;32m    134\u001b[0m     \u001b[0mPublisher\u001b[0m\u001b[0;34m(\u001b[0m\u001b[0;34m)\u001b[0m\u001b[0;34m.\u001b[0m\u001b[0mpublish\u001b[0m\u001b[0;34m(\u001b[0m\u001b[0;34m\"terra.parallel.start\"\u001b[0m\u001b[0;34m,\u001b[0m \u001b[0mlen\u001b[0m\u001b[0;34m(\u001b[0m\u001b[0mvalues\u001b[0m\u001b[0;34m)\u001b[0m\u001b[0;34m)\u001b[0m\u001b[0;34m\u001b[0m\u001b[0;34m\u001b[0m\u001b[0m\n",
      "\u001b[0;32m~/.conda/envs/ML4Quantum/lib/python3.8/site-packages/qiskit/compiler/transpiler.py\u001b[0m in \u001b[0;36m_transpile_circuit\u001b[0;34m(circuit_config_tuple)\u001b[0m\n\u001b[1;32m    427\u001b[0m         \u001b[0;32mraise\u001b[0m \u001b[0mTranspilerError\u001b[0m\u001b[0;34m(\u001b[0m\u001b[0;34m\"optimization_level can range from 0 to 3.\"\u001b[0m\u001b[0;34m)\u001b[0m\u001b[0;34m\u001b[0m\u001b[0;34m\u001b[0m\u001b[0m\n\u001b[1;32m    428\u001b[0m \u001b[0;34m\u001b[0m\u001b[0m\n\u001b[0;32m--> 429\u001b[0;31m     result = pass_manager.run(\n\u001b[0m\u001b[1;32m    430\u001b[0m         \u001b[0mcircuit\u001b[0m\u001b[0;34m,\u001b[0m \u001b[0mcallback\u001b[0m\u001b[0;34m=\u001b[0m\u001b[0mtranspile_config\u001b[0m\u001b[0;34m[\u001b[0m\u001b[0;34m\"callback\"\u001b[0m\u001b[0;34m]\u001b[0m\u001b[0;34m,\u001b[0m \u001b[0moutput_name\u001b[0m\u001b[0;34m=\u001b[0m\u001b[0mtranspile_config\u001b[0m\u001b[0;34m[\u001b[0m\u001b[0;34m\"output_name\"\u001b[0m\u001b[0;34m]\u001b[0m\u001b[0;34m\u001b[0m\u001b[0;34m\u001b[0m\u001b[0m\n\u001b[1;32m    431\u001b[0m     )\n",
      "\u001b[0;32m~/.conda/envs/ML4Quantum/lib/python3.8/site-packages/qiskit/transpiler/passmanager.py\u001b[0m in \u001b[0;36mrun\u001b[0;34m(self, circuits, output_name, callback)\u001b[0m\n\u001b[1;32m    216\u001b[0m             \u001b[0;32mreturn\u001b[0m \u001b[0mcircuits\u001b[0m\u001b[0;34m\u001b[0m\u001b[0;34m\u001b[0m\u001b[0m\n\u001b[1;32m    217\u001b[0m         \u001b[0;32mif\u001b[0m \u001b[0misinstance\u001b[0m\u001b[0;34m(\u001b[0m\u001b[0mcircuits\u001b[0m\u001b[0;34m,\u001b[0m \u001b[0mQuantumCircuit\u001b[0m\u001b[0;34m)\u001b[0m\u001b[0;34m:\u001b[0m\u001b[0;34m\u001b[0m\u001b[0;34m\u001b[0m\u001b[0m\n\u001b[0;32m--> 218\u001b[0;31m             \u001b[0;32mreturn\u001b[0m \u001b[0mself\u001b[0m\u001b[0;34m.\u001b[0m\u001b[0m_run_single_circuit\u001b[0m\u001b[0;34m(\u001b[0m\u001b[0mcircuits\u001b[0m\u001b[0;34m,\u001b[0m \u001b[0moutput_name\u001b[0m\u001b[0;34m,\u001b[0m \u001b[0mcallback\u001b[0m\u001b[0;34m)\u001b[0m\u001b[0;34m\u001b[0m\u001b[0;34m\u001b[0m\u001b[0m\n\u001b[0m\u001b[1;32m    219\u001b[0m         \u001b[0;32mif\u001b[0m \u001b[0mlen\u001b[0m\u001b[0;34m(\u001b[0m\u001b[0mcircuits\u001b[0m\u001b[0;34m)\u001b[0m \u001b[0;34m==\u001b[0m \u001b[0;36m1\u001b[0m\u001b[0;34m:\u001b[0m\u001b[0;34m\u001b[0m\u001b[0;34m\u001b[0m\u001b[0m\n\u001b[1;32m    220\u001b[0m             \u001b[0;32mreturn\u001b[0m \u001b[0mself\u001b[0m\u001b[0;34m.\u001b[0m\u001b[0m_run_single_circuit\u001b[0m\u001b[0;34m(\u001b[0m\u001b[0mcircuits\u001b[0m\u001b[0;34m[\u001b[0m\u001b[0;36m0\u001b[0m\u001b[0;34m]\u001b[0m\u001b[0;34m,\u001b[0m \u001b[0moutput_name\u001b[0m\u001b[0;34m,\u001b[0m \u001b[0mcallback\u001b[0m\u001b[0;34m)\u001b[0m\u001b[0;34m\u001b[0m\u001b[0;34m\u001b[0m\u001b[0m\n",
      "\u001b[0;32m~/.conda/envs/ML4Quantum/lib/python3.8/site-packages/qiskit/transpiler/passmanager.py\u001b[0m in \u001b[0;36m_run_single_circuit\u001b[0;34m(self, circuit, output_name, callback)\u001b[0m\n\u001b[1;32m    271\u001b[0m         \"\"\"\n\u001b[1;32m    272\u001b[0m         \u001b[0mrunning_passmanager\u001b[0m \u001b[0;34m=\u001b[0m \u001b[0mself\u001b[0m\u001b[0;34m.\u001b[0m\u001b[0m_create_running_passmanager\u001b[0m\u001b[0;34m(\u001b[0m\u001b[0;34m)\u001b[0m\u001b[0;34m\u001b[0m\u001b[0;34m\u001b[0m\u001b[0m\n\u001b[0;32m--> 273\u001b[0;31m         \u001b[0mresult\u001b[0m \u001b[0;34m=\u001b[0m \u001b[0mrunning_passmanager\u001b[0m\u001b[0;34m.\u001b[0m\u001b[0mrun\u001b[0m\u001b[0;34m(\u001b[0m\u001b[0mcircuit\u001b[0m\u001b[0;34m,\u001b[0m \u001b[0moutput_name\u001b[0m\u001b[0;34m=\u001b[0m\u001b[0moutput_name\u001b[0m\u001b[0;34m,\u001b[0m \u001b[0mcallback\u001b[0m\u001b[0;34m=\u001b[0m\u001b[0mcallback\u001b[0m\u001b[0;34m)\u001b[0m\u001b[0;34m\u001b[0m\u001b[0;34m\u001b[0m\u001b[0m\n\u001b[0m\u001b[1;32m    274\u001b[0m         \u001b[0mself\u001b[0m\u001b[0;34m.\u001b[0m\u001b[0mproperty_set\u001b[0m \u001b[0;34m=\u001b[0m \u001b[0mrunning_passmanager\u001b[0m\u001b[0;34m.\u001b[0m\u001b[0mproperty_set\u001b[0m\u001b[0;34m\u001b[0m\u001b[0;34m\u001b[0m\u001b[0m\n\u001b[1;32m    275\u001b[0m         \u001b[0;32mreturn\u001b[0m \u001b[0mresult\u001b[0m\u001b[0;34m\u001b[0m\u001b[0;34m\u001b[0m\u001b[0m\n",
      "\u001b[0;32m~/.conda/envs/ML4Quantum/lib/python3.8/site-packages/qiskit/transpiler/runningpassmanager.py\u001b[0m in \u001b[0;36mrun\u001b[0;34m(***failed resolving arguments***)\u001b[0m\n\u001b[1;32m    121\u001b[0m         \u001b[0;32mfor\u001b[0m \u001b[0mpassset\u001b[0m \u001b[0;32min\u001b[0m \u001b[0mself\u001b[0m\u001b[0;34m.\u001b[0m\u001b[0mworking_list\u001b[0m\u001b[0;34m:\u001b[0m\u001b[0;34m\u001b[0m\u001b[0;34m\u001b[0m\u001b[0m\n\u001b[1;32m    122\u001b[0m             \u001b[0;32mfor\u001b[0m \u001b[0mpass_\u001b[0m \u001b[0;32min\u001b[0m \u001b[0mpassset\u001b[0m\u001b[0;34m:\u001b[0m\u001b[0;34m\u001b[0m\u001b[0;34m\u001b[0m\u001b[0m\n\u001b[0;32m--> 123\u001b[0;31m                 \u001b[0mdag\u001b[0m \u001b[0;34m=\u001b[0m \u001b[0mself\u001b[0m\u001b[0;34m.\u001b[0m\u001b[0m_do_pass\u001b[0m\u001b[0;34m(\u001b[0m\u001b[0mpass_\u001b[0m\u001b[0;34m,\u001b[0m \u001b[0mdag\u001b[0m\u001b[0;34m,\u001b[0m \u001b[0mpassset\u001b[0m\u001b[0;34m.\u001b[0m\u001b[0moptions\u001b[0m\u001b[0;34m)\u001b[0m\u001b[0;34m\u001b[0m\u001b[0;34m\u001b[0m\u001b[0m\n\u001b[0m\u001b[1;32m    124\u001b[0m \u001b[0;34m\u001b[0m\u001b[0m\n\u001b[1;32m    125\u001b[0m         \u001b[0mcircuit\u001b[0m \u001b[0;34m=\u001b[0m \u001b[0mdag_to_circuit\u001b[0m\u001b[0;34m(\u001b[0m\u001b[0mdag\u001b[0m\u001b[0;34m)\u001b[0m\u001b[0;34m\u001b[0m\u001b[0;34m\u001b[0m\u001b[0m\n",
      "\u001b[0;32m~/.conda/envs/ML4Quantum/lib/python3.8/site-packages/qiskit/transpiler/runningpassmanager.py\u001b[0m in \u001b[0;36m_do_pass\u001b[0;34m(self, pass_, dag, options)\u001b[0m\n\u001b[1;32m    148\u001b[0m         \u001b[0;31m# First, do the requires of pass_\u001b[0m\u001b[0;34m\u001b[0m\u001b[0;34m\u001b[0m\u001b[0;34m\u001b[0m\u001b[0m\n\u001b[1;32m    149\u001b[0m         \u001b[0;32mfor\u001b[0m \u001b[0mrequired_pass\u001b[0m \u001b[0;32min\u001b[0m \u001b[0mpass_\u001b[0m\u001b[0;34m.\u001b[0m\u001b[0mrequires\u001b[0m\u001b[0;34m:\u001b[0m\u001b[0;34m\u001b[0m\u001b[0;34m\u001b[0m\u001b[0m\n\u001b[0;32m--> 150\u001b[0;31m             \u001b[0mdag\u001b[0m \u001b[0;34m=\u001b[0m \u001b[0mself\u001b[0m\u001b[0;34m.\u001b[0m\u001b[0m_do_pass\u001b[0m\u001b[0;34m(\u001b[0m\u001b[0mrequired_pass\u001b[0m\u001b[0;34m,\u001b[0m \u001b[0mdag\u001b[0m\u001b[0;34m,\u001b[0m \u001b[0moptions\u001b[0m\u001b[0;34m)\u001b[0m\u001b[0;34m\u001b[0m\u001b[0;34m\u001b[0m\u001b[0m\n\u001b[0m\u001b[1;32m    151\u001b[0m \u001b[0;34m\u001b[0m\u001b[0m\n\u001b[1;32m    152\u001b[0m         \u001b[0;31m# Run the pass itself, if not already run\u001b[0m\u001b[0;34m\u001b[0m\u001b[0;34m\u001b[0m\u001b[0;34m\u001b[0m\u001b[0m\n",
      "\u001b[0;32m~/.conda/envs/ML4Quantum/lib/python3.8/site-packages/qiskit/transpiler/runningpassmanager.py\u001b[0m in \u001b[0;36m_do_pass\u001b[0;34m(self, pass_, dag, options)\u001b[0m\n\u001b[1;32m    152\u001b[0m         \u001b[0;31m# Run the pass itself, if not already run\u001b[0m\u001b[0;34m\u001b[0m\u001b[0;34m\u001b[0m\u001b[0;34m\u001b[0m\u001b[0m\n\u001b[1;32m    153\u001b[0m         \u001b[0;32mif\u001b[0m \u001b[0mpass_\u001b[0m \u001b[0;32mnot\u001b[0m \u001b[0;32min\u001b[0m \u001b[0mself\u001b[0m\u001b[0;34m.\u001b[0m\u001b[0mvalid_passes\u001b[0m\u001b[0;34m:\u001b[0m\u001b[0;34m\u001b[0m\u001b[0;34m\u001b[0m\u001b[0m\n\u001b[0;32m--> 154\u001b[0;31m             \u001b[0mdag\u001b[0m \u001b[0;34m=\u001b[0m \u001b[0mself\u001b[0m\u001b[0;34m.\u001b[0m\u001b[0m_run_this_pass\u001b[0m\u001b[0;34m(\u001b[0m\u001b[0mpass_\u001b[0m\u001b[0;34m,\u001b[0m \u001b[0mdag\u001b[0m\u001b[0;34m)\u001b[0m\u001b[0;34m\u001b[0m\u001b[0;34m\u001b[0m\u001b[0m\n\u001b[0m\u001b[1;32m    155\u001b[0m \u001b[0;34m\u001b[0m\u001b[0m\n\u001b[1;32m    156\u001b[0m             \u001b[0;31m# update the valid_passes property\u001b[0m\u001b[0;34m\u001b[0m\u001b[0;34m\u001b[0m\u001b[0;34m\u001b[0m\u001b[0m\n",
      "\u001b[0;32m~/.conda/envs/ML4Quantum/lib/python3.8/site-packages/qiskit/transpiler/runningpassmanager.py\u001b[0m in \u001b[0;36m_run_this_pass\u001b[0;34m(self, pass_, dag)\u001b[0m\n\u001b[1;32m    189\u001b[0m             \u001b[0;31m# Measure time if we have a callback or logging set\u001b[0m\u001b[0;34m\u001b[0m\u001b[0;34m\u001b[0m\u001b[0;34m\u001b[0m\u001b[0m\n\u001b[1;32m    190\u001b[0m             \u001b[0mstart_time\u001b[0m \u001b[0;34m=\u001b[0m \u001b[0mtime\u001b[0m\u001b[0;34m(\u001b[0m\u001b[0;34m)\u001b[0m\u001b[0;34m\u001b[0m\u001b[0;34m\u001b[0m\u001b[0m\n\u001b[0;32m--> 191\u001b[0;31m             \u001b[0mpass_\u001b[0m\u001b[0;34m.\u001b[0m\u001b[0mrun\u001b[0m\u001b[0;34m(\u001b[0m\u001b[0mFencedDAGCircuit\u001b[0m\u001b[0;34m(\u001b[0m\u001b[0mdag\u001b[0m\u001b[0;34m)\u001b[0m\u001b[0;34m)\u001b[0m\u001b[0;34m\u001b[0m\u001b[0;34m\u001b[0m\u001b[0m\n\u001b[0m\u001b[1;32m    192\u001b[0m             \u001b[0mend_time\u001b[0m \u001b[0;34m=\u001b[0m \u001b[0mtime\u001b[0m\u001b[0;34m(\u001b[0m\u001b[0;34m)\u001b[0m\u001b[0;34m\u001b[0m\u001b[0;34m\u001b[0m\u001b[0m\n\u001b[1;32m    193\u001b[0m             \u001b[0mrun_time\u001b[0m \u001b[0;34m=\u001b[0m \u001b[0mend_time\u001b[0m \u001b[0;34m-\u001b[0m \u001b[0mstart_time\u001b[0m\u001b[0;34m\u001b[0m\u001b[0;34m\u001b[0m\u001b[0m\n",
      "\u001b[0;32m~/.conda/envs/ML4Quantum/lib/python3.8/site-packages/qiskit/transpiler/passes/optimization/commutation_analysis.py\u001b[0m in \u001b[0;36mrun\u001b[0;34m(self, dag)\u001b[0m\n\u001b[1;32m     75\u001b[0m                     \u001b[0mdoes_commute\u001b[0m \u001b[0;34m=\u001b[0m \u001b[0;32mFalse\u001b[0m\u001b[0;34m\u001b[0m\u001b[0;34m\u001b[0m\u001b[0m\n\u001b[1;32m     76\u001b[0m                     \u001b[0;32mtry\u001b[0m\u001b[0;34m:\u001b[0m\u001b[0;34m\u001b[0m\u001b[0;34m\u001b[0m\u001b[0m\n\u001b[0;32m---> 77\u001b[0;31m                         \u001b[0mdoes_commute\u001b[0m \u001b[0;34m=\u001b[0m \u001b[0m_commute\u001b[0m\u001b[0;34m(\u001b[0m\u001b[0mcurrent_gate\u001b[0m\u001b[0;34m,\u001b[0m \u001b[0mprev_gate\u001b[0m\u001b[0;34m,\u001b[0m \u001b[0mself\u001b[0m\u001b[0;34m.\u001b[0m\u001b[0mcache\u001b[0m\u001b[0;34m)\u001b[0m\u001b[0;34m\u001b[0m\u001b[0;34m\u001b[0m\u001b[0m\n\u001b[0m\u001b[1;32m     78\u001b[0m                     \u001b[0;32mexcept\u001b[0m \u001b[0mTranspilerError\u001b[0m\u001b[0;34m:\u001b[0m\u001b[0;34m\u001b[0m\u001b[0;34m\u001b[0m\u001b[0m\n\u001b[1;32m     79\u001b[0m                         \u001b[0;32mpass\u001b[0m\u001b[0;34m\u001b[0m\u001b[0;34m\u001b[0m\u001b[0m\n",
      "\u001b[0;32m~/.conda/envs/ML4Quantum/lib/python3.8/site-packages/qiskit/transpiler/passes/optimization/commutation_analysis.py\u001b[0m in \u001b[0;36m_commute\u001b[0;34m(node1, node2, cache)\u001b[0m\n\u001b[1;32m    147\u001b[0m         \u001b[0;32mpass\u001b[0m\u001b[0;34m\u001b[0m\u001b[0;34m\u001b[0m\u001b[0m\n\u001b[1;32m    148\u001b[0m \u001b[0;34m\u001b[0m\u001b[0m\n\u001b[0;32m--> 149\u001b[0;31m     \u001b[0moperator_1\u001b[0m \u001b[0;34m=\u001b[0m \u001b[0mOperator\u001b[0m\u001b[0;34m(\u001b[0m\u001b[0mnode1\u001b[0m\u001b[0;34m.\u001b[0m\u001b[0mop\u001b[0m\u001b[0;34m,\u001b[0m \u001b[0minput_dims\u001b[0m\u001b[0;34m=\u001b[0m\u001b[0;34m(\u001b[0m\u001b[0;36m2\u001b[0m\u001b[0;34m,\u001b[0m\u001b[0;34m)\u001b[0m \u001b[0;34m*\u001b[0m \u001b[0mlen\u001b[0m\u001b[0;34m(\u001b[0m\u001b[0mqarg1\u001b[0m\u001b[0;34m)\u001b[0m\u001b[0;34m,\u001b[0m \u001b[0moutput_dims\u001b[0m\u001b[0;34m=\u001b[0m\u001b[0;34m(\u001b[0m\u001b[0;36m2\u001b[0m\u001b[0;34m,\u001b[0m\u001b[0;34m)\u001b[0m \u001b[0;34m*\u001b[0m \u001b[0mlen\u001b[0m\u001b[0;34m(\u001b[0m\u001b[0mqarg1\u001b[0m\u001b[0;34m)\u001b[0m\u001b[0;34m)\u001b[0m\u001b[0;34m\u001b[0m\u001b[0;34m\u001b[0m\u001b[0m\n\u001b[0m\u001b[1;32m    150\u001b[0m     \u001b[0moperator_2\u001b[0m \u001b[0;34m=\u001b[0m \u001b[0mOperator\u001b[0m\u001b[0;34m(\u001b[0m\u001b[0mnode2\u001b[0m\u001b[0;34m.\u001b[0m\u001b[0mop\u001b[0m\u001b[0;34m,\u001b[0m \u001b[0minput_dims\u001b[0m\u001b[0;34m=\u001b[0m\u001b[0;34m(\u001b[0m\u001b[0;36m2\u001b[0m\u001b[0;34m,\u001b[0m\u001b[0;34m)\u001b[0m \u001b[0;34m*\u001b[0m \u001b[0mlen\u001b[0m\u001b[0;34m(\u001b[0m\u001b[0mqarg2\u001b[0m\u001b[0;34m)\u001b[0m\u001b[0;34m,\u001b[0m \u001b[0moutput_dims\u001b[0m\u001b[0;34m=\u001b[0m\u001b[0;34m(\u001b[0m\u001b[0;36m2\u001b[0m\u001b[0;34m,\u001b[0m\u001b[0;34m)\u001b[0m \u001b[0;34m*\u001b[0m \u001b[0mlen\u001b[0m\u001b[0;34m(\u001b[0m\u001b[0mqarg2\u001b[0m\u001b[0;34m)\u001b[0m\u001b[0;34m)\u001b[0m\u001b[0;34m\u001b[0m\u001b[0;34m\u001b[0m\u001b[0m\n\u001b[1;32m    151\u001b[0m \u001b[0;34m\u001b[0m\u001b[0m\n",
      "\u001b[0;32m~/.conda/envs/ML4Quantum/lib/python3.8/site-packages/qiskit/quantum_info/operators/operator.py\u001b[0m in \u001b[0;36m__init__\u001b[0;34m(self, data, input_dims, output_dims)\u001b[0m\n\u001b[1;32m     84\u001b[0m             \u001b[0;31m# conditional gates, measure, or reset will cause an\u001b[0m\u001b[0;34m\u001b[0m\u001b[0;34m\u001b[0m\u001b[0;34m\u001b[0m\u001b[0m\n\u001b[1;32m     85\u001b[0m             \u001b[0;31m# exception to be raised.\u001b[0m\u001b[0;34m\u001b[0m\u001b[0;34m\u001b[0m\u001b[0;34m\u001b[0m\u001b[0m\n\u001b[0;32m---> 86\u001b[0;31m             \u001b[0mself\u001b[0m\u001b[0;34m.\u001b[0m\u001b[0m_data\u001b[0m \u001b[0;34m=\u001b[0m \u001b[0mself\u001b[0m\u001b[0;34m.\u001b[0m\u001b[0m_init_instruction\u001b[0m\u001b[0;34m(\u001b[0m\u001b[0mdata\u001b[0m\u001b[0;34m)\u001b[0m\u001b[0;34m.\u001b[0m\u001b[0mdata\u001b[0m\u001b[0;34m\u001b[0m\u001b[0;34m\u001b[0m\u001b[0m\n\u001b[0m\u001b[1;32m     87\u001b[0m         \u001b[0;32melif\u001b[0m \u001b[0mhasattr\u001b[0m\u001b[0;34m(\u001b[0m\u001b[0mdata\u001b[0m\u001b[0;34m,\u001b[0m \u001b[0;34m\"to_operator\"\u001b[0m\u001b[0;34m)\u001b[0m\u001b[0;34m:\u001b[0m\u001b[0;34m\u001b[0m\u001b[0;34m\u001b[0m\u001b[0m\n\u001b[1;32m     88\u001b[0m             \u001b[0;31m# If the data object has a 'to_operator' attribute this is given\u001b[0m\u001b[0;34m\u001b[0m\u001b[0;34m\u001b[0m\u001b[0;34m\u001b[0m\u001b[0m\n",
      "\u001b[0;32m~/.conda/envs/ML4Quantum/lib/python3.8/site-packages/qiskit/quantum_info/operators/operator.py\u001b[0m in \u001b[0;36m_init_instruction\u001b[0;34m(cls, instruction)\u001b[0m\n\u001b[1;32m    463\u001b[0m         \u001b[0;32mif\u001b[0m \u001b[0misinstance\u001b[0m\u001b[0;34m(\u001b[0m\u001b[0minstruction\u001b[0m\u001b[0;34m,\u001b[0m \u001b[0mQuantumCircuit\u001b[0m\u001b[0;34m)\u001b[0m\u001b[0;34m:\u001b[0m\u001b[0;34m\u001b[0m\u001b[0;34m\u001b[0m\u001b[0m\n\u001b[1;32m    464\u001b[0m             \u001b[0minstruction\u001b[0m \u001b[0;34m=\u001b[0m \u001b[0minstruction\u001b[0m\u001b[0;34m.\u001b[0m\u001b[0mto_instruction\u001b[0m\u001b[0;34m(\u001b[0m\u001b[0;34m)\u001b[0m\u001b[0;34m\u001b[0m\u001b[0;34m\u001b[0m\u001b[0m\n\u001b[0;32m--> 465\u001b[0;31m         \u001b[0mop\u001b[0m\u001b[0;34m.\u001b[0m\u001b[0m_append_instruction\u001b[0m\u001b[0;34m(\u001b[0m\u001b[0minstruction\u001b[0m\u001b[0;34m)\u001b[0m\u001b[0;34m\u001b[0m\u001b[0;34m\u001b[0m\u001b[0m\n\u001b[0m\u001b[1;32m    466\u001b[0m         \u001b[0;32mreturn\u001b[0m \u001b[0mop\u001b[0m\u001b[0;34m\u001b[0m\u001b[0;34m\u001b[0m\u001b[0m\n\u001b[1;32m    467\u001b[0m \u001b[0;34m\u001b[0m\u001b[0m\n",
      "\u001b[0;32m~/.conda/envs/ML4Quantum/lib/python3.8/site-packages/qiskit/quantum_info/operators/operator.py\u001b[0m in \u001b[0;36m_append_instruction\u001b[0;34m(self, obj, qargs)\u001b[0m\n\u001b[1;32m    531\u001b[0m                 \u001b[0;32melse\u001b[0m\u001b[0;34m:\u001b[0m\u001b[0;34m\u001b[0m\u001b[0;34m\u001b[0m\u001b[0m\n\u001b[1;32m    532\u001b[0m                     \u001b[0mnew_qargs\u001b[0m \u001b[0;34m=\u001b[0m \u001b[0;34m[\u001b[0m\u001b[0mqargs\u001b[0m\u001b[0;34m[\u001b[0m\u001b[0mbit_indices\u001b[0m\u001b[0;34m[\u001b[0m\u001b[0mtup\u001b[0m\u001b[0;34m]\u001b[0m\u001b[0;34m]\u001b[0m \u001b[0;32mfor\u001b[0m \u001b[0mtup\u001b[0m \u001b[0;32min\u001b[0m \u001b[0mqregs\u001b[0m\u001b[0;34m]\u001b[0m\u001b[0;34m\u001b[0m\u001b[0;34m\u001b[0m\u001b[0m\n\u001b[0;32m--> 533\u001b[0;31m                 \u001b[0mself\u001b[0m\u001b[0;34m.\u001b[0m\u001b[0m_append_instruction\u001b[0m\u001b[0;34m(\u001b[0m\u001b[0minstr\u001b[0m\u001b[0;34m,\u001b[0m \u001b[0mqargs\u001b[0m\u001b[0;34m=\u001b[0m\u001b[0mnew_qargs\u001b[0m\u001b[0;34m)\u001b[0m\u001b[0;34m\u001b[0m\u001b[0;34m\u001b[0m\u001b[0m\n\u001b[0m\u001b[1;32m    534\u001b[0m \u001b[0;34m\u001b[0m\u001b[0m\n\u001b[1;32m    535\u001b[0m \u001b[0;34m\u001b[0m\u001b[0m\n",
      "\u001b[0;32m~/.conda/envs/ML4Quantum/lib/python3.8/site-packages/qiskit/quantum_info/operators/operator.py\u001b[0m in \u001b[0;36m_append_instruction\u001b[0;34m(self, obj, qargs)\u001b[0m\n\u001b[1;32m    486\u001b[0m         \u001b[0;32mfrom\u001b[0m \u001b[0;34m.\u001b[0m\u001b[0mscalar_op\u001b[0m \u001b[0;32mimport\u001b[0m \u001b[0mScalarOp\u001b[0m\u001b[0;34m\u001b[0m\u001b[0;34m\u001b[0m\u001b[0m\n\u001b[1;32m    487\u001b[0m \u001b[0;34m\u001b[0m\u001b[0m\n\u001b[0;32m--> 488\u001b[0;31m         \u001b[0mmat\u001b[0m \u001b[0;34m=\u001b[0m \u001b[0mself\u001b[0m\u001b[0;34m.\u001b[0m\u001b[0m_instruction_to_matrix\u001b[0m\u001b[0;34m(\u001b[0m\u001b[0mobj\u001b[0m\u001b[0;34m)\u001b[0m\u001b[0;34m\u001b[0m\u001b[0;34m\u001b[0m\u001b[0m\n\u001b[0m\u001b[1;32m    489\u001b[0m         \u001b[0;32mif\u001b[0m \u001b[0mmat\u001b[0m \u001b[0;32mis\u001b[0m \u001b[0;32mnot\u001b[0m \u001b[0;32mNone\u001b[0m\u001b[0;34m:\u001b[0m\u001b[0;34m\u001b[0m\u001b[0;34m\u001b[0m\u001b[0m\n\u001b[1;32m    490\u001b[0m             \u001b[0;31m# Perform the composition and inplace update the current state\u001b[0m\u001b[0;34m\u001b[0m\u001b[0;34m\u001b[0m\u001b[0;34m\u001b[0m\u001b[0m\n",
      "\u001b[0;32m~/.conda/envs/ML4Quantum/lib/python3.8/site-packages/qiskit/quantum_info/operators/operator.py\u001b[0m in \u001b[0;36m_instruction_to_matrix\u001b[0;34m(cls, obj)\u001b[0m\n\u001b[1;32m    476\u001b[0m             \u001b[0;31m# `to_matrix` definition and if so use that.\u001b[0m\u001b[0;34m\u001b[0m\u001b[0;34m\u001b[0m\u001b[0;34m\u001b[0m\u001b[0m\n\u001b[1;32m    477\u001b[0m             \u001b[0;32mtry\u001b[0m\u001b[0;34m:\u001b[0m\u001b[0;34m\u001b[0m\u001b[0;34m\u001b[0m\u001b[0m\n\u001b[0;32m--> 478\u001b[0;31m                 \u001b[0mmat\u001b[0m \u001b[0;34m=\u001b[0m \u001b[0mobj\u001b[0m\u001b[0;34m.\u001b[0m\u001b[0mto_matrix\u001b[0m\u001b[0;34m(\u001b[0m\u001b[0;34m)\u001b[0m\u001b[0;34m\u001b[0m\u001b[0;34m\u001b[0m\u001b[0m\n\u001b[0m\u001b[1;32m    479\u001b[0m             \u001b[0;32mexcept\u001b[0m \u001b[0mQiskitError\u001b[0m\u001b[0;34m:\u001b[0m\u001b[0;34m\u001b[0m\u001b[0;34m\u001b[0m\u001b[0m\n\u001b[1;32m    480\u001b[0m                 \u001b[0;32mpass\u001b[0m\u001b[0;34m\u001b[0m\u001b[0;34m\u001b[0m\u001b[0m\n",
      "\u001b[0;32m~/.conda/envs/ML4Quantum/lib/python3.8/site-packages/qiskit/circuit/gate.py\u001b[0m in \u001b[0;36mto_matrix\u001b[0;34m(self)\u001b[0m\n\u001b[1;32m     55\u001b[0m         \u001b[0;32mif\u001b[0m \u001b[0mhasattr\u001b[0m\u001b[0;34m(\u001b[0m\u001b[0mself\u001b[0m\u001b[0;34m,\u001b[0m \u001b[0;34m\"__array__\"\u001b[0m\u001b[0;34m)\u001b[0m\u001b[0;34m:\u001b[0m\u001b[0;34m\u001b[0m\u001b[0;34m\u001b[0m\u001b[0m\n\u001b[1;32m     56\u001b[0m             \u001b[0;31m# pylint: disable=no-member\u001b[0m\u001b[0;34m\u001b[0m\u001b[0;34m\u001b[0m\u001b[0;34m\u001b[0m\u001b[0m\n\u001b[0;32m---> 57\u001b[0;31m             \u001b[0;32mreturn\u001b[0m \u001b[0mself\u001b[0m\u001b[0;34m.\u001b[0m\u001b[0m__array__\u001b[0m\u001b[0;34m(\u001b[0m\u001b[0mdtype\u001b[0m\u001b[0;34m=\u001b[0m\u001b[0mcomplex\u001b[0m\u001b[0;34m)\u001b[0m\u001b[0;34m\u001b[0m\u001b[0;34m\u001b[0m\u001b[0m\n\u001b[0m\u001b[1;32m     58\u001b[0m         \u001b[0;32mraise\u001b[0m \u001b[0mCircuitError\u001b[0m\u001b[0;34m(\u001b[0m\u001b[0;34mf\"to_matrix not defined for this {type(self)}\"\u001b[0m\u001b[0;34m)\u001b[0m\u001b[0;34m\u001b[0m\u001b[0;34m\u001b[0m\u001b[0m\n\u001b[1;32m     59\u001b[0m \u001b[0;34m\u001b[0m\u001b[0m\n",
      "\u001b[0;32m~/.conda/envs/ML4Quantum/lib/python3.8/site-packages/qiskit/circuit/library/standard_gates/u.py\u001b[0m in \u001b[0;36m__array__\u001b[0;34m(self, dtype)\u001b[0m\n\u001b[1;32m    243\u001b[0m     \u001b[0;32mdef\u001b[0m \u001b[0m__array__\u001b[0m\u001b[0;34m(\u001b[0m\u001b[0mself\u001b[0m\u001b[0;34m,\u001b[0m \u001b[0mdtype\u001b[0m\u001b[0;34m=\u001b[0m\u001b[0;32mNone\u001b[0m\u001b[0;34m)\u001b[0m\u001b[0;34m:\u001b[0m\u001b[0;34m\u001b[0m\u001b[0;34m\u001b[0m\u001b[0m\n\u001b[1;32m    244\u001b[0m         \u001b[0;34m\"\"\"Return a numpy.array for the CU gate.\"\"\"\u001b[0m\u001b[0;34m\u001b[0m\u001b[0;34m\u001b[0m\u001b[0m\n\u001b[0;32m--> 245\u001b[0;31m         \u001b[0mtheta\u001b[0m\u001b[0;34m,\u001b[0m \u001b[0mphi\u001b[0m\u001b[0;34m,\u001b[0m \u001b[0mlam\u001b[0m\u001b[0;34m,\u001b[0m \u001b[0mgamma\u001b[0m \u001b[0;34m=\u001b[0m \u001b[0;34m(\u001b[0m\u001b[0mfloat\u001b[0m\u001b[0;34m(\u001b[0m\u001b[0mparam\u001b[0m\u001b[0;34m)\u001b[0m \u001b[0;32mfor\u001b[0m \u001b[0mparam\u001b[0m \u001b[0;32min\u001b[0m \u001b[0mself\u001b[0m\u001b[0;34m.\u001b[0m\u001b[0mparams\u001b[0m\u001b[0;34m)\u001b[0m\u001b[0;34m\u001b[0m\u001b[0;34m\u001b[0m\u001b[0m\n\u001b[0m\u001b[1;32m    246\u001b[0m         \u001b[0mcos\u001b[0m \u001b[0;34m=\u001b[0m \u001b[0mnumpy\u001b[0m\u001b[0;34m.\u001b[0m\u001b[0mcos\u001b[0m\u001b[0;34m(\u001b[0m\u001b[0mtheta\u001b[0m \u001b[0;34m/\u001b[0m \u001b[0;36m2\u001b[0m\u001b[0;34m)\u001b[0m\u001b[0;34m\u001b[0m\u001b[0;34m\u001b[0m\u001b[0m\n\u001b[1;32m    247\u001b[0m         \u001b[0msin\u001b[0m \u001b[0;34m=\u001b[0m \u001b[0mnumpy\u001b[0m\u001b[0;34m.\u001b[0m\u001b[0msin\u001b[0m\u001b[0;34m(\u001b[0m\u001b[0mtheta\u001b[0m \u001b[0;34m/\u001b[0m \u001b[0;36m2\u001b[0m\u001b[0;34m)\u001b[0m\u001b[0;34m\u001b[0m\u001b[0;34m\u001b[0m\u001b[0m\n",
      "\u001b[0;32m~/.conda/envs/ML4Quantum/lib/python3.8/site-packages/qiskit/circuit/library/standard_gates/u.py\u001b[0m in \u001b[0;36m<genexpr>\u001b[0;34m(.0)\u001b[0m\n\u001b[1;32m    243\u001b[0m     \u001b[0;32mdef\u001b[0m \u001b[0m__array__\u001b[0m\u001b[0;34m(\u001b[0m\u001b[0mself\u001b[0m\u001b[0;34m,\u001b[0m \u001b[0mdtype\u001b[0m\u001b[0;34m=\u001b[0m\u001b[0;32mNone\u001b[0m\u001b[0;34m)\u001b[0m\u001b[0;34m:\u001b[0m\u001b[0;34m\u001b[0m\u001b[0;34m\u001b[0m\u001b[0m\n\u001b[1;32m    244\u001b[0m         \u001b[0;34m\"\"\"Return a numpy.array for the CU gate.\"\"\"\u001b[0m\u001b[0;34m\u001b[0m\u001b[0;34m\u001b[0m\u001b[0m\n\u001b[0;32m--> 245\u001b[0;31m         \u001b[0mtheta\u001b[0m\u001b[0;34m,\u001b[0m \u001b[0mphi\u001b[0m\u001b[0;34m,\u001b[0m \u001b[0mlam\u001b[0m\u001b[0;34m,\u001b[0m \u001b[0mgamma\u001b[0m \u001b[0;34m=\u001b[0m \u001b[0;34m(\u001b[0m\u001b[0mfloat\u001b[0m\u001b[0;34m(\u001b[0m\u001b[0mparam\u001b[0m\u001b[0;34m)\u001b[0m \u001b[0;32mfor\u001b[0m \u001b[0mparam\u001b[0m \u001b[0;32min\u001b[0m \u001b[0mself\u001b[0m\u001b[0;34m.\u001b[0m\u001b[0mparams\u001b[0m\u001b[0;34m)\u001b[0m\u001b[0;34m\u001b[0m\u001b[0;34m\u001b[0m\u001b[0m\n\u001b[0m\u001b[1;32m    246\u001b[0m         \u001b[0mcos\u001b[0m \u001b[0;34m=\u001b[0m \u001b[0mnumpy\u001b[0m\u001b[0;34m.\u001b[0m\u001b[0mcos\u001b[0m\u001b[0;34m(\u001b[0m\u001b[0mtheta\u001b[0m \u001b[0;34m/\u001b[0m \u001b[0;36m2\u001b[0m\u001b[0;34m)\u001b[0m\u001b[0;34m\u001b[0m\u001b[0;34m\u001b[0m\u001b[0m\n\u001b[1;32m    247\u001b[0m         \u001b[0msin\u001b[0m \u001b[0;34m=\u001b[0m \u001b[0mnumpy\u001b[0m\u001b[0;34m.\u001b[0m\u001b[0msin\u001b[0m\u001b[0;34m(\u001b[0m\u001b[0mtheta\u001b[0m \u001b[0;34m/\u001b[0m \u001b[0;36m2\u001b[0m\u001b[0;34m)\u001b[0m\u001b[0;34m\u001b[0m\u001b[0;34m\u001b[0m\u001b[0m\n",
      "\u001b[0;32m~/.conda/envs/ML4Quantum/lib/python3.8/site-packages/qiskit/circuit/parameterexpression.py\u001b[0m in \u001b[0;36m__float__\u001b[0;34m(self)\u001b[0m\n\u001b[1;32m    445\u001b[0m         \u001b[0;31m# TypeError is for sympy, RuntimeError for symengine\u001b[0m\u001b[0;34m\u001b[0m\u001b[0;34m\u001b[0m\u001b[0;34m\u001b[0m\u001b[0m\n\u001b[1;32m    446\u001b[0m         \u001b[0;32mexcept\u001b[0m \u001b[0;34m(\u001b[0m\u001b[0mTypeError\u001b[0m\u001b[0;34m,\u001b[0m \u001b[0mRuntimeError\u001b[0m\u001b[0;34m)\u001b[0m \u001b[0;32mas\u001b[0m \u001b[0mexc\u001b[0m\u001b[0;34m:\u001b[0m\u001b[0;34m\u001b[0m\u001b[0;34m\u001b[0m\u001b[0m\n\u001b[0;32m--> 447\u001b[0;31m             raise TypeError(\n\u001b[0m\u001b[1;32m    448\u001b[0m                 \u001b[0;34m\"ParameterExpression with unbound parameters ({}) \"\u001b[0m\u001b[0;34m\u001b[0m\u001b[0;34m\u001b[0m\u001b[0m\n\u001b[1;32m    449\u001b[0m                 \u001b[0;34m\"cannot be cast to a float.\"\u001b[0m\u001b[0;34m.\u001b[0m\u001b[0mformat\u001b[0m\u001b[0;34m(\u001b[0m\u001b[0mself\u001b[0m\u001b[0;34m.\u001b[0m\u001b[0mparameters\u001b[0m\u001b[0;34m)\u001b[0m\u001b[0;34m\u001b[0m\u001b[0;34m\u001b[0m\u001b[0m\n",
      "\u001b[0;31mTypeError\u001b[0m: ParameterExpression with unbound parameters ({Parameter(p_1bf2a8)}) cannot be cast to a float."
     ]
    }
   ],
   "source": [
    "# SECTION\n",
    "# NAME: PROLOGUE\n",
    "\n",
    "import qiskit\n",
    "from qiskit import QuantumCircuit, ClassicalRegister, QuantumRegister\n",
    "from qiskit.circuit.library.standard_gates import *\n",
    "from qiskit.circuit import Parameter\n",
    "# SECTION\n",
    "# NAME: PARAMETERS\n",
    "# SECTION\n",
    "# NAME: PARAMETERS\n",
    "p_1bf2a8 = Parameter('p_1bf2a8')\n",
    "\n",
    "# SECTION\n",
    "# NAME: CIRCUIT\n",
    "qr = QuantumRegister(4, name='qr')\n",
    "cr = ClassicalRegister(4, name='cr')\n",
    "qc = QuantumCircuit(qr, cr, name='qc')\n",
    "subcircuit = QuantumCircuit(qr, cr, name='subcircuit')\n",
    "subcircuit.append(CUGate(p_1bf2a8, 1, 1, 1), qargs=[qr\n",
    "    [3], qr[1]], cargs=[])\n",
    "qc.append(subcircuit, qargs=qr, cargs=cr)\n",
    "qc.append(subcircuit.inverse(), qargs=qr, cargs=cr)\n",
    "# SECTION\n",
    "# NAME: USELESS_ENTITIES\n",
    "\n",
    "qr_191aed = QuantumRegister(2, name='qr_191aed')\n",
    "qc.add_register(qr_191aed)\n",
    "# SECTION\n",
    "# NAME: MEASUREMENT\n",
    "\n",
    "qc.measure(qr, cr)\n",
    "# SECTION\n",
    "# NAME: PARAMETER_BINDING\n",
    "\n",
    "qc = qc.bind_parameters({\n",
    "    p_1bf2a8: 0.05987661442959947\n",
    "})\n",
    "\n",
    "# SECTION\n",
    "# NAME: OPTIMIZATION_LEVEL\n",
    "\n",
    "from qiskit import transpile\n",
    "qc = transpile(qc, basis_gates=None, optimization_level=2, coupling_map=None)\n",
    "# SECTION\n",
    "# NAME: EXECUTION\n",
    "\n",
    "from qiskit import Aer, transpile, execute\n",
    "backend_4c4c3c1fe3374475b3b4750c7c5d8db3 = Aer.get_backend('qasm_simulator')\n",
    "counts = execute(qc, backend=backend_4c4c3c1fe3374475b3b4750c7c5d8db3, shots=692).result().get_counts(qc)\n",
    "RESULT = counts\n"
   ]
  },
  {
   "cell_type": "markdown",
   "id": "6896e036",
   "metadata": {},
   "source": [
    "# Interactive Delta-Debugging"
   ]
  },
  {
   "cell_type": "code",
   "execution_count": 352,
   "id": "b160ce04",
   "metadata": {
    "ExecuteTime": {
     "end_time": "2022-06-22T22:05:19.937772Z",
     "start_time": "2022-06-22T22:05:19.885672Z"
    }
   },
   "outputs": [],
   "source": [
    "get_ipython().set_next_input(follow_file)"
   ]
  },
  {
   "cell_type": "code",
   "execution_count": 355,
   "id": "513c5edd",
   "metadata": {
    "ExecuteTime": {
     "end_time": "2022-06-22T22:06:32.172212Z",
     "start_time": "2022-06-22T22:06:31.969318Z"
    }
   },
   "outputs": [
    {
     "name": "stdout",
     "output_type": "stream",
     "text": [
      "OPENQASM 2.0;\n",
      "include \"qelib1.inc\";\n",
      "gate iswap_dg q0,q1 { h q1; cx q1,q0; cx q0,q1; h q0; sdg q1; sdg q0; }\n",
      "gate csxdg q0,q1 { cp(pi/2) q0,q1; cu(pi/2,0,pi,0) q0,q1; cp(pi/2) q0,q1; p(7*pi/4) q0; }\n",
      "gate iswap q0,q1 { s q0; s q1; h q0; cx q0,q1; cx q1,q0; h q1; }\n",
      "gate dcx q0,q1 { cx q0,q1; cx q1,q0; }\n",
      "gate ryy(param0) q0,q1 { rx(pi/2) q0; rx(pi/2) q1; cx q0,q1; rz(3.96040893894538) q1; cx q0,q1; rx(-pi/2) q0; rx(-pi/2) q1; }\n",
      "gate ryy_139827641626688(param0) q0,q1 { rx(pi/2) q0; rx(pi/2) q1; cx q0,q1; rz(6.03940262890368) q1; cx q0,q1; rx(-pi/2) q0; rx(-pi/2) q1; }\n",
      "gate subcircuit(param0) q0,q1 { iswap q0,q1; swap q1,q0; x q0; csx q1,q0; rzz(4.09025243584742) q1,q0; cu3(2.2389885,0.99341348,6.2045903) q0,q1; swap q0,q1; csx q1,q0; }\n",
      "gate subcircuit_dg(param0) q0,q1 { csxdg q1,q0; swap q0,q1; cu3(-2.2389885,-6.2045903,-0.99341348) q0,q1; rzz(-4.09025243584742) q1,q0; csxdg q1,q0; x q0; swap q1,q0; iswap_dg q0,q1; }\n",
      "qreg qr[2];\n",
      "creg cr[2];\n",
      "dcx qr[1],qr[0];\n",
      "cu(3,1.7790386,p_d98ed5,p_65d0e4) qr[1],qr[0];\n",
      "ryy(3.96040893894538) qr[1],qr[0];\n",
      "ryy_139827641626688(6.03940262890368) qr[0],qr[1];\n",
      "subcircuit(4.09025243584742) qr[0],qr[1],cr[0],cr[1];\n",
      "subcircuit_dg(4.09025243584742) qr[0],qr[1],cr[0],cr[1];\n",
      "cz qr[0],qr[1];\n",
      "z qr[0];\n",
      "z qr[1];\n",
      "cz qr[0],qr[1];\n",
      "dcx qr[1],qr[0];\n",
      "cu(p_8d56b9,2.5638334,p_f03662,p_e28120) qr[0],qr[1];\n",
      "rx(5.71962148132527) qr[1];\n",
      "swap qr[0],qr[1];\n",
      "iswap qr[0],qr[1];\n",
      "iswap qr[0],qr[1];\n",
      "crz(2.14254203001288) qr[0],qr[1];\n",
      "swap qr[1],qr[0];\n",
      "u1(3.25137689225705) qr[0];\n",
      "swap qr[1],qr[0];\n",
      "x qr[1];\n",
      "u(0.31917762940267,0.319354289417717,6.17759931536791) qr[1];\n",
      "csx qr[1],qr[0];\n",
      "measure qr[0] -> cr[0];\n",
      "measure qr[1] -> cr[1];\n",
      "\n"
     ]
    },
    {
     "ename": "QasmError",
     "evalue": "\"Argument 'p_d98ed5' in expression cannot be found, line 14 file \"",
     "output_type": "error",
     "traceback": [
      "\u001b[0;31m---------------------------------------------------------------------------\u001b[0m",
      "\u001b[0;31mQasmError\u001b[0m                                 Traceback (most recent call last)",
      "\u001b[0;32m/tmp/ipykernel_36968/507961140.py\u001b[0m in \u001b[0;36m<module>\u001b[0;34m\u001b[0m\n\u001b[1;32m     73\u001b[0m \u001b[0mmy_qasm\u001b[0m \u001b[0;34m=\u001b[0m \u001b[0mqc\u001b[0m\u001b[0;34m.\u001b[0m\u001b[0mqasm\u001b[0m\u001b[0;34m(\u001b[0m\u001b[0;34m)\u001b[0m\u001b[0;34m\u001b[0m\u001b[0;34m\u001b[0m\u001b[0m\n\u001b[1;32m     74\u001b[0m \u001b[0mprint\u001b[0m\u001b[0;34m(\u001b[0m\u001b[0mmy_qasm\u001b[0m\u001b[0;34m)\u001b[0m\u001b[0;34m\u001b[0m\u001b[0;34m\u001b[0m\u001b[0m\n\u001b[0;32m---> 75\u001b[0;31m \u001b[0mqc\u001b[0m \u001b[0;34m=\u001b[0m \u001b[0mQuantumCircuit\u001b[0m\u001b[0;34m.\u001b[0m\u001b[0mfrom_qasm_str\u001b[0m\u001b[0;34m(\u001b[0m\u001b[0mmy_qasm\u001b[0m\u001b[0;34m)\u001b[0m\u001b[0;34m\u001b[0m\u001b[0;34m\u001b[0m\u001b[0m\n\u001b[0m\u001b[1;32m     76\u001b[0m \u001b[0;31m# SECTION\u001b[0m\u001b[0;34m\u001b[0m\u001b[0;34m\u001b[0m\u001b[0;34m\u001b[0m\u001b[0m\n\u001b[1;32m     77\u001b[0m \u001b[0;31m# NAME: OPTIMIZATION_LEVEL\u001b[0m\u001b[0;34m\u001b[0m\u001b[0;34m\u001b[0m\u001b[0;34m\u001b[0m\u001b[0m\n",
      "\u001b[0;32m~/.conda/envs/ML4Quantum/lib/python3.8/site-packages/qiskit/circuit/quantumcircuit.py\u001b[0m in \u001b[0;36mfrom_qasm_str\u001b[0;34m(qasm_str)\u001b[0m\n\u001b[1;32m   2362\u001b[0m         \"\"\"\n\u001b[1;32m   2363\u001b[0m         \u001b[0mqasm\u001b[0m \u001b[0;34m=\u001b[0m \u001b[0mQasm\u001b[0m\u001b[0;34m(\u001b[0m\u001b[0mdata\u001b[0m\u001b[0;34m=\u001b[0m\u001b[0mqasm_str\u001b[0m\u001b[0;34m)\u001b[0m\u001b[0;34m\u001b[0m\u001b[0;34m\u001b[0m\u001b[0m\n\u001b[0;32m-> 2364\u001b[0;31m         \u001b[0;32mreturn\u001b[0m \u001b[0m_circuit_from_qasm\u001b[0m\u001b[0;34m(\u001b[0m\u001b[0mqasm\u001b[0m\u001b[0;34m)\u001b[0m\u001b[0;34m\u001b[0m\u001b[0;34m\u001b[0m\u001b[0m\n\u001b[0m\u001b[1;32m   2365\u001b[0m \u001b[0;34m\u001b[0m\u001b[0m\n\u001b[1;32m   2366\u001b[0m     \u001b[0;34m@\u001b[0m\u001b[0mproperty\u001b[0m\u001b[0;34m\u001b[0m\u001b[0;34m\u001b[0m\u001b[0m\n",
      "\u001b[0;32m~/.conda/envs/ML4Quantum/lib/python3.8/site-packages/qiskit/circuit/quantumcircuit.py\u001b[0m in \u001b[0;36m_circuit_from_qasm\u001b[0;34m(qasm)\u001b[0m\n\u001b[1;32m   4695\u001b[0m     \u001b[0;32mfrom\u001b[0m \u001b[0mqiskit\u001b[0m\u001b[0;34m.\u001b[0m\u001b[0mconverters\u001b[0m \u001b[0;32mimport\u001b[0m \u001b[0mdag_to_circuit\u001b[0m\u001b[0;34m\u001b[0m\u001b[0;34m\u001b[0m\u001b[0m\n\u001b[1;32m   4696\u001b[0m \u001b[0;34m\u001b[0m\u001b[0m\n\u001b[0;32m-> 4697\u001b[0;31m     \u001b[0mast\u001b[0m \u001b[0;34m=\u001b[0m \u001b[0mqasm\u001b[0m\u001b[0;34m.\u001b[0m\u001b[0mparse\u001b[0m\u001b[0;34m(\u001b[0m\u001b[0;34m)\u001b[0m\u001b[0;34m\u001b[0m\u001b[0;34m\u001b[0m\u001b[0m\n\u001b[0m\u001b[1;32m   4698\u001b[0m     \u001b[0mdag\u001b[0m \u001b[0;34m=\u001b[0m \u001b[0mast_to_dag\u001b[0m\u001b[0;34m(\u001b[0m\u001b[0mast\u001b[0m\u001b[0;34m)\u001b[0m\u001b[0;34m\u001b[0m\u001b[0;34m\u001b[0m\u001b[0m\n\u001b[1;32m   4699\u001b[0m     \u001b[0;32mreturn\u001b[0m \u001b[0mdag_to_circuit\u001b[0m\u001b[0;34m(\u001b[0m\u001b[0mdag\u001b[0m\u001b[0;34m)\u001b[0m\u001b[0;34m\u001b[0m\u001b[0;34m\u001b[0m\u001b[0m\n",
      "\u001b[0;32m~/.conda/envs/ML4Quantum/lib/python3.8/site-packages/qiskit/qasm/qasm.py\u001b[0m in \u001b[0;36mparse\u001b[0;34m(self)\u001b[0m\n\u001b[1;32m     51\u001b[0m         \u001b[0;32mwith\u001b[0m \u001b[0mQasmParser\u001b[0m\u001b[0;34m(\u001b[0m\u001b[0mself\u001b[0m\u001b[0;34m.\u001b[0m\u001b[0m_filename\u001b[0m\u001b[0;34m)\u001b[0m \u001b[0;32mas\u001b[0m \u001b[0mqasm_p\u001b[0m\u001b[0;34m:\u001b[0m\u001b[0;34m\u001b[0m\u001b[0;34m\u001b[0m\u001b[0m\n\u001b[1;32m     52\u001b[0m             \u001b[0mqasm_p\u001b[0m\u001b[0;34m.\u001b[0m\u001b[0mparse_debug\u001b[0m\u001b[0;34m(\u001b[0m\u001b[0;32mFalse\u001b[0m\u001b[0;34m)\u001b[0m\u001b[0;34m\u001b[0m\u001b[0;34m\u001b[0m\u001b[0m\n\u001b[0;32m---> 53\u001b[0;31m             \u001b[0;32mreturn\u001b[0m \u001b[0mqasm_p\u001b[0m\u001b[0;34m.\u001b[0m\u001b[0mparse\u001b[0m\u001b[0;34m(\u001b[0m\u001b[0mself\u001b[0m\u001b[0;34m.\u001b[0m\u001b[0m_data\u001b[0m\u001b[0;34m)\u001b[0m\u001b[0;34m\u001b[0m\u001b[0;34m\u001b[0m\u001b[0m\n\u001b[0m",
      "\u001b[0;32m~/.conda/envs/ML4Quantum/lib/python3.8/site-packages/qiskit/qasm/qasmparser.py\u001b[0m in \u001b[0;36mparse\u001b[0;34m(self, data)\u001b[0m\n\u001b[1;32m   1138\u001b[0m     \u001b[0;32mdef\u001b[0m \u001b[0mparse\u001b[0m\u001b[0;34m(\u001b[0m\u001b[0mself\u001b[0m\u001b[0;34m,\u001b[0m \u001b[0mdata\u001b[0m\u001b[0;34m)\u001b[0m\u001b[0;34m:\u001b[0m\u001b[0;34m\u001b[0m\u001b[0;34m\u001b[0m\u001b[0m\n\u001b[1;32m   1139\u001b[0m         \u001b[0;34m\"\"\"Parse some data.\"\"\"\u001b[0m\u001b[0;34m\u001b[0m\u001b[0;34m\u001b[0m\u001b[0m\n\u001b[0;32m-> 1140\u001b[0;31m         \u001b[0mself\u001b[0m\u001b[0;34m.\u001b[0m\u001b[0mparser\u001b[0m\u001b[0;34m.\u001b[0m\u001b[0mparse\u001b[0m\u001b[0;34m(\u001b[0m\u001b[0mdata\u001b[0m\u001b[0;34m,\u001b[0m \u001b[0mlexer\u001b[0m\u001b[0;34m=\u001b[0m\u001b[0mself\u001b[0m\u001b[0;34m.\u001b[0m\u001b[0mlexer\u001b[0m\u001b[0;34m,\u001b[0m \u001b[0mdebug\u001b[0m\u001b[0;34m=\u001b[0m\u001b[0mself\u001b[0m\u001b[0;34m.\u001b[0m\u001b[0mparse_deb\u001b[0m\u001b[0;34m)\u001b[0m\u001b[0;34m\u001b[0m\u001b[0;34m\u001b[0m\u001b[0m\n\u001b[0m\u001b[1;32m   1141\u001b[0m         \u001b[0;32mif\u001b[0m \u001b[0mself\u001b[0m\u001b[0;34m.\u001b[0m\u001b[0mqasm\u001b[0m \u001b[0;32mis\u001b[0m \u001b[0;32mNone\u001b[0m\u001b[0;34m:\u001b[0m\u001b[0;34m\u001b[0m\u001b[0;34m\u001b[0m\u001b[0m\n\u001b[1;32m   1142\u001b[0m             \u001b[0;32mraise\u001b[0m \u001b[0mQasmError\u001b[0m\u001b[0;34m(\u001b[0m\u001b[0;34m\"Uncaught exception in parser; \"\u001b[0m \u001b[0;34m+\u001b[0m \u001b[0;34m\"see previous messages for details.\"\u001b[0m\u001b[0;34m)\u001b[0m\u001b[0;34m\u001b[0m\u001b[0;34m\u001b[0m\u001b[0m\n",
      "\u001b[0;32m~/.conda/envs/ML4Quantum/lib/python3.8/site-packages/ply/yacc.py\u001b[0m in \u001b[0;36mparse\u001b[0;34m(self, input, lexer, debug, tracking, tokenfunc)\u001b[0m\n\u001b[1;32m    331\u001b[0m             \u001b[0;32mreturn\u001b[0m \u001b[0mself\u001b[0m\u001b[0;34m.\u001b[0m\u001b[0mparseopt\u001b[0m\u001b[0;34m(\u001b[0m\u001b[0minput\u001b[0m\u001b[0;34m,\u001b[0m \u001b[0mlexer\u001b[0m\u001b[0;34m,\u001b[0m \u001b[0mdebug\u001b[0m\u001b[0;34m,\u001b[0m \u001b[0mtracking\u001b[0m\u001b[0;34m,\u001b[0m \u001b[0mtokenfunc\u001b[0m\u001b[0;34m)\u001b[0m\u001b[0;34m\u001b[0m\u001b[0;34m\u001b[0m\u001b[0m\n\u001b[1;32m    332\u001b[0m         \u001b[0;32melse\u001b[0m\u001b[0;34m:\u001b[0m\u001b[0;34m\u001b[0m\u001b[0;34m\u001b[0m\u001b[0m\n\u001b[0;32m--> 333\u001b[0;31m             \u001b[0;32mreturn\u001b[0m \u001b[0mself\u001b[0m\u001b[0;34m.\u001b[0m\u001b[0mparseopt_notrack\u001b[0m\u001b[0;34m(\u001b[0m\u001b[0minput\u001b[0m\u001b[0;34m,\u001b[0m \u001b[0mlexer\u001b[0m\u001b[0;34m,\u001b[0m \u001b[0mdebug\u001b[0m\u001b[0;34m,\u001b[0m \u001b[0mtracking\u001b[0m\u001b[0;34m,\u001b[0m \u001b[0mtokenfunc\u001b[0m\u001b[0;34m)\u001b[0m\u001b[0;34m\u001b[0m\u001b[0;34m\u001b[0m\u001b[0m\n\u001b[0m\u001b[1;32m    334\u001b[0m \u001b[0;34m\u001b[0m\u001b[0m\n\u001b[1;32m    335\u001b[0m \u001b[0;34m\u001b[0m\u001b[0m\n",
      "\u001b[0;32m~/.conda/envs/ML4Quantum/lib/python3.8/site-packages/ply/yacc.py\u001b[0m in \u001b[0;36mparseopt_notrack\u001b[0;34m(self, input, lexer, debug, tracking, tokenfunc)\u001b[0m\n\u001b[1;32m   1118\u001b[0m                             \u001b[0;32mdel\u001b[0m \u001b[0msymstack\u001b[0m\u001b[0;34m[\u001b[0m\u001b[0;34m-\u001b[0m\u001b[0mplen\u001b[0m\u001b[0;34m:\u001b[0m\u001b[0;34m]\u001b[0m\u001b[0;34m\u001b[0m\u001b[0;34m\u001b[0m\u001b[0m\n\u001b[1;32m   1119\u001b[0m                             \u001b[0mself\u001b[0m\u001b[0;34m.\u001b[0m\u001b[0mstate\u001b[0m \u001b[0;34m=\u001b[0m \u001b[0mstate\u001b[0m\u001b[0;34m\u001b[0m\u001b[0;34m\u001b[0m\u001b[0m\n\u001b[0;32m-> 1120\u001b[0;31m                             \u001b[0mp\u001b[0m\u001b[0;34m.\u001b[0m\u001b[0mcallable\u001b[0m\u001b[0;34m(\u001b[0m\u001b[0mpslice\u001b[0m\u001b[0;34m)\u001b[0m\u001b[0;34m\u001b[0m\u001b[0;34m\u001b[0m\u001b[0m\n\u001b[0m\u001b[1;32m   1121\u001b[0m                             \u001b[0;32mdel\u001b[0m \u001b[0mstatestack\u001b[0m\u001b[0;34m[\u001b[0m\u001b[0;34m-\u001b[0m\u001b[0mplen\u001b[0m\u001b[0;34m:\u001b[0m\u001b[0;34m]\u001b[0m\u001b[0;34m\u001b[0m\u001b[0;34m\u001b[0m\u001b[0m\n\u001b[1;32m   1122\u001b[0m                             \u001b[0msymstack\u001b[0m\u001b[0;34m.\u001b[0m\u001b[0mappend\u001b[0m\u001b[0;34m(\u001b[0m\u001b[0msym\u001b[0m\u001b[0;34m)\u001b[0m\u001b[0;34m\u001b[0m\u001b[0;34m\u001b[0m\u001b[0m\n",
      "\u001b[0;32m~/.conda/envs/ML4Quantum/lib/python3.8/site-packages/qiskit/qasm/qasmparser.py\u001b[0m in \u001b[0;36mp_unitary_op_4\u001b[0;34m(self, program)\u001b[0m\n\u001b[1;32m    724\u001b[0m         \u001b[0mself\u001b[0m\u001b[0;34m.\u001b[0m\u001b[0mverify_as_gate\u001b[0m\u001b[0;34m(\u001b[0m\u001b[0mprogram\u001b[0m\u001b[0;34m[\u001b[0m\u001b[0;36m1\u001b[0m\u001b[0;34m]\u001b[0m\u001b[0;34m,\u001b[0m \u001b[0mprogram\u001b[0m\u001b[0;34m[\u001b[0m\u001b[0;36m5\u001b[0m\u001b[0;34m]\u001b[0m\u001b[0;34m,\u001b[0m \u001b[0marglist\u001b[0m\u001b[0;34m=\u001b[0m\u001b[0mprogram\u001b[0m\u001b[0;34m[\u001b[0m\u001b[0;36m3\u001b[0m\u001b[0;34m]\u001b[0m\u001b[0;34m)\u001b[0m\u001b[0;34m\u001b[0m\u001b[0;34m\u001b[0m\u001b[0m\n\u001b[1;32m    725\u001b[0m         \u001b[0mself\u001b[0m\u001b[0;34m.\u001b[0m\u001b[0mverify_reg_list\u001b[0m\u001b[0;34m(\u001b[0m\u001b[0mprogram\u001b[0m\u001b[0;34m[\u001b[0m\u001b[0;36m5\u001b[0m\u001b[0;34m]\u001b[0m\u001b[0;34m,\u001b[0m \u001b[0;34m\"qreg\"\u001b[0m\u001b[0;34m)\u001b[0m\u001b[0;34m\u001b[0m\u001b[0;34m\u001b[0m\u001b[0m\n\u001b[0;32m--> 726\u001b[0;31m         \u001b[0mself\u001b[0m\u001b[0;34m.\u001b[0m\u001b[0mverify_exp_list\u001b[0m\u001b[0;34m(\u001b[0m\u001b[0mprogram\u001b[0m\u001b[0;34m[\u001b[0m\u001b[0;36m3\u001b[0m\u001b[0;34m]\u001b[0m\u001b[0;34m)\u001b[0m\u001b[0;34m\u001b[0m\u001b[0;34m\u001b[0m\u001b[0m\n\u001b[0m\u001b[1;32m    727\u001b[0m         \u001b[0mself\u001b[0m\u001b[0;34m.\u001b[0m\u001b[0mverify_distinct\u001b[0m\u001b[0;34m(\u001b[0m\u001b[0;34m[\u001b[0m\u001b[0mprogram\u001b[0m\u001b[0;34m[\u001b[0m\u001b[0;36m5\u001b[0m\u001b[0;34m]\u001b[0m\u001b[0;34m]\u001b[0m\u001b[0;34m)\u001b[0m\u001b[0;34m\u001b[0m\u001b[0;34m\u001b[0m\u001b[0m\n\u001b[1;32m    728\u001b[0m \u001b[0;34m\u001b[0m\u001b[0m\n",
      "\u001b[0;32m~/.conda/envs/ML4Quantum/lib/python3.8/site-packages/qiskit/qasm/qasmparser.py\u001b[0m in \u001b[0;36mverify_exp_list\u001b[0;34m(self, obj)\u001b[0m\n\u001b[1;32m    120\u001b[0m \u001b[0;34m\u001b[0m\u001b[0m\n\u001b[1;32m    121\u001b[0m                     \u001b[0;32mif\u001b[0m \u001b[0mchildren\u001b[0m\u001b[0;34m.\u001b[0m\u001b[0mname\u001b[0m \u001b[0;32mnot\u001b[0m \u001b[0;32min\u001b[0m \u001b[0mself\u001b[0m\u001b[0;34m.\u001b[0m\u001b[0mcurrent_symtab\u001b[0m\u001b[0;34m:\u001b[0m\u001b[0;34m\u001b[0m\u001b[0;34m\u001b[0m\u001b[0m\n\u001b[0;32m--> 122\u001b[0;31m                         raise QasmError(\n\u001b[0m\u001b[1;32m    123\u001b[0m                             \u001b[0;34m\"Argument '\"\u001b[0m\u001b[0;34m\u001b[0m\u001b[0;34m\u001b[0m\u001b[0m\n\u001b[1;32m    124\u001b[0m                             \u001b[0;34m+\u001b[0m \u001b[0mchildren\u001b[0m\u001b[0;34m.\u001b[0m\u001b[0mname\u001b[0m\u001b[0;34m\u001b[0m\u001b[0;34m\u001b[0m\u001b[0m\n",
      "\u001b[0;31mQasmError\u001b[0m: \"Argument 'p_d98ed5' in expression cannot be found, line 14 file \""
     ]
    }
   ],
   "source": [
    "# SECTION\n",
    "# NAME: PROLOGUE\n",
    "\n",
    "import qiskit\n",
    "from qiskit import QuantumCircuit, ClassicalRegister, QuantumRegister\n",
    "from qiskit.circuit.library.standard_gates import *\n",
    "from qiskit.circuit import Parameter\n",
    "# SECTION\n",
    "# NAME: PARAMETERS\n",
    "\n",
    "p_815e3a = Parameter('p_815e3a')\n",
    "p_d98ed5 = Parameter('p_d98ed5')\n",
    "p_e28120 = Parameter('p_e28120')\n",
    "p_66550b = Parameter('p_66550b')\n",
    "p_7be84e = Parameter('p_7be84e')\n",
    "p_8af6c7 = Parameter('p_8af6c7')\n",
    "p_ab3211 = Parameter('p_ab3211')\n",
    "p_8d56b9 = Parameter('p_8d56b9')\n",
    "p_8e0f47 = Parameter('p_8e0f47')\n",
    "p_6387d9 = Parameter('p_6387d9')\n",
    "p_f03662 = Parameter('p_f03662')\n",
    "p_65d0e4 = Parameter('p_65d0e4')\n",
    "p_307780 = Parameter('p_307780')\n",
    "p_74f12f = Parameter('p_74f12f')\n",
    "# SECTION\n",
    "# NAME: CIRCUIT\n",
    "\n",
    "qr = QuantumRegister(2, name='qr')\n",
    "cr = ClassicalRegister(2, name='cr')\n",
    "qc = QuantumCircuit(qr, cr, name='qc')\n",
    "qc.append(DCXGate(), qargs=[qr[1], qr[0]], cargs=[])\n",
    "qc.append(CUGate(3, 1.7790385712994252, p_d98ed5, p_65d0e4), qargs=[qr[1], qr[0]], cargs=[])\n",
    "qc.append(RYYGate(p_815e3a), qargs=[qr[1], qr[0]], cargs=[])\n",
    "qc.append(RYYGate(p_66550b), qargs=[qr[0], qr[1]], cargs=[])\n",
    "subcircuit = QuantumCircuit(qr, cr, name='subcircuit')\n",
    "subcircuit.append(iSwapGate(), qargs=[qr[0], qr[1]], cargs=[])\n",
    "subcircuit.append(SwapGate(), qargs=[qr[1], qr[0]], cargs=[])\n",
    "subcircuit.append(XGate(), qargs=[qr[0]], cargs=[])\n",
    "subcircuit.append(CSXGate(), qargs=[qr[1], qr[0]], cargs=[])\n",
    "subcircuit.append(RZZGate(p_8af6c7), qargs=[qr[1], qr[0]], cargs=[])\n",
    "subcircuit.append(CU3Gate(2.2389885175115802, 0.9934134767274163, 6.204590251746213), qargs=[qr[0], qr[1]], cargs=[])\n",
    "subcircuit.append(SwapGate(), qargs=[qr[0], qr[1]], cargs=[])\n",
    "subcircuit.append(CSXGate(), qargs=[qr[1], qr[0]], cargs=[])\n",
    "qc.append(subcircuit, qargs=qr, cargs=cr)\n",
    "qc.append(subcircuit.inverse(), qargs=qr, cargs=cr)\n",
    "qc.append(CZGate(), qargs=[qr[0], qr[1]], cargs=[])\n",
    "qc.append(ZGate(), qargs=[qr[0]], cargs=[])\n",
    "qc.append(ZGate(), qargs=[qr[1]], cargs=[])\n",
    "qc.append(CZGate(), qargs=[qr[0], qr[1]], cargs=[])\n",
    "qc.append(DCXGate(), qargs=[qr[1], qr[0]], cargs=[])\n",
    "qc.append(CUGate(p_8d56b9, 2.5638334336137962, p_f03662, p_e28120), qargs=[qr[0], qr[1]], cargs=[])\n",
    "qc.append(RXGate(p_6387d9), qargs=[qr[1]], cargs=[])\n",
    "qc.append(SwapGate(), qargs=[qr[0], qr[1]], cargs=[])\n",
    "qc.append(iSwapGate(), qargs=[qr[0], qr[1]], cargs=[])\n",
    "qc.append(iSwapGate(), qargs=[qr[0], qr[1]], cargs=[])\n",
    "qc.append(CRZGate(p_307780), qargs=[qr[0], qr[1]], cargs=[])\n",
    "qc.append(SwapGate(), qargs=[qr[1], qr[0]], cargs=[])\n",
    "qc.append(U1Gate(p_8e0f47), qargs=[qr[0]], cargs=[])\n",
    "qc.append(SwapGate(), qargs=[qr[1], qr[0]], cargs=[])\n",
    "qc.append(XGate(), qargs=[qr[1]], cargs=[])\n",
    "qc.append(UGate(p_74f12f, p_7be84e, p_ab3211), qargs=[qr[1]], cargs=[])\n",
    "qc.append(CSXGate(), qargs=[qr[1], qr[0]], cargs=[])\n",
    "# SECTION\n",
    "# NAME: MEASUREMENT\n",
    "\n",
    "qc.measure(qr, cr)\n",
    "# SECTION\n",
    "# NAME: PARAMETER_BINDING\n",
    "\n",
    "qc = qc.bind_parameters({p_815e3a: 3.960408938945379, p_d98ed5: 2.7044749753087713, p_e28120: 5.633940498496329, p_66550b: 6.039402628903679, p_7be84e: 0.3193542894177172, p_8af6c7: 4.090252435847421, p_ab3211: 6.177599315367914, p_8d56b9: 0.7063403993184683, p_8e0f47: 3.251376892257053, p_6387d9: 5.719621481325267, p_f03662: 0.8508449511614096, p_65d0e4: 4.578935400765705, p_307780: 2.142542030012876, p_74f12f: 0.31917762940267036})\n",
    "# SECTION\n",
    "# NAME: QASM_CONVERSION\n",
    "my_qasm = qc.qasm()\n",
    "print(my_qasm)\n",
    "qc = QuantumCircuit.from_qasm_str(my_qasm)\n",
    "# SECTION\n",
    "# NAME: OPTIMIZATION_LEVEL\n",
    "\n",
    "from qiskit import transpile\n",
    "qc = transpile(qc, basis_gates=None, optimization_level=3, coupling_map=[[0, 1], [1, 0]])\n",
    "# SECTION\n",
    "# NAME: EXECUTION\n",
    "\n",
    "from qiskit import Aer, transpile, execute\n",
    "backend_325f90b7b5944e599cfc0e5797aa5a31 = Aer.get_backend('qasm_simulator')\n",
    "counts = execute(qc, backend=backend_325f90b7b5944e599cfc0e5797aa5a31, shots=346).result().get_counts(qc)\n",
    "RESULT = counts\n"
   ]
  },
  {
   "cell_type": "markdown",
   "id": "c59bf6d3",
   "metadata": {},
   "source": [
    "# Backup the Warning/Bug\n",
    "End the timer (aka create a file with the current timestamp, the program id, if it is a bug, unclear or false positive, an explanation of the bug)."
   ]
  },
  {
   "cell_type": "code",
   "execution_count": 322,
   "id": "641c0310",
   "metadata": {
    "ExecuteTime": {
     "end_time": "2022-06-22T16:54:10.803243Z",
     "start_time": "2022-06-22T16:54:10.718903Z"
    }
   },
   "outputs": [
    {
     "name": "stdout",
     "output_type": "stream",
     "text": [
      "Copying... from ../data/qmt_v26/programs/source/88013c74b0354f76bdea3188c6ec9d40.py to ../warnings/program_pairs/26_88013c/source_88013c74b0354f76bdea3188c6ec9d40.py\n",
      "Copying... from ../data/qmt_v26/programs/followup/88013c74b0354f76bdea3188c6ec9d40.py to ../warnings/program_pairs/26_88013c/followup_88013c74b0354f76bdea3188c6ec9d40.py\n",
      "Copying... from ../data/qmt_v26/programs/metadata/88013c74b0354f76bdea3188c6ec9d40.json to ../warnings/program_pairs/26_88013c/metadata_88013c74b0354f76bdea3188c6ec9d40.json\n",
      "Copying... from ../data/qmt_v26/programs/metadata_exec/88013c74b0354f76bdea3188c6ec9d40.json to ../warnings/program_pairs/26_88013c/metadata_exec_88013c74b0354f76bdea3188c6ec9d40.json\n"
     ]
    }
   ],
   "source": [
    "WARNINGS_FOLDER = \"../warnings/program_pairs\"\n",
    "create_folder_in_interesting_cases(\n",
    "    experiment_folder=EXP_FOLDER,\n",
    "    program_id=PROGRAM_ID_UNDER_ANALYSIS,\n",
    "    root_folder=WARNINGS_FOLDER\n",
    ")\n",
    "copy_bug(\n",
    "    experiment_folder=EXP_FOLDER,\n",
    "    program_id=PROGRAM_ID_UNDER_ANALYSIS,\n",
    "    root_bug_folder=WARNINGS_FOLDER\n",
    ")"
   ]
  },
  {
   "cell_type": "markdown",
   "id": "a983db82",
   "metadata": {
    "heading_collapsed": true
   },
   "source": [
    "# Extra"
   ]
  },
  {
   "cell_type": "markdown",
   "id": "8c4be1c5",
   "metadata": {
    "hidden": true
   },
   "source": [
    "## Check Divergences"
   ]
  },
  {
   "cell_type": "code",
   "execution_count": 159,
   "id": "457d0b76",
   "metadata": {
    "ExecuteTime": {
     "end_time": "2022-06-22T14:58:33.118368Z",
     "start_time": "2022-06-22T14:58:33.021880Z"
    },
    "hidden": true
   },
   "outputs": [
    {
     "name": "stdout",
     "output_type": "stream",
     "text": [
      "qmt_v26\n"
     ]
    },
    {
     "data": {
      "text/html": [
       "<div>\n",
       "<style scoped>\n",
       "    .dataframe tbody tr th:only-of-type {\n",
       "        vertical-align: middle;\n",
       "    }\n",
       "\n",
       "    .dataframe tbody tr th {\n",
       "        vertical-align: top;\n",
       "    }\n",
       "\n",
       "    .dataframe thead th {\n",
       "        text-align: right;\n",
       "    }\n",
       "</style>\n",
       "<table border=\"1\" class=\"dataframe\">\n",
       "  <thead>\n",
       "    <tr style=\"text-align: right;\">\n",
       "      <th></th>\n",
       "      <th>program_id</th>\n",
       "      <th>divergence.ks.p-value</th>\n",
       "    </tr>\n",
       "  </thead>\n",
       "  <tbody>\n",
       "    <tr>\n",
       "      <th>2501</th>\n",
       "      <td>c90b2dcc23cc4ce4a41b2c3da7d7a1f6</td>\n",
       "      <td>5.626451e-61</td>\n",
       "    </tr>\n",
       "    <tr>\n",
       "      <th>630</th>\n",
       "      <td>80ee2116b55f47ff8d707a44380985fa</td>\n",
       "      <td>3.294304e-43</td>\n",
       "    </tr>\n",
       "    <tr>\n",
       "      <th>1237</th>\n",
       "      <td>f0c09794548f42518f4f4ebe0b2a532d</td>\n",
       "      <td>4.969417e-03</td>\n",
       "    </tr>\n",
       "    <tr>\n",
       "      <th>2951</th>\n",
       "      <td>619957dcfdb04b88ba9d9334b62a48ec</td>\n",
       "      <td>5.404322e-03</td>\n",
       "    </tr>\n",
       "    <tr>\n",
       "      <th>3642</th>\n",
       "      <td>6c9c4bfca0394cd985165ef84b708971</td>\n",
       "      <td>5.527496e-03</td>\n",
       "    </tr>\n",
       "    <tr>\n",
       "      <th>3536</th>\n",
       "      <td>35d72c5e195d493f9f8a12ef45989662</td>\n",
       "      <td>7.108194e-03</td>\n",
       "    </tr>\n",
       "    <tr>\n",
       "      <th>3543</th>\n",
       "      <td>91d449cfd17941a3b261b2705be4e863</td>\n",
       "      <td>7.471898e-03</td>\n",
       "    </tr>\n",
       "    <tr>\n",
       "      <th>2248</th>\n",
       "      <td>f4ac3beab6fc4e0785b4e6827565d611</td>\n",
       "      <td>7.710332e-03</td>\n",
       "    </tr>\n",
       "    <tr>\n",
       "      <th>1330</th>\n",
       "      <td>ea7115c7a365404da3a5695909aa02b4</td>\n",
       "      <td>8.315896e-03</td>\n",
       "    </tr>\n",
       "    <tr>\n",
       "      <th>1465</th>\n",
       "      <td>8c707c4e69db460d8ef0abb8528937f0</td>\n",
       "      <td>1.083631e-02</td>\n",
       "    </tr>\n",
       "  </tbody>\n",
       "</table>\n",
       "</div>"
      ],
      "text/plain": [
       "                            program_id  divergence.ks.p-value\n",
       "2501  c90b2dcc23cc4ce4a41b2c3da7d7a1f6           5.626451e-61\n",
       "630   80ee2116b55f47ff8d707a44380985fa           3.294304e-43\n",
       "1237  f0c09794548f42518f4f4ebe0b2a532d           4.969417e-03\n",
       "2951  619957dcfdb04b88ba9d9334b62a48ec           5.404322e-03\n",
       "3642  6c9c4bfca0394cd985165ef84b708971           5.527496e-03\n",
       "3536  35d72c5e195d493f9f8a12ef45989662           7.108194e-03\n",
       "3543  91d449cfd17941a3b261b2705be4e863           7.471898e-03\n",
       "2248  f4ac3beab6fc4e0785b4e6827565d611           7.710332e-03\n",
       "1330  ea7115c7a365404da3a5695909aa02b4           8.315896e-03\n",
       "1465  8c707c4e69db460d8ef0abb8528937f0           1.083631e-02"
      ]
     },
     "metadata": {},
     "output_type": "display_data"
    },
    {
     "data": {
      "application/vnd.jupyter.widget-view+json": {
       "model_id": "9acdfc7e97154a1ebcaf1a88410b81a8",
       "version_major": 2,
       "version_minor": 0
      },
      "text/plain": [
       "Dropdown(description='Program id to analyze:', layout=Layout(width='max-content'), options=('c90b2dcc23cc4ce4a…"
      ]
     },
     "metadata": {},
     "output_type": "display_data"
    },
    {
     "data": {
      "application/vnd.jupyter.widget-view+json": {
       "model_id": "6f6ec319ea694d0f976af7eeb31f1704",
       "version_major": 2,
       "version_minor": 0
      },
      "text/plain": [
       "Button(description='Select for re-run', icon='eye', style=ButtonStyle(), tooltip='Select one example for furth…"
      ]
     },
     "metadata": {},
     "output_type": "display_data"
    }
   ],
   "source": [
    "TOP_K = 10\n",
    "PVAL_COL = \"divergence.ks.p-value\"\n",
    "df_most_divergent = df_data[  \n",
    "    # remove the crashed programs, since they have a lot of difference\n",
    "    # because the crashed one has only 0 in the result dictionary.\n",
    "    ~df_data[\"program_id\"].isin(CRASHED_PROGRAMS)\n",
    "].sort_values(by=PVAL_COL, ascending=True)\n",
    "print(EXP_FOLDER)\n",
    "display(df_most_divergent[[\"program_id\", PVAL_COL]].iloc[:TOP_K].head(TOP_K))\n",
    "\n",
    "\n",
    "MOST_DIVERGENT_PROGRAMS = list(df_most_divergent[\"program_id\"])[:TOP_K]\n",
    "\n",
    "divergence_selector = widgets.Dropdown(\n",
    "    options=MOST_DIVERGENT_PROGRAMS,\n",
    "    description='Program id to analyze:',\n",
    "    disabled=False,\n",
    "    style={'description_width': 'max-content'},\n",
    "    layout={'width': 'max-content'}\n",
    ")\n",
    "pick_btn = widgets.Button(\n",
    "    description='Select for re-run',\n",
    "    disabled=False,\n",
    "    button_style='', # 'success', 'info', 'warning', 'danger' or ''\n",
    "    tooltip='Select one example for further analysis',\n",
    "    icon='fa-eye' # (FontAwesome names without the `fa-` prefix)\n",
    ")\n",
    "\n",
    "def show_program_id(widget):\n",
    "    global PROGRAM_ID_UNDER_ANALYSIS\n",
    "    PROGRAM_ID_UNDER_ANALYSIS = divergence_selector.value   \n",
    "    print_time()\n",
    "    print(f\"PROGRAM_ID_UNDER_ANALYSIS: {PROGRAM_ID_UNDER_ANALYSIS}\")\n",
    "\n",
    "pick_btn.on_click(show_program_id)\n",
    "\n",
    "display(divergence_selector)\n",
    "display(pick_btn)\n"
   ]
  },
  {
   "cell_type": "markdown",
   "id": "14c654df",
   "metadata": {
    "hidden": true
   },
   "source": [
    "## Run Again"
   ]
  },
  {
   "cell_type": "code",
   "execution_count": 141,
   "id": "cdbd40a0",
   "metadata": {
    "ExecuteTime": {
     "end_time": "2022-06-22T14:45:54.254105Z",
     "start_time": "2022-06-22T14:45:52.027886Z"
    },
    "hidden": true,
    "scrolled": true
   },
   "outputs": [
    {
     "name": "stdout",
     "output_type": "stream",
     "text": [
      "PROGRAM_ID_UNDER_ANALYSIS: c90b2dcc23cc4ce4a41b2c3da7d7a1f6\n",
      "\u001b[32mExceptions from execution: {'source': None, 'followup': None}\u001b[0m\n",
      "New p-value: 2.3975063911285983e-53\n",
      "n_qubits: 8\n",
      "n_shots_platform_a: 2771.0\n",
      "n_shots_platform_b: 2771.0\n",
      "Uniform threshold: 0.00390625\n"
     ]
    },
    {
     "data": {
      "image/png": "[encoded data removed]",
      "text/plain": [
       "<Figure size 720x432 with 1 Axes>"
      ]
     },
     "metadata": {
      "needs_background": "light"
     },
     "output_type": "display_data"
    },
    {
     "data": {
      "text/plain": [
       "<lib.inspector.OneNightStandInspector at 0x7f2c28de3040>"
      ]
     },
     "execution_count": 141,
     "metadata": {},
     "output_type": "execute_result"
    }
   ],
   "source": [
    "BUG_PATHS = retrieve_relevant_file_paths(\n",
    "    experiment_folder=EXP_FOLDER,\n",
    "    program_id=PROGRAM_ID_UNDER_ANALYSIS)\n",
    "print(f\"PROGRAM_ID_UNDER_ANALYSIS: {PROGRAM_ID_UNDER_ANALYSIS}\")\n",
    "RES = execute_programs(\n",
    "    metadata_source = {\"py_file_path\": BUG_PATHS[\"source\"]},\n",
    "    metadata_followup = {\"py_file_path\": BUG_PATHS[\"followup\"]})\n",
    "detector = KS_Detector()\n",
    "_, pval = detector.check(RES[\"res_A\"], RES[\"res_B\"])\n",
    "print(f\"New p-value: {pval}\")\n",
    "OneNightStandInspector(RES[\"res_A\"], RES[\"res_B\"], top_perc=1)"
   ]
  },
  {
   "cell_type": "code",
   "execution_count": null,
   "id": "5f76afb3",
   "metadata": {
    "hidden": true
   },
   "outputs": [],
   "source": []
  }
 ],
 "metadata": {
  "kernelspec": {
   "display_name": "Python 3 (ipykernel)",
   "language": "python",
   "name": "python3"
  },
  "language_info": {
   "codemirror_mode": {
    "name": "ipython",
    "version": 3
   },
   "file_extension": ".py",
   "mimetype": "text/x-python",
   "name": "python",
   "nbconvert_exporter": "python",
   "pygments_lexer": "ipython3",
   "version": "3.8.0"
  },
  "toc": {
   "base_numbering": 1,
   "nav_menu": {},
   "number_sections": true,
   "sideBar": true,
   "skip_h1_title": false,
   "title_cell": "Table of Contents",
   "title_sidebar": "Contents",
   "toc_cell": false,
   "toc_position": {},
   "toc_section_display": true,
   "toc_window_display": true
  }
 },
 "nbformat": 4,
 "nbformat_minor": 5
}
