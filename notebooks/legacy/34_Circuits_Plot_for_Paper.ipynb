{
 "cells": [
  {
   "cell_type": "code",
   "execution_count": 6,
   "id": "78f76bd8",
   "metadata": {
    "ExecuteTime": {
     "end_time": "2022-02-16T19:58:19.918301Z",
     "start_time": "2022-02-16T19:58:19.914154Z"
    }
   },
   "outputs": [],
   "source": [
    "import pandas as pd\n",
    "import sqlite3 as sl"
   ]
  },
  {
   "cell_type": "code",
   "execution_count": 7,
   "id": "4fd90802",
   "metadata": {
    "ExecuteTime": {
     "end_time": "2022-02-16T19:58:21.296736Z",
     "start_time": "2022-02-16T19:58:20.134286Z"
    }
   },
   "outputs": [],
   "source": [
    "VERSION = 2\n",
    "con = sl.connect(f\"../data/qmt_v0{VERSION}/qfl.db\")\n",
    "df = pd.read_sql(\"\"\"SELECT * FROM QFLDATA\"\"\", con)"
   ]
  },
  {
   "cell_type": "code",
   "execution_count": 10,
   "id": "b7f1e44d",
   "metadata": {
    "ExecuteTime": {
     "end_time": "2022-02-16T19:59:59.995388Z",
     "start_time": "2022-02-16T19:59:59.853595Z"
    }
   },
   "outputs": [
    {
     "name": "stdout",
     "output_type": "stream",
     "text": [
      "<class 'pandas.core.frame.DataFrame'>\n",
      "RangeIndex: 63888 entries, 0 to 63887\n",
      "Data columns (total 33 columns):\n",
      " #   Column                          Non-Null Count  Dtype  \n",
      "---  ------                          --------------  -----  \n",
      " 0   index                           63888 non-null  int64  \n",
      " 1   program_id                      63888 non-null  object \n",
      " 2   source.program_id               63888 non-null  object \n",
      " 3   source.selected_gate_set        63888 non-null  object \n",
      " 4   source.selected_optimization    63888 non-null  object \n",
      " 5   source.shots                    63888 non-null  int64  \n",
      " 6   source.n_qubits                 63888 non-null  int64  \n",
      " 7   source.n_ops                    63888 non-null  int64  \n",
      " 8   source.opt_level                63888 non-null  int64  \n",
      " 9   source.target_gates             0 non-null      object \n",
      " 10  source.py_file_path             63888 non-null  object \n",
      " 11  source.circuit_id               63888 non-null  object \n",
      " 12  source.id_quantum_reg           63888 non-null  object \n",
      " 13  source.id_classical_reg         63888 non-null  object \n",
      " 14  source.gate_set                 63888 non-null  object \n",
      " 15  followup.program_id             63888 non-null  object \n",
      " 16  followup.selected_gate_set      63888 non-null  object \n",
      " 17  followup.selected_optimization  63888 non-null  object \n",
      " 18  followup.shots                  63888 non-null  int64  \n",
      " 19  followup.n_qubits               63888 non-null  int64  \n",
      " 20  followup.n_ops                  63888 non-null  int64  \n",
      " 21  followup.opt_level              63888 non-null  int64  \n",
      " 22  followup.target_gates           0 non-null      object \n",
      " 23  followup.py_file_path           63888 non-null  object \n",
      " 24  followup.circuit_id             63888 non-null  object \n",
      " 25  followup.id_quantum_reg         63888 non-null  object \n",
      " 26  followup.id_classical_reg       63888 non-null  object \n",
      " 27  followup.gate_set               63888 non-null  object \n",
      " 28  followup.metamorphic_strategy   63888 non-null  object \n",
      " 29  divergence.ks.statistic         63888 non-null  float64\n",
      " 30  divergence.ks.p-value           63888 non-null  float64\n",
      " 31  exceptions.source               0 non-null      object \n",
      " 32  exceptions.followup             17111 non-null  object \n",
      "dtypes: float64(2), int64(9), object(22)\n",
      "memory usage: 16.1+ MB\n"
     ]
    }
   ],
   "source": [
    "df.info()"
   ]
  },
  {
   "cell_type": "code",
   "execution_count": 9,
   "id": "e2385472",
   "metadata": {
    "ExecuteTime": {
     "end_time": "2022-02-16T19:58:52.196723Z",
     "start_time": "2022-02-16T19:58:52.177956Z"
    }
   },
   "outputs": [
    {
     "data": {
      "text/plain": [
       "array(['change_opt_level', 'change_coupling_map', 'change_qubit_order',\n",
       "       'change_backend'], dtype=object)"
      ]
     },
     "execution_count": 9,
     "metadata": {},
     "output_type": "execute_result"
    }
   ],
   "source": [
    "df[\"followup.metamorphic_strategy\"].unique()"
   ]
  },
  {
   "cell_type": "code",
   "execution_count": 34,
   "id": "12711f57",
   "metadata": {
    "ExecuteTime": {
     "end_time": "2022-02-16T20:09:23.029464Z",
     "start_time": "2022-02-16T20:09:22.873010Z"
    }
   },
   "outputs": [],
   "source": [
    "df_qubit_order = df.where(\n",
    "    df[\"followup.metamorphic_strategy\"] == \"change_qubit_order\").sort_values(\n",
    "        by=\"source.n_qubits\"\n",
    ")"
   ]
  },
  {
   "cell_type": "code",
   "execution_count": 49,
   "id": "a20a4cca",
   "metadata": {
    "ExecuteTime": {
     "end_time": "2022-02-16T21:06:05.332491Z",
     "start_time": "2022-02-16T21:06:05.320450Z"
    }
   },
   "outputs": [],
   "source": [
    "df_minimal = df_qubit_order[[\"program_id\", \"source.py_file_path\", \"source.n_qubits\", \"source.n_ops\", \"followup.py_file_path\"]]\n",
    "df_minimal = df_minimal[\n",
    "    (df_minimal[\"source.n_qubits\"] == 6) & \n",
    "    (df_minimal[\"source.n_ops\"] == 7)\n",
    "]\n",
    "record = df_minimal.iloc[5]\n",
    "PATH_SOURCE = record[\"source.py_file_path\"] \n",
    "PATH_FOLLOWUP = record[\"followup.py_file_path\"] \n",
    "program_id = record[\"program_id\"] "
   ]
  },
  {
   "cell_type": "code",
   "execution_count": 50,
   "id": "e1d98ace",
   "metadata": {
    "ExecuteTime": {
     "end_time": "2022-02-16T21:06:05.670946Z",
     "start_time": "2022-02-16T21:06:05.653959Z"
    }
   },
   "outputs": [
    {
     "ename": "NameError",
     "evalue": "name 'qc' is not defined",
     "output_type": "error",
     "traceback": [
      "\u001b[0;31m---------------------------------------------------------------------------\u001b[0m",
      "\u001b[0;31mNameError\u001b[0m                                 Traceback (most recent call last)",
      "\u001b[0;32m/tmp/ipykernel_19979/2918846928.py\u001b[0m in \u001b[0;36m<module>\u001b[0;34m\u001b[0m\n\u001b[0;32m----> 1\u001b[0;31m \u001b[0mqc\u001b[0m\u001b[0;34m.\u001b[0m\u001b[0mappend\u001b[0m\u001b[0;34m(\u001b[0m\u001b[0mRC3XGate\u001b[0m\u001b[0;34m(\u001b[0m\u001b[0;34m)\u001b[0m\u001b[0;34m,\u001b[0m \u001b[0mqargs\u001b[0m\u001b[0;34m=\u001b[0m\u001b[0;34m[\u001b[0m\u001b[0mqr_qr\u001b[0m\u001b[0;34m[\u001b[0m\u001b[0;36m1\u001b[0m\u001b[0;34m]\u001b[0m\u001b[0;34m,\u001b[0m \u001b[0mqr_qr\u001b[0m\u001b[0;34m[\u001b[0m\u001b[0;36m2\u001b[0m\u001b[0;34m]\u001b[0m\u001b[0;34m,\u001b[0m \u001b[0mqr_qr\u001b[0m\u001b[0;34m[\u001b[0m\u001b[0;36m4\u001b[0m\u001b[0;34m]\u001b[0m\u001b[0;34m,\u001b[0m \u001b[0mqr_qr\u001b[0m\u001b[0;34m[\u001b[0m\u001b[0;36m0\u001b[0m\u001b[0;34m]\u001b[0m\u001b[0;34m]\u001b[0m\u001b[0;34m,\u001b[0m \u001b[0mcargs\u001b[0m\u001b[0;34m=\u001b[0m\u001b[0;34m[\u001b[0m\u001b[0;34m]\u001b[0m\u001b[0;34m)\u001b[0m\u001b[0;34m\u001b[0m\u001b[0;34m\u001b[0m\u001b[0m\n\u001b[0m\u001b[1;32m      2\u001b[0m \u001b[0mqc\u001b[0m\u001b[0;34m.\u001b[0m\u001b[0mappend\u001b[0m\u001b[0;34m(\u001b[0m\u001b[0mU1Gate\u001b[0m\u001b[0;34m(\u001b[0m\u001b[0;36m2.672116591595488\u001b[0m\u001b[0;34m)\u001b[0m\u001b[0;34m,\u001b[0m \u001b[0mqargs\u001b[0m\u001b[0;34m=\u001b[0m\u001b[0;34m[\u001b[0m\u001b[0mqr_qr\u001b[0m\u001b[0;34m[\u001b[0m\u001b[0;36m1\u001b[0m\u001b[0;34m]\u001b[0m\u001b[0;34m]\u001b[0m\u001b[0;34m,\u001b[0m \u001b[0mcargs\u001b[0m\u001b[0;34m=\u001b[0m\u001b[0;34m[\u001b[0m\u001b[0;34m]\u001b[0m\u001b[0;34m)\u001b[0m\u001b[0;34m\u001b[0m\u001b[0;34m\u001b[0m\u001b[0m\n\u001b[1;32m      3\u001b[0m \u001b[0mqc\u001b[0m\u001b[0;34m.\u001b[0m\u001b[0mappend\u001b[0m\u001b[0;34m(\u001b[0m\u001b[0mCYGate\u001b[0m\u001b[0;34m(\u001b[0m\u001b[0;34m)\u001b[0m\u001b[0;34m,\u001b[0m \u001b[0mqargs\u001b[0m\u001b[0;34m=\u001b[0m\u001b[0;34m[\u001b[0m\u001b[0mqr_qr\u001b[0m\u001b[0;34m[\u001b[0m\u001b[0;36m1\u001b[0m\u001b[0;34m]\u001b[0m\u001b[0;34m,\u001b[0m \u001b[0mqr_qr\u001b[0m\u001b[0;34m[\u001b[0m\u001b[0;36m0\u001b[0m\u001b[0;34m]\u001b[0m\u001b[0;34m]\u001b[0m\u001b[0;34m,\u001b[0m \u001b[0mcargs\u001b[0m\u001b[0;34m=\u001b[0m\u001b[0;34m[\u001b[0m\u001b[0;34m]\u001b[0m\u001b[0;34m)\u001b[0m\u001b[0;34m\u001b[0m\u001b[0;34m\u001b[0m\u001b[0m\n\u001b[1;32m      4\u001b[0m \u001b[0mqc\u001b[0m\u001b[0;34m.\u001b[0m\u001b[0mappend\u001b[0m\u001b[0;34m(\u001b[0m\u001b[0mDCXGate\u001b[0m\u001b[0;34m(\u001b[0m\u001b[0;34m)\u001b[0m\u001b[0;34m,\u001b[0m \u001b[0mqargs\u001b[0m\u001b[0;34m=\u001b[0m\u001b[0;34m[\u001b[0m\u001b[0mqr_qr\u001b[0m\u001b[0;34m[\u001b[0m\u001b[0;36m4\u001b[0m\u001b[0;34m]\u001b[0m\u001b[0;34m,\u001b[0m \u001b[0mqr_qr\u001b[0m\u001b[0;34m[\u001b[0m\u001b[0;36m0\u001b[0m\u001b[0;34m]\u001b[0m\u001b[0;34m]\u001b[0m\u001b[0;34m,\u001b[0m \u001b[0mcargs\u001b[0m\u001b[0;34m=\u001b[0m\u001b[0;34m[\u001b[0m\u001b[0;34m]\u001b[0m\u001b[0;34m)\u001b[0m\u001b[0;34m\u001b[0m\u001b[0;34m\u001b[0m\u001b[0m\n\u001b[1;32m      5\u001b[0m \u001b[0mqc\u001b[0m\u001b[0;34m.\u001b[0m\u001b[0mappend\u001b[0m\u001b[0;34m(\u001b[0m\u001b[0mC4XGate\u001b[0m\u001b[0;34m(\u001b[0m\u001b[0;34m)\u001b[0m\u001b[0;34m,\u001b[0m \u001b[0mqargs\u001b[0m\u001b[0;34m=\u001b[0m\u001b[0;34m[\u001b[0m\u001b[0mqr_qr\u001b[0m\u001b[0;34m[\u001b[0m\u001b[0;36m3\u001b[0m\u001b[0;34m]\u001b[0m\u001b[0;34m,\u001b[0m \u001b[0mqr_qr\u001b[0m\u001b[0;34m[\u001b[0m\u001b[0;36m2\u001b[0m\u001b[0;34m]\u001b[0m\u001b[0;34m,\u001b[0m \u001b[0mqr_qr\u001b[0m\u001b[0;34m[\u001b[0m\u001b[0;36m1\u001b[0m\u001b[0;34m]\u001b[0m\u001b[0;34m,\u001b[0m \u001b[0mqr_qr\u001b[0m\u001b[0;34m[\u001b[0m\u001b[0;36m0\u001b[0m\u001b[0;34m]\u001b[0m\u001b[0;34m,\u001b[0m \u001b[0mqr_qr\u001b[0m\u001b[0;34m[\u001b[0m\u001b[0;36m4\u001b[0m\u001b[0;34m]\u001b[0m\u001b[0;34m]\u001b[0m\u001b[0;34m,\u001b[0m \u001b[0mcargs\u001b[0m\u001b[0;34m=\u001b[0m\u001b[0;34m[\u001b[0m\u001b[0;34m]\u001b[0m\u001b[0;34m)\u001b[0m\u001b[0;34m\u001b[0m\u001b[0;34m\u001b[0m\u001b[0m\n",
      "\u001b[0;31mNameError\u001b[0m: name 'qc' is not defined"
     ]
    }
   ],
   "source": [
    "qc.append(RC3XGate(), qargs=[qr_qr[1], qr_qr[2], qr_qr[4], qr_qr[0]], cargs=[])\n",
    "qc.append(U1Gate(2.672116591595488), qargs=[qr_qr[1]], cargs=[])\n",
    "qc.append(CYGate(), qargs=[qr_qr[1], qr_qr[0]], cargs=[])\n",
    "qc.append(DCXGate(), qargs=[qr_qr[4], qr_qr[0]], cargs=[])\n",
    "qc.append(C4XGate(), qargs=[qr_qr[3], qr_qr[2], qr_qr[1], qr_qr[0], qr_qr[4]], cargs=[])\n",
    "qc.append(CRYGate(4.987557047958871), qargs=[qr_qr[2], qr_qr[3]], cargs=[])\n",
    "qc.append(RCCXGate(), qargs=[qr_qr[3], qr_qr[4], qr_qr[0]], cargs=[])"
   ]
  },
  {
   "cell_type": "code",
   "execution_count": 51,
   "id": "8c96aae4",
   "metadata": {
    "ExecuteTime": {
     "end_time": "2022-02-16T21:06:06.107338Z",
     "start_time": "2022-02-16T21:06:06.096689Z"
    }
   },
   "outputs": [
    {
     "name": "stdout",
     "output_type": "stream",
     "text": [
      "EXP VERSION: 2, program id: 44cc2b3a8d204dd88b8b0f3b51958716\n",
      "\n",
      "# SECTION\n",
      "# NAME: PROLOGUE\n",
      "\n",
      "import qiskit\n",
      "from qiskit import QuantumCircuit, ClassicalRegister, QuantumRegister\n",
      "from qiskit.circuit.library.standard_gates import *\n",
      "\n",
      "# SECTION\n",
      "# NAME: CIRCUIT\n",
      "\n",
      "qr_qr = QuantumRegister(6, name='qr_qr')\n",
      "cr_qr = ClassicalRegister(6, name='cr_qr')\n",
      "qc = QuantumCircuit(qr_qr, cr_qr, name='qc')\n",
      "qc.append(RC3XGate(), qargs=[qr_qr[1], qr_qr[2], qr_qr[4], qr_qr[0]], cargs=[])\n",
      "qc.append(U1Gate(2.672116591595488), qargs=[qr_qr[3]], cargs=[])\n",
      "qc.append(DCXGate(), qargs=[qr_qr[0], qr_qr[3]], cargs=[])\n",
      "qc.append(DCXGate(), qargs=[qr_qr[4], qr_qr[0]], cargs=[])\n",
      "qc.append(C4XGate(), qargs=[qr_qr[2], qr_qr[0], qr_qr[3], qr_qr[1], qr_qr[5]], cargs=[])\n",
      "qc.append(CRYGate(0.5093039861193916), qargs=[qr_qr[0], qr_qr[5]], cargs=[])\n",
      "qc.append(RXGate(5.382742961462522), qargs=[qr_qr[3]], cargs=[])\n",
      "\n",
      "# SECTION\n",
      "# NAME: OPTIMIZATION_PASSES\n",
      "\n",
      "from qiskit.transpiler import PassManager\n",
      "from qiskit.transpiler.passes import *\n",
      "passmanager = PassManager()\n",
      "qc = passmanager.run(qc)\n",
      "\n",
      "# SECTION\n",
      "# NAME: OPTIMIZATION_LEVEL\n",
      "\n",
      "from qiskit import transpile\n",
      "qc = transpile(qc, basis_gates=None, optimization_level=0, coupling_map=None)\n",
      "\n",
      "# SECTION\n",
      "# NAME: MEASUREMENT\n",
      "\n",
      "qc.measure(qr_qr, cr_qr)\n",
      "\n",
      "# SECTION\n",
      "# NAME: EXECUTION\n",
      "\n",
      "from qiskit import Aer, transpile, execute\n",
      "backend_3e0cf6eb21984cd390623474edd26be9 = Aer.get_backend('qasm_simulator')\n",
      "counts = execute(qc, backend=backend_3e0cf6eb21984cd390623474edd26be9, shots=1385).result().get_counts(qc)\n",
      "RESULT = counts\n",
      "--------------------------------------------------------------------------------\n",
      "# SECTION\n",
      "# NAME: PROLOGUE\n",
      "\n",
      "import qiskit\n",
      "from qiskit import QuantumCircuit, ClassicalRegister, QuantumRegister\n",
      "from qiskit.circuit.library.standard_gates import *\n",
      "# SECTION\n",
      "# NAME: CIRCUIT\n",
      "qr_qr = QuantumRegister(6, name='qr_qr')\n",
      "cr_qr = ClassicalRegister(6, name='cr_qr')\n",
      "qc = QuantumCircuit(qr_qr, cr_qr, name='qc')\n",
      "qc.append(RC3XGate(), qargs=[qr_qr[1], qr_qr[4], qr_qr[0], qr_qr[2]], cargs=[])\n",
      "qc.append(U1Gate(2.672116591595488), qargs=[qr_qr[5]], cargs=[])\n",
      "qc.append(DCXGate(), qargs=[qr_qr[2], qr_qr[5]], cargs=[])\n",
      "qc.append(DCXGate(), qargs=[qr_qr[0], qr_qr[2]], cargs=[])\n",
      "qc.append(C4XGate(), qargs=[qr_qr[4], qr_qr[2], qr_qr[5], qr_qr[1], qr_qr[3\n",
      "    ]], cargs=[])\n",
      "qc.append(CRYGate(0.5093039861193916), qargs=[qr_qr[2], qr_qr[3]], cargs=[])\n",
      "qc.append(RXGate(5.382742961462522), qargs=[qr_qr[5]], cargs=[])\n",
      "# SECTION\n",
      "# NAME: OPTIMIZATION_PASSES\n",
      "\n",
      "from qiskit.transpiler import PassManager\n",
      "from qiskit.transpiler.passes import *\n",
      "passmanager = PassManager()\n",
      "qc = passmanager.run(qc)\n",
      "# SECTION\n",
      "# NAME: OPTIMIZATION_LEVEL\n",
      "\n",
      "from qiskit import transpile\n",
      "qc = transpile(qc, basis_gates=None, optimization_level=0, coupling_map=None)\n",
      "# SECTION\n",
      "# NAME: MEASUREMENT\n",
      "\n",
      "qc.measure(qr_qr, cr_qr)\n",
      "# SECTION\n",
      "# NAME: EXECUTION\n",
      "\n",
      "from qiskit import Aer, transpile, execute\n",
      "backend_3e0cf6eb21984cd390623474edd26be9 = Aer.get_backend('qasm_simulator')\n",
      "counts = execute(qc, backend=backend_3e0cf6eb21984cd390623474edd26be9, shots=1385).result().get_counts(qc)\n",
      "\n",
      "def read_str_with_mapping(bitstring, direct_mapping):\n",
      "    \"\"\"Given a bitstring convert it to the original mapping.\"\"\"\n",
      "    n_bits = len(bitstring)\n",
      "    bitstring = bitstring[::-1]\n",
      "    return \"\".join([bitstring[direct_mapping[i]] for i in range(n_bits)])[::-1]\n",
      "    \n",
      "counts = {\n",
      "    read_str_with_mapping(bitstring, {0: 2, 1: 1, 2: 4, 3: 5, 4: 0, 5: 3}): freq\n",
      "    for bitstring, freq in counts.items()\n",
      "}\n",
      "RESULT = counts\n",
      "    \n",
      "\n"
     ]
    }
   ],
   "source": [
    "print(f\"EXP VERSION: {VERSION}, program id: {program_id}\")\n",
    "\n",
    "print(open(PATH_SOURCE, 'r').read())\n",
    "print(\"-\" * 80)\n",
    "print(open(PATH_FOLLOWUP, 'r').read())"
   ]
  },
  {
   "cell_type": "code",
   "execution_count": null,
   "id": "aef9d70a",
   "metadata": {},
   "outputs": [],
   "source": []
  }
 ],
 "metadata": {
  "kernelspec": {
   "display_name": "Python 3 (ipykernel)",
   "language": "python",
   "name": "python3"
  },
  "language_info": {
   "codemirror_mode": {
    "name": "ipython",
    "version": 3
   },
   "file_extension": ".py",
   "mimetype": "text/x-python",
   "name": "python",
   "nbconvert_exporter": "python",
   "pygments_lexer": "ipython3",
   "version": "3.8.0"
  },
  "toc": {
   "base_numbering": 1,
   "nav_menu": {},
   "number_sections": true,
   "sideBar": true,
   "skip_h1_title": false,
   "title_cell": "Table of Contents",
   "title_sidebar": "Contents",
   "toc_cell": false,
   "toc_position": {},
   "toc_section_display": true,
   "toc_window_display": false
  }
 },
 "nbformat": 4,
 "nbformat_minor": 5
}
