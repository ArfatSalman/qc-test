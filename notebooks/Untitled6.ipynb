{
 "cells": [
  {
   "cell_type": "code",
   "execution_count": 2,
   "id": "032d0ecf-e8b9-4c67-aeaa-0f09a4c5b87f",
   "metadata": {},
   "outputs": [
    {
     "data": {
      "text/plain": [
       "cirq.MatrixGate(np.array([[0.7071067811865475, 0.7071067811865475], [0.7071067811865475, -0.7071067811865475]], dtype=np.float64))"
      ]
     },
     "execution_count": 2,
     "metadata": {},
     "output_type": "execute_result"
    }
   ],
   "source": [
    "import cirq\n",
    "import numpy as np \n",
    "\n",
    "# Pick a qubit.\n",
    "qubit = cirq.LineQubit.range(7)\n",
    "\n",
    "h_matrix = 1 / 2 ** .5 *  np.array([[1, 1], [1, -1]])\n",
    "h = cirq.MatrixGate(h_matrix)\n",
    "h"
   ]
  }
 ],
 "metadata": {
  "kernelspec": {
   "display_name": "Python 3 (ipykernel)",
   "language": "python",
   "name": "python3"
  },
  "language_info": {
   "codemirror_mode": {
    "name": "ipython",
    "version": 3
   },
   "file_extension": ".py",
   "mimetype": "text/x-python",
   "name": "python",
   "nbconvert_exporter": "python",
   "pygments_lexer": "ipython3",
   "version": "3.9.12"
  }
 },
 "nbformat": 4,
 "nbformat_minor": 5
}
