{
 "cells": [
  {
   "cell_type": "code",
   "execution_count": 27,
   "id": "7c0fdd2d-4daf-45f8-9401-2f7cdb50d80a",
   "metadata": {},
   "outputs": [
    {
     "name": "stdout",
     "output_type": "stream",
     "text": [
      "0: ───────M('result')───\n",
      "          │\n",
      "1: ───────M─────────────\n",
      "          │\n",
      "2: ───────M─────────────\n",
      "          │\n",
      "3: ───Y───M─────────────\n"
     ]
    },
    {
     "data": {
      "text/plain": [
       "Counter({'1000': 692})"
      ]
     },
     "execution_count": 27,
     "metadata": {},
     "output_type": "execute_result"
    }
   ],
   "source": [
    "import cirq\n",
    "import numpy as np \n",
    "\n",
    "qr = cirq.LineQubit.range(4)\n",
    "\n",
    "circuit = cirq.Circuit(\n",
    "    cirq.Y(qr[3]),\n",
    "    cirq.measure(qr, key='result')\n",
    "    # cirq.measure(qr[0], key='0'),  # Measurement.\n",
    "    # cirq.measure(qr[1], key='1'),  # Measurement.\n",
    "    # cirq.measure(qr[2], key='2'),  # Measurement.\n",
    "    # cirq.measure(qr[3], key='3'),  # Measurement.\n",
    "\n",
    ")\n",
    "\n",
    "print(circuit)\n",
    "\n",
    "simulator = cirq.Simulator()\n",
    "result = simulator.run(circuit, repetitions=692)\n",
    "# result.histogram(key='result')\n",
    "# import matplotlib.pyplot as plt\n",
    "# result.measurements\n",
    "# cirq.plot_state_histogram(result, plt.subplot())\n",
    "# plt.show()\n",
    "cirq.big_endian_int_to_bits(1, bit_count=4)\n",
    "result.measurements['result']\n",
    "\n",
    "from collections import Counter\n",
    "\n",
    "def compute_result(np_array):\n",
    "    c = Counter()\n",
    "    for i in np_array:\n",
    "        reversed_i = map(str, i[::-1])\n",
    "        bits_in_mse = ''.join(reversed_i)\n",
    "        c += {bits_in_mse: 1}\n",
    "    return c\n",
    "\n",
    "compute_result(result.measurements['result'])"
   ]
  },
  {
   "cell_type": "code",
   "execution_count": 12,
   "id": "61ee0207-e509-4ac4-a855-9125b7b7d9fb",
   "metadata": {},
   "outputs": [
    {
     "name": "stdout",
     "output_type": "stream",
     "text": [
      "{'1000': 692}\n"
     ]
    },
    {
     "data": {
      "image/png": "[encoded data removed]",
      "text/plain": [
       "<Figure size 550.349x451.5 with 1 Axes>"
      ]
     },
     "execution_count": 12,
     "metadata": {},
     "output_type": "execute_result"
    }
   ],
   "source": [
    "from qiskit.circuit.library.standard_gates import *\n",
    "from qiskit import QuantumCircuit, ClassicalRegister, QuantumRegister\n",
    "\n",
    "qr = QuantumRegister(4, name='qr')\n",
    "cr = ClassicalRegister(4, name='cr')\n",
    "qc = QuantumCircuit(qr, cr, name='qc')\n",
    "\n",
    "qc.append(YGate(), qargs=[qr[3]], cargs=[])\n",
    "\n",
    "qc.measure(qr, cr)\n",
    "\n",
    "\n",
    "\n",
    "from qiskit import Aer, transpile, execute\n",
    "backend_0aeb997d610641108c5db249af0a7269 = Aer.get_backend('qasm_simulator')\n",
    "counts = execute(qc, backend=backend_0aeb997d610641108c5db249af0a7269, shots=692).result().get_counts(qc)\n",
    "RESULT = counts\n",
    "print(counts)\n",
    "qc.draw(output='mpl')"
   ]
  }
 ],
 "metadata": {
  "kernelspec": {
   "display_name": "Python 3 (ipykernel)",
   "language": "python",
   "name": "python3"
  },
  "language_info": {
   "codemirror_mode": {
    "name": "ipython",
    "version": 3
   },
   "file_extension": ".py",
   "mimetype": "text/x-python",
   "name": "python",
   "nbconvert_exporter": "python",
   "pygments_lexer": "ipython3",
   "version": "3.9.12"
  }
 },
 "nbformat": 4,
 "nbformat_minor": 5
}
