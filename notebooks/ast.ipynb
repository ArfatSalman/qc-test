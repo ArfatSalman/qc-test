{
 "cells": [
  {
   "cell_type": "code",
   "execution_count": 31,
   "id": "99b7e707-98d8-404d-b407-67b430dddaa2",
   "metadata": {},
   "outputs": [],
   "source": [
    "import ast\n",
    "import astor\n",
    "from copy import deepcopy"
   ]
  },
  {
   "cell_type": "code",
   "execution_count": 54,
   "id": "7f02332a-9389-4334-bd5d-50235568deb9",
   "metadata": {},
   "outputs": [
    {
     "name": "stdout",
     "output_type": "stream",
     "text": [
      "qr = QuantumRegister(4, name='qr')\n",
      "cr = ClassicalRegister(4, name='cr')\n",
      "qc = QuantumCircuit(qr, cr, name='qc')\n",
      "qc.append(YGate(), qargs=[qr[3]], cargs=[])\n",
      "qr = QuantumRegister(4, name='qr')\n",
      "cr = ClassicalRegister(4, name='cr')\n",
      "qc = QuantumCircuit(qr, cr, name='qc')\n",
      "qc.append(YGate(), qargs=[qr[3]], cargs=[])\n",
      "\n"
     ]
    }
   ],
   "source": [
    "code = \"\"\"qr = QuantumRegister(4, name='qr')\n",
    "cr = ClassicalRegister(4, name='cr')\n",
    "qc = QuantumCircuit(qr, cr, name='qc')\n",
    "qc.append(YGate(), qargs=[qr[3]], cargs=[])\n",
    "\"\"\"\n",
    "\n",
    "tree = ast.parse(code)\n",
    "copied_tree = deepcopy(tree)\n",
    "\n",
    "# print(tree.body)\n",
    "\n",
    "print(astor.to_source(tree))\n",
    "# print(ast.dump(tree, indent=4))"
   ]
  },
  {
   "cell_type": "code",
   "execution_count": 30,
   "id": "22e12b5a-e786-4553-bd8d-a428937f3e8b",
   "metadata": {},
   "outputs": [
    {
     "name": "stdout",
     "output_type": "stream",
     "text": [
      "found BinOp at line: 1\n",
      "call\n",
      "[('func', <ast.Name object at 0x1043687f0>), ('args', [<ast.Constant object at 0x104368bb0>]), ('keywords', [<ast.keyword object at 0x104368d30>])]\n",
      "found BinOp at line: 2\n",
      "call\n",
      "[('func', <ast.Name object at 0x1043688b0>), ('args', [<ast.Constant object at 0x104368760>]), ('keywords', [<ast.keyword object at 0x1043689d0>])]\n",
      "found BinOp at line: 3\n",
      "call\n",
      "[('func', <ast.Name object at 0x104368940>), ('args', [<ast.Name object at 0x104368b20>, <ast.Name object at 0x104372250>]), ('keywords', [<ast.keyword object at 0x104372070>])]\n",
      "call\n",
      "[('func', <ast.Attribute object at 0x104372220>), ('args', [<ast.Call object at 0x104372400>]), ('keywords', [<ast.keyword object at 0x104372040>, <ast.keyword object at 0x104372370>])]\n",
      "call\n",
      "[('func', <ast.Name object at 0x104372ac0>), ('args', []), ('keywords', [])]\n"
     ]
    }
   ],
   "source": [
    "\n",
    "\n",
    "class BinOpVisitor(ast.NodeVisitor):\n",
    "\n",
    "    def visit_Assign(self, node):\n",
    "        print(f\"found BinOp at line: {node.lineno}\")\n",
    "        self.generic_visit(node)\n",
    "    \n",
    "    def visit_Call(self, node):\n",
    "        print('call')\n",
    "        print(list(ast.iter_fields(node)))\n",
    "        self.generic_visit(node)\n",
    "\n",
    "vis = BinOpVisitor()\n",
    "\n",
    "vis.visit(tree)"
   ]
  }
 ],
 "metadata": {
  "kernelspec": {
   "display_name": "Python 3 (ipykernel)",
   "language": "python",
   "name": "python3"
  },
  "language_info": {
   "codemirror_mode": {
    "name": "ipython",
    "version": 3
   },
   "file_extension": ".py",
   "mimetype": "text/x-python",
   "name": "python",
   "nbconvert_exporter": "python",
   "pygments_lexer": "ipython3",
   "version": "3.9.12"
  }
 },
 "nbformat": 4,
 "nbformat_minor": 5
}
