{
 "cells": [
  {
   "cell_type": "code",
   "execution_count": 9,
   "id": "4f26558f-1bc4-4e65-817b-c7682af46742",
   "metadata": {},
   "outputs": [],
   "source": [
    "from cirq import *\n",
    "import ast\n",
    "import astor\n",
    "\n",
    "from ast import *"
   ]
  },
  {
   "cell_type": "code",
   "execution_count": 15,
   "id": "463f86e7-d3cb-414b-887b-10a6905dd793",
   "metadata": {},
   "outputs": [
    {
     "name": "stdout",
     "output_type": "stream",
     "text": [
      "Module(\n",
      "    body=[\n",
      "        Assign(\n",
      "            targets=[\n",
      "                Name(id='qr', ctx=Store())],\n",
      "            value=Call(\n",
      "                func=Attribute(\n",
      "                    value=Name(id='LineQubit', ctx=Load()),\n",
      "                    attr='range',\n",
      "                    ctx=Load()),\n",
      "                args=[\n",
      "                    Constant(value=4)],\n",
      "                keywords=[]))],\n",
      "    type_ignores=[])\n"
     ]
    }
   ],
   "source": [
    "code = 'qr = LineQubit.range(4)'\n",
    "print(ast.dump(ast.parse(code), indent=4))"
   ]
  },
  {
   "cell_type": "code",
   "execution_count": 22,
   "id": "24f1c142-3a71-48c2-8bdd-f30502bb0241",
   "metadata": {},
   "outputs": [
    {
     "name": "stdout",
     "output_type": "stream",
     "text": [
      "qr = LineQubit.range(4)\n",
      "\n"
     ]
    }
   ],
   "source": [
    "qubit_variable_name = 'qr'\n",
    "num_of_qubits = 4\n",
    "tree = Assign( \n",
    "    targets=[ Name(id=qubit_variable_name, ctx=Store()) ],\n",
    "    value= Call( \n",
    "        func=Attribute(value=Name(id='LineQubit', ctx=Load()),\n",
    "                        attr='range',\n",
    "                        ctx=Load()),\n",
    "        args=[Constant(value=num_of_qubits)],\n",
    "        keywords=[]\n",
    "    )\n",
    ")\n",
    "\n",
    "print(astor.to_source(tree))"
   ]
  }
 ],
 "metadata": {
  "kernelspec": {
   "display_name": "Python 3 (ipykernel)",
   "language": "python",
   "name": "python3"
  },
  "language_info": {
   "codemirror_mode": {
    "name": "ipython",
    "version": 3
   },
   "file_extension": ".py",
   "mimetype": "text/x-python",
   "name": "python",
   "nbconvert_exporter": "python",
   "pygments_lexer": "ipython3",
   "version": "3.9.12"
  }
 },
 "nbformat": 4,
 "nbformat_minor": 5
}
