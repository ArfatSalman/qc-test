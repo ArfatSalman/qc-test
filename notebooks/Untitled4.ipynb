{
 "cells": [
  {
   "cell_type": "code",
   "execution_count": 3,
   "id": "a4b73b0c-a70b-4698-907c-1ece5111dd51",
   "metadata": {},
   "outputs": [
    {
     "name": "stdout",
     "output_type": "stream",
     "text": [
      "DEFGATE RCCX:\n",
      "    1.0, 0.0, 0.0, 0.0, 0.0, 0.0, 0.0, 0.0\n",
      "    0.0, 1.0, 0.0, 0.0, 0.0, 0.0, 0.0, 0.0\n",
      "    0.0, 0.0, 1.0, 0.0, 0.0, 0.0, 0.0, 0.0\n",
      "    0.0, 0.0, 0.0, 0.0, 0.0, 0.0, 0.0, -i\n",
      "    0.0, 0.0, 0.0, 0.0, 1.0, 0.0, 0.0, 0.0\n",
      "    0.0, 0.0, 0.0, 0.0, 0.0, -1.0, 0.0, 0.0\n",
      "    0.0, 0.0, 0.0, 0.0, 0.0, 0.0, 1.0, 0.0\n",
      "    0.0, 0.0, 0.0, i, 0.0, 0.0, 0.0, 0.0\n",
      "\n",
      "DECLARE ro BIT[7]\n",
      "RCCX 2 3 0\n",
      "MEASURE 0 ro[0]\n",
      "MEASURE 1 ro[1]\n",
      "MEASURE 2 ro[2]\n",
      "MEASURE 3 ro[3]\n",
      "MEASURE 4 ro[4]\n",
      "MEASURE 5 ro[5]\n",
      "MEASURE 6 ro[6]\n",
      "\n"
     ]
    }
   ],
   "source": [
    "from pyquil import Program\n",
    "from pyquil.gates import *\n",
    "from pyquil.quilatom import Parameter, quil_sin, quil_cos, quil_exp\n",
    "from pyquil.quilbase import DefGate\n",
    "import numpy\n",
    "rccx = numpy.array(\n",
    "            [\n",
    "                [1, 0, 0, 0, 0, 0, 0, 0],\n",
    "                [0, 1, 0, 0, 0, 0, 0, 0],\n",
    "                [0, 0, 1, 0, 0, 0, 0, 0],\n",
    "                [0, 0, 0, 0, 0, 0, 0, -1j],\n",
    "                [0, 0, 0, 0, 1, 0, 0, 0],\n",
    "                [0, 0, 0, 0, 0, -1, 0, 0],\n",
    "                [0, 0, 0, 0, 0, 0, 1, 0],\n",
    "                [0, 0, 0, 1j, 0, 0, 0, 0],\n",
    "            ]\n",
    "        )\n",
    "\n",
    "gate_definition = DefGate('RCCX', rccx)\n",
    "\n",
    "RCCX = gate_definition.get_constructor()\n",
    "\n",
    "p = Program()\n",
    "ro = p.declare('ro', 'BIT', 7)\n",
    "p += gate_definition\n",
    "p += RCCX(2,3,0)\n",
    "p += MEASURE(0, ro[0])\n",
    "p += MEASURE(1, ro[1])\n",
    "p += MEASURE(2, ro[2])\n",
    "p += MEASURE(3, ro[3])\n",
    "p += MEASURE(4, ro[4])\n",
    "p += MEASURE(5, ro[5])\n",
    "p += MEASURE(6, ro[6])\n",
    "print(p.out())\n"
   ]
  }
 ],
 "metadata": {
  "kernelspec": {
   "display_name": "Python 3 (ipykernel)",
   "language": "python",
   "name": "python3"
  },
  "language_info": {
   "codemirror_mode": {
    "name": "ipython",
    "version": 3
   },
   "file_extension": ".py",
   "mimetype": "text/x-python",
   "name": "python",
   "nbconvert_exporter": "python",
   "pygments_lexer": "ipython3",
   "version": "3.9.12"
  }
 },
 "nbformat": 4,
 "nbformat_minor": 5
}
