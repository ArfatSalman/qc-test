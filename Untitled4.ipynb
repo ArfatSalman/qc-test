{
 "cells": [
  {
   "cell_type": "code",
   "execution_count": 17,
   "id": "473ccb8d-3356-4ad4-b368-caae586174f0",
   "metadata": {},
   "outputs": [
    {
     "name": "stdout",
     "output_type": "stream",
     "text": [
      "False\n",
      "False\n"
     ]
    }
   ],
   "source": [
    "import cirq\n",
    "from cirq.circuits.qasm_output import QasmUGate\n",
    "import numpy as np\n",
    "\n",
    "cu3 = QasmUGate(\n",
    "    0.9284573101905567 / np.pi, \n",
    "    0.45091656513571715 / np.pi, \n",
    "    3.783886899929776 / np.pi).controlled(num_controls=1)\n",
    "\n",
    "qr_cirq = [cirq.NamedQubit('q' + str(i)) for i in range(2)]\n",
    "circuit = cirq.Circuit(\n",
    "    cu3(qr_cirq[1], qr_cirq[0])\n",
    ")\n",
    "\n",
    "cirq_unitary = cirq.unitary(circuit)\n",
    "\n",
    "\n",
    "import qiskit\n",
    "from qiskit import QuantumCircuit, ClassicalRegister, QuantumRegister\n",
    "from qiskit.circuit.library.standard_gates import CU3Gate\n",
    "from qiskit.circuit import Parameter\n",
    "\n",
    "qr = QuantumRegister(2, name='qr')\n",
    "cr = ClassicalRegister(2, name='cr')\n",
    "qc = QuantumCircuit(qr, cr, name='qc')\n",
    "\n",
    "qc.append(CU3Gate(0.9284573101905567,0.45091656513571715,3.783886899929776), qargs=[qr[1], qr[0]], cargs=[])\n",
    "\n",
    "from qiskit import Aer, transpile, execute\n",
    "backend = Aer.get_backend('unitary_simulator')\n",
    "qiskit_unitary = execute(qc, backend).result().get_unitary(qc)\n",
    "\n",
    "print(cirq.equal_up_to_global_phase(qiskit_unitary, cirq_unitary))\n",
    "print(np.allclose(qiskit_unitary, cirq_unitary))"
   ]
  },
  {
   "cell_type": "code",
   "execution_count": 6,
   "id": "2eebdd10-c5a5-44d0-9afa-fdf44b8cd6ee",
   "metadata": {},
   "outputs": [
    {
     "name": "stdout",
     "output_type": "stream",
     "text": [
      "Ccirq.circuits.qasm_output.QasmUGate(theta=0.29553714073326454, phi=0.14353120052673596, lmda=1.2044486084489836)\n"
     ]
    }
   ],
   "source": []
  },
  {
   "cell_type": "code",
   "execution_count": 12,
   "id": "1770cdce-8967-4369-9479-e361a22946c2",
   "metadata": {},
   "outputs": [],
   "source": []
  },
  {
   "cell_type": "code",
   "execution_count": 13,
   "id": "396b97ab-cd7c-45a8-8627-ceddcac5956a",
   "metadata": {},
   "outputs": [
    {
     "name": "stdout",
     "output_type": "stream",
     "text": [
      "False\n"
     ]
    }
   ],
   "source": []
  },
  {
   "cell_type": "code",
   "execution_count": 15,
   "id": "2a28f17e-89d0-4b99-a484-42ef6573864c",
   "metadata": {},
   "outputs": [
    {
     "data": {
      "text/plain": [
       "'1.0.0'"
      ]
     },
     "execution_count": 15,
     "metadata": {},
     "output_type": "execute_result"
    }
   ],
   "source": [
    "cirq.__version__"
   ]
  }
 ],
 "metadata": {
  "kernelspec": {
   "display_name": "Python 3 (ipykernel)",
   "language": "python",
   "name": "python3"
  },
  "language_info": {
   "codemirror_mode": {
    "name": "ipython",
    "version": 3
   },
   "file_extension": ".py",
   "mimetype": "text/x-python",
   "name": "python",
   "nbconvert_exporter": "python",
   "pygments_lexer": "ipython3",
   "version": "3.9.12"
  }
 },
 "nbformat": 4,
 "nbformat_minor": 5
}
