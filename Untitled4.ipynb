{
 "cells": [
  {
   "cell_type": "code",
   "execution_count": 1,
   "id": "473ccb8d-3356-4ad4-b368-caae586174f0",
   "metadata": {},
   "outputs": [],
   "source": [
    "import cirq"
   ]
  },
  {
   "cell_type": "code",
   "execution_count": 3,
   "id": "2eebdd10-c5a5-44d0-9afa-fdf44b8cd6ee",
   "metadata": {},
   "outputs": [
    {
     "name": "stdout",
     "output_type": "stream",
     "text": [
      "<class 'cirq.ops.linear_combinations.LinearCombinationOfGates'>\n"
     ]
    },
    {
     "ename": "TypeError",
     "evalue": "'LinearCombinationOfGates' object is not callable",
     "output_type": "error",
     "traceback": [
      "\u001b[0;31m---------------------------------------------------------------------------\u001b[0m",
      "\u001b[0;31mTypeError\u001b[0m                                 Traceback (most recent call last)",
      "Cell \u001b[0;32mIn [3], line 5\u001b[0m\n\u001b[1;32m      2\u001b[0m \u001b[38;5;28mprint\u001b[39m(\u001b[38;5;28mtype\u001b[39m(C3SX))\n\u001b[1;32m      3\u001b[0m qr \u001b[38;5;241m=\u001b[39m [cirq\u001b[38;5;241m.\u001b[39mNamedQubit(\u001b[38;5;124m'\u001b[39m\u001b[38;5;124mq\u001b[39m\u001b[38;5;124m'\u001b[39m \u001b[38;5;241m+\u001b[39m \u001b[38;5;28mstr\u001b[39m(i)) \u001b[38;5;28;01mfor\u001b[39;00m i \u001b[38;5;129;01min\u001b[39;00m \u001b[38;5;28mrange\u001b[39m(\u001b[38;5;241m5\u001b[39m)]\n\u001b[1;32m      4\u001b[0m circuit \u001b[38;5;241m=\u001b[39m cirq\u001b[38;5;241m.\u001b[39mCircuit(\n\u001b[0;32m----> 5\u001b[0m     C3SX(qr[\u001b[38;5;241m4\u001b[39m], qr[\u001b[38;5;241m0\u001b[39m], qr[\u001b[38;5;241m1\u001b[39m], qr[\u001b[38;5;241m2\u001b[39m])\n\u001b[1;32m      6\u001b[0m )\n\u001b[1;32m      8\u001b[0m CN \u001b[38;5;241m=\u001b[39m cirq\u001b[38;5;241m.\u001b[39munitary(circuit)\n",
      "\u001b[0;31mTypeError\u001b[0m: 'LinearCombinationOfGates' object is not callable"
     ]
    }
   ],
   "source": [
    "C3SX = cirq.X.controlled(num_controls=3) ** 1/2\n",
    "print(type(C3SX))\n",
    "qr = [cirq.NamedQubit('q' + str(i)) for i in range(5)]\n",
    "circuit = cirq.Circuit(\n",
    "    C3SX(qr[4], qr[0], qr[1], qr[2])\n",
    ")\n",
    "\n",
    "CN = cirq.unitary(circuit)"
   ]
  },
  {
   "cell_type": "code",
   "execution_count": null,
   "id": "1770cdce-8967-4369-9479-e361a22946c2",
   "metadata": {},
   "outputs": [],
   "source": [
    "\n",
    "import qiskit\n",
    "from qiskit import QuantumCircuit, ClassicalRegister, QuantumRegister\n",
    "from qiskit.circuit.library.standard_gates import *\n",
    "from qiskit.circuit import Parameter\n",
    "\n",
    "qr = QuantumRegister(5, name='qr')\n",
    "cr = ClassicalRegister(5, name='cr')\n",
    "qc = QuantumCircuit(qr, cr, name='qc')\n",
    "\n",
    "qc.append(C3SXGate(), qargs=[qr[4], qr[0], qr[1], qr[2]], cargs=[])\n",
    "\n",
    "import qiskit.quantum_info as qi\n",
    "UNITARY = qi.Operator(qc.reverse_bits()).data"
   ]
  },
  {
   "cell_type": "code",
   "execution_count": null,
   "id": "396b97ab-cd7c-45a8-8627-ceddcac5956a",
   "metadata": {},
   "outputs": [],
   "source": [
    "import numpy as np"
   ]
  },
  {
   "cell_type": "code",
   "execution_count": null,
   "id": "2a28f17e-89d0-4b99-a484-42ef6573864c",
   "metadata": {},
   "outputs": [],
   "source": [
    "np.allclose(CN, UNITARY)"
   ]
  }
 ],
 "metadata": {
  "kernelspec": {
   "display_name": "Python 3 (ipykernel)",
   "language": "python",
   "name": "python3"
  },
  "language_info": {
   "codemirror_mode": {
    "name": "ipython",
    "version": 3
   },
   "file_extension": ".py",
   "mimetype": "text/x-python",
   "name": "python",
   "nbconvert_exporter": "python",
   "pygments_lexer": "ipython3",
   "version": "3.9.12"
  }
 },
 "nbformat": 4,
 "nbformat_minor": 5
}
