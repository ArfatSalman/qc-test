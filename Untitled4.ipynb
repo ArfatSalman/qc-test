{
 "cells": [
  {
   "cell_type": "code",
   "execution_count": 1,
   "id": "1ebadbc2-85b6-4060-9906-8dc1956f42c0",
   "metadata": {},
   "outputs": [
    {
     "data": {
      "text/plain": [
       "True"
      ]
     },
     "execution_count": 1,
     "metadata": {},
     "output_type": "execute_result"
    }
   ],
   "source": [
    "import qiskit\n",
    "from qiskit import QuantumCircuit, ClassicalRegister, QuantumRegister\n",
    "from qiskit.circuit.library.standard_gates import *\n",
    "from qiskit.circuit import Parameter\n",
    "\n",
    "\n",
    "qr = QuantumRegister(1, name='qr')\n",
    "cr = ClassicalRegister(1, name='cr')\n",
    "qc = QuantumCircuit(qr, cr, name='qc')\n",
    "\n",
    "qc.append(U1Gate(3.481387546019227), qargs=[qr[0]], cargs=[])\n",
    "\n",
    "\n",
    "\n",
    "import qiskit.quantum_info as qi\n",
    "\n",
    "op = qi.Operator(qc)\n",
    "\n",
    "# ---CIRQ\n",
    "    \n",
    "\n",
    "import cirq\n",
    "\n",
    "import numpy as np\n",
    "from functools import reduce\n",
    "\n",
    "class U1Gate(cirq.Gate):\n",
    "    def __init__(self, lam):\n",
    "        super(U1Gate, self)\n",
    "        self.lam = lam\n",
    "\n",
    "    def _num_qubits_(self):\n",
    "        return 1\n",
    "\n",
    "    def _unitary_(self):\n",
    "        lam = float(self.lam)\n",
    "        return np.array([[1, 0], [0, np.exp(1j * lam)]])\n",
    "\n",
    "    def _circuit_diagram_info_(self, args):\n",
    "        return f\"U1({self.lam:.2f})\"\n",
    "\n",
    "q = [cirq.NamedQubit('q' + str(i)) for i in range(1)]\n",
    "\n",
    "circuit = cirq.Circuit(\n",
    "    U1Gate(3.481387546019227)(q[0])\n",
    ")\n",
    "\n",
    "op.equiv(circuit.unitary())"
   ]
  }
 ],
 "metadata": {
  "kernelspec": {
   "display_name": "Python 3 (ipykernel)",
   "language": "python",
   "name": "python3"
  },
  "language_info": {
   "codemirror_mode": {
    "name": "ipython",
    "version": 3
   },
   "file_extension": ".py",
   "mimetype": "text/x-python",
   "name": "python",
   "nbconvert_exporter": "python",
   "pygments_lexer": "ipython3",
   "version": "3.9.12"
  }
 },
 "nbformat": 4,
 "nbformat_minor": 5
}
