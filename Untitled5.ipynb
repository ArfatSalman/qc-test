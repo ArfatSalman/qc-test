{
 "cells": [
  {
   "cell_type": "code",
   "execution_count": 2,
   "id": "0c87df96-2533-43d1-b826-23a2262d4f0c",
   "metadata": {},
   "outputs": [],
   "source": [
    "import qiskit\n",
    "from qiskit import QuantumCircuit, ClassicalRegister, QuantumRegister\n",
    "from qiskit.circuit.library.standard_gates import *\n",
    "from qiskit.circuit import Parameter\n",
    "\n",
    "qr = QuantumRegister(3, name='qr')\n",
    "cr = ClassicalRegister(3, name='cr')\n",
    "qc = QuantumCircuit(qr, cr, name='qc')\n",
    "qc.append(CU3Gate(3.4965748481666385,5.407902101595624,0.6970696680696589), qargs=[qr[0], qr[1]], cargs=[])\n",
    "qc.measure(qr, cr)\n",
    "\n",
    "from pytket import Circuit\n",
    "from pytket.extensions.qiskit import qiskit_to_tk, tk_to_qiskit\n",
    "\n",
    "a = qiskit_to_tk(qc)"
   ]
  },
  {
   "cell_type": "code",
   "execution_count": 12,
   "id": "d13cab44-64d3-4144-8b2e-83cec31b410c",
   "metadata": {},
   "outputs": [
    {
     "name": "stdout",
     "output_type": "stream",
     "text": [
      "q0: ───@───\n",
      "       │\n",
      "q1: ───@───\n"
     ]
    },
    {
     "data": {
      "text/plain": [
       "[CZ q0, q1; ]"
      ]
     },
     "execution_count": 12,
     "metadata": {},
     "output_type": "execute_result"
    }
   ],
   "source": [
    "from pytket.extensions.cirq import tk_to_cirq, cirq_to_tk\n",
    "import cirq\n",
    "\n",
    "qr = [cirq.NamedQubit(\"q\" + str(i)) for i in range(2)]\n",
    "c = cirq.Circuit(\n",
    "    cirq.CZPowGate(exponent=3).on(qr[0], qr[1])\n",
    ")\n",
    "print(c)\n",
    "\n",
    "cirq_to_tk(c)"
   ]
  }
 ],
 "metadata": {
  "kernelspec": {
   "display_name": "Python 3 (ipykernel)",
   "language": "python",
   "name": "python3"
  },
  "language_info": {
   "codemirror_mode": {
    "name": "ipython",
    "version": 3
   },
   "file_extension": ".py",
   "mimetype": "text/x-python",
   "name": "python",
   "nbconvert_exporter": "python",
   "pygments_lexer": "ipython3",
   "version": "3.9.12"
  }
 },
 "nbformat": 4,
 "nbformat_minor": 5
}
