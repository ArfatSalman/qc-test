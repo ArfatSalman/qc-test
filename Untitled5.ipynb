{
 "cells": [
  {
   "cell_type": "code",
   "execution_count": 26,
   "id": "e0e72230-10b0-4fae-934b-a04972f36d94",
   "metadata": {},
   "outputs": [],
   "source": [
    "from qiskit.circuit.library.standard_gates import *\n",
    "from qiskit import QuantumCircuit, ClassicalRegister, QuantumRegister"
   ]
  },
  {
   "cell_type": "code",
   "execution_count": 44,
   "id": "e4aaf5a8-b087-40b3-b83b-9bd860945227",
   "metadata": {},
   "outputs": [
    {
     "name": "stdout",
     "output_type": "stream",
     "text": [
      "OPENQASM 2.0;\n",
      "include \"qelib1.inc\";\n",
      "qreg qr[3];\n",
      "creg cr[3];\n",
      "p(3) qr[1];\n",
      "p(-pi/2) qr[1];\n",
      "h qr[1];\n",
      "p(-pi/2) qr[1];\n",
      "p(4.14159265358979) qr[1];\n",
      "p(-pi/2) qr[1];\n",
      "h qr[1];\n",
      "p(-pi/2) qr[1];\n",
      "p(11.4247779607694) qr[1];\n",
      "measure qr[0] -> cr[0];\n",
      "measure qr[1] -> cr[1];\n",
      "measure qr[2] -> cr[2];\n",
      "\n"
     ]
    }
   ],
   "source": [
    "# SECTION\n",
    "# NAME: CIRCUIT\n",
    "\n",
    "qr = QuantumRegister(3, name='qr')\n",
    "cr = ClassicalRegister(3, name='cr')\n",
    "qc = QuantumCircuit(qr, cr, name='qc')\n",
    "\n",
    "qc.append(UGate(1,2,3), qargs=[qr[1]], cargs=[])\n",
    "\n",
    "# SECTION\n",
    "# NAME: MEASUREMENT\n",
    "\n",
    "qc.measure(qr, cr)\n",
    "qc.draw(output='mpl')\n",
    "\n",
    "# qc.qasm(formatted=True)\n",
    "# dir(qc)\n",
    "# SECTION\n",
    "# NAME: OPTIMIZATION_LEVEL\n",
    "\n",
    "# from qiskit import transpile\n",
    "qc = transpile(qc, basis_gates=['h', 'p', 'cx'], coupling_map=None)\n",
    "print(qc.qasm())\n",
    "# # SECTION\n",
    "# # NAME: EXECUTION\n"
   ]
  },
  {
   "cell_type": "code",
   "execution_count": null,
   "id": "e4c91308-894e-4c94-9fd8-22047d6641a9",
   "metadata": {},
   "outputs": [],
   "source": []
  },
  {
   "cell_type": "code",
   "execution_count": 9,
   "id": "1e59e975-85fa-4bfb-ab2c-aba05d95bfcd",
   "metadata": {},
   "outputs": [
    {
     "name": "stdout",
     "output_type": "stream",
     "text": [
      "{'000': 327, '001': 365}\n"
     ]
    }
   ],
   "source": [
    "from qiskit import Aer, transpile, execute\n",
    "backend_0aeb997d610641108c5db249af0a7269 = Aer.get_backend('qasm_simulator')\n",
    "counts = execute(qc, backend=backend_0aeb997d610641108c5db249af0a7269, shots=692).result().get_counts(qc)\n",
    "RESULT = counts\n",
    "print(counts)"
   ]
  },
  {
   "cell_type": "code",
   "execution_count": 4,
   "id": "3bfd5fae-ef91-4357-a51e-4a457b646be5",
   "metadata": {},
   "outputs": [
    {
     "name": "stdout",
     "output_type": "stream",
     "text": [
      "\n",
      "import cirq\n",
      "import numpy as np\n",
      "import math\n",
      "from cmath import exp\n",
      "from functools import reduce\n",
      "        \n",
      "class SXdgGate(cirq.Gate):\n",
      "    def __init__(self):\n",
      "        super(SXdgGate, self)\n",
      "\n",
      "    def _num_qubits_(self):\n",
      "        return 1\n",
      "\n",
      "    def _unitary_(self):\n",
      "        return np.array([[1 - 1j, 1 + 1j], [1 + 1j, 1 - 1j]]) / 2\n",
      "\n",
      "    def _circuit_diagram_info_(self, args):\n",
      "        return \"SXdg\"\n",
      "        \n",
      "\n",
      "\n",
      "class CU1Gate(cirq.Gate):\n",
      "    def __init__(self, eith):\n",
      "        super(CU1Gate, self)\n",
      "        self.eith = eith\n",
      "\n",
      "    def _num_qubits_(self):\n",
      "        return 2\n",
      "\n",
      "    def _unitary_(self):\n",
      "        eith = exp(1j * float(self.eith))\n",
      "        return np.array(\n",
      "            [\n",
      "                [1, 0, 0, 0],\n",
      "                [0, 1, 0, 0],\n",
      "                [0, 0, 1, 0],\n",
      "                [0, 0, 0, eith],\n",
      "            ]\n",
      "        )\n",
      "\n",
      "    def _circuit_diagram_info_(self, args):\n",
      "        return f\"CU1({self.eith})\", \"CU1\"\n",
      "    \n",
      "\n",
      "qr = [cirq.NamedQubit('q' + str(i)) for i in range(3)]\n",
      "circuit = cirq.Circuit(\n",
      "  (cirq.X**(-1/2))(qr[0]), \n",
      "  CU1Gate(1.799679154085457)(qr[0], qr[1]), \n",
      "  cirq.measure(qr[0], key='cr0'), \n",
      "  cirq.measure(qr[1], key='cr1'), \n",
      "  cirq.measure(qr[2], key='cr2')\n",
      ")\n",
      "\n",
      "simulator = cirq.Simulator()\n",
      "result = simulator.run(circuit, repetitions=1024)\n",
      "result_dict = dict(result.multi_measurement_histogram(keys=['cr0', 'cr1', 'cr2']))\n",
      "keys = list(map(lambda arr: reduce(lambda x, y: str(x) + str(y), arr[::-1]), result_dict.keys()))\n",
      "counts = dict(zip(keys,[value for value in result_dict.values()]))\n",
      "print(counts)\n",
      "        \n"
     ]
    }
   ],
   "source": [
    "import transpiler\n",
    "\n",
    "\n",
    "\n",
    "code = transpiler.CirqCircuit.from_qiskit_source(\"\"\"\n",
    "\n",
    "qr = QuantumRegister(3, name='qr')\n",
    "cr = ClassicalRegister(3, name='cr')\n",
    "qc = QuantumCircuit(qr, cr, name='qc')\n",
    "qc.append(SXdgGate(), qargs=[qr[0]], cargs=[])\n",
    "qc.append(CU1Gate(1.799679154085457), qargs=[qr[0], qr[1]], cargs=[])\n",
    "\n",
    "\"\"\")\n",
    "print(code)"
   ]
  },
  {
   "cell_type": "code",
   "execution_count": 24,
   "id": "c09f17d8-cf10-4f08-a6ca-0180c9a86e36",
   "metadata": {},
   "outputs": [
    {
     "ename": "TypeError",
     "evalue": "object of type '<class 'cirq.circuits.circuit.Circuit'>' isn't invertible. It has no __pow__ method (or the method returned NotImplemented) and it isn't an iterable of invertible objects.",
     "output_type": "error",
     "traceback": [
      "\u001b[0;31m---------------------------------------------------------------------------\u001b[0m",
      "\u001b[0;31mTypeError\u001b[0m                                 Traceback (most recent call last)",
      "Cell \u001b[0;32mIn [24], line 54\u001b[0m\n\u001b[1;32m     45\u001b[0m qr \u001b[38;5;241m=\u001b[39m [cirq\u001b[38;5;241m.\u001b[39mNamedQubit(\u001b[38;5;124m'\u001b[39m\u001b[38;5;124mq\u001b[39m\u001b[38;5;124m'\u001b[39m \u001b[38;5;241m+\u001b[39m \u001b[38;5;28mstr\u001b[39m(i)) \u001b[38;5;28;01mfor\u001b[39;00m i \u001b[38;5;129;01min\u001b[39;00m \u001b[38;5;28mrange\u001b[39m(\u001b[38;5;241m3\u001b[39m)]\n\u001b[1;32m     46\u001b[0m circuit \u001b[38;5;241m=\u001b[39m cirq\u001b[38;5;241m.\u001b[39mCircuit(\n\u001b[1;32m     47\u001b[0m   (cirq\u001b[38;5;241m.\u001b[39mX\u001b[38;5;241m*\u001b[39m\u001b[38;5;241m*\u001b[39m(\u001b[38;5;241m-\u001b[39m\u001b[38;5;241m1\u001b[39m\u001b[38;5;241m/\u001b[39m\u001b[38;5;241m2\u001b[39m))(qr[\u001b[38;5;241m0\u001b[39m]), \n\u001b[1;32m     48\u001b[0m   CU1Gate(\u001b[38;5;241m1.799679154085457\u001b[39m)(qr[\u001b[38;5;241m0\u001b[39m], qr[\u001b[38;5;241m1\u001b[39m]), \n\u001b[0;32m   (...)\u001b[0m\n\u001b[1;32m     51\u001b[0m   cirq\u001b[38;5;241m.\u001b[39mmeasure(qr[\u001b[38;5;241m2\u001b[39m], key\u001b[38;5;241m=\u001b[39m\u001b[38;5;124m'\u001b[39m\u001b[38;5;124mcr2\u001b[39m\u001b[38;5;124m'\u001b[39m)\n\u001b[1;32m     52\u001b[0m )\n\u001b[0;32m---> 54\u001b[0m cirq\u001b[38;5;241m.\u001b[39minverse(circuit)\n",
      "File \u001b[0;32m~/Desktop/qc-test/venv/lib/python3.9/site-packages/cirq/protocols/inverse_protocol.py:117\u001b[0m, in \u001b[0;36minverse\u001b[0;34m(val, default)\u001b[0m\n\u001b[1;32m    115\u001b[0m \u001b[38;5;28;01mif\u001b[39;00m default \u001b[38;5;129;01mis\u001b[39;00m \u001b[38;5;129;01mnot\u001b[39;00m RaiseTypeErrorIfNotProvided:\n\u001b[1;32m    116\u001b[0m     \u001b[38;5;28;01mreturn\u001b[39;00m default\n\u001b[0;32m--> 117\u001b[0m \u001b[38;5;28;01mraise\u001b[39;00m \u001b[38;5;167;01mTypeError\u001b[39;00m(\n\u001b[1;32m    118\u001b[0m     \u001b[38;5;124m\"\u001b[39m\u001b[38;5;124mobject of type \u001b[39m\u001b[38;5;124m'\u001b[39m\u001b[38;5;132;01m{}\u001b[39;00m\u001b[38;5;124m'\u001b[39m\u001b[38;5;124m isn\u001b[39m\u001b[38;5;124m'\u001b[39m\u001b[38;5;124mt invertible. \u001b[39m\u001b[38;5;124m\"\u001b[39m\n\u001b[1;32m    119\u001b[0m     \u001b[38;5;124m\"\u001b[39m\u001b[38;5;124mIt has no __pow__ method (or the method returned NotImplemented) \u001b[39m\u001b[38;5;124m\"\u001b[39m\n\u001b[1;32m    120\u001b[0m     \u001b[38;5;124m\"\u001b[39m\u001b[38;5;124mand it isn\u001b[39m\u001b[38;5;124m'\u001b[39m\u001b[38;5;124mt an iterable of invertible objects.\u001b[39m\u001b[38;5;124m\"\u001b[39m\u001b[38;5;241m.\u001b[39mformat(\u001b[38;5;28mtype\u001b[39m(val))\n\u001b[1;32m    121\u001b[0m )\n",
      "\u001b[0;31mTypeError\u001b[0m: object of type '<class 'cirq.circuits.circuit.Circuit'>' isn't invertible. It has no __pow__ method (or the method returned NotImplemented) and it isn't an iterable of invertible objects."
     ]
    }
   ],
   "source": [
    "\n",
    "import cirq\n",
    "import numpy as np\n",
    "import math\n",
    "from cmath import exp\n",
    "from functools import reduce\n",
    "        \n",
    "class SXdgGate(cirq.Gate):\n",
    "    def __init__(self):\n",
    "        super(SXdgGate, self)\n",
    "\n",
    "    def _num_qubits_(self):\n",
    "        return 1\n",
    "\n",
    "    def _unitary_(self):\n",
    "        return np.array([[1 - 1j, 1 + 1j], [1 + 1j, 1 - 1j]]) / 2\n",
    "\n",
    "    def _circuit_diagram_info_(self, args):\n",
    "        return \"SXdg\"\n",
    "        \n",
    "\n",
    "\n",
    "class CU1Gate(cirq.Gate):\n",
    "    def __init__(self, eith):\n",
    "        super(CU1Gate, self)\n",
    "        self.eith = eith\n",
    "\n",
    "    def _num_qubits_(self):\n",
    "        return 2\n",
    "\n",
    "    def _unitary_(self):\n",
    "        eith = exp(1j * float(self.eith))\n",
    "        return np.array(\n",
    "            [\n",
    "                [1, 0, 0, 0],\n",
    "                [0, 1, 0, 0],\n",
    "                [0, 0, 1, 0],\n",
    "                [0, 0, 0, eith],\n",
    "            ]\n",
    "        )\n",
    "\n",
    "    def _circuit_diagram_info_(self, args):\n",
    "        return f\"CU1({self.eith})\", \"CU1\"\n",
    "    \n",
    "\n",
    "qr = [cirq.NamedQubit('q' + str(i)) for i in range(3)]\n",
    "circuit = cirq.Circuit(\n",
    "  (cirq.X**(-1/2))(qr[0]), \n",
    "  CU1Gate(1.799679154085457)(qr[0], qr[1]), \n",
    "  cirq.measure(qr[0], key='cr0'), \n",
    "  cirq.measure(qr[1], key='cr1'), \n",
    "  cirq.measure(qr[2], key='cr2')\n",
    ")\n",
    "\n",
    "cirq.inverse(circuit)\n",
    "\n",
    "# simulator = cirq.Simulator()\n",
    "# result = simulator.run(circuit, repetitions=692)\n",
    "# result_dict = dict(result.multi_measurement_histogram(keys=['cr0', 'cr1', 'cr2']))\n",
    "# keys = list(map(lambda arr: reduce(lambda x, y: str(x) + str(y), arr[::-1]), result_dict.keys()))\n",
    "# counts = dict(zip(keys,[value for value in result_dict.values()]))\n",
    "# print(counts)"
   ]
  },
  {
   "cell_type": "code",
   "execution_count": 13,
   "id": "defe2e37-4630-429c-9b24-e3fee9a06810",
   "metadata": {},
   "outputs": [],
   "source": [
    "from lib.detectors import *"
   ]
  },
  {
   "cell_type": "code",
   "execution_count": 25,
   "id": "b25e9b9c-9052-418c-bd85-4258486e50d3",
   "metadata": {},
   "outputs": [
    {
     "data": {
      "text/plain": [
       "(0.002890173410404624, 0.9999999999999998)"
      ]
     },
     "execution_count": 25,
     "metadata": {},
     "output_type": "execute_result"
    }
   ],
   "source": [
    "detector = KS_Detector()\n",
    "detector.check({'0010': 7, '1000': 43, '1010': 642}, {'0000': 1, '0010': 5, '1000': 42, '1010': 644})"
   ]
  }
 ],
 "metadata": {
  "kernelspec": {
   "display_name": "Python 3 (ipykernel)",
   "language": "python",
   "name": "python3"
  },
  "language_info": {
   "codemirror_mode": {
    "name": "ipython",
    "version": 3
   },
   "file_extension": ".py",
   "mimetype": "text/x-python",
   "name": "python",
   "nbconvert_exporter": "python",
   "pygments_lexer": "ipython3",
   "version": "3.9.12"
  }
 },
 "nbformat": 4,
 "nbformat_minor": 5
}
