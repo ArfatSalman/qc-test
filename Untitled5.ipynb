{
 "cells": [
  {
   "cell_type": "code",
   "execution_count": 29,
   "id": "9bad6848-8c46-45f1-9050-220b394bc34a",
   "metadata": {},
   "outputs": [
    {
     "name": "stdout",
     "output_type": "stream",
     "text": [
      "X**0.5\n"
     ]
    }
   ],
   "source": [
    "import cirq\n",
    "\n",
    "sdg = cirq.X ** 0.5\n",
    "print(sdg)\n",
    "# print(cirq.unitary(cirq.S))\n",
    "\n",
    "qr = [cirq.NamedQubit('q' + str(i)) for i in range(2)]\n",
    "circuit = cirq.Circuit(\n",
    "    csx(qr[1], qr[0])\n",
    ")\n",
    "\n",
    "C_unit = cirq.unitary(circuit)\n"
   ]
  },
  {
   "cell_type": "code",
   "execution_count": 15,
   "id": "e90696f1-9f24-42ee-8648-6d4fa190742a",
   "metadata": {},
   "outputs": [],
   "source": [
    "import qiskit\n",
    "from qiskit import QuantumCircuit, ClassicalRegister, QuantumRegister\n",
    "from qiskit.circuit.library.standard_gates import *\n",
    "\n",
    "qr = QuantumRegister(2, name='qr')\n",
    "cr = ClassicalRegister(2, name='cr')\n",
    "qc = QuantumCircuit(qr, cr, name='qc')\n",
    "qc.append(\n",
    "CSXGate(), qargs=[qr[1], qr[0]], cargs=[]\n",
    ")\n",
    "\n",
    "import qiskit.quantum_info as qi\n",
    "UNITARY = qi.Operator(qc.reverse_bits()).data"
   ]
  },
  {
   "cell_type": "code",
   "execution_count": 28,
   "id": "5cee9dad-51ec-4f08-987a-b366ad061c79",
   "metadata": {},
   "outputs": [
    {
     "data": {
      "text/plain": [
       "True"
      ]
     },
     "execution_count": 28,
     "metadata": {},
     "output_type": "execute_result"
    }
   ],
   "source": [
    "import numpy as np\n",
    "np.allclose(cirq.unitary(sdg).conj().T, np.array([[1, 0], [0, -1j]]))"
   ]
  }
 ],
 "metadata": {
  "kernelspec": {
   "display_name": "Python 3 (ipykernel)",
   "language": "python",
   "name": "python3"
  },
  "language_info": {
   "codemirror_mode": {
    "name": "ipython",
    "version": 3
   },
   "file_extension": ".py",
   "mimetype": "text/x-python",
   "name": "python",
   "nbconvert_exporter": "python",
   "pygments_lexer": "ipython3",
   "version": "3.9.12"
  }
 },
 "nbformat": 4,
 "nbformat_minor": 5
}
