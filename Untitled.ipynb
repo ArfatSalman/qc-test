{
 "cells": [
  {
   "cell_type": "code",
   "execution_count": 4,
   "id": "ec9b4615-33c0-41d8-80d2-3ac5eefc38a0",
   "metadata": {},
   "outputs": [
    {
     "name": "stderr",
     "output_type": "stream",
     "text": [
      "/Users/arfat/Desktop/qc-test/venv/lib/python3.9/site-packages/tqdm/auto.py:22: TqdmWarning: IProgress not found. Please update jupyter and ipywidgets. See https://ipywidgets.readthedocs.io/en/stable/user_install.html\n",
      "  from .autonotebook import tqdm as notebook_tqdm\n"
     ]
    }
   ],
   "source": [
    "from lib.detectors import KS_Detector"
   ]
  },
  {
   "cell_type": "code",
   "execution_count": 2,
   "id": "91a366f1-5acd-4776-a4bb-e9cd3c879f4d",
   "metadata": {},
   "outputs": [],
   "source": [
    "a = {'res_A': {'01000000010': 2007, '01000000000': 1890, '00000000000': 1965, '00000000010': 1976}, 'res_B': {'10000000000': 1908, '10001000000': 1972, '00001000000': 1988, '00000000000': 1970}}"
   ]
  },
  {
   "cell_type": "code",
   "execution_count": 8,
   "id": "f2f874cb-3b34-4c42-9aec-b3eb07ee8341",
   "metadata": {},
   "outputs": [
    {
     "name": "stdout",
     "output_type": "stream",
     "text": [
      "{'res_A': {'01000000010': 2007, '01000000000': 1890, '00000000000': 1965, '00000000010': 1976}, 'res_B': {'10000000000': 1908, '10001000000': 1972, '00001000000': 1988, '00000000000': 1970}}\n"
     ]
    }
   ],
   "source": [
    "print(a)"
   ]
  },
  {
   "cell_type": "code",
   "execution_count": 6,
   "id": "2fd7e43b-5b10-4e14-9d64-f8c3a8339e45",
   "metadata": {},
   "outputs": [
    {
     "data": {
      "text/plain": [
       "(0.49502424087777497, 0.0)"
      ]
     },
     "execution_count": 6,
     "metadata": {},
     "output_type": "execute_result"
    }
   ],
   "source": [
    "KS_Detector().check(a[\"res_A\"], a[\"res_B\"])"
   ]
  },
  {
   "cell_type": "code",
   "execution_count": 7,
   "id": "72f7307d-63f6-4634-a5f8-d701c69c1caa",
   "metadata": {},
   "outputs": [
    {
     "data": {
      "text/plain": [
       "{'res_A': {'01000000010': 2007,\n",
       "  '01000000000': 1890,\n",
       "  '00000000000': 1965,\n",
       "  '00000000010': 1976},\n",
       " 'platform_A': 'source',\n",
       " 'res_B': {'01000000000': 1908,\n",
       "  '01000000010': 1972,\n",
       "  '00000000010': 1988,\n",
       "  '00000000000': 1970}}"
      ]
     },
     "execution_count": 7,
     "metadata": {},
     "output_type": "execute_result"
    }
   ],
   "source": [
    "b = {\"res_A\": {\n",
    "    \"01000000010\": 2007,\n",
    "    \"01000000000\": 1890,\n",
    "    \"00000000000\": 1965,\n",
    "    \"00000000010\": 1976\n",
    "  },\n",
    "  \"platform_A\": \"source\",\n",
    "  \"res_B\": {\n",
    "    \"01000000000\": 1908,\n",
    "    \"01000000010\": 1972,\n",
    "    \"00000000010\": 1988,\n",
    "    \"00000000000\": 1970\n",
    "  }}"
   ]
  }
 ],
 "metadata": {
  "kernelspec": {
   "display_name": "Python 3 (ipykernel)",
   "language": "python",
   "name": "python3"
  },
  "language_info": {
   "codemirror_mode": {
    "name": "ipython",
    "version": 3
   },
   "file_extension": ".py",
   "mimetype": "text/x-python",
   "name": "python",
   "nbconvert_exporter": "python",
   "pygments_lexer": "ipython3",
   "version": "3.9.12"
  }
 },
 "nbformat": 4,
 "nbformat_minor": 5
}
