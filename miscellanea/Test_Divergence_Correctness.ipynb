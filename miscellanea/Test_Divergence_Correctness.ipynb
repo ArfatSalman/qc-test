{
 "cells": [
  {
   "cell_type": "markdown",
   "metadata": {},
   "source": [
    "To check if your virtual environment is correctly set, these two snippets should give the same result."
   ]
  },
  {
   "cell_type": "markdown",
   "metadata": {},
   "source": [
    "# Program A"
   ]
  },
  {
   "cell_type": "code",
   "execution_count": 12,
   "metadata": {},
   "outputs": [
    {
     "data": {
      "text/plain": [
       "{'00000': 1024}"
      ]
     },
     "execution_count": 12,
     "metadata": {},
     "output_type": "execute_result"
    }
   ],
   "source": [
    "from qiskit import QuantumCircuit, ClassicalRegister, QuantumRegister\n",
    "from qiskit.circuit.library.standard_gates import *\n",
    "from qiskit import Aer, transpile, execute\n",
    "qr = QuantumRegister(5, name='qr')\n",
    "cr = ClassicalRegister(5, name='cr')\n",
    "qc = QuantumCircuit(qr, cr, name='qc')\n",
    "qc.measure(qr, cr)\n",
    "qc = transpile(qc, optimization_level=0, seed_transpiler=44)\n",
    "counts_A = execute(qc, backend=Aer.get_backend('qasm_simulator'), shots=1024).result().get_counts(qc)\n",
    "counts_A  # OUTPUT: {'00000': 1024}"
   ]
  },
  {
   "cell_type": "markdown",
   "metadata": {},
   "source": [
    "# Program B"
   ]
  },
  {
   "cell_type": "code",
   "execution_count": 13,
   "metadata": {},
   "outputs": [
    {
     "data": {
      "text/plain": [
       "{'01000': 260, '00000': 264, '01100': 234, '00100': 266}"
      ]
     },
     "execution_count": 13,
     "metadata": {},
     "output_type": "execute_result"
    }
   ],
   "source": [
    "from qiskit import QuantumCircuit, ClassicalRegister, QuantumRegister\n",
    "from qiskit.circuit.library.standard_gates import *\n",
    "from qiskit import Aer, transpile, execute\n",
    "qr = QuantumRegister(5, name='qr')\n",
    "cr = ClassicalRegister(5, name='cr')\n",
    "qc = QuantumCircuit(qr, cr, name='qc')\n",
    "subcircuit = QuantumCircuit(qr, cr, name='subcircuit')\n",
    "subcircuit.append(CSwapGate(), qargs=[qr[0], qr[2], qr[3]], cargs=[])\n",
    "qc.append(subcircuit, qargs=qr, cargs=cr)\n",
    "qc.append(subcircuit.inverse(), qargs=qr, cargs=cr)\n",
    "qc.measure(qr, cr)\n",
    "qc = transpile(qc, optimization_level=3, seed_transpiler=44)\n",
    "qc = QuantumCircuit.from_qasm_str(qc.qasm())\n",
    "counts_B = execute(qc, backend=Aer.get_backend('qasm_simulator'), shots=1024).result().get_counts(qc)\n",
    "counts_B  # OUTPUT: {'01000': 255, '00000': 269, '00100': 251, '01100': 249}"
   ]
  },
  {
   "cell_type": "code",
   "execution_count": null,
   "metadata": {},
   "outputs": [],
   "source": []
  }
 ],
 "metadata": {
  "kernelspec": {
   "display_name": "Python 3 (ipykernel)",
   "language": "python",
   "name": "python3"
  },
  "language_info": {
   "codemirror_mode": {
    "name": "ipython",
    "version": 3
   },
   "file_extension": ".py",
   "mimetype": "text/x-python",
   "name": "python",
   "nbconvert_exporter": "python",
   "pygments_lexer": "ipython3",
   "version": "3.8.0"
  },
  "toc": {
   "base_numbering": 1,
   "nav_menu": {},
   "number_sections": true,
   "sideBar": true,
   "skip_h1_title": false,
   "title_cell": "Table of Contents",
   "title_sidebar": "Contents",
   "toc_cell": false,
   "toc_position": {},
   "toc_section_display": true,
   "toc_window_display": false
  },
  "varInspector": {
   "cols": {
    "lenName": "20",
    "lenType": 16,
    "lenVar": 40
   },
   "kernels_config": {
    "python": {
     "delete_cmd_postfix": "",
     "delete_cmd_prefix": "del ",
     "library": "var_list.py",
     "varRefreshCmd": "print(var_dic_list())"
    },
    "r": {
     "delete_cmd_postfix": ") ",
     "delete_cmd_prefix": "rm(",
     "library": "var_list.r",
     "varRefreshCmd": "cat(var_dic_list()) "
    }
   },
   "types_to_exclude": [
    "module",
    "function",
    "builtin_function_or_method",
    "instance",
    "_Feature"
   ],
   "window_display": false
  }
 },
 "nbformat": 4,
 "nbformat_minor": 4
}
